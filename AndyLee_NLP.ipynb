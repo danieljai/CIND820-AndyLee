{
  "nbformat": 4,
  "nbformat_minor": 0,
  "metadata": {
    "kernelspec": {
      "display_name": "Python 3",
      "language": "python",
      "name": "python3"
    },
    "language_info": {
      "name": "python",
      "version": "3.7.6",
      "mimetype": "text/x-python",
      "codemirror_mode": {
        "name": "ipython",
        "version": 3
      },
      "pygments_lexer": "ipython3",
      "nbconvert_exporter": "python",
      "file_extension": ".py"
    },
    "colab": {
      "name": "AndyLee-NLP.ipynb",
      "provenance": [],
      "include_colab_link": true
    }
  },
  "cells": [
    {
      "cell_type": "markdown",
      "metadata": {
        "id": "view-in-github",
        "colab_type": "text"
      },
      "source": [
        "<a href=\"https://colab.research.google.com/github/danieljai/CIND820-AndyLee/blob/main/AndyLee_NLP.ipynb\" target=\"_parent\"><img src=\"https://colab.research.google.com/assets/colab-badge.svg\" alt=\"Open In Colab\"/></a>"
      ]
    },
    {
      "cell_type": "markdown",
      "metadata": {
        "id": "_uncPLiQYnn0"
      },
      "source": [
        "# Step 3: Preload setup\n",
        "\n",
        "Basic setup so results can utilize the full width of the screen."
      ]
    },
    {
      "cell_type": "code",
      "metadata": {
        "id": "7VJ3TVjfpoiz"
      },
      "source": [
        "%config IPCompleter.greedy=True\n",
        "import pandas as pd\n",
        "\n",
        "pd.set_option('display.max_colwidth', 200)\n",
        "pd.options.display.max_colwidth = 500\n",
        "pd.options.display.max_rows = 100"
      ],
      "execution_count": 1,
      "outputs": []
    },
    {
      "cell_type": "markdown",
      "metadata": {
        "id": "HbYv2dHQYl-W"
      },
      "source": [
        "# Step 4: Import Dataset\n",
        "\n",
        "The hydrated file is stored in a Google Drive, and using the follow code will mount Google Drive onto Colaboratory."
      ]
    },
    {
      "cell_type": "code",
      "metadata": {
        "id": "RWSJpsyKqHjH",
        "colab": {
          "base_uri": "https://localhost:8080/"
        },
        "outputId": "8af77a87-c9cf-4f3c-fa25-d98e81f3a4ae"
      },
      "source": [
        "from google.colab import drive\n",
        "drive.mount('/content/drive')"
      ],
      "execution_count": 2,
      "outputs": [
        {
          "output_type": "stream",
          "text": [
            "Mounted at /content/drive\n"
          ],
          "name": "stdout"
        }
      ]
    },
    {
      "cell_type": "code",
      "metadata": {
        "trusted": true,
        "id": "IhVcP_VWpoiv"
      },
      "source": [
        "df = pd.read_csv(\"/content/drive/My Drive/__CIND 820 - Data Analytics Project/3-data/Book1-fastsave.csv\")"
      ],
      "execution_count": 3,
      "outputs": []
    },
    {
      "cell_type": "markdown",
      "metadata": {
        "id": "uEl8PsIfYPlI"
      },
      "source": [
        "# Step 5. Data Cleaning and Manipulation"
      ]
    },
    {
      "cell_type": "markdown",
      "metadata": {
        "id": "7RbFQ3a7OgDj"
      },
      "source": [
        "## Preview data after cleaning and manipulation\n",
        "\n",
        "Original Tweet dataframe datatypes"
      ]
    },
    {
      "cell_type": "code",
      "metadata": {
        "id": "rwPS4yCo2ETZ",
        "colab": {
          "base_uri": "https://localhost:8080/"
        },
        "outputId": "ee3983ab-c9ff-409d-9193-7ace766cddc5"
      },
      "source": [
        "# https://developer.twitter.com/en/docs/twitter-api/v1/data-dictionary/overview/user-object\n",
        "df.dtypes"
      ],
      "execution_count": 4,
      "outputs": [
        {
          "output_type": "execute_result",
          "data": {
            "text/plain": [
              "coordinates                    object\n",
              "created_at                     object\n",
              "hashtags                       object\n",
              "media                          object\n",
              "urls                           object\n",
              "favorite_count                  int64\n",
              "id                              int64\n",
              "in_reply_to_screen_name        object\n",
              "in_reply_to_status_id         float64\n",
              "in_reply_to_user_id           float64\n",
              "lang                           object\n",
              "place                          object\n",
              "possibly_sensitive             object\n",
              "retweet_count                   int64\n",
              "retweet_id                    float64\n",
              "retweet_screen_name            object\n",
              "source                         object\n",
              "text                           object\n",
              "tweet_url                      object\n",
              "user_created_at                object\n",
              "user_screen_name               object\n",
              "user_default_profile_image       bool\n",
              "user_description               object\n",
              "user_favourites_count           int64\n",
              "user_followers_count            int64\n",
              "user_friends_count              int64\n",
              "user_listed_count               int64\n",
              "user_location                  object\n",
              "user_name                      object\n",
              "user_screen_name.1             object\n",
              "user_statuses_count             int64\n",
              "user_time_zone                float64\n",
              "user_urls                      object\n",
              "user_verified                    bool\n",
              "dtype: object"
            ]
          },
          "metadata": {
            "tags": []
          },
          "execution_count": 4
        }
      ]
    },
    {
      "cell_type": "markdown",
      "metadata": {
        "id": "UZfDm-YdvsBC"
      },
      "source": [
        "## Readjust attribute datatype\n",
        "\n",
        "For `retweet_id`, `in_reply_to_status_id`, `in_reply_to_user_id`\n",
        "- Convert `null` values to 0\n",
        "- Convert attribute as int64"
      ]
    },
    {
      "cell_type": "code",
      "metadata": {
        "id": "BNtxXnmyuroY"
      },
      "source": [
        "df.retweet_id = df[df['retweet_id'].notnull()].retweet_id.astype('int64') "
      ],
      "execution_count": 5,
      "outputs": []
    },
    {
      "cell_type": "code",
      "metadata": {
        "id": "Wq7nVqm-Ybq5"
      },
      "source": [
        "df.retweet_id = df.retweet_id.fillna(0).astype('int64')\n",
        "df.in_reply_to_status_id = df.in_reply_to_status_id.fillna(0).astype('int64')\n",
        "df.in_reply_to_user_id = df.in_reply_to_user_id.fillna(0).astype('int64')"
      ],
      "execution_count": 6,
      "outputs": []
    },
    {
      "cell_type": "code",
      "metadata": {
        "colab": {
          "base_uri": "https://localhost:8080/",
          "height": 359
        },
        "id": "ZKRbDVZKqaZ9",
        "outputId": "e452e02b-1cdd-4d71-b164-bcea6be983d7"
      },
      "source": [
        "df[['text']].sample(10)"
      ],
      "execution_count": 7,
      "outputs": [
        {
          "output_type": "execute_result",
          "data": {
            "text/html": [
              "<div>\n",
              "<style scoped>\n",
              "    .dataframe tbody tr th:only-of-type {\n",
              "        vertical-align: middle;\n",
              "    }\n",
              "\n",
              "    .dataframe tbody tr th {\n",
              "        vertical-align: top;\n",
              "    }\n",
              "\n",
              "    .dataframe thead th {\n",
              "        text-align: right;\n",
              "    }\n",
              "</style>\n",
              "<table border=\"1\" class=\"dataframe\">\n",
              "  <thead>\n",
              "    <tr style=\"text-align: right;\">\n",
              "      <th></th>\n",
              "      <th>text</th>\n",
              "    </tr>\n",
              "  </thead>\n",
              "  <tbody>\n",
              "    <tr>\n",
              "      <th>175040</th>\n",
              "      <td>RT @DailyDoseOfKia: IF “IDGAF” Was A State 😭</td>\n",
              "    </tr>\n",
              "    <tr>\n",
              "      <th>563117</th>\n",
              "      <td>RT @PrisonPlanet: Chinese factory worker rubbing face masks on his shoes in display of global unity over corona pandemic. All hail CCP.\\n\\nht…</td>\n",
              "    </tr>\n",
              "    <tr>\n",
              "      <th>520415</th>\n",
              "      <td>RT @MODIfiedVikas: Have you seen any major media houses coveting #Seva4Society work by swyamsevaks? They are busy defending Corona super sp…</td>\n",
              "    </tr>\n",
              "    <tr>\n",
              "      <th>533416</th>\n",
              "      <td>RT @KammyTaughtYou: Y’all gotta stop telling people they gon avoid corona by simmering sangria on the stove. We need to start beating peopl…</td>\n",
              "    </tr>\n",
              "    <tr>\n",
              "      <th>735902</th>\n",
              "      <td>I hope someone beats the shit out of this man https://t.co/Ehr035rVXn</td>\n",
              "    </tr>\n",
              "    <tr>\n",
              "      <th>405686</th>\n",
              "      <td>RT @TheMedicaIVideo: Real photos of the Corona virus!🦠\\nLet’s talk COVID-19. ⁣⁣\\nThese are the first electron microscope images of the potent…</td>\n",
              "    </tr>\n",
              "    <tr>\n",
              "      <th>368414</th>\n",
              "      <td>RT @rajakumaari: Actor Siva Kartikeyan has given Rs. 25 Lakhs to TN Chief Minister relief fund for corona relief</td>\n",
              "    </tr>\n",
              "    <tr>\n",
              "      <th>387286</th>\n",
              "      <td>RT @TheRickWilson: \"Trump was so distracted by impeachment he couldn't focus on Corona!\"\\n\\nExcept when he was golfing about a dozen times be…</td>\n",
              "    </tr>\n",
              "    <tr>\n",
              "      <th>239030</th>\n",
              "      <td>RT @NonnySavage: people died  because of Corona  and you are still alive 😪Not because of your cleverness but because of God's grace.♥️</td>\n",
              "    </tr>\n",
              "    <tr>\n",
              "      <th>44277</th>\n",
              "      <td>RT @arvindgunasekar: First Corona Case in India was reported on Jan 30.\\n\\nComplete Lockdown was ordered on March 24.\\n\\nWe had 54 days for pre…</td>\n",
              "    </tr>\n",
              "  </tbody>\n",
              "</table>\n",
              "</div>"
            ],
            "text/plain": [
              "                                                                                                                                                    text\n",
              "175040                                                                                                      RT @DailyDoseOfKia: IF “IDGAF” Was A State 😭\n",
              "563117    RT @PrisonPlanet: Chinese factory worker rubbing face masks on his shoes in display of global unity over corona pandemic. All hail CCP.\\n\\nht…\n",
              "520415      RT @MODIfiedVikas: Have you seen any major media houses coveting #Seva4Society work by swyamsevaks? They are busy defending Corona super sp…\n",
              "533416      RT @KammyTaughtYou: Y’all gotta stop telling people they gon avoid corona by simmering sangria on the stove. We need to start beating peopl…\n",
              "735902                                                                             I hope someone beats the shit out of this man https://t.co/Ehr035rVXn\n",
              "405686    RT @TheMedicaIVideo: Real photos of the Corona virus!🦠\\nLet’s talk COVID-19. ⁣⁣\\nThese are the first electron microscope images of the potent…\n",
              "368414                                  RT @rajakumaari: Actor Siva Kartikeyan has given Rs. 25 Lakhs to TN Chief Minister relief fund for corona relief\n",
              "387286    RT @TheRickWilson: \"Trump was so distracted by impeachment he couldn't focus on Corona!\"\\n\\nExcept when he was golfing about a dozen times be…\n",
              "239030            RT @NonnySavage: people died  because of Corona  and you are still alive 😪Not because of your cleverness but because of God's grace.♥️\n",
              "44277   RT @arvindgunasekar: First Corona Case in India was reported on Jan 30.\\n\\nComplete Lockdown was ordered on March 24.\\n\\nWe had 54 days for pre…"
            ]
          },
          "metadata": {
            "tags": []
          },
          "execution_count": 7
        }
      ]
    },
    {
      "cell_type": "markdown",
      "metadata": {
        "id": "A1vhtGcnzqtp"
      },
      "source": [
        "## Misc. cleaning up to reduce noise when conducting sentimental analysis\n",
        "1. remove \\n\n",
        "2. remove URL\n",
        "3. remove user referrals\n",
        "4. remove hashtags"
      ]
    },
    {
      "cell_type": "code",
      "metadata": {
        "id": "TGLSjXA00aBs"
      },
      "source": [
        "df['modified_text'] = df.text.str.replace(r'\\n', '')\n",
        "df['modified_text'] = df.modified_text.str.replace(r'(http|ftp|https)://([\\w_-]+(?:(?:\\.[\\w_-]+)+))([\\w.,@?^=%&:/~+#-]*[\\w@?^=%&/~+#-])?', '')\n",
        "df['modified_text'] = df.modified_text.str.replace(r'\\B@\\w+', '')\n",
        "df['modified_text'] = df.modified_text.str.replace(r'\\B#\\w+', '')"
      ],
      "execution_count": 8,
      "outputs": []
    },
    {
      "cell_type": "markdown",
      "metadata": {
        "id": "4XU0njxYunzu"
      },
      "source": [
        "## Splitting Dataframes (originals and retweets)\n",
        "\n",
        "The collection includes both original tweets and retweets. Since retweets mirrors the original tweet by someone else other than the author, we don't need to run sentimental analysis on the retweet as it would have been run on the original tweet, therefore we can split original tweets and retweets into two dataframes to avoid wasting resources.\n",
        "\n",
        "\n",
        "- Original tweets: `dfOriginals`\n",
        "- Retweets: `dfRetweets` cons\n",
        "\n",
        "\n",
        "\n"
      ]
    },
    {
      "cell_type": "code",
      "metadata": {
        "id": "jPydisljWkFM"
      },
      "source": [
        "dfOriginals = df[df.retweet_id == 0]\n",
        "dfRetweets = df[df.retweet_id != 0]"
      ],
      "execution_count": 9,
      "outputs": []
    },
    {
      "cell_type": "markdown",
      "metadata": {
        "id": "r1UH6f4QNP24"
      },
      "source": [
        "Two samples of the original tweet dataframe."
      ]
    },
    {
      "cell_type": "code",
      "metadata": {
        "id": "d5nEYW5qOVAg",
        "colab": {
          "base_uri": "https://localhost:8080/",
          "height": 590
        },
        "outputId": "b0d5b869-47dd-40c2-a5e2-aad5b91c5575"
      },
      "source": [
        "dfOriginals.sample(2)"
      ],
      "execution_count": 10,
      "outputs": [
        {
          "output_type": "execute_result",
          "data": {
            "text/html": [
              "<div>\n",
              "<style scoped>\n",
              "    .dataframe tbody tr th:only-of-type {\n",
              "        vertical-align: middle;\n",
              "    }\n",
              "\n",
              "    .dataframe tbody tr th {\n",
              "        vertical-align: top;\n",
              "    }\n",
              "\n",
              "    .dataframe thead th {\n",
              "        text-align: right;\n",
              "    }\n",
              "</style>\n",
              "<table border=\"1\" class=\"dataframe\">\n",
              "  <thead>\n",
              "    <tr style=\"text-align: right;\">\n",
              "      <th></th>\n",
              "      <th>coordinates</th>\n",
              "      <th>created_at</th>\n",
              "      <th>hashtags</th>\n",
              "      <th>media</th>\n",
              "      <th>urls</th>\n",
              "      <th>favorite_count</th>\n",
              "      <th>id</th>\n",
              "      <th>in_reply_to_screen_name</th>\n",
              "      <th>in_reply_to_status_id</th>\n",
              "      <th>in_reply_to_user_id</th>\n",
              "      <th>lang</th>\n",
              "      <th>place</th>\n",
              "      <th>possibly_sensitive</th>\n",
              "      <th>retweet_count</th>\n",
              "      <th>retweet_id</th>\n",
              "      <th>retweet_screen_name</th>\n",
              "      <th>source</th>\n",
              "      <th>text</th>\n",
              "      <th>tweet_url</th>\n",
              "      <th>user_created_at</th>\n",
              "      <th>user_screen_name</th>\n",
              "      <th>user_default_profile_image</th>\n",
              "      <th>user_description</th>\n",
              "      <th>user_favourites_count</th>\n",
              "      <th>user_followers_count</th>\n",
              "      <th>user_friends_count</th>\n",
              "      <th>user_listed_count</th>\n",
              "      <th>user_location</th>\n",
              "      <th>user_name</th>\n",
              "      <th>user_screen_name.1</th>\n",
              "      <th>user_statuses_count</th>\n",
              "      <th>user_time_zone</th>\n",
              "      <th>user_urls</th>\n",
              "      <th>user_verified</th>\n",
              "      <th>modified_text</th>\n",
              "    </tr>\n",
              "  </thead>\n",
              "  <tbody>\n",
              "    <tr>\n",
              "      <th>160068</th>\n",
              "      <td>NaN</td>\n",
              "      <td>Tue Mar 31 10:01:58 +0000 2020</td>\n",
              "      <td>speakers</td>\n",
              "      <td>NaN</td>\n",
              "      <td>https://www.eventbrite.co.uk/e/will-corona-kill-startups-investors-opinions-online-panel-discussion-tickets-101026226162</td>\n",
              "      <td>4</td>\n",
              "      <td>1244927912555536386</td>\n",
              "      <td>NaN</td>\n",
              "      <td>0</td>\n",
              "      <td>0</td>\n",
              "      <td>en</td>\n",
              "      <td>NaN</td>\n",
              "      <td>False</td>\n",
              "      <td>1</td>\n",
              "      <td>0</td>\n",
              "      <td>NaN</td>\n",
              "      <td>&lt;a href=\"https://mobile.twitter.com\" rel=\"nofollow\"&gt;Twitter Web App&lt;/a&gt;</td>\n",
              "      <td>Don't forget to sign up for our upcoming online panel discussion on April 3, 2020 with #speakers from @fsblockchain, @_CV_VC_, @HTGF, Greenfield One and European Media Finance. \\n\\nSo far 350+ registrations! Grab one for yourself. More here: \\n\\nhttps://t.co/KCK6nS11C3</td>\n",
              "      <td>https://twitter.com/NetworkDisrupt/status/1244927912555536386</td>\n",
              "      <td>Wed Sep 05 17:03:09 +0000 2018</td>\n",
              "      <td>NetworkDisrupt</td>\n",
              "      <td>False</td>\n",
              "      <td>NaN</td>\n",
              "      <td>92</td>\n",
              "      <td>244</td>\n",
              "      <td>217</td>\n",
              "      <td>4</td>\n",
              "      <td>Germany</td>\n",
              "      <td>Disrupt Network</td>\n",
              "      <td>NetworkDisrupt</td>\n",
              "      <td>140</td>\n",
              "      <td>NaN</td>\n",
              "      <td>NaN</td>\n",
              "      <td>False</td>\n",
              "      <td>Don't forget to sign up for our upcoming online panel discussion on April 3, 2020 with  from , , , Greenfield One and European Media Finance. So far 350+ registrations! Grab one for yourself. More here:</td>\n",
              "    </tr>\n",
              "    <tr>\n",
              "      <th>426158</th>\n",
              "      <td>NaN</td>\n",
              "      <td>Tue Mar 31 16:45:37 +0000 2020</td>\n",
              "      <td>locust HOPE VACCINE VACUNA CoronaVirusUpdate CoronavirusPandemic VirusCorona Corona CoronaVirus COVD19 COVID19 Telemundo TelemundoNews NoticiasTelemundo NBCNewsWorld</td>\n",
              "      <td>NaN</td>\n",
              "      <td>https://www.cnbc.com/2020/03/23/east-africa-faces-dual-shock-from-coronavirus-and-locust-swarms.html</td>\n",
              "      <td>0</td>\n",
              "      <td>1245029492201885698</td>\n",
              "      <td>NaN</td>\n",
              "      <td>0</td>\n",
              "      <td>0</td>\n",
              "      <td>en</td>\n",
              "      <td>Enterprise, NV</td>\n",
              "      <td>False</td>\n",
              "      <td>0</td>\n",
              "      <td>0</td>\n",
              "      <td>NaN</td>\n",
              "      <td>&lt;a href=\"http://twitter.com/download/iphone\" rel=\"nofollow\"&gt;Twitter for iPhone&lt;/a&gt;</td>\n",
              "      <td>East Africa faces dual shock from coronavirus and locust  https://t.co/bCuzTiZ7Sv #locust #HOPE #VACCINE #VACUNA #CoronaVirusUpdate #CoronavirusPandemic #VirusCorona #Corona  #CoronaVirus #COVD19 #COVID19 #Telemundo \\n@TelemundoNews #TelemundoNews #NoticiasTelemundo #NBCNewsWorld</td>\n",
              "      <td>https://twitter.com/messageboardusa/status/1245029492201885698</td>\n",
              "      <td>Sat Feb 28 21:56:15 +0000 2009</td>\n",
              "      <td>messageboardusa</td>\n",
              "      <td>False</td>\n",
              "      <td>NaN</td>\n",
              "      <td>36842</td>\n",
              "      <td>1100</td>\n",
              "      <td>2187</td>\n",
              "      <td>75</td>\n",
              "      <td>Las Vegas</td>\n",
              "      <td>messageboardusa</td>\n",
              "      <td>messageboardusa</td>\n",
              "      <td>17647</td>\n",
              "      <td>NaN</td>\n",
              "      <td>http://www.MessageboardUSA.com/</td>\n",
              "      <td>False</td>\n",
              "      <td>East Africa faces dual shock from coronavirus and locust</td>\n",
              "    </tr>\n",
              "  </tbody>\n",
              "</table>\n",
              "</div>"
            ],
            "text/plain": [
              "       coordinates  ...                                                                                                                                                                                                modified_text\n",
              "160068         NaN  ...  Don't forget to sign up for our upcoming online panel discussion on April 3, 2020 with  from , , , Greenfield One and European Media Finance. So far 350+ registrations! Grab one for yourself. More here: \n",
              "426158         NaN  ...                                                                                                                                  East Africa faces dual shock from coronavirus and locust                   \n",
              "\n",
              "[2 rows x 35 columns]"
            ]
          },
          "metadata": {
            "tags": []
          },
          "execution_count": 10
        }
      ]
    },
    {
      "cell_type": "markdown",
      "metadata": {
        "id": "Jfq66BaYpojK"
      },
      "source": [
        "## Guessing language\n",
        "\n",
        "Since our sentiment analysis focuses on only English tweets, we will install a `langdetect` library to help filter out tweets that are not English."
      ]
    },
    {
      "cell_type": "code",
      "metadata": {
        "id": "pPwDbh-HmBv8",
        "colab": {
          "base_uri": "https://localhost:8080/"
        },
        "outputId": "03e3720c-b829-4084-b4e8-a2d8e7a19e29"
      },
      "source": [
        "#https://pypi.org/project/langdetect/\n",
        "!pip install langdetect\n",
        "from langdetect import detect\n",
        "from langdetect import DetectorFactory\n",
        "DetectorFactory.seed = 0\n",
        "\n"
      ],
      "execution_count": 11,
      "outputs": [
        {
          "output_type": "stream",
          "text": [
            "Collecting langdetect\n",
            "\u001b[?25l  Downloading https://files.pythonhosted.org/packages/56/a3/8407c1e62d5980188b4acc45ef3d94b933d14a2ebc9ef3505f22cf772570/langdetect-1.0.8.tar.gz (981kB)\n",
            "\u001b[K     |████████████████████████████████| 983kB 5.8MB/s \n",
            "\u001b[?25hRequirement already satisfied: six in /usr/local/lib/python3.6/dist-packages (from langdetect) (1.15.0)\n",
            "Building wheels for collected packages: langdetect\n",
            "  Building wheel for langdetect (setup.py) ... \u001b[?25l\u001b[?25hdone\n",
            "  Created wheel for langdetect: filename=langdetect-1.0.8-cp36-none-any.whl size=993195 sha256=b96585071566b53435116dd52fb453bc2b584de7ac2257a851f3f07f345035b2\n",
            "  Stored in directory: /root/.cache/pip/wheels/8d/b3/aa/6d99de9f3841d7d3d40a60ea06e6d669e8e5012e6c8b947a57\n",
            "Successfully built langdetect\n",
            "Installing collected packages: langdetect\n",
            "Successfully installed langdetect-1.0.8\n"
          ],
          "name": "stdout"
        }
      ]
    },
    {
      "cell_type": "markdown",
      "metadata": {
        "id": "oPdqdngRnI8B"
      },
      "source": [
        "Function to test whether tweet is English with error handling."
      ]
    },
    {
      "cell_type": "code",
      "metadata": {
        "id": "HJWNxzqbQhIz"
      },
      "source": [
        "#https://stackoverflow.com/questions/60930935/exclude-non-english-rows-in-pandas\n",
        "\n",
        "def is_en(txt):\n",
        "    try:\n",
        "        return detect(txt)=='en'\n",
        "    except:\n",
        "        return False"
      ],
      "execution_count": 12,
      "outputs": []
    },
    {
      "cell_type": "markdown",
      "metadata": {
        "id": "zF4fSfUF3Gcy"
      },
      "source": [
        "Passing as the `is_en()` as first-class function; returning a boolean value as a attribute `guessed_language`."
      ]
    },
    {
      "cell_type": "code",
      "metadata": {
        "id": "CCxbwQfSmht4",
        "colab": {
          "base_uri": "https://localhost:8080/"
        },
        "outputId": "22b1b86d-ba3e-4b89-8c39-46f9c70b88a6"
      },
      "source": [
        "dfOriginals['guessed_language'] = dfOriginals.modified_text.apply(is_en)"
      ],
      "execution_count": 13,
      "outputs": [
        {
          "output_type": "stream",
          "text": [
            "/usr/local/lib/python3.6/dist-packages/ipykernel_launcher.py:1: SettingWithCopyWarning: \n",
            "A value is trying to be set on a copy of a slice from a DataFrame.\n",
            "Try using .loc[row_indexer,col_indexer] = value instead\n",
            "\n",
            "See the caveats in the documentation: https://pandas.pydata.org/pandas-docs/stable/user_guide/indexing.html#returning-a-view-versus-a-copy\n",
            "  \"\"\"Entry point for launching an IPython kernel.\n"
          ],
          "name": "stderr"
        }
      ]
    },
    {
      "cell_type": "markdown",
      "metadata": {
        "id": "dsfksiehng6H"
      },
      "source": [
        "By filtering out non-English tweets, we remove noise that can potentially affect our sentimental analysis."
      ]
    },
    {
      "cell_type": "code",
      "metadata": {
        "id": "zPoRWDGSXx99",
        "colab": {
          "base_uri": "https://localhost:8080/"
        },
        "outputId": "642b773d-30c1-4877-e2da-615385aab123"
      },
      "source": [
        "print(\"There are \" + str(len(dfOriginals)) + \" tweets, and \" + str(sum(dfOriginals.guessed_language)) + \" (\"+str(round((sum(dfOriginals.guessed_language) / len(dfOriginals)) * 100, 2))+\"%) tweets detected as English.\")"
      ],
      "execution_count": 14,
      "outputs": [
        {
          "output_type": "stream",
          "text": [
            "There are 245389 tweets, and 232816 (94.88%) tweets detected as English.\n"
          ],
          "name": "stdout"
        }
      ]
    },
    {
      "cell_type": "markdown",
      "metadata": {
        "id": "atZ26M3rYTfg"
      },
      "source": [
        "# Step 6. Sentiment Analysis"
      ]
    },
    {
      "cell_type": "markdown",
      "metadata": {
        "id": "ezcFLOzHLRE_"
      },
      "source": [
        "To conduct Seitment Analysis, we begin by importing the NLTK library."
      ]
    },
    {
      "cell_type": "code",
      "metadata": {
        "id": "PxgmxMWypoi2",
        "colab": {
          "base_uri": "https://localhost:8080/"
        },
        "outputId": "f52d5ede-507a-46ac-b1a0-d68d3610d2de"
      },
      "source": [
        "import nltk\n",
        "from nltk.sentiment.util import *\n",
        "from nltk.sentiment import SentimentIntensityAnalyzer\n",
        "from nltk import tokenize\n",
        "nltk.download('punkt')\n",
        "nltk.download('vader_lexicon')\n",
        "sid = SentimentIntensityAnalyzer()"
      ],
      "execution_count": 15,
      "outputs": [
        {
          "output_type": "stream",
          "text": [
            "/usr/local/lib/python3.6/dist-packages/nltk/twitter/__init__.py:20: UserWarning: The twython library has not been installed. Some functionality from the twitter package will not be available.\n",
            "  warnings.warn(\"The twython library has not been installed. \"\n"
          ],
          "name": "stderr"
        },
        {
          "output_type": "stream",
          "text": [
            "[nltk_data] Downloading package punkt to /root/nltk_data...\n",
            "[nltk_data]   Unzipping tokenizers/punkt.zip.\n",
            "[nltk_data] Downloading package vader_lexicon to /root/nltk_data...\n"
          ],
          "name": "stdout"
        }
      ]
    },
    {
      "cell_type": "markdown",
      "metadata": {
        "id": "IhrR1DkvcgNO"
      },
      "source": [
        "## Applying Sentiment Analysis function\n",
        "\n",
        "We apply the polarity score function and store results on a new attribute `sentimentscore`.\n",
        "\n"
      ]
    },
    {
      "cell_type": "code",
      "metadata": {
        "id": "Zjw8l4kapojF",
        "colab": {
          "base_uri": "https://localhost:8080/"
        },
        "outputId": "1c12e374-8b38-4be0-d339-46a5bec93167"
      },
      "source": [
        "dfOriginals['sentimentscore'] = dfOriginals.modified_text.apply(sid.polarity_scores)"
      ],
      "execution_count": 16,
      "outputs": [
        {
          "output_type": "stream",
          "text": [
            "/usr/local/lib/python3.6/dist-packages/ipykernel_launcher.py:1: SettingWithCopyWarning: \n",
            "A value is trying to be set on a copy of a slice from a DataFrame.\n",
            "Try using .loc[row_indexer,col_indexer] = value instead\n",
            "\n",
            "See the caveats in the documentation: https://pandas.pydata.org/pandas-docs/stable/user_guide/indexing.html#returning-a-view-versus-a-copy\n",
            "  \"\"\"Entry point for launching an IPython kernel.\n"
          ],
          "name": "stderr"
        }
      ]
    },
    {
      "cell_type": "markdown",
      "metadata": {
        "id": "MKHk7KzTXSNZ"
      },
      "source": [
        "A quick sample preview of the text and its sentiment score."
      ]
    },
    {
      "cell_type": "code",
      "metadata": {
        "id": "juosFirzpojI",
        "colab": {
          "base_uri": "https://localhost:8080/",
          "height": 111
        },
        "outputId": "17385c79-6323-4a40-d7bb-cd8813bdeb10"
      },
      "source": [
        "dfOriginals.sample(2)[['modified_text','sentimentscore']]"
      ],
      "execution_count": 17,
      "outputs": [
        {
          "output_type": "execute_result",
          "data": {
            "text/html": [
              "<div>\n",
              "<style scoped>\n",
              "    .dataframe tbody tr th:only-of-type {\n",
              "        vertical-align: middle;\n",
              "    }\n",
              "\n",
              "    .dataframe tbody tr th {\n",
              "        vertical-align: top;\n",
              "    }\n",
              "\n",
              "    .dataframe thead th {\n",
              "        text-align: right;\n",
              "    }\n",
              "</style>\n",
              "<table border=\"1\" class=\"dataframe\">\n",
              "  <thead>\n",
              "    <tr style=\"text-align: right;\">\n",
              "      <th></th>\n",
              "      <th>modified_text</th>\n",
              "      <th>sentimentscore</th>\n",
              "    </tr>\n",
              "  </thead>\n",
              "  <tbody>\n",
              "    <tr>\n",
              "      <th>368294</th>\n",
              "      <td>We need food it’s me and my little boy I can’t go to work due to this corona I know the checks are coming but man this is hard please try to help us Zelle 2564053129 or Sherry_goodwin@yahoo.com     I can’t remember hope it’s right this has got me going crazy lol</td>\n",
              "      <td>{'neg': 0.077, 'neu': 0.691, 'pos': 0.231, 'compound': 0.8847}</td>\n",
              "    </tr>\n",
              "    <tr>\n",
              "      <th>293979</th>\n",
              "      <td>I know you’re kidding😜YOU HAVE GOT TO BE😭😭😹😹😹😹😹😹please say SIKE🙆🏽‍♀️</td>\n",
              "      <td>{'neg': 0.0, 'neu': 1.0, 'pos': 0.0, 'compound': 0.0}</td>\n",
              "    </tr>\n",
              "  </tbody>\n",
              "</table>\n",
              "</div>"
            ],
            "text/plain": [
              "                                                                                                                                                                                                                                                                     modified_text                                                  sentimentscore\n",
              "368294      We need food it’s me and my little boy I can’t go to work due to this corona I know the checks are coming but man this is hard please try to help us Zelle 2564053129 or Sherry_goodwin@yahoo.com     I can’t remember hope it’s right this has got me going crazy lol  {'neg': 0.077, 'neu': 0.691, 'pos': 0.231, 'compound': 0.8847}\n",
              "293979                                                                                                                                                                                                       I know you’re kidding😜YOU HAVE GOT TO BE😭😭😹😹😹😹😹😹please say SIKE🙆🏽‍♀️            {'neg': 0.0, 'neu': 1.0, 'pos': 0.0, 'compound': 0.0}"
            ]
          },
          "metadata": {
            "tags": []
          },
          "execution_count": 17
        }
      ]
    },
    {
      "cell_type": "markdown",
      "metadata": {
        "id": "kbrLEIGyEET0"
      },
      "source": [
        "The `SentimentIntensityAnalyzer()` returns a dictionary of scores negative, neutral, positive, and compound. Compound is the normalization of negative, neutral, and positive values.\n",
        "\n",
        "\n",
        "How compound is calculated? https://stackoverflow.com/questions/40325980/how-is-the-vader-compound-polarity-score-calculated-in-python-nltk\n",
        "\n",
        "Next, we expand the score, which is currently as dictionary, into their own attributes for better data manipulation--especially the compound attribute."
      ]
    },
    {
      "cell_type": "code",
      "metadata": {
        "id": "M9GcU1qtEKha"
      },
      "source": [
        "dfOriginalSScore = pd.json_normalize(dfOriginals.sentimentscore)\n",
        "dfOriginalSScore['original_index'] = dfOriginals.index\n",
        "dfOriginalSScore = dfOriginalSScore.set_index('original_index')"
      ],
      "execution_count": 18,
      "outputs": []
    },
    {
      "cell_type": "markdown",
      "metadata": {
        "id": "cyfN7LjOLffd"
      },
      "source": [
        "Merge the dataframe with sentiment scores and the dataframe with the original tweets together, onto a new dataframe `dfOriginals_Analyzed`."
      ]
    },
    {
      "cell_type": "code",
      "metadata": {
        "id": "Z9nqoDf7comS"
      },
      "source": [
        "dfOriginals_Analyzed = dfOriginals.merge(dfOriginalSScore, left_index=True, right_index=True)"
      ],
      "execution_count": 19,
      "outputs": []
    },
    {
      "cell_type": "markdown",
      "metadata": {
        "id": "baZ82QGJLxqf"
      },
      "source": [
        "Quick preview of modified text and compound on the merged dataframe."
      ]
    },
    {
      "cell_type": "code",
      "metadata": {
        "id": "aoK5ZqBlU9Wa",
        "colab": {
          "base_uri": "https://localhost:8080/",
          "height": 359
        },
        "outputId": "1eaffbb2-e0dd-4d01-d5b8-169ee88ffa9b"
      },
      "source": [
        "dfOriginals_Analyzed.sample(10)[['modified_text','compound']]"
      ],
      "execution_count": 20,
      "outputs": [
        {
          "output_type": "execute_result",
          "data": {
            "text/html": [
              "<div>\n",
              "<style scoped>\n",
              "    .dataframe tbody tr th:only-of-type {\n",
              "        vertical-align: middle;\n",
              "    }\n",
              "\n",
              "    .dataframe tbody tr th {\n",
              "        vertical-align: top;\n",
              "    }\n",
              "\n",
              "    .dataframe thead th {\n",
              "        text-align: right;\n",
              "    }\n",
              "</style>\n",
              "<table border=\"1\" class=\"dataframe\">\n",
              "  <thead>\n",
              "    <tr style=\"text-align: right;\">\n",
              "      <th></th>\n",
              "      <th>modified_text</th>\n",
              "      <th>compound</th>\n",
              "    </tr>\n",
              "  </thead>\n",
              "  <tbody>\n",
              "    <tr>\n",
              "      <th>105500</th>\n",
              "      <td>Alternate Reality Exercise: If banks had given a $1 billion donation (instead of $6 million) to fight Corona, what would people’s reaction have been?</td>\n",
              "      <td>-0.3818</td>\n",
              "    </tr>\n",
              "    <tr>\n",
              "      <th>724413</th>\n",
              "      <td>The real World Tour....😱</td>\n",
              "      <td>0.0000</td>\n",
              "    </tr>\n",
              "    <tr>\n",
              "      <th>584</th>\n",
              "      <td>My world!  Stay safe world ❤️</td>\n",
              "      <td>0.4926</td>\n",
              "    </tr>\n",
              "    <tr>\n",
              "      <th>560930</th>\n",
              "      <td>Bitch.</td>\n",
              "      <td>-0.5859</td>\n",
              "    </tr>\n",
              "    <tr>\n",
              "      <th>413155</th>\n",
              "      <td>Another corona Jihad?</td>\n",
              "      <td>0.0000</td>\n",
              "    </tr>\n",
              "    <tr>\n",
              "      <th>175884</th>\n",
              "      <td>Swine flu was .02% vs corona currently at 1.8% mortality....HUGE difference. If 10M get infected...180,000 die. I agree this is over reacting but it is different.</td>\n",
              "      <td>-0.3612</td>\n",
              "    </tr>\n",
              "    <tr>\n",
              "      <th>734800</th>\n",
              "      <td>Kindly tweet and share video on tabdili jamat markad...was it preplan to spread corona virus...</td>\n",
              "      <td>0.6597</td>\n",
              "    </tr>\n",
              "    <tr>\n",
              "      <th>714751</th>\n",
              "      <td>Can't wait for the thousands of \"haha I have corona, lol jk\" jokes tomorrow.</td>\n",
              "      <td>0.8271</td>\n",
              "    </tr>\n",
              "    <tr>\n",
              "      <th>326650</th>\n",
              "      <td>I keep reading that the Death tags are being changed to Corona please investigate      If we All had protective Gear America could go back to Work🇺🇸</td>\n",
              "      <td>-0.3818</td>\n",
              "    </tr>\n",
              "    <tr>\n",
              "      <th>463205</th>\n",
              "      <td>Florida accepts NO RETURNS for Corona breading/spreading even with a reciept. You caught it, you bought it.</td>\n",
              "      <td>-0.1613</td>\n",
              "    </tr>\n",
              "  </tbody>\n",
              "</table>\n",
              "</div>"
            ],
            "text/plain": [
              "                                                                                                                                                              modified_text  compound\n",
              "105500                Alternate Reality Exercise: If banks had given a $1 billion donation (instead of $6 million) to fight Corona, what would people’s reaction have been?   -0.3818\n",
              "724413                                                                                                                                            The real World Tour....😱     0.0000\n",
              "584                                                                                                                                     My world!  Stay safe world ❤️          0.4926\n",
              "560930                                                                                                                                                              Bitch.    -0.5859\n",
              "413155                                                                                                                                                Another corona Jihad?    0.0000\n",
              "175884   Swine flu was .02% vs corona currently at 1.8% mortality....HUGE difference. If 10M get infected...180,000 die. I agree this is over reacting but it is different.   -0.3612\n",
              "734800                                                                      Kindly tweet and share video on tabdili jamat markad...was it preplan to spread corona virus...    0.6597\n",
              "714751                                                                                         Can't wait for the thousands of \"haha I have corona, lol jk\" jokes tomorrow.    0.8271\n",
              "326650                I keep reading that the Death tags are being changed to Corona please investigate      If we All had protective Gear America could go back to Work🇺🇸    -0.3818\n",
              "463205                                                          Florida accepts NO RETURNS for Corona breading/spreading even with a reciept. You caught it, you bought it.   -0.1613"
            ]
          },
          "metadata": {
            "tags": []
          },
          "execution_count": 20
        }
      ]
    },
    {
      "cell_type": "markdown",
      "metadata": {
        "id": "haI-bZHZSbwB"
      },
      "source": [
        "We binning based on compound scores\n",
        "* -1 to -0.1 = negative \n",
        "* -0.1 to 0.1  = neutral\n",
        "* 0.1 to 1 = positive\n",
        "\n",
        "The threshold chosen is based on the paper \"Predictive Analysis of Resource Usage Data in Academic Libraries using the VADER Sentiment Algorithm\"\n",
        "\n",
        "Deo, G. S., Mishra, A., Jalaluddin, Z. M., & Mahamuni, C. V. (2020, September). Predictive Analysis of Resource Usage Data in Academic Libraries using the VADER Sentiment Algorithm. In 2020 12th International Conference on Computational Intelligence and Communication Networks (CICN) (pp. 221-228). IEEE.\n",
        "\n",
        "https://www.researchgate.net/profile/Gouri_Deo/publication/342988903_Predictive_Analysis_of_Resource_Usage_Data_in_Academic_Libraries_using_the_VADER_Sentiment_Algorithm/links/5f1085a6a6fdcc3ed70bcf20/Predictive-Analysis-of-Resource-Usage-Data-in-Academic-Libraries-using-the-VADER-Sentiment-Algorithm.pdf\n",
        "\n"
      ]
    },
    {
      "cell_type": "code",
      "metadata": {
        "id": "P2kbxHPFSlv0",
        "colab": {
          "base_uri": "https://localhost:8080/"
        },
        "outputId": "6032293a-506d-4aaf-a5e3-65cc82c44277"
      },
      "source": [
        "dfOriginals_Analyzed['sentiment_class_relaxed'] = pd.cut(dfOriginals_Analyzed['compound'], bins=[-1, -0.1, 0.1, 1], right=True, labels=['neg', 'neu', 'pos'])\n",
        "dfOriginals_Analyzed.sentiment_class_relaxed.value_counts()"
      ],
      "execution_count": 21,
      "outputs": [
        {
          "output_type": "execute_result",
          "data": {
            "text/plain": [
              "neg    89051\n",
              "pos    84039\n",
              "neu    72299\n",
              "Name: sentiment_class_relaxed, dtype: int64"
            ]
          },
          "metadata": {
            "tags": []
          },
          "execution_count": 21
        }
      ]
    },
    {
      "cell_type": "markdown",
      "metadata": {
        "id": "z301Ydq8pOWT"
      },
      "source": [
        "# Step 7. Basic Analysis\n",
        "\n",
        "Observing the correlation between variables."
      ]
    },
    {
      "cell_type": "code",
      "metadata": {
        "id": "85ESk5yIvkfQ",
        "colab": {
          "base_uri": "https://localhost:8080/",
          "height": 328
        },
        "outputId": "614dc66c-1522-4762-de12-2947072005bf"
      },
      "source": [
        "dfOriginals_Analyzed[['favorite_count','retweet_count','user_followers_count','compound','user_statuses_count','user_favourites_count','user_followers_count','user_friends_count','user_listed_count']].corr()"
      ],
      "execution_count": 92,
      "outputs": [
        {
          "output_type": "execute_result",
          "data": {
            "text/html": [
              "<div>\n",
              "<style scoped>\n",
              "    .dataframe tbody tr th:only-of-type {\n",
              "        vertical-align: middle;\n",
              "    }\n",
              "\n",
              "    .dataframe tbody tr th {\n",
              "        vertical-align: top;\n",
              "    }\n",
              "\n",
              "    .dataframe thead th {\n",
              "        text-align: right;\n",
              "    }\n",
              "</style>\n",
              "<table border=\"1\" class=\"dataframe\">\n",
              "  <thead>\n",
              "    <tr style=\"text-align: right;\">\n",
              "      <th></th>\n",
              "      <th>favorite_count</th>\n",
              "      <th>retweet_count</th>\n",
              "      <th>user_followers_count</th>\n",
              "      <th>compound</th>\n",
              "      <th>user_statuses_count</th>\n",
              "      <th>user_favourites_count</th>\n",
              "      <th>user_followers_count</th>\n",
              "      <th>user_friends_count</th>\n",
              "      <th>user_listed_count</th>\n",
              "    </tr>\n",
              "  </thead>\n",
              "  <tbody>\n",
              "    <tr>\n",
              "      <th>favorite_count</th>\n",
              "      <td>1.000000</td>\n",
              "      <td>0.908576</td>\n",
              "      <td>0.165683</td>\n",
              "      <td>-0.001108</td>\n",
              "      <td>0.015366</td>\n",
              "      <td>0.007852</td>\n",
              "      <td>0.165683</td>\n",
              "      <td>0.005575</td>\n",
              "      <td>0.051646</td>\n",
              "    </tr>\n",
              "    <tr>\n",
              "      <th>retweet_count</th>\n",
              "      <td>0.908576</td>\n",
              "      <td>1.000000</td>\n",
              "      <td>0.090025</td>\n",
              "      <td>-0.003071</td>\n",
              "      <td>0.015991</td>\n",
              "      <td>0.007261</td>\n",
              "      <td>0.090025</td>\n",
              "      <td>0.007084</td>\n",
              "      <td>0.039251</td>\n",
              "    </tr>\n",
              "    <tr>\n",
              "      <th>user_followers_count</th>\n",
              "      <td>0.165683</td>\n",
              "      <td>0.090025</td>\n",
              "      <td>1.000000</td>\n",
              "      <td>0.003693</td>\n",
              "      <td>0.116452</td>\n",
              "      <td>0.000535</td>\n",
              "      <td>1.000000</td>\n",
              "      <td>0.032721</td>\n",
              "      <td>0.609057</td>\n",
              "    </tr>\n",
              "    <tr>\n",
              "      <th>compound</th>\n",
              "      <td>-0.001108</td>\n",
              "      <td>-0.003071</td>\n",
              "      <td>0.003693</td>\n",
              "      <td>1.000000</td>\n",
              "      <td>-0.022604</td>\n",
              "      <td>-0.028941</td>\n",
              "      <td>0.003693</td>\n",
              "      <td>-0.006560</td>\n",
              "      <td>0.000249</td>\n",
              "    </tr>\n",
              "    <tr>\n",
              "      <th>user_statuses_count</th>\n",
              "      <td>0.015366</td>\n",
              "      <td>0.015991</td>\n",
              "      <td>0.116452</td>\n",
              "      <td>-0.022604</td>\n",
              "      <td>1.000000</td>\n",
              "      <td>0.326723</td>\n",
              "      <td>0.116452</td>\n",
              "      <td>0.105958</td>\n",
              "      <td>0.128835</td>\n",
              "    </tr>\n",
              "    <tr>\n",
              "      <th>user_favourites_count</th>\n",
              "      <td>0.007852</td>\n",
              "      <td>0.007261</td>\n",
              "      <td>0.000535</td>\n",
              "      <td>-0.028941</td>\n",
              "      <td>0.326723</td>\n",
              "      <td>1.000000</td>\n",
              "      <td>0.000535</td>\n",
              "      <td>0.100920</td>\n",
              "      <td>0.016049</td>\n",
              "    </tr>\n",
              "    <tr>\n",
              "      <th>user_followers_count</th>\n",
              "      <td>0.165683</td>\n",
              "      <td>0.090025</td>\n",
              "      <td>1.000000</td>\n",
              "      <td>0.003693</td>\n",
              "      <td>0.116452</td>\n",
              "      <td>0.000535</td>\n",
              "      <td>1.000000</td>\n",
              "      <td>0.032721</td>\n",
              "      <td>0.609057</td>\n",
              "    </tr>\n",
              "    <tr>\n",
              "      <th>user_friends_count</th>\n",
              "      <td>0.005575</td>\n",
              "      <td>0.007084</td>\n",
              "      <td>0.032721</td>\n",
              "      <td>-0.006560</td>\n",
              "      <td>0.105958</td>\n",
              "      <td>0.100920</td>\n",
              "      <td>0.032721</td>\n",
              "      <td>1.000000</td>\n",
              "      <td>0.048344</td>\n",
              "    </tr>\n",
              "    <tr>\n",
              "      <th>user_listed_count</th>\n",
              "      <td>0.051646</td>\n",
              "      <td>0.039251</td>\n",
              "      <td>0.609057</td>\n",
              "      <td>0.000249</td>\n",
              "      <td>0.128835</td>\n",
              "      <td>0.016049</td>\n",
              "      <td>0.609057</td>\n",
              "      <td>0.048344</td>\n",
              "      <td>1.000000</td>\n",
              "    </tr>\n",
              "  </tbody>\n",
              "</table>\n",
              "</div>"
            ],
            "text/plain": [
              "                       favorite_count  ...  user_listed_count\n",
              "favorite_count               1.000000  ...           0.051646\n",
              "retweet_count                0.908576  ...           0.039251\n",
              "user_followers_count         0.165683  ...           0.609057\n",
              "compound                    -0.001108  ...           0.000249\n",
              "user_statuses_count          0.015366  ...           0.128835\n",
              "user_favourites_count        0.007852  ...           0.016049\n",
              "user_followers_count         0.165683  ...           0.609057\n",
              "user_friends_count           0.005575  ...           0.048344\n",
              "user_listed_count            0.051646  ...           1.000000\n",
              "\n",
              "[9 rows x 9 columns]"
            ]
          },
          "metadata": {
            "tags": []
          },
          "execution_count": 92
        }
      ]
    },
    {
      "cell_type": "code",
      "metadata": {
        "id": "UDWk9JkiBfnT",
        "colab": {
          "base_uri": "https://localhost:8080/",
          "height": 297
        },
        "outputId": "24ffff05-16a5-4431-d7e1-88a2a4f50269"
      },
      "source": [
        "dfOriginals_Analyzed[['favorite_count','retweet_count','user_followers_count','compound','user_statuses_count','user_favourites_count','user_followers_count','user_friends_count','user_listed_count']].describe().apply(lambda s: s.apply('{0:.5f}'.format))"
      ],
      "execution_count": 93,
      "outputs": [
        {
          "output_type": "execute_result",
          "data": {
            "text/html": [
              "<div>\n",
              "<style scoped>\n",
              "    .dataframe tbody tr th:only-of-type {\n",
              "        vertical-align: middle;\n",
              "    }\n",
              "\n",
              "    .dataframe tbody tr th {\n",
              "        vertical-align: top;\n",
              "    }\n",
              "\n",
              "    .dataframe thead th {\n",
              "        text-align: right;\n",
              "    }\n",
              "</style>\n",
              "<table border=\"1\" class=\"dataframe\">\n",
              "  <thead>\n",
              "    <tr style=\"text-align: right;\">\n",
              "      <th></th>\n",
              "      <th>favorite_count</th>\n",
              "      <th>retweet_count</th>\n",
              "      <th>user_followers_count</th>\n",
              "      <th>compound</th>\n",
              "      <th>user_statuses_count</th>\n",
              "      <th>user_favourites_count</th>\n",
              "      <th>user_followers_count</th>\n",
              "      <th>user_friends_count</th>\n",
              "      <th>user_listed_count</th>\n",
              "    </tr>\n",
              "  </thead>\n",
              "  <tbody>\n",
              "    <tr>\n",
              "      <th>count</th>\n",
              "      <td>245389.00000</td>\n",
              "      <td>245389.00000</td>\n",
              "      <td>245389.00000</td>\n",
              "      <td>245389.00000</td>\n",
              "      <td>245389.00000</td>\n",
              "      <td>245389.00000</td>\n",
              "      <td>245389.00000</td>\n",
              "      <td>245389.00000</td>\n",
              "      <td>245389.00000</td>\n",
              "    </tr>\n",
              "    <tr>\n",
              "      <th>mean</th>\n",
              "      <td>9.52971</td>\n",
              "      <td>2.70475</td>\n",
              "      <td>9251.20519</td>\n",
              "      <td>-0.01655</td>\n",
              "      <td>27468.30799</td>\n",
              "      <td>18028.51423</td>\n",
              "      <td>9251.20519</td>\n",
              "      <td>1284.43071</td>\n",
              "      <td>34.64758</td>\n",
              "    </tr>\n",
              "    <tr>\n",
              "      <th>std</th>\n",
              "      <td>384.21091</td>\n",
              "      <td>122.27732</td>\n",
              "      <td>250678.23602</td>\n",
              "      <td>0.47919</td>\n",
              "      <td>75560.36124</td>\n",
              "      <td>39592.12977</td>\n",
              "      <td>250678.23602</td>\n",
              "      <td>10409.72569</td>\n",
              "      <td>680.04372</td>\n",
              "    </tr>\n",
              "    <tr>\n",
              "      <th>min</th>\n",
              "      <td>0.00000</td>\n",
              "      <td>0.00000</td>\n",
              "      <td>0.00000</td>\n",
              "      <td>-0.99520</td>\n",
              "      <td>1.00000</td>\n",
              "      <td>0.00000</td>\n",
              "      <td>0.00000</td>\n",
              "      <td>0.00000</td>\n",
              "      <td>0.00000</td>\n",
              "    </tr>\n",
              "    <tr>\n",
              "      <th>25%</th>\n",
              "      <td>0.00000</td>\n",
              "      <td>0.00000</td>\n",
              "      <td>64.00000</td>\n",
              "      <td>-0.39760</td>\n",
              "      <td>1156.00000</td>\n",
              "      <td>510.00000</td>\n",
              "      <td>64.00000</td>\n",
              "      <td>135.00000</td>\n",
              "      <td>0.00000</td>\n",
              "    </tr>\n",
              "    <tr>\n",
              "      <th>50%</th>\n",
              "      <td>0.00000</td>\n",
              "      <td>0.00000</td>\n",
              "      <td>331.00000</td>\n",
              "      <td>0.00000</td>\n",
              "      <td>6344.00000</td>\n",
              "      <td>4200.00000</td>\n",
              "      <td>331.00000</td>\n",
              "      <td>399.00000</td>\n",
              "      <td>1.00000</td>\n",
              "    </tr>\n",
              "    <tr>\n",
              "      <th>75%</th>\n",
              "      <td>1.00000</td>\n",
              "      <td>0.00000</td>\n",
              "      <td>1307.00000</td>\n",
              "      <td>0.36120</td>\n",
              "      <td>24616.00000</td>\n",
              "      <td>17807.00000</td>\n",
              "      <td>1307.00000</td>\n",
              "      <td>1038.00000</td>\n",
              "      <td>6.00000</td>\n",
              "    </tr>\n",
              "    <tr>\n",
              "      <th>max</th>\n",
              "      <td>108137.00000</td>\n",
              "      <td>35137.00000</td>\n",
              "      <td>62855265.00000</td>\n",
              "      <td>0.99190</td>\n",
              "      <td>4472178.00000</td>\n",
              "      <td>1254400.00000</td>\n",
              "      <td>62855265.00000</td>\n",
              "      <td>4322723.00000</td>\n",
              "      <td>202433.00000</td>\n",
              "    </tr>\n",
              "  </tbody>\n",
              "</table>\n",
              "</div>"
            ],
            "text/plain": [
              "      favorite_count retweet_count  ... user_friends_count user_listed_count\n",
              "count   245389.00000  245389.00000  ...       245389.00000      245389.00000\n",
              "mean         9.52971       2.70475  ...         1284.43071          34.64758\n",
              "std        384.21091     122.27732  ...        10409.72569         680.04372\n",
              "min          0.00000       0.00000  ...            0.00000           0.00000\n",
              "25%          0.00000       0.00000  ...          135.00000           0.00000\n",
              "50%          0.00000       0.00000  ...          399.00000           1.00000\n",
              "75%          1.00000       0.00000  ...         1038.00000           6.00000\n",
              "max     108137.00000   35137.00000  ...      4322723.00000      202433.00000\n",
              "\n",
              "[8 rows x 9 columns]"
            ]
          },
          "metadata": {
            "tags": []
          },
          "execution_count": 93
        }
      ]
    },
    {
      "cell_type": "markdown",
      "metadata": {
        "id": "MQkgLWhJtnwS"
      },
      "source": [
        "Plot Distribution of sentiment scores"
      ]
    },
    {
      "cell_type": "markdown",
      "metadata": {
        "id": "JWvyTRxxHfWt"
      },
      "source": [
        "The histogram shows the distribution appears to have some modes, and rather symmetric."
      ]
    },
    {
      "cell_type": "code",
      "metadata": {
        "id": "9H9QeJvhtYMH",
        "colab": {
          "base_uri": "https://localhost:8080/",
          "height": 483
        },
        "outputId": "bf5a5e51-dcf1-4025-8ce0-701fc028e5e0"
      },
      "source": [
        "import matplotlib.pyplot as plt\n",
        "import seaborn as sns\n",
        "\n",
        "plt.figure(figsize=(8,8)) \n",
        "histo_plot = plt.hist(dfOriginals_Analyzed['compound'],bins=40)\n"
      ],
      "execution_count": 94,
      "outputs": [
        {
          "output_type": "display_data",
          "data": {
            "image/png": "[encoded data removed]",
            "text/plain": [
              "<Figure size 576x576 with 1 Axes>"
            ]
          },
          "metadata": {
            "tags": [],
            "needs_background": "light"
          }
        }
      ]
    },
    {
      "cell_type": "code",
      "metadata": {
        "id": "mjN93_Rzr90m",
        "colab": {
          "base_uri": "https://localhost:8080/",
          "height": 483
        },
        "outputId": "bc0934e8-296c-41fc-8908-888f9236a848"
      },
      "source": [
        "plt.figure(figsize=(8,8)) \n",
        "histo_plot2 = plt.hist(dfOriginals_Analyzed['compound'],bins=20)\n"
      ],
      "execution_count": 95,
      "outputs": [
        {
          "output_type": "display_data",
          "data": {
            "image/png": "[encoded data removed]",
            "text/plain": [
              "<Figure size 576x576 with 1 Axes>"
            ]
          },
          "metadata": {
            "tags": [],
            "needs_background": "light"
          }
        }
      ]
    },
    {
      "cell_type": "code",
      "metadata": {
        "colab": {
          "base_uri": "https://localhost:8080/",
          "height": 333
        },
        "id": "D2b8aARwSFd_",
        "outputId": "d54516c7-fbd3-4065-9d1e-ec621ba9eb52"
      },
      "source": [
        "# Plot pie chart\n",
        "# \n",
        "\n",
        "fig1, ax1 = plt.subplots()\n",
        "ax1.pie(dfOriginals_Analyzed.sentiment_class_relaxed.value_counts().values, labels=dfOriginals_Analyzed.sentiment_class_relaxed.value_counts().index.rename_categories(['Negative','Neutral','Positive']), autopct='%1.1f%%', shadow=True, startangle=90)\n",
        "ax1.title.set_text(\"Percentage of Sentiment Levels in Tweets\")\n",
        "ax1.axis('equal')"
      ],
      "execution_count": 96,
      "outputs": [
        {
          "output_type": "execute_result",
          "data": {
            "text/plain": [
              "(-1.1182944691568912,\n",
              " 1.1129382929025038,\n",
              " -1.1162563432183583,\n",
              " 1.1007741115818266)"
            ]
          },
          "metadata": {
            "tags": []
          },
          "execution_count": 96
        },
        {
          "output_type": "display_data",
          "data": {
            "image/png": "[encoded data removed]",
            "text/plain": [
              "<Figure size 432x288 with 1 Axes>"
            ]
          },
          "metadata": {
            "tags": []
          }
        }
      ]
    },
    {
      "cell_type": "markdown",
      "metadata": {
        "id": "FmFrATvf_2GW"
      },
      "source": [
        "# Step 8. Build Prediction Model for \"Favourite Count\" with Linear Regression\n",
        "\n",
        "## Split Train and Test set"
      ]
    },
    {
      "cell_type": "code",
      "metadata": {
        "id": "dnvWBGoU_9Nh",
        "colab": {
          "base_uri": "https://localhost:8080/"
        },
        "outputId": "71c3765b-fe31-4927-f598-96364f977af7"
      },
      "source": [
        "from sklearn import preprocessing\n",
        "from sklearn import linear_model\n",
        "\n",
        "\n",
        "\n",
        "independent_variables = ['retweet_count','user_followers_count','compound','user_statuses_count','user_favourites_count','user_friends_count','user_listed_count']\n",
        "dependent_variables = 'favorite_count'\n",
        "\n",
        "\n",
        "trainSet=dfOriginals_Analyzed.sample(frac=0.8,random_state=150)\n",
        "testSet=dfOriginals_Analyzed.drop(trainSet.index)\n",
        "\n",
        "X_train = trainSet[independent_variables]\n",
        "Y_train = trainSet[dependent_variables]\n",
        "X_test = testSet[independent_variables]\n",
        "Y_test = testSet[dependent_variables]\n",
        "reg = linear_model.LinearRegression()\n",
        "\n",
        "reg.fit(X_train,Y_train)\n",
        "\n",
        "print(\"Coefficients of the features in the model: \" + ', '.join(independent_variables))\n",
        "print(reg.coef_)\n",
        "print(\"R-score for the training set: \" + str(reg.score(X_train,Y_train)))\n",
        "print(\"intercept of the regression model: \" + str(reg.intercept_))\n"
      ],
      "execution_count": 229,
      "outputs": [
        {
          "output_type": "stream",
          "text": [
            "Coefficients of the features in the model: retweet_count, user_followers_count, compound, user_statuses_count, user_favourites_count, user_friends_count, user_listed_count\n",
            "[ 2.53671317e+00  2.11072957e-04  1.01637608e+00 -3.78429955e-05\n",
            "  5.74939172e-05 -5.59458026e-05 -3.45590885e-02]\n",
            "R-score for the training set: 0.7998590370741462\n",
            "intercept of the regression model: 1.9466913989873138\n"
          ],
          "name": "stdout"
        }
      ]
    },
    {
      "cell_type": "markdown",
      "metadata": {
        "id": "KemJJsl8dAfJ"
      },
      "source": [
        "Since this is a regression model with continous values, we use Mean Square Error (MSE), Root MSE, and R-square metrics to measure the performance of the model. \n",
        "\n",
        "reference: https://stackoverflow.com/questions/49103139/calculating-accuracy-scores-of-predicted-continuous-values"
      ]
    },
    {
      "cell_type": "code",
      "metadata": {
        "id": "59twK3DodAfJ",
        "colab": {
          "base_uri": "https://localhost:8080/"
        },
        "outputId": "8cac57fb-27b9-4b0f-8bc3-bd838f487842"
      },
      "source": [
        "from sklearn.metrics import mean_squared_error\n",
        "from sklearn.metrics import r2_score\n",
        "from sklearn.metrics import mean_absolute_error\n",
        "\n",
        "from math import sqrt\n",
        "\n",
        "# Run prediction; Concating results onto a single dataframe; rounding prediction numbers as integer.\n",
        "plot_1_Y = reg.predict(X_test) # predicted as Y\n",
        "plot_1_X = Y_test.reset_index()  # actual as X\n",
        "df_plot_1 = pd.concat([plot_1_X,pd.DataFrame(plot_1_Y)],axis=1)\n",
        "df_plot_1.columns = ['index','actual', 'predicted']\n",
        "df_plot_1.predicted = round(df_plot_1.predicted,0).astype(int)\n",
        "\n",
        "mse = mean_squared_error(df_plot_1.actual, df_plot_1.predicted)\n",
        "mae = mean_absolute_error(df_plot_1.actual, df_plot_1.predicted)\n",
        "r2 = r2_score(df_plot_1.actual, df_plot_1.predicted)\n",
        "adj_r2 = 1-(1-r2)*(len(df_plot_1.actual)-1)/(len(df_plot_1.actual)-len(independent_variables)-1)\n",
        "print(\"\\nMetrics\\n============================================\")\n",
        "print(f\"Mean Square Error (MSE): {mse:4f}\")\n",
        "print(f\"Root MSE:\\t\\t {sqrt(mse):4f}\")\n",
        "print(f\"Mean Absolute Error:\\t {mae:4f}\")\n",
        "print(f\"R-Square:\\t\\t {r2:4f}\")\n",
        "print(f\"Adjusted R-Square:\\t {adj_r2:4f}\")\n",
        "\n"
      ],
      "execution_count": 230,
      "outputs": [
        {
          "output_type": "stream",
          "text": [
            "\n",
            "Metrics\n",
            "============================================\n",
            "Mean Square Error (MSE): 33404.189046\n",
            "Root MSE:\t\t 182.768129\n",
            "Mean Absolute Error:\t 7.281756\n",
            "R-Square:\t\t 0.873217\n",
            "Adjusted R-Square:\t 0.873199\n"
          ],
          "name": "stdout"
        }
      ]
    },
    {
      "cell_type": "markdown",
      "metadata": {
        "id": "i0q56zAtdAfL"
      },
      "source": [
        "Scatterplot to visually observe how well the model's prediction vs actual value."
      ]
    },
    {
      "cell_type": "code",
      "metadata": {
        "id": "PHtyiLQjdAfL",
        "colab": {
          "base_uri": "https://localhost:8080/",
          "height": 911
        },
        "outputId": "c1326661-8758-48b8-a972-de7b8eeb3f24"
      },
      "source": [
        "from numpy.polynomial.polynomial import polyfit\n",
        "\n",
        "plot_1 = df_plot_1.plot.scatter(x='actual',y='predicted',figsize=(30,15),title=\"Predicted values versus Actual values\")\n",
        "plot_1.set_ylabel(\"Predicted values (\" + dependent_variables + \")\")\n",
        "plot_1.set_xlabel(\"Actual values (\" + dependent_variables + \")\")\n",
        "\n",
        "b, m = polyfit(df_plot_1.actual, df_plot_1.predicted, 1)\n",
        "plot_1.plot(df_plot_1.actual, b + m * df_plot_1.actual, '-')\n",
        "\n"
      ],
      "execution_count": 231,
      "outputs": [
        {
          "output_type": "execute_result",
          "data": {
            "text/plain": [
              "[<matplotlib.lines.Line2D at 0x7f9ee3089080>]"
            ]
          },
          "metadata": {
            "tags": []
          },
          "execution_count": 231
        },
        {
          "output_type": "display_data",
          "data": {
            "image/png": "[encoded data removed]",
            "text/plain": [
              "<Figure size 2160x1080 with 1 Axes>"
            ]
          },
          "metadata": {
            "tags": [],
            "needs_background": "light"
          }
        }
      ]
    },
    {
      "cell_type": "markdown",
      "metadata": {
        "id": "edY2xn5XdAfM"
      },
      "source": [
        "Since our outliers are distorting the scatterplot visually, we will limit the observation to 2-sigma (95%)."
      ]
    },
    {
      "cell_type": "code",
      "metadata": {
        "id": "Z_NU1pzpdAfM",
        "colab": {
          "base_uri": "https://localhost:8080/",
          "height": 911
        },
        "outputId": "2b82c020-5d0c-4468-cfa6-bd63d8b2d7fa"
      },
      "source": [
        "df_plot_2 = df_plot_1[df_plot_1.predicted.between(df_plot_1.predicted.quantile(0.025), df_plot_1.predicted.quantile(0.975))]\n",
        "plot_2 = df_plot_2.plot.scatter(x='actual',y='predicted',figsize=(30,15),title=\"Dependent Variable: \" + dependent_variables + \"; Predicted versus Actual (2.5-sigma)\")\n",
        "plot_2.set_ylabel(\"Predicted values (\" + dependent_variables + \")\")\n",
        "plot_2.set_xlabel(\"Actual values (\" + dependent_variables + \")\")\n",
        "# plt.ylim([0,800])\n",
        "# plt.xlim([0,1500])\n",
        "\n",
        "b, m = polyfit(df_plot_2.actual, df_plot_2.predicted, 1)\n",
        "plot_2.plot(df_plot_2.actual, b + m * df_plot_2.actual, '-')"
      ],
      "execution_count": 232,
      "outputs": [
        {
          "output_type": "execute_result",
          "data": {
            "text/plain": [
              "[<matplotlib.lines.Line2D at 0x7f9ee32c4ef0>]"
            ]
          },
          "metadata": {
            "tags": []
          },
          "execution_count": 232
        },
        {
          "output_type": "display_data",
          "data": {
            "image/png": "[encoded data removed]",
            "text/plain": [
              "<Figure size 2160x1080 with 1 Axes>"
            ]
          },
          "metadata": {
            "tags": [],
            "needs_background": "light"
          }
        }
      ]
    },
    {
      "cell_type": "markdown",
      "metadata": {
        "id": "2a62ZTRmdeX-"
      },
      "source": [
        "# Step 9. Build Prediction Model for \"Retweet Count\" with Linear Regression\n",
        "\n",
        "## Split Train and Test set"
      ]
    },
    {
      "cell_type": "code",
      "metadata": {
        "id": "CBsRkjJ4deX-",
        "colab": {
          "base_uri": "https://localhost:8080/"
        },
        "outputId": "3d78a91d-3cfe-4879-8f3e-7b2b2a23eb10"
      },
      "source": [
        "from sklearn import preprocessing\n",
        "from sklearn import linear_model\n",
        "\n",
        "\n",
        "# independent_variables = ['retweet_count','user_followers_count','compound','user_statuses_count','user_verified']\n",
        "# dependent_variables = 'favorite_count'\n",
        "\n",
        "# independent_variables = ['favorite_count','user_followers_count','compound','user_statuses_count','user_verified']\n",
        "independent_variables = ['favorite_count','user_followers_count','compound','user_statuses_count','user_favourites_count','user_friends_count','user_listed_count']\n",
        "dependent_variables = 'retweet_count'\n",
        "\n",
        "trainSet=dfOriginals_Analyzed.sample(frac=0.8,random_state=150)\n",
        "testSet=dfOriginals_Analyzed.drop(trainSet.index)\n",
        "\n",
        "X_train = trainSet[independent_variables]\n",
        "Y_train = trainSet[dependent_variables]\n",
        "X_test = testSet[independent_variables]\n",
        "Y_test = testSet[dependent_variables]\n",
        "reg = linear_model.LinearRegression()\n",
        "\n",
        "reg.fit(X_train,Y_train)\n",
        "\n",
        "print(\"Coefficients: \" + ', '.join(independent_variables))\n",
        "print(reg.coef_)\n",
        "print(\"R-score for the training set: \" + str(reg.score(X_train,Y_train)))\n",
        "print(\"intercept of the regression model: \" + str(reg.intercept_))\n",
        "\n",
        "from sklearn.metrics import mean_squared_error\n",
        "from sklearn.metrics import r2_score\n",
        "\n",
        "from math import sqrt\n",
        "\n",
        "# Run prediction; Concating results onto a single dataframe; rounding prediction numbers as integer.\n",
        "plot_1_Y = reg.predict(X_test) # predicted as Y\n",
        "plot_1_X = Y_test.reset_index()  # actual as X\n",
        "df_plot_1 = pd.concat([plot_1_X,pd.DataFrame(plot_1_Y)],axis=1)\n",
        "df_plot_1.columns = ['index','actual', 'predicted']\n",
        "df_plot_1.predicted = round(df_plot_1.predicted,0).astype(int)\n",
        "\n",
        "# mse = mean_squared_error(df_plot_1.actual, df_plot_1.predicted)\n",
        "# print(\"Mean Square Error (MSE): \" + str(mse))\n",
        "# print(\"Root MSE: \" + str(sqrt(mse)))\n",
        "# print(\"R-Square: \" + str(r2_score(df_plot_1.actual, df_plot_1.predicted)))\n",
        "\n",
        "mse = mean_squared_error(df_plot_1.actual, df_plot_1.predicted)\n",
        "mae = mean_absolute_error(df_plot_1.actual, df_plot_1.predicted)\n",
        "r2 = r2_score(df_plot_1.actual, df_plot_1.predicted)\n",
        "adj_r2 = 1-(1-r2)*(len(df_plot_1.actual)-1)/(len(df_plot_1.actual)-len(independent_variables)-1)\n",
        "print(\"\\nMetrics\\n============================================\")\n",
        "print(f\"Mean Square Error (MSE): {mse:4f}\")\n",
        "print(f\"Root MSE:\\t\\t {sqrt(mse):4f}\")\n",
        "print(f\"Mean Absolute Error:\\t {mae:4f}\")\n",
        "print(f\"R-Square:\\t\\t {r2:4f}\")\n",
        "print(f\"Adjusted R-Square:\\t {adj_r2:4f}\")\n"
      ],
      "execution_count": 227,
      "outputs": [
        {
          "output_type": "stream",
          "text": [
            "Coefficients: favorite_count, user_followers_count, compound, user_statuses_count, user_favourites_count, user_friends_count, user_listed_count\n",
            "[ 3.11235360e-01 -5.45113705e-05 -4.49341154e-01  1.31140200e-05\n",
            " -1.42531031e-05  2.52704569e-05  9.86068817e-03]\n",
            "R-score for the training set: 0.7918817593018982\n",
            "intercept of the regression model: -0.22477642853551627\n",
            "\n",
            "Metrics\n",
            "============================================\n",
            "Mean Square Error (MSE): 1234.588084\n",
            "Root MSE:\t\t 35.136706\n",
            "Mean Absolute Error:\t 1.967480\n",
            "R-Square:\t\t 0.934187\n",
            "Adjusted R-Square:\t 0.934178\n"
          ],
          "name": "stdout"
        }
      ]
    },
    {
      "cell_type": "code",
      "metadata": {
        "colab": {
          "base_uri": "https://localhost:8080/"
        },
        "id": "dP-NP2keXN9F",
        "outputId": "a74f54ba-69cc-4db9-a6aa-6f831f8bbe0a"
      },
      "source": [
        "type(independent_variables)\n",
        "coefficient_list = (list(zip(reg.coef_, independent_variables)))\n",
        "for el in coefficient_list:\n",
        "  print('{}\\t\\t\\t{}'.format(*el))\n",
        "# print(\"\\n\".join('{}\\t{}'.format(el) for el in coefficient_list))\n"
      ],
      "execution_count": 222,
      "outputs": [
        {
          "output_type": "stream",
          "text": [
            "0.31123535955149645\t\t\tfavorite_count\n",
            "-5.451137053005906e-05\t\t\tuser_followers_count\n",
            "-0.4493411537915842\t\t\tcompound\n",
            "1.3114020026653957e-05\t\t\tuser_statuses_count\n",
            "-1.425310311562202e-05\t\t\tuser_favourites_count\n",
            "2.527045685125415e-05\t\t\tuser_friends_count\n",
            "0.009860688166209995\t\t\tuser_listed_count\n"
          ],
          "name": "stdout"
        }
      ]
    },
    {
      "cell_type": "markdown",
      "metadata": {
        "id": "bpXP7aPbdeYA"
      },
      "source": [
        "Scatterplot of Predicted value vs Actual Value."
      ]
    },
    {
      "cell_type": "code",
      "metadata": {
        "id": "V0iw8LfZdeYA",
        "colab": {
          "base_uri": "https://localhost:8080/",
          "height": 911
        },
        "outputId": "74f896de-0905-4b0e-c75f-4bb1c57bc70d"
      },
      "source": [
        "from numpy.polynomial.polynomial import polyfit\n",
        "\n",
        "plot_1 = df_plot_1.plot.scatter(x='actual',y='predicted',figsize=(30,15),title=\"Predicted values versus Actual values\")\n",
        "plot_1.set_ylabel(\"Predicted values (\" + dependent_variables + \")\")\n",
        "plot_1.set_xlabel(\"Actual values (\" + dependent_variables + \")\")\n",
        "\n",
        "b, m = polyfit(df_plot_1.actual, df_plot_1.predicted, 1)\n",
        "plot_1.plot(df_plot_1.actual, b + m * df_plot_1.actual, '-')\n",
        "\n"
      ],
      "execution_count": 223,
      "outputs": [
        {
          "output_type": "execute_result",
          "data": {
            "text/plain": [
              "[<matplotlib.lines.Line2D at 0x7f9ee322c208>]"
            ]
          },
          "metadata": {
            "tags": []
          },
          "execution_count": 223
        },
        {
          "output_type": "display_data",
          "data": {
            "image/png": "[encoded data removed]",
            "text/plain": [
              "<Figure size 2160x1080 with 1 Axes>"
            ]
          },
          "metadata": {
            "tags": [],
            "needs_background": "light"
          }
        }
      ]
    },
    {
      "cell_type": "code",
      "metadata": {
        "id": "OfZsxj0-deYA",
        "colab": {
          "base_uri": "https://localhost:8080/",
          "height": 911
        },
        "outputId": "0915e6c3-8f20-43f5-f421-1388f32b3695"
      },
      "source": [
        "# Scatterplot covering 2.5-sigma.\n",
        "df_plot_2 = df_plot_1[df_plot_1.predicted.between(df_plot_1.predicted.quantile(.0031), df_plot_1.predicted.quantile(0.9969))]\n",
        "plot_2 = df_plot_2.plot.scatter(x='actual',y='predicted',figsize=(30,15),title=\"Dependent Variable: \" + dependent_variables + \"; Predicted versus Actual (2.5-sigma)\")\n",
        "plot_2.set_ylabel(\"Predicted values (\" + dependent_variables + \")\")\n",
        "plot_2.set_xlabel(\"Actual values (\" + dependent_variables + \")\")\n",
        "\n",
        "b, m = polyfit(df_plot_2.actual, df_plot_2.predicted, 1)\n",
        "plot_2.plot(df_plot_2.actual, b + m * df_plot_2.actual, '-')"
      ],
      "execution_count": 224,
      "outputs": [
        {
          "output_type": "execute_result",
          "data": {
            "text/plain": [
              "[<matplotlib.lines.Line2D at 0x7f9ee3369dd8>]"
            ]
          },
          "metadata": {
            "tags": []
          },
          "execution_count": 224
        },
        {
          "output_type": "display_data",
          "data": {
            "image/png": "[encoded data removed]",
            "text/plain": [
              "<Figure size 2160x1080 with 1 Axes>"
            ]
          },
          "metadata": {
            "tags": [],
            "needs_background": "light"
          }
        }
      ]
    },
    {
      "cell_type": "markdown",
      "metadata": {
        "id": "XszGlak5RR4E"
      },
      "source": [
        "# Step 10: Linear Regression with K-fold\n",
        "\n",
        "Since the metrics we got from the previous regression consist of only one sampling, we should implement the same regression model using K-fold cross-validation in order to get more accurate metrics."
      ]
    },
    {
      "cell_type": "code",
      "metadata": {
        "id": "i2s44LZO_Yvp",
        "colab": {
          "base_uri": "https://localhost:8080/"
        },
        "outputId": "d65ac7c6-0886-4f83-99a6-c8f66089d648"
      },
      "source": [
        "# K-fold - favourite count as dependent\n",
        "#\n",
        "# References:\n",
        "# https://stackoverflow.com/questions/45115964/separate-pandas-dataframe-using-sklearns-kfold\n",
        "# https://stackoverflow.com/questions/57398411/next-always-gives-the-same-index-with-a-kfold-generator\n",
        "# https://machinelearningmastery.com/k-fold-cross-validation/\n",
        "# https://machinelearningmastery.com/robust-regression-for-machine-learning-in-python/\n",
        "from sklearn.model_selection import KFold\n",
        "\n",
        "independent_variables = ['retweet_count','user_followers_count','compound','user_statuses_count','user_favourites_count','user_friends_count','user_listed_count']\n",
        "dependent_variables = 'favorite_count'\n",
        "# independent_variables = ['favorite_count','user_followers_count','compound','user_statuses_count','user_favourites_count','user_followers_count','user_friends_count','user_listed_count']\n",
        "# dependent_variables = 'retweet_count'\n",
        "\n",
        "kfold_n = 5\n",
        "kfold_mse_total, kfold_rmse_total, kfold_rsqr_total = 0, 0, 0;\n",
        "kf = KFold(n_splits = kfold_n, shuffle = True, random_state = 2)\n",
        "\n",
        "# Excluding outliers, only including within 3-sigma\n",
        "# dfKfold = dfOriginals_Analyzed[dfOriginals_Analyzed[dependent_variables].between(dfOriginals_Analyzed[dependent_variables].quantile(.0015), dfOriginals_Analyzed[dependent_variables].quantile(0.9985))]\n",
        "dfKfold = dfOriginals_Analyzed\n",
        "\n",
        "kf_result = kf.split(dfKfold)\n",
        "\n",
        "print(\"Dependent Variable: {}\".format(dependent_variables))\n",
        "print(\"Independent Variables: {}\".format(independent_variables))\n",
        "print(\"K-fold: {}\".format(kfold_n))\n",
        "print(\"Mean Square Error (MSE)\\t\\tRoot MSE\\t\\t\\tR-Square\\n=============================================================================================\")\n",
        "\n",
        "for train_idx, test_idx in kf_result:\n",
        "  # print(train_idx)\n",
        "  trainSet=dfKfold.iloc[train_idx]\n",
        "  testSet=dfKfold.iloc[test_idx]\n",
        "\n",
        "  X_train = trainSet[independent_variables]\n",
        "  Y_train = trainSet[dependent_variables]\n",
        "  X_test = testSet[independent_variables]\n",
        "  Y_test = testSet[dependent_variables]\n",
        "\n",
        "  reg = linear_model.LinearRegression()\n",
        "\n",
        "  reg.fit(X_train,Y_train)\n",
        "\n",
        "  y_test_pred = reg.predict(X_test) \n",
        "\n",
        "  mse = mean_squared_error(Y_test, y_test_pred)\n",
        "  rsqr = r2_score(Y_test, y_test_pred)\n",
        "  # print(\"Mean Square Error (MSE): \" + str(mse))\n",
        "  # print(\"Root MSE: \" + str(sqrt(mse)))\n",
        "  # print(\"R-Square: \" + )\n",
        "\n",
        "  print(\"{}\\t\\t{}\\t\\t{}\".format(str(mse), str(sqrt(mse)), str(rsqr)))\n",
        "\n",
        "  kfold_mse_total += mse\n",
        "  kfold_rmse_total += sqrt(mse)\n",
        "  kfold_rsqr_total += rsqr\n",
        "\n",
        "print(\"\\nAverage\\n=============================================================================================\")\n",
        "print(\"{}\\t\\t{}\\t\\t{}\".format(\n",
        "    str(kfold_mse_total / kfold_n) , \\\n",
        "    str(kfold_rmse_total / kfold_n) , \\\n",
        "    str(kfold_rsqr_total / kfold_n) \\\n",
        "    ))\n",
        "\n",
        "\n"
      ],
      "execution_count": 178,
      "outputs": [
        {
          "output_type": "stream",
          "text": [
            "Dependent Variable: favorite_count\n",
            "Independent Variables: ['retweet_count', 'user_followers_count', 'compound', 'user_statuses_count', 'user_favourites_count', 'user_friends_count', 'user_listed_count']\n",
            "K-fold: 5\n",
            "Mean Square Error (MSE)\t\tRoot MSE\t\t\tR-Square\n",
            "=============================================================================================\n",
            "31564.218170437452\t\t177.66321558059636\t\t0.8778246081673832\n",
            "10521.044828406117\t\t102.57214450525112\t\t0.7048723199591314\n",
            "130028.32915673508\t\t360.5944108783927\t\t0.3781302906838815\n",
            "10211.723621891868\t\t101.05307329266076\t\t0.7828323162685373\n",
            "13119.346895412113\t\t114.53971754554013\t\t0.9302006642072554\n",
            "\n",
            "Average\n",
            "=============================================================================================\n",
            "39088.932534576525\t\t171.28451236048824\t\t0.7347720398572377\n"
          ],
          "name": "stdout"
        }
      ]
    },
    {
      "cell_type": "code",
      "metadata": {
        "id": "prpg-in1mlk0",
        "colab": {
          "base_uri": "https://localhost:8080/"
        },
        "outputId": "af4f7afe-77bb-493e-9388-9f63c56ffaee"
      },
      "source": [
        "# K-fold Retweet as independent\n",
        "#\n",
        "\n",
        "from sklearn.model_selection import KFold\n",
        "\n",
        "# independent_variables = ['retweet_count','user_followers_count','compound','user_statuses_count','user_favourites_count','user_followers_count','user_friends_count','user_listed_count']\n",
        "# dependent_variables = 'favorite_count'\n",
        "independent_variables = ['favorite_count','user_followers_count','compound','user_statuses_count','user_favourites_count','user_followers_count','user_friends_count','user_listed_count']\n",
        "dependent_variables = 'retweet_count'\n",
        "\n",
        "kfold_n = 5\n",
        "kfold_mse_total, kfold_rmse_total, kfold_rsqr_total = 0, 0, 0;\n",
        "kf = KFold(n_splits = kfold_n, shuffle = True, random_state = 2)\n",
        "\n",
        "# Excluding outliers, only including within 3-sigma\n",
        "# dfKfold = dfOriginals_Analyzed[dfOriginals_Analyzed[dependent_variables].between(dfOriginals_Analyzed[dependent_variables].quantile(.0015), dfOriginals_Analyzed[dependent_variables].quantile(0.9985))]\n",
        "dfKfold = dfOriginals_Analyzed\n",
        "\n",
        "kf_result = kf.split(dfKfold)\n",
        "\n",
        "print(\"Dependent Variable: {}\".format(dependent_variables))\n",
        "print(\"Independent Variables: {}\".format(independent_variables))\n",
        "print(\"K-fold: {}\".format(kfold_n))\n",
        "print(\"Mean Square Error (MSE)\\t\\tRoot MSE\\t\\t\\tR-Square\\n=============================================================================================\")\n",
        "\n",
        "for train_idx, test_idx in kf_result:\n",
        "  # print(train_idx)\n",
        "  trainSet=dfKfold.iloc[train_idx]\n",
        "  testSet=dfKfold.iloc[test_idx]\n",
        "\n",
        "  X_train = trainSet[independent_variables]\n",
        "  Y_train = trainSet[dependent_variables]\n",
        "  X_test = testSet[independent_variables]\n",
        "  Y_test = testSet[dependent_variables]\n",
        "\n",
        "  reg = linear_model.LinearRegression()\n",
        "\n",
        "  reg.fit(X_train,Y_train)\n",
        "\n",
        "  y_test_pred = reg.predict(X_test) \n",
        "\n",
        "  mse = mean_squared_error(Y_test, y_test_pred)\n",
        "  rsqr = r2_score(Y_test, y_test_pred)\n",
        "  # print(\"Mean Square Error (MSE): \" + str(mse))\n",
        "  # print(\"Root MSE: \" + str(sqrt(mse)))\n",
        "  # print(\"R-Square: \" + )\n",
        "\n",
        "  print(\"{}\\t\\t{}\\t\\t{}\".format(str(mse), str(sqrt(mse)), str(rsqr)))\n",
        "\n",
        "  kfold_mse_total += mse\n",
        "  kfold_rmse_total += sqrt(mse)\n",
        "  kfold_rsqr_total += rsqr\n",
        "\n",
        "print(\"\\nAverage\\n=============================================================================================\")\n",
        "print(\"{}\\t\\t{}\\t\\t{}\".format(\n",
        "    str(kfold_mse_total / kfold_n) , \\\n",
        "    str(kfold_rmse_total / kfold_n) , \\\n",
        "    str(kfold_rsqr_total / kfold_n) \\\n",
        "    ))\n",
        "\n",
        "\n"
      ],
      "execution_count": 179,
      "outputs": [
        {
          "output_type": "stream",
          "text": [
            "Dependent Variable: retweet_count\n",
            "Independent Variables: ['favorite_count', 'user_followers_count', 'compound', 'user_statuses_count', 'user_favourites_count', 'user_followers_count', 'user_friends_count', 'user_listed_count']\n",
            "K-fold: 5\n",
            "Mean Square Error (MSE)\t\tRoot MSE\t\t\tR-Square\n",
            "=============================================================================================\n",
            "1000.9845872116636\t\t31.638340462351426\t\t0.9455950041720176\n",
            "798.1113842383231\t\t28.250865194509053\t\t0.6053632599185065\n",
            "10974.758803865681\t\t104.76048302611859\t\t0.6853190833192548\n",
            "726.6329948665574\t\t26.95613093280557\t\t0.7512550861124329\n",
            "668.976723248869\t\t25.86458434324567\t\t0.9595497944916513\n",
            "\n",
            "Average\n",
            "=============================================================================================\n",
            "2833.8928986862184\t\t43.49408079180606\t\t0.7894164456027726\n"
          ],
          "name": "stdout"
        }
      ]
    },
    {
      "cell_type": "markdown",
      "metadata": {
        "id": "QInUdIQcRUo8"
      },
      "source": [
        "# Step 11: Polynomial Regression\n",
        "\n",
        "Here we attempt to fit our model onto a non-linear regression model--Polynomial regression model to see whether we are able to build a better fit of the model than linear regression."
      ]
    },
    {
      "cell_type": "code",
      "metadata": {
        "id": "K5Vem4pinoBu",
        "colab": {
          "base_uri": "https://localhost:8080/",
          "height": 0
        },
        "outputId": "9b04ef2b-3de0-4611-bd64-f6d5ced67809"
      },
      "source": [
        "# POLYNOMIAL REGRESSION #1 favorite_count\n",
        "#\n",
        "#\n",
        "# Reference\n",
        "# https://www.kaggle.com/jnikhilsai/cross-validation-with-linear-regression\n",
        "\n",
        "import numpy as np\n",
        "from sklearn.pipeline import make_pipeline\n",
        "from sklearn.preprocessing import PolynomialFeatures\n",
        "\n",
        "independent_variables = ['retweet_count','user_followers_count','compound','user_statuses_count','user_verified']\n",
        "dependent_variables = 'favorite_count'\n",
        "# independent_variables = ['favorite_count','user_followers_count','compound','user_statuses_count','user_verified']\n",
        "# dependent_variables = 'retweet_count'\n",
        "degrees = [1, 2, 3, 6]\n",
        "\n",
        "# excluding Outliners\n",
        "# dfPoly = dfOriginals_Analyzed[dfOriginals_Analyzed[dependent_variables].between(dfOriginals_Analyzed[dependent_variables].quantile(.0015), dfOriginals_Analyzed[dependent_variables].quantile(0.9985))]\n",
        "dfPoly = dfOriginals_Analyzed\n",
        "\n",
        "trainSet=dfPoly.sample(frac=0.8,random_state=200)\n",
        "testSet=dfPoly.drop(trainSet.index)\n",
        "\n",
        "\n",
        "X_train = trainSet[independent_variables]\n",
        "Y_train = trainSet[dependent_variables]\n",
        "X_test = testSet[independent_variables]\n",
        "Y_test = testSet[dependent_variables]\n",
        "\n",
        "# y_train_pred = np.zeros((len(X_train), len(degrees)))\n",
        "y_test_pred = np.zeros((len(X_test), len(degrees)))\n",
        "\n",
        "# calculate values for each degree\n",
        "for i, degree in enumerate(degrees):    \n",
        "    # make pipeline: create features, then feed them to linear_reg model\n",
        "    model = make_pipeline(PolynomialFeatures(degree), linear_model.LinearRegression())\n",
        "    model.fit(X_train, Y_train)\n",
        "    \n",
        "    # predict on test and train data\n",
        "    # store the predictions of each degree in the corresponding column\n",
        "    # y_train_pred[:, i] = model.predict(X_train)\n",
        "    y_test_pred[:, i] = model.predict(X_test)\n",
        "  \n",
        "# plot the graph\n",
        "plt.figure(figsize=(40, 10))\n",
        "plt.subplot(121)\n",
        "plt.xlabel(\"Actual\")\n",
        "plt.ylabel(\"Predicted\")\n",
        "plt.ylim([-1000,15000])\n",
        "plt.xlim([0,12500])\n",
        "for i, degree in enumerate(degrees):    \n",
        "    plt.scatter(Y_test, y_test_pred[:, i], label=str(degree))\n",
        "    plt.legend(loc='upper left')\n",
        "\n",
        "\n",
        "# print metrics\n",
        "print(\"R-squared values: \\n\")\n",
        "\n",
        "for i, degree in enumerate(degrees):\n",
        "    # train_r2 = round(sklearn.metrics.r2_score(y_train, y_train_pred[:, i]), 2)\n",
        "    test_r2 = round(r2_score(Y_test, y_test_pred[:, i]), 2)\n",
        "    print(\"Polynomial degree {0}: test score={1}\".format(degree, test_r2))"
      ],
      "execution_count": 180,
      "outputs": [
        {
          "output_type": "stream",
          "text": [
            "R-squared values: \n",
            "\n",
            "Polynomial degree 1: test score=0.87\n",
            "Polynomial degree 2: test score=0.72\n",
            "Polynomial degree 3: test score=-5.57\n",
            "Polynomial degree 6: test score=0.11\n"
          ],
          "name": "stdout"
        },
        {
          "output_type": "display_data",
          "data": {
            "image/png": "[encoded data removed]",
            "text/plain": [
              "<Figure size 2880x720 with 1 Axes>"
            ]
          },
          "metadata": {
            "tags": [],
            "needs_background": "light"
          }
        }
      ]
    },
    {
      "cell_type": "code",
      "metadata": {
        "id": "Dg1QmdTXotKS",
        "colab": {
          "base_uri": "https://localhost:8080/",
          "height": 0
        },
        "outputId": "6255524f-1d62-4307-cbd6-c9eab254fbb8"
      },
      "source": [
        "# POLYNOMIAL REGRESSION #2 retweet_count\n",
        "#\n",
        "\n",
        "\n",
        "import numpy as np\n",
        "from sklearn.pipeline import make_pipeline\n",
        "from sklearn.preprocessing import PolynomialFeatures\n",
        "\n",
        "# independent_variables = ['retweet_count','user_followers_count','compound','user_statuses_count','user_verified']\n",
        "# dependent_variables = 'favorite_count'\n",
        "independent_variables = ['favorite_count','user_followers_count','compound','user_statuses_count','user_verified']\n",
        "dependent_variables = 'retweet_count'\n",
        "degrees = [1, 2, 3, 6]\n",
        "\n",
        "# excluding Outliners\n",
        "# dfPoly = dfOriginals_Analyzed[dfOriginals_Analyzed[dependent_variables].between(dfOriginals_Analyzed[dependent_variables].quantile(.0015), dfOriginals_Analyzed[dependent_variables].quantile(0.9985))]\n",
        "dfPoly = dfOriginals_Analyzed\n",
        "\n",
        "trainSet=dfPoly.sample(frac=0.8,random_state=200)\n",
        "testSet=dfPoly.drop(trainSet.index)\n",
        "\n",
        "\n",
        "X_train = trainSet[independent_variables]\n",
        "Y_train = trainSet[dependent_variables]\n",
        "X_test = testSet[independent_variables]\n",
        "Y_test = testSet[dependent_variables]\n",
        "\n",
        "# y_train_pred = np.zeros((len(X_train), len(degrees)))\n",
        "y_test_pred = np.zeros((len(X_test), len(degrees)))\n",
        "\n",
        "# calculate values for each degree\n",
        "for i, degree in enumerate(degrees):    \n",
        "    # make pipeline: create features, then feed them to linear_reg model\n",
        "    model = make_pipeline(PolynomialFeatures(degree), linear_model.LinearRegression())\n",
        "    model.fit(X_train, Y_train)\n",
        "    \n",
        "    # predict on test and train data\n",
        "    # store the predictions of each degree in the corresponding column\n",
        "    # y_train_pred[:, i] = model.predict(X_train)\n",
        "    y_test_pred[:, i] = model.predict(X_test)\n",
        "  \n",
        "# plot the graph\n",
        "plt.figure(figsize=(40, 10))\n",
        "plt.subplot(121)\n",
        "plt.xlabel(\"Actual\")\n",
        "plt.ylabel(\"Predicted\")\n",
        "plt.ylim([-1000,15000])\n",
        "plt.xlim([0,12500])\n",
        "for i, degree in enumerate(degrees):    \n",
        "    plt.scatter(Y_test, y_test_pred[:, i], label=str(degree))\n",
        "    plt.legend(loc='upper left')\n",
        "\n",
        "\n",
        "# print metrics\n",
        "print(\"R-squared values: \\n\")\n",
        "\n",
        "for i, degree in enumerate(degrees):\n",
        "    # train_r2 = round(sklearn.metrics.r2_score(y_train, y_train_pred[:, i]), 2)\n",
        "    test_r2 = round(r2_score(Y_test, y_test_pred[:, i]), 2)\n",
        "    print(\"Polynomial degree {0}: test score={1}\".format(degree, test_r2))"
      ],
      "execution_count": 181,
      "outputs": [
        {
          "output_type": "stream",
          "text": [
            "R-squared values: \n",
            "\n",
            "Polynomial degree 1: test score=0.94\n",
            "Polynomial degree 2: test score=0.08\n",
            "Polynomial degree 3: test score=0.01\n",
            "Polynomial degree 6: test score=-422.7\n"
          ],
          "name": "stdout"
        },
        {
          "output_type": "display_data",
          "data": {
            "image/png": "[encoded data removed]",
            "text/plain": [
              "<Figure size 2880x720 with 1 Axes>"
            ]
          },
          "metadata": {
            "tags": [],
            "needs_background": "light"
          }
        }
      ]
    },
    {
      "cell_type": "code",
      "metadata": {
        "id": "K3xGlWDMMkor"
      },
      "source": [
        ""
      ],
      "execution_count": 181,
      "outputs": []
    },
    {
      "cell_type": "markdown",
      "metadata": {
        "id": "ZDHkWYpZRoQP"
      },
      "source": [
        "# Further Attempts\n",
        "\n",
        "- Groupby user_screen_name\n",
        "- calculate the mean sentiment score\n",
        "- see whether there are any correlation between number of followers and number of favourite tweets against the mean sentimental score (check SD)\n",
        "\n",
        "explain properly an understanding of why introducing new feature"
      ]
    },
    {
      "cell_type": "code",
      "metadata": {
        "id": "r5cQcimuQp1y",
        "colab": {
          "base_uri": "https://localhost:8080/",
          "height": 0
        },
        "outputId": "a17a4508-4cc3-4651-ea81-dec7cbba45a4"
      },
      "source": [
        "dfOriginals.groupby('user_screen_name').size().reset_index(name='counts').sort_values(by='counts', ascending=False)"
      ],
      "execution_count": 182,
      "outputs": [
        {
          "output_type": "execute_result",
          "data": {
            "text/html": [
              "<div>\n",
              "<style scoped>\n",
              "    .dataframe tbody tr th:only-of-type {\n",
              "        vertical-align: middle;\n",
              "    }\n",
              "\n",
              "    .dataframe tbody tr th {\n",
              "        vertical-align: top;\n",
              "    }\n",
              "\n",
              "    .dataframe thead th {\n",
              "        text-align: right;\n",
              "    }\n",
              "</style>\n",
              "<table border=\"1\" class=\"dataframe\">\n",
              "  <thead>\n",
              "    <tr style=\"text-align: right;\">\n",
              "      <th></th>\n",
              "      <th>user_screen_name</th>\n",
              "      <th>counts</th>\n",
              "    </tr>\n",
              "  </thead>\n",
              "  <tbody>\n",
              "    <tr>\n",
              "      <th>27508</th>\n",
              "      <td>ELister_social</td>\n",
              "      <td>666</td>\n",
              "    </tr>\n",
              "    <tr>\n",
              "      <th>79905</th>\n",
              "      <td>SattarSarki1</td>\n",
              "      <td>382</td>\n",
              "    </tr>\n",
              "    <tr>\n",
              "      <th>133777</th>\n",
              "      <td>iHeartFun1</td>\n",
              "      <td>185</td>\n",
              "    </tr>\n",
              "    <tr>\n",
              "      <th>27433</th>\n",
              "      <td>EG24NEWS</td>\n",
              "      <td>181</td>\n",
              "    </tr>\n",
              "    <tr>\n",
              "      <th>142347</th>\n",
              "      <td>kailashscienti1</td>\n",
              "      <td>179</td>\n",
              "    </tr>\n",
              "    <tr>\n",
              "      <th>...</th>\n",
              "      <td>...</td>\n",
              "      <td>...</td>\n",
              "    </tr>\n",
              "    <tr>\n",
              "      <th>68494</th>\n",
              "      <td>Patterico</td>\n",
              "      <td>1</td>\n",
              "    </tr>\n",
              "    <tr>\n",
              "      <th>68495</th>\n",
              "      <td>PattheOldBat</td>\n",
              "      <td>1</td>\n",
              "    </tr>\n",
              "    <tr>\n",
              "      <th>68496</th>\n",
              "      <td>PattiClifford10</td>\n",
              "      <td>1</td>\n",
              "    </tr>\n",
              "    <tr>\n",
              "      <th>68498</th>\n",
              "      <td>PattiMurin</td>\n",
              "      <td>1</td>\n",
              "    </tr>\n",
              "    <tr>\n",
              "      <th>191547</th>\n",
              "      <td>zzzzzzbjdbsh</td>\n",
              "      <td>1</td>\n",
              "    </tr>\n",
              "  </tbody>\n",
              "</table>\n",
              "<p>191548 rows × 2 columns</p>\n",
              "</div>"
            ],
            "text/plain": [
              "       user_screen_name  counts\n",
              "27508    ELister_social     666\n",
              "79905      SattarSarki1     382\n",
              "133777       iHeartFun1     185\n",
              "27433          EG24NEWS     181\n",
              "142347  kailashscienti1     179\n",
              "...                 ...     ...\n",
              "68494         Patterico       1\n",
              "68495      PattheOldBat       1\n",
              "68496   PattiClifford10       1\n",
              "68498        PattiMurin       1\n",
              "191547     zzzzzzbjdbsh       1\n",
              "\n",
              "[191548 rows x 2 columns]"
            ]
          },
          "metadata": {
            "tags": []
          },
          "execution_count": 182
        }
      ]
    },
    {
      "cell_type": "markdown",
      "metadata": {
        "id": "aMfVu_yW1m4o"
      },
      "source": [
        "## Notes from last meeting\n",
        "is final results due next monday\n",
        "\n",
        "[link text](https://)\n",
        "* is the level of detailness enough for the steps?\n",
        "* any metrics i still need?\n",
        "* is next week's due date include the presentation?\n",
        "* is there any specific dates to when the presentation will be.\n",
        "* updated plot, outlier\n",
        "* update graph to exclude\n",
        "* have linear model, but also run another non-linear model\n",
        "* set xlim and ylim\n",
        "* removing outlier using SD central tendencies (or visual 3 SD away)\n",
        "* - non linear regression\n",
        "* - scale x and y axis\n",
        "* polynomial regression models\n",
        "* word doc make reference "
      ]
    }
  ]
}