{
  "nbformat": 4,
  "nbformat_minor": 0,
  "metadata": {
    "kernelspec": {
      "display_name": "Python 3",
      "language": "python",
      "name": "python3"
    },
    "language_info": {
      "name": "python",
      "version": "3.7.6",
      "mimetype": "text/x-python",
      "codemirror_mode": {
        "name": "ipython",
        "version": 3
      },
      "pygments_lexer": "ipython3",
      "nbconvert_exporter": "python",
      "file_extension": ".py"
    },
    "colab": {
      "name": "AndyLee-NLP.ipynb",
      "provenance": [],
      "include_colab_link": true
    }
  },
  "cells": [
    {
      "cell_type": "markdown",
      "metadata": {
        "id": "view-in-github",
        "colab_type": "text"
      },
      "source": [
        "<a href=\"https://colab.research.google.com/github/danieljai/CIND820-AndyLee/blob/main/AndyLee_NLP.ipynb\" target=\"_parent\"><img src=\"https://colab.research.google.com/assets/colab-badge.svg\" alt=\"Open In Colab\"/></a>"
      ]
    },
    {
      "cell_type": "markdown",
      "metadata": {
        "id": "_uncPLiQYnn0"
      },
      "source": [
        "# Step 3: Preload setup\n",
        "\n",
        "Basic setup so results can utilize the full width of the screen."
      ]
    },
    {
      "cell_type": "code",
      "metadata": {
        "id": "7VJ3TVjfpoiz"
      },
      "source": [
        "%config IPCompleter.greedy=True\n",
        "import pandas as pd\n",
        "\n",
        "pd.set_option('display.max_colwidth', 200)\n",
        "pd.options.display.max_colwidth = 500\n",
        "pd.options.display.max_rows = 100"
      ],
      "execution_count": 1,
      "outputs": []
    },
    {
      "cell_type": "markdown",
      "metadata": {
        "id": "HbYv2dHQYl-W"
      },
      "source": [
        "# Step 4: Import Dataset\n",
        "\n",
        "The hydrated file is stored in a Google Drive, and using the follow code will mount Google Drive onto Colaboratory."
      ]
    },
    {
      "cell_type": "code",
      "metadata": {
        "id": "RWSJpsyKqHjH",
        "colab": {
          "base_uri": "https://localhost:8080/"
        },
        "outputId": "15f618df-2556-4e01-f2cf-8613e59b42c0"
      },
      "source": [
        "from google.colab import drive\n",
        "drive.mount('/content/drive')"
      ],
      "execution_count": 2,
      "outputs": [
        {
          "output_type": "stream",
          "text": [
            "Mounted at /content/drive\n"
          ],
          "name": "stdout"
        }
      ]
    },
    {
      "cell_type": "code",
      "metadata": {
        "trusted": true,
        "id": "IhVcP_VWpoiv"
      },
      "source": [
        "df = pd.read_csv(\"/content/drive/My Drive/__CIND 820 - Data Analytics Project/3-data/Book1-fastsave.csv\")"
      ],
      "execution_count": 3,
      "outputs": []
    },
    {
      "cell_type": "markdown",
      "metadata": {
        "id": "uEl8PsIfYPlI"
      },
      "source": [
        "# Step 5. Data Cleaning and Manipulation"
      ]
    },
    {
      "cell_type": "markdown",
      "metadata": {
        "id": "7RbFQ3a7OgDj"
      },
      "source": [
        "## Preview data after cleaning and manipulation\n",
        "\n",
        "Original Tweet dataframe datatypes"
      ]
    },
    {
      "cell_type": "code",
      "metadata": {
        "id": "rwPS4yCo2ETZ",
        "colab": {
          "base_uri": "https://localhost:8080/"
        },
        "outputId": "1545d9ee-8b28-439c-abcb-f031217a4978"
      },
      "source": [
        "# https://developer.twitter.com/en/docs/twitter-api/v1/data-dictionary/overview/user-object\n",
        "df.dtypes"
      ],
      "execution_count": 4,
      "outputs": [
        {
          "output_type": "execute_result",
          "data": {
            "text/plain": [
              "coordinates                    object\n",
              "created_at                     object\n",
              "hashtags                       object\n",
              "media                          object\n",
              "urls                           object\n",
              "favorite_count                  int64\n",
              "id                              int64\n",
              "in_reply_to_screen_name        object\n",
              "in_reply_to_status_id         float64\n",
              "in_reply_to_user_id           float64\n",
              "lang                           object\n",
              "place                          object\n",
              "possibly_sensitive             object\n",
              "retweet_count                   int64\n",
              "retweet_id                    float64\n",
              "retweet_screen_name            object\n",
              "source                         object\n",
              "text                           object\n",
              "tweet_url                      object\n",
              "user_created_at                object\n",
              "user_screen_name               object\n",
              "user_default_profile_image       bool\n",
              "user_description               object\n",
              "user_favourites_count           int64\n",
              "user_followers_count            int64\n",
              "user_friends_count              int64\n",
              "user_listed_count               int64\n",
              "user_location                  object\n",
              "user_name                      object\n",
              "user_screen_name.1             object\n",
              "user_statuses_count             int64\n",
              "user_time_zone                float64\n",
              "user_urls                      object\n",
              "user_verified                    bool\n",
              "dtype: object"
            ]
          },
          "metadata": {
            "tags": []
          },
          "execution_count": 4
        }
      ]
    },
    {
      "cell_type": "markdown",
      "metadata": {
        "id": "UZfDm-YdvsBC"
      },
      "source": [
        "## Readjust attribute datatype\n",
        "\n",
        "For `retweet_id`, `in_reply_to_status_id`, `in_reply_to_user_id`\n",
        "- Convert `null` values to 0\n",
        "- Convert attribute as int64"
      ]
    },
    {
      "cell_type": "code",
      "metadata": {
        "id": "BNtxXnmyuroY"
      },
      "source": [
        "df.retweet_id = df[df['retweet_id'].notnull()].retweet_id.astype('int64') "
      ],
      "execution_count": 5,
      "outputs": []
    },
    {
      "cell_type": "code",
      "metadata": {
        "id": "Wq7nVqm-Ybq5"
      },
      "source": [
        "df.retweet_id = df.retweet_id.fillna(0).astype('int64')\n",
        "df.in_reply_to_status_id = df.in_reply_to_status_id.fillna(0).astype('int64')\n",
        "df.in_reply_to_user_id = df.in_reply_to_user_id.fillna(0).astype('int64')"
      ],
      "execution_count": 6,
      "outputs": []
    },
    {
      "cell_type": "markdown",
      "metadata": {
        "id": "A1vhtGcnzqtp"
      },
      "source": [
        "## Misc. cleaning up to reduce noise when conducting sentimental analysis\n",
        "1. remove \\n\n",
        "2. remove URL\n",
        "3. remove user referrals\n",
        "4. remove hashtags"
      ]
    },
    {
      "cell_type": "code",
      "metadata": {
        "id": "TGLSjXA00aBs"
      },
      "source": [
        "df['modified_text'] = df.text.str.replace(r'\\n', '')\n",
        "df['modified_text'] = df.modified_text.str.replace(r'(http|ftp|https)://([\\w_-]+(?:(?:\\.[\\w_-]+)+))([\\w.,@?^=%&:/~+#-]*[\\w@?^=%&/~+#-])?', '')\n",
        "df['modified_text'] = df.modified_text.str.replace(r'\\B@\\w+', '')\n",
        "df['modified_text'] = df.modified_text.str.replace(r'\\B#\\w+', '')"
      ],
      "execution_count": 7,
      "outputs": []
    },
    {
      "cell_type": "markdown",
      "metadata": {
        "id": "4XU0njxYunzu"
      },
      "source": [
        "## Splitting Dataframes (originals and retweets)\n",
        "\n",
        "The collection includes both original tweets and retweets. Since retweets mirrors the original tweet by someone else other than the author, we don't need to run sentimental analysis on the retweet as it would have been run on the original tweet, therefore we can split original tweets and retweets into two dataframes to avoid wasting resources.\n",
        "\n",
        "\n",
        "- Original tweets: `dfOriginals`\n",
        "- Retweets: `dfRetweets` cons\n",
        "\n",
        "\n",
        "\n"
      ]
    },
    {
      "cell_type": "code",
      "metadata": {
        "id": "jPydisljWkFM"
      },
      "source": [
        "dfOriginals = df[df.retweet_id == 0]\n",
        "dfRetweets = df[df.retweet_id != 0]"
      ],
      "execution_count": 8,
      "outputs": []
    },
    {
      "cell_type": "markdown",
      "metadata": {
        "id": "r1UH6f4QNP24"
      },
      "source": [
        "Two samples of the original tweet dataframe."
      ]
    },
    {
      "cell_type": "code",
      "metadata": {
        "id": "d5nEYW5qOVAg",
        "colab": {
          "base_uri": "https://localhost:8080/",
          "height": 301
        },
        "outputId": "96b7f0b7-0659-4289-f07b-cdd03bef4c13"
      },
      "source": [
        "dfOriginals.sample(2)"
      ],
      "execution_count": 9,
      "outputs": [
        {
          "output_type": "execute_result",
          "data": {
            "text/html": [
              "<div>\n",
              "<style scoped>\n",
              "    .dataframe tbody tr th:only-of-type {\n",
              "        vertical-align: middle;\n",
              "    }\n",
              "\n",
              "    .dataframe tbody tr th {\n",
              "        vertical-align: top;\n",
              "    }\n",
              "\n",
              "    .dataframe thead th {\n",
              "        text-align: right;\n",
              "    }\n",
              "</style>\n",
              "<table border=\"1\" class=\"dataframe\">\n",
              "  <thead>\n",
              "    <tr style=\"text-align: right;\">\n",
              "      <th></th>\n",
              "      <th>coordinates</th>\n",
              "      <th>created_at</th>\n",
              "      <th>hashtags</th>\n",
              "      <th>media</th>\n",
              "      <th>urls</th>\n",
              "      <th>favorite_count</th>\n",
              "      <th>id</th>\n",
              "      <th>in_reply_to_screen_name</th>\n",
              "      <th>in_reply_to_status_id</th>\n",
              "      <th>in_reply_to_user_id</th>\n",
              "      <th>lang</th>\n",
              "      <th>place</th>\n",
              "      <th>possibly_sensitive</th>\n",
              "      <th>retweet_count</th>\n",
              "      <th>retweet_id</th>\n",
              "      <th>retweet_screen_name</th>\n",
              "      <th>source</th>\n",
              "      <th>text</th>\n",
              "      <th>tweet_url</th>\n",
              "      <th>user_created_at</th>\n",
              "      <th>user_screen_name</th>\n",
              "      <th>user_default_profile_image</th>\n",
              "      <th>user_description</th>\n",
              "      <th>user_favourites_count</th>\n",
              "      <th>user_followers_count</th>\n",
              "      <th>user_friends_count</th>\n",
              "      <th>user_listed_count</th>\n",
              "      <th>user_location</th>\n",
              "      <th>user_name</th>\n",
              "      <th>user_screen_name.1</th>\n",
              "      <th>user_statuses_count</th>\n",
              "      <th>user_time_zone</th>\n",
              "      <th>user_urls</th>\n",
              "      <th>user_verified</th>\n",
              "      <th>modified_text</th>\n",
              "    </tr>\n",
              "  </thead>\n",
              "  <tbody>\n",
              "    <tr>\n",
              "      <th>272908</th>\n",
              "      <td>NaN</td>\n",
              "      <td>Tue Mar 31 13:05:10 +0000 2020</td>\n",
              "      <td>NaN</td>\n",
              "      <td>NaN</td>\n",
              "      <td>https://twitter.com/karelynsanity_/status/1244789975054508038</td>\n",
              "      <td>0</td>\n",
              "      <td>1244974015283900417</td>\n",
              "      <td>NaN</td>\n",
              "      <td>0</td>\n",
              "      <td>0</td>\n",
              "      <td>en</td>\n",
              "      <td>NaN</td>\n",
              "      <td>False</td>\n",
              "      <td>0</td>\n",
              "      <td>0</td>\n",
              "      <td>NaN</td>\n",
              "      <td>&lt;a href=\"http://twitter.com/download/iphone\" rel=\"nofollow\"&gt;Twitter for iPhone&lt;/a&gt;</td>\n",
              "      <td>This won’t do anything for corona but it’ll clear the shit out of your system https://t.co/3EN0eY5d2G</td>\n",
              "      <td>https://twitter.com/frakes_jaryd/status/1244974015283900417</td>\n",
              "      <td>Tue Jan 10 01:16:26 +0000 2017</td>\n",
              "      <td>frakes_jaryd</td>\n",
              "      <td>False</td>\n",
              "      <td>BLM✊</td>\n",
              "      <td>7514</td>\n",
              "      <td>256</td>\n",
              "      <td>383</td>\n",
              "      <td>2</td>\n",
              "      <td>New Bedford, MA</td>\n",
              "      <td>Frosted Frakes❄️</td>\n",
              "      <td>frakes_jaryd</td>\n",
              "      <td>8174</td>\n",
              "      <td>NaN</td>\n",
              "      <td>NaN</td>\n",
              "      <td>False</td>\n",
              "      <td>This won’t do anything for corona but it’ll clear the shit out of your system</td>\n",
              "    </tr>\n",
              "    <tr>\n",
              "      <th>111492</th>\n",
              "      <td>NaN</td>\n",
              "      <td>Tue Mar 31 08:30:00 +0000 2020</td>\n",
              "      <td>NaN</td>\n",
              "      <td>https://twitter.com/RanaSar94401127/status/1244904768901873670/photo/1</td>\n",
              "      <td>NaN</td>\n",
              "      <td>1</td>\n",
              "      <td>1244904768901873670</td>\n",
              "      <td>NaN</td>\n",
              "      <td>0</td>\n",
              "      <td>0</td>\n",
              "      <td>en</td>\n",
              "      <td>NaN</td>\n",
              "      <td>False</td>\n",
              "      <td>0</td>\n",
              "      <td>0</td>\n",
              "      <td>NaN</td>\n",
              "      <td>&lt;a href=\"http://twitter.com/download/android\" rel=\"nofollow\"&gt;Twitter for Android&lt;/a&gt;</td>\n",
              "      <td>Social mobilization activity about corona virus .Rana Sarfraz SHNS Lodhran https://t.co/0tnLrzJKv0</td>\n",
              "      <td>https://twitter.com/RanaSar94401127/status/1244904768901873670</td>\n",
              "      <td>Sat Feb 20 13:52:09 +0000 2016</td>\n",
              "      <td>RanaSar94401127</td>\n",
              "      <td>False</td>\n",
              "      <td>NaN</td>\n",
              "      <td>59</td>\n",
              "      <td>102</td>\n",
              "      <td>210</td>\n",
              "      <td>0</td>\n",
              "      <td>Pakistan</td>\n",
              "      <td>Rana Sarfraz SH&amp;NS</td>\n",
              "      <td>RanaSar94401127</td>\n",
              "      <td>56</td>\n",
              "      <td>NaN</td>\n",
              "      <td>NaN</td>\n",
              "      <td>False</td>\n",
              "      <td>Social mobilization activity about corona virus .Rana Sarfraz SHNS Lodhran</td>\n",
              "    </tr>\n",
              "  </tbody>\n",
              "</table>\n",
              "</div>"
            ],
            "text/plain": [
              "       coordinates  ...                                                                   modified_text\n",
              "272908         NaN  ...  This won’t do anything for corona but it’ll clear the shit out of your system \n",
              "111492         NaN  ...     Social mobilization activity about corona virus .Rana Sarfraz SHNS Lodhran \n",
              "\n",
              "[2 rows x 35 columns]"
            ]
          },
          "metadata": {
            "tags": []
          },
          "execution_count": 9
        }
      ]
    },
    {
      "cell_type": "markdown",
      "metadata": {
        "id": "Jfq66BaYpojK"
      },
      "source": [
        "## Guessing language\n",
        "\n",
        "Since our sentiment analysis focuses on only English tweets, we will install a `langdetect` library to help filter out tweets that are not English."
      ]
    },
    {
      "cell_type": "code",
      "metadata": {
        "id": "pPwDbh-HmBv8",
        "colab": {
          "base_uri": "https://localhost:8080/"
        },
        "outputId": "e76171d0-0838-4a76-8748-4a6e9e5c9169"
      },
      "source": [
        "#https://pypi.org/project/langdetect/\n",
        "!pip install langdetect\n",
        "from langdetect import detect\n",
        "from langdetect import DetectorFactory\n",
        "DetectorFactory.seed = 0\n",
        "\n"
      ],
      "execution_count": 10,
      "outputs": [
        {
          "output_type": "stream",
          "text": [
            "Collecting langdetect\n",
            "\u001b[?25l  Downloading https://files.pythonhosted.org/packages/56/a3/8407c1e62d5980188b4acc45ef3d94b933d14a2ebc9ef3505f22cf772570/langdetect-1.0.8.tar.gz (981kB)\n",
            "\u001b[K     |████████████████████████████████| 983kB 8.7MB/s \n",
            "\u001b[?25hRequirement already satisfied: six in /usr/local/lib/python3.6/dist-packages (from langdetect) (1.15.0)\n",
            "Building wheels for collected packages: langdetect\n",
            "  Building wheel for langdetect (setup.py) ... \u001b[?25l\u001b[?25hdone\n",
            "  Created wheel for langdetect: filename=langdetect-1.0.8-cp36-none-any.whl size=993195 sha256=a6c9b60ede18b92ded14e287fd06e04841f551f63c9cf3f5ffa413fdd442f324\n",
            "  Stored in directory: /root/.cache/pip/wheels/8d/b3/aa/6d99de9f3841d7d3d40a60ea06e6d669e8e5012e6c8b947a57\n",
            "Successfully built langdetect\n",
            "Installing collected packages: langdetect\n",
            "Successfully installed langdetect-1.0.8\n"
          ],
          "name": "stdout"
        }
      ]
    },
    {
      "cell_type": "markdown",
      "metadata": {
        "id": "oPdqdngRnI8B"
      },
      "source": [
        "Function to test whether tweet is English with error handling."
      ]
    },
    {
      "cell_type": "code",
      "metadata": {
        "id": "HJWNxzqbQhIz"
      },
      "source": [
        "#https://stackoverflow.com/questions/60930935/exclude-non-english-rows-in-pandas\n",
        "\n",
        "def is_en(txt):\n",
        "    try:\n",
        "        return detect(txt)=='en'\n",
        "    except:\n",
        "        return False"
      ],
      "execution_count": 11,
      "outputs": []
    },
    {
      "cell_type": "markdown",
      "metadata": {
        "id": "zF4fSfUF3Gcy"
      },
      "source": [
        "Passing as the `is_en()` as first-class function; returning a boolean value as a attribute `guessed_language`."
      ]
    },
    {
      "cell_type": "code",
      "metadata": {
        "id": "CCxbwQfSmht4",
        "colab": {
          "base_uri": "https://localhost:8080/"
        },
        "outputId": "ad5f77d5-4a54-4f6a-be41-ca9d531abf84"
      },
      "source": [
        "dfOriginals['guessed_language'] = dfOriginals.modified_text.apply(is_en)"
      ],
      "execution_count": 12,
      "outputs": [
        {
          "output_type": "stream",
          "text": [
            "/usr/local/lib/python3.6/dist-packages/ipykernel_launcher.py:1: SettingWithCopyWarning: \n",
            "A value is trying to be set on a copy of a slice from a DataFrame.\n",
            "Try using .loc[row_indexer,col_indexer] = value instead\n",
            "\n",
            "See the caveats in the documentation: https://pandas.pydata.org/pandas-docs/stable/user_guide/indexing.html#returning-a-view-versus-a-copy\n",
            "  \"\"\"Entry point for launching an IPython kernel.\n"
          ],
          "name": "stderr"
        }
      ]
    },
    {
      "cell_type": "markdown",
      "metadata": {
        "id": "dsfksiehng6H"
      },
      "source": [
        "By filtering out non-English tweets, we remove noise that can potentially affect our sentimental analysis."
      ]
    },
    {
      "cell_type": "code",
      "metadata": {
        "id": "zPoRWDGSXx99",
        "colab": {
          "base_uri": "https://localhost:8080/"
        },
        "outputId": "a65277b9-bbcf-40a2-c159-4241f9339f30"
      },
      "source": [
        "print(\"There are \" + str(len(dfOriginals)) + \" tweets, and \" + str(sum(dfOriginals.guessed_language)) + \" (\"+str(round((sum(dfOriginals.guessed_language) / len(dfOriginals)) * 100, 2))+\"%) tweets detect as English.\")"
      ],
      "execution_count": 13,
      "outputs": [
        {
          "output_type": "stream",
          "text": [
            "There are 245389 tweets, and 232816 (94.88%) tweets detect as English.\n"
          ],
          "name": "stdout"
        }
      ]
    },
    {
      "cell_type": "markdown",
      "metadata": {
        "id": "atZ26M3rYTfg"
      },
      "source": [
        "# Step 6. Sentiment Analysis"
      ]
    },
    {
      "cell_type": "markdown",
      "metadata": {
        "id": "ezcFLOzHLRE_"
      },
      "source": [
        "To conduct Seitment Analysis, we begin by importing the NLTK library."
      ]
    },
    {
      "cell_type": "code",
      "metadata": {
        "id": "PxgmxMWypoi2",
        "colab": {
          "base_uri": "https://localhost:8080/"
        },
        "outputId": "16fb6567-33ba-4443-ebc8-53c54fcc9634"
      },
      "source": [
        "import nltk\n",
        "from nltk.sentiment.util import *\n",
        "from nltk.sentiment import SentimentIntensityAnalyzer\n",
        "from nltk import tokenize\n",
        "nltk.download('punkt')\n",
        "nltk.download('vader_lexicon')\n",
        "sid = SentimentIntensityAnalyzer()"
      ],
      "execution_count": 14,
      "outputs": [
        {
          "output_type": "stream",
          "text": [
            "/usr/local/lib/python3.6/dist-packages/nltk/twitter/__init__.py:20: UserWarning: The twython library has not been installed. Some functionality from the twitter package will not be available.\n",
            "  warnings.warn(\"The twython library has not been installed. \"\n"
          ],
          "name": "stderr"
        },
        {
          "output_type": "stream",
          "text": [
            "[nltk_data] Downloading package punkt to /root/nltk_data...\n",
            "[nltk_data]   Unzipping tokenizers/punkt.zip.\n",
            "[nltk_data] Downloading package vader_lexicon to /root/nltk_data...\n"
          ],
          "name": "stdout"
        }
      ]
    },
    {
      "cell_type": "markdown",
      "metadata": {
        "id": "IhrR1DkvcgNO"
      },
      "source": [
        "## Applying Sentiment Analysis function\n",
        "\n",
        "We apply the polarity score function and store results on a new attribute `sentimentscore`.\n",
        "\n"
      ]
    },
    {
      "cell_type": "code",
      "metadata": {
        "id": "Zjw8l4kapojF",
        "colab": {
          "base_uri": "https://localhost:8080/"
        },
        "outputId": "a2f36233-9742-48e0-bff7-7d07e9a3dd50"
      },
      "source": [
        "dfOriginals['sentimentscore'] = dfOriginals.modified_text.apply(sid.polarity_scores)"
      ],
      "execution_count": 15,
      "outputs": [
        {
          "output_type": "stream",
          "text": [
            "/usr/local/lib/python3.6/dist-packages/ipykernel_launcher.py:1: SettingWithCopyWarning: \n",
            "A value is trying to be set on a copy of a slice from a DataFrame.\n",
            "Try using .loc[row_indexer,col_indexer] = value instead\n",
            "\n",
            "See the caveats in the documentation: https://pandas.pydata.org/pandas-docs/stable/user_guide/indexing.html#returning-a-view-versus-a-copy\n",
            "  \"\"\"Entry point for launching an IPython kernel.\n"
          ],
          "name": "stderr"
        }
      ]
    },
    {
      "cell_type": "markdown",
      "metadata": {
        "id": "MKHk7KzTXSNZ"
      },
      "source": [
        "A quick sample preview of the text and its sentiment score."
      ]
    },
    {
      "cell_type": "code",
      "metadata": {
        "id": "juosFirzpojI",
        "colab": {
          "base_uri": "https://localhost:8080/",
          "height": 145
        },
        "outputId": "37bf66a2-804f-4fd1-8ce6-a475b2de0dbe"
      },
      "source": [
        "dfOriginals.sample(2)[['modified_text','sentimentscore']]"
      ],
      "execution_count": 16,
      "outputs": [
        {
          "output_type": "execute_result",
          "data": {
            "text/html": [
              "<div>\n",
              "<style scoped>\n",
              "    .dataframe tbody tr th:only-of-type {\n",
              "        vertical-align: middle;\n",
              "    }\n",
              "\n",
              "    .dataframe tbody tr th {\n",
              "        vertical-align: top;\n",
              "    }\n",
              "\n",
              "    .dataframe thead th {\n",
              "        text-align: right;\n",
              "    }\n",
              "</style>\n",
              "<table border=\"1\" class=\"dataframe\">\n",
              "  <thead>\n",
              "    <tr style=\"text-align: right;\">\n",
              "      <th></th>\n",
              "      <th>modified_text</th>\n",
              "      <th>sentimentscore</th>\n",
              "    </tr>\n",
              "  </thead>\n",
              "  <tbody>\n",
              "    <tr>\n",
              "      <th>546599</th>\n",
              "      <td>We fighting two plagues: corona and k-pop</td>\n",
              "      <td>{'neg': 0.294, 'neu': 0.706, 'pos': 0.0, 'compound': -0.3612}</td>\n",
              "    </tr>\n",
              "    <tr>\n",
              "      <th>114793</th>\n",
              "      <td>Yep  and her Swedish Soapy Actor dad  who seems to speak for  outside small well rehearsed short speeches - can immerse themselves in irrelevance in their  doomsday prepped  powered estate on outskirts of</td>\n",
              "      <td>{'neg': 0.102, 'neu': 0.782, 'pos': 0.116, 'compound': -0.128}</td>\n",
              "    </tr>\n",
              "  </tbody>\n",
              "</table>\n",
              "</div>"
            ],
            "text/plain": [
              "                                                                                                                                                                                                           modified_text                                                  sentimentscore\n",
              "546599                                                                                                                                                                         We fighting two plagues: corona and k-pop   {'neg': 0.294, 'neu': 0.706, 'pos': 0.0, 'compound': -0.3612}\n",
              "114793   Yep  and her Swedish Soapy Actor dad  who seems to speak for  outside small well rehearsed short speeches - can immerse themselves in irrelevance in their  doomsday prepped  powered estate on outskirts of     {'neg': 0.102, 'neu': 0.782, 'pos': 0.116, 'compound': -0.128}"
            ]
          },
          "metadata": {
            "tags": []
          },
          "execution_count": 16
        }
      ]
    },
    {
      "cell_type": "markdown",
      "metadata": {
        "id": "kbrLEIGyEET0"
      },
      "source": [
        "The `SentimentIntensityAnalyzer()` returns a dictionary of scores negative, neutral, positive, and compound. Compound is the normalization of negative, neutral, and positive values.\n",
        "\n",
        "\n",
        "How compound is calculated? https://stackoverflow.com/questions/40325980/how-is-the-vader-compound-polarity-score-calculated-in-python-nltk\n",
        "\n",
        "Next, we expand the score, which is currently as dictionary, into their own attributes for better data manipulation--especially the compound attribute."
      ]
    },
    {
      "cell_type": "code",
      "metadata": {
        "id": "M9GcU1qtEKha"
      },
      "source": [
        "dfOriginalSScore = pd.json_normalize(dfOriginals.sentimentscore)\n",
        "dfOriginalSScore['original_index'] = dfOriginals.index\n",
        "dfOriginalSScore = dfOriginalSScore.set_index('original_index')"
      ],
      "execution_count": 17,
      "outputs": []
    },
    {
      "cell_type": "markdown",
      "metadata": {
        "id": "cyfN7LjOLffd"
      },
      "source": [
        "Merge the dataframe with sentiment scores and the dataframe with the original tweets together, onto a new dataframe `dfOriginals_Analyzed`."
      ]
    },
    {
      "cell_type": "code",
      "metadata": {
        "id": "Z9nqoDf7comS"
      },
      "source": [
        "dfOriginals_Analyzed = dfOriginals.merge(dfOriginalSScore, left_index=True, right_index=True)"
      ],
      "execution_count": 18,
      "outputs": []
    },
    {
      "cell_type": "markdown",
      "metadata": {
        "id": "baZ82QGJLxqf"
      },
      "source": [
        "Quick preview of modified text and compound on the merged dataframe."
      ]
    },
    {
      "cell_type": "code",
      "metadata": {
        "id": "aoK5ZqBlU9Wa",
        "colab": {
          "base_uri": "https://localhost:8080/",
          "height": 376
        },
        "outputId": "540e4e09-48c3-4b82-edda-e2f92df2ae64"
      },
      "source": [
        "dfOriginals_Analyzed.sample(10)[['modified_text','compound']]"
      ],
      "execution_count": 19,
      "outputs": [
        {
          "output_type": "execute_result",
          "data": {
            "text/html": [
              "<div>\n",
              "<style scoped>\n",
              "    .dataframe tbody tr th:only-of-type {\n",
              "        vertical-align: middle;\n",
              "    }\n",
              "\n",
              "    .dataframe tbody tr th {\n",
              "        vertical-align: top;\n",
              "    }\n",
              "\n",
              "    .dataframe thead th {\n",
              "        text-align: right;\n",
              "    }\n",
              "</style>\n",
              "<table border=\"1\" class=\"dataframe\">\n",
              "  <thead>\n",
              "    <tr style=\"text-align: right;\">\n",
              "      <th></th>\n",
              "      <th>modified_text</th>\n",
              "      <th>compound</th>\n",
              "    </tr>\n",
              "  </thead>\n",
              "  <tbody>\n",
              "    <tr>\n",
              "      <th>51151</th>\n",
              "      <td>The one positive thing is that Corona virus isn't trending this week 🤷🏽‍♂️ my feed ain't negative so that's cool 🤙🏽</td>\n",
              "      <td>0.8472</td>\n",
              "    </tr>\n",
              "    <tr>\n",
              "      <th>714196</th>\n",
              "      <td>The Pattern of Corona is just check the Chinese movements across the world.Chinese spreaded this Virus deliberately.They went to Airports,Malls,Community Centres,Tourist points everywhere.They sneezed,Coughed and did everything to spread this.</td>\n",
              "      <td>0.0000</td>\n",
              "    </tr>\n",
              "    <tr>\n",
              "      <th>278732</th>\n",
              "      <td>Corona virus wants nothing to do with him.</td>\n",
              "      <td>0.0000</td>\n",
              "    </tr>\n",
              "    <tr>\n",
              "      <th>269633</th>\n",
              "      <td>lof pak rudy🤩❤️</td>\n",
              "      <td>0.0000</td>\n",
              "    </tr>\n",
              "    <tr>\n",
              "      <th>501970</th>\n",
              "      <td>Cooking in the time of corona: Lap cheong, shredded chicken and 1000yr old egg congee</td>\n",
              "      <td>0.0000</td>\n",
              "    </tr>\n",
              "    <tr>\n",
              "      <th>356921</th>\n",
              "      <td>Y O U R. D E G R E E. I S.         J U S T. A. P I E C E. O F  P A P E R. ,                   Y O U R. E D U C A T I O N. I S. S E E N. I N. Y O U R. B E H A V I O U R. #Nizamuddin</td>\n",
              "      <td>0.0000</td>\n",
              "    </tr>\n",
              "    <tr>\n",
              "      <th>636016</th>\n",
              "      <td>So now Boeing won’t need to swindle a $60 mil bailout from the Feds under the guise of Corona virus bill?</td>\n",
              "      <td>-0.5859</td>\n",
              "    </tr>\n",
              "    <tr>\n",
              "      <th>582390</th>\n",
              "      <td>Many experts including the  have already admitted its airborne</td>\n",
              "      <td>0.1027</td>\n",
              "    </tr>\n",
              "    <tr>\n",
              "      <th>281976</th>\n",
              "      <td>Establishment bullshit, now corona attacks minorities more!!!Their  tool in their tool bag. Carona is racist.</td>\n",
              "      <td>-0.9114</td>\n",
              "    </tr>\n",
              "    <tr>\n",
              "      <th>473075</th>\n",
              "      <td>Hospital   via .</td>\n",
              "      <td>0.0000</td>\n",
              "    </tr>\n",
              "  </tbody>\n",
              "</table>\n",
              "</div>"
            ],
            "text/plain": [
              "                                                                                                                                                                                                                                                modified_text  compound\n",
              "51151                                                                                                                                     The one positive thing is that Corona virus isn't trending this week 🤷🏽‍♂️ my feed ain't negative so that's cool 🤙🏽    0.8472\n",
              "714196    The Pattern of Corona is just check the Chinese movements across the world.Chinese spreaded this Virus deliberately.They went to Airports,Malls,Community Centres,Tourist points everywhere.They sneezed,Coughed and did everything to spread this.    0.0000\n",
              "278732                                                                                                                                                                                                             Corona virus wants nothing to do with him.    0.0000\n",
              "269633                                                                                                                                                                                                                                       lof pak rudy🤩❤️     0.0000\n",
              "501970                                                                                                                                                                 Cooking in the time of corona: Lap cheong, shredded chicken and 1000yr old egg congee     0.0000\n",
              "356921                                                                 Y O U R. D E G R E E. I S.         J U S T. A. P I E C E. O F  P A P E R. ,                   Y O U R. E D U C A T I O N. I S. S E E N. I N. Y O U R. B E H A V I O U R. #Nizamuddin      0.0000\n",
              "636016                                                                                                                                              So now Boeing won’t need to swindle a $60 mil bailout from the Feds under the guise of Corona virus bill?   -0.5859\n",
              "582390                                                                                                                                                                                       Many experts including the  have already admitted its airborne      0.1027\n",
              "281976                                                                                                                                          Establishment bullshit, now corona attacks minorities more!!!Their  tool in their tool bag. Carona is racist.   -0.9114\n",
              "473075                                                                                                                                                                                                                                     Hospital   via .      0.0000"
            ]
          },
          "metadata": {
            "tags": []
          },
          "execution_count": 19
        }
      ]
    },
    {
      "cell_type": "markdown",
      "metadata": {
        "id": "haI-bZHZSbwB"
      },
      "source": [
        "We binning based on compound scores\n",
        "-1 to -0.1 = negative \n",
        "-0.1 to 0.1  = neutral\n",
        "0.1 to 1 = positive\n",
        "\n",
        "The threshold chosen is based on the paper \"Predictive Analysis of Resource Usage Data in Academic Libraries using the VADER Sentiment Algorithm\"\n",
        "\n",
        "Deo, G. S., Mishra, A., Jalaluddin, Z. M., & Mahamuni, C. V. (2020, September). Predictive Analysis of Resource Usage Data in Academic Libraries using the VADER Sentiment Algorithm. In 2020 12th International Conference on Computational Intelligence and Communication Networks (CICN) (pp. 221-228). IEEE.\n",
        "\n",
        "https://www.researchgate.net/profile/Gouri_Deo/publication/342988903_Predictive_Analysis_of_Resource_Usage_Data_in_Academic_Libraries_using_the_VADER_Sentiment_Algorithm/links/5f1085a6a6fdcc3ed70bcf20/Predictive-Analysis-of-Resource-Usage-Data-in-Academic-Libraries-using-the-VADER-Sentiment-Algorithm.pdf\n",
        "\n"
      ]
    },
    {
      "cell_type": "code",
      "metadata": {
        "id": "P2kbxHPFSlv0",
        "colab": {
          "base_uri": "https://localhost:8080/"
        },
        "outputId": "168e9074-8ec9-45d9-c04d-5efcdd7b07b1"
      },
      "source": [
        "dfOriginals_Analyzed['sentiment_class_relaxed'] = pd.cut(dfOriginals_Analyzed['compound'], bins=[-1, -0.1, 0.1, 1], right=True, labels=['neg', 'neu', 'pos'])\n",
        "dfOriginals_Analyzed.sentiment_class_relaxed.value_counts()"
      ],
      "execution_count": 20,
      "outputs": [
        {
          "output_type": "execute_result",
          "data": {
            "text/plain": [
              "neg    89051\n",
              "pos    84039\n",
              "neu    72299\n",
              "Name: sentiment_class_relaxed, dtype: int64"
            ]
          },
          "metadata": {
            "tags": []
          },
          "execution_count": 20
        }
      ]
    },
    {
      "cell_type": "markdown",
      "metadata": {
        "id": "z301Ydq8pOWT"
      },
      "source": [
        "# Step 8. Basic Analysis\n",
        "\n",
        "Observing the correlation between variables."
      ]
    },
    {
      "cell_type": "code",
      "metadata": {
        "colab": {
          "base_uri": "https://localhost:8080/",
          "height": 204
        },
        "id": "85ESk5yIvkfQ",
        "outputId": "c06aa450-a951-4257-b2e6-05d961e2caa1"
      },
      "source": [
        "dfOriginals_Analyzed[['favorite_count','retweet_count','user_followers_count','compound','user_statuses_count']].corr()"
      ],
      "execution_count": 21,
      "outputs": [
        {
          "output_type": "execute_result",
          "data": {
            "text/html": [
              "<div>\n",
              "<style scoped>\n",
              "    .dataframe tbody tr th:only-of-type {\n",
              "        vertical-align: middle;\n",
              "    }\n",
              "\n",
              "    .dataframe tbody tr th {\n",
              "        vertical-align: top;\n",
              "    }\n",
              "\n",
              "    .dataframe thead th {\n",
              "        text-align: right;\n",
              "    }\n",
              "</style>\n",
              "<table border=\"1\" class=\"dataframe\">\n",
              "  <thead>\n",
              "    <tr style=\"text-align: right;\">\n",
              "      <th></th>\n",
              "      <th>favorite_count</th>\n",
              "      <th>retweet_count</th>\n",
              "      <th>user_followers_count</th>\n",
              "      <th>compound</th>\n",
              "      <th>user_statuses_count</th>\n",
              "    </tr>\n",
              "  </thead>\n",
              "  <tbody>\n",
              "    <tr>\n",
              "      <th>favorite_count</th>\n",
              "      <td>1.000000</td>\n",
              "      <td>0.908576</td>\n",
              "      <td>0.165683</td>\n",
              "      <td>-0.001108</td>\n",
              "      <td>0.015366</td>\n",
              "    </tr>\n",
              "    <tr>\n",
              "      <th>retweet_count</th>\n",
              "      <td>0.908576</td>\n",
              "      <td>1.000000</td>\n",
              "      <td>0.090025</td>\n",
              "      <td>-0.003071</td>\n",
              "      <td>0.015991</td>\n",
              "    </tr>\n",
              "    <tr>\n",
              "      <th>user_followers_count</th>\n",
              "      <td>0.165683</td>\n",
              "      <td>0.090025</td>\n",
              "      <td>1.000000</td>\n",
              "      <td>0.003693</td>\n",
              "      <td>0.116452</td>\n",
              "    </tr>\n",
              "    <tr>\n",
              "      <th>compound</th>\n",
              "      <td>-0.001108</td>\n",
              "      <td>-0.003071</td>\n",
              "      <td>0.003693</td>\n",
              "      <td>1.000000</td>\n",
              "      <td>-0.022604</td>\n",
              "    </tr>\n",
              "    <tr>\n",
              "      <th>user_statuses_count</th>\n",
              "      <td>0.015366</td>\n",
              "      <td>0.015991</td>\n",
              "      <td>0.116452</td>\n",
              "      <td>-0.022604</td>\n",
              "      <td>1.000000</td>\n",
              "    </tr>\n",
              "  </tbody>\n",
              "</table>\n",
              "</div>"
            ],
            "text/plain": [
              "                      favorite_count  ...  user_statuses_count\n",
              "favorite_count              1.000000  ...             0.015366\n",
              "retweet_count               0.908576  ...             0.015991\n",
              "user_followers_count        0.165683  ...             0.116452\n",
              "compound                   -0.001108  ...            -0.022604\n",
              "user_statuses_count         0.015366  ...             1.000000\n",
              "\n",
              "[5 rows x 5 columns]"
            ]
          },
          "metadata": {
            "tags": []
          },
          "execution_count": 21
        }
      ]
    },
    {
      "cell_type": "code",
      "metadata": {
        "colab": {
          "base_uri": "https://localhost:8080/",
          "height": 297
        },
        "id": "UDWk9JkiBfnT",
        "outputId": "9481447a-18fb-42a4-adca-94fd59b0cef7"
      },
      "source": [
        "dfOriginals_Analyzed[['favorite_count','retweet_count','user_followers_count','compound','user_statuses_count','user_verified']].describe().apply(lambda s: s.apply('{0:.5f}'.format))"
      ],
      "execution_count": 22,
      "outputs": [
        {
          "output_type": "execute_result",
          "data": {
            "text/html": [
              "<div>\n",
              "<style scoped>\n",
              "    .dataframe tbody tr th:only-of-type {\n",
              "        vertical-align: middle;\n",
              "    }\n",
              "\n",
              "    .dataframe tbody tr th {\n",
              "        vertical-align: top;\n",
              "    }\n",
              "\n",
              "    .dataframe thead th {\n",
              "        text-align: right;\n",
              "    }\n",
              "</style>\n",
              "<table border=\"1\" class=\"dataframe\">\n",
              "  <thead>\n",
              "    <tr style=\"text-align: right;\">\n",
              "      <th></th>\n",
              "      <th>favorite_count</th>\n",
              "      <th>retweet_count</th>\n",
              "      <th>user_followers_count</th>\n",
              "      <th>compound</th>\n",
              "      <th>user_statuses_count</th>\n",
              "    </tr>\n",
              "  </thead>\n",
              "  <tbody>\n",
              "    <tr>\n",
              "      <th>count</th>\n",
              "      <td>245389.00000</td>\n",
              "      <td>245389.00000</td>\n",
              "      <td>245389.00000</td>\n",
              "      <td>245389.00000</td>\n",
              "      <td>245389.00000</td>\n",
              "    </tr>\n",
              "    <tr>\n",
              "      <th>mean</th>\n",
              "      <td>9.52971</td>\n",
              "      <td>2.70475</td>\n",
              "      <td>9251.20519</td>\n",
              "      <td>-0.01655</td>\n",
              "      <td>27468.30799</td>\n",
              "    </tr>\n",
              "    <tr>\n",
              "      <th>std</th>\n",
              "      <td>384.21091</td>\n",
              "      <td>122.27732</td>\n",
              "      <td>250678.23602</td>\n",
              "      <td>0.47919</td>\n",
              "      <td>75560.36124</td>\n",
              "    </tr>\n",
              "    <tr>\n",
              "      <th>min</th>\n",
              "      <td>0.00000</td>\n",
              "      <td>0.00000</td>\n",
              "      <td>0.00000</td>\n",
              "      <td>-0.99520</td>\n",
              "      <td>1.00000</td>\n",
              "    </tr>\n",
              "    <tr>\n",
              "      <th>25%</th>\n",
              "      <td>0.00000</td>\n",
              "      <td>0.00000</td>\n",
              "      <td>64.00000</td>\n",
              "      <td>-0.39760</td>\n",
              "      <td>1156.00000</td>\n",
              "    </tr>\n",
              "    <tr>\n",
              "      <th>50%</th>\n",
              "      <td>0.00000</td>\n",
              "      <td>0.00000</td>\n",
              "      <td>331.00000</td>\n",
              "      <td>0.00000</td>\n",
              "      <td>6344.00000</td>\n",
              "    </tr>\n",
              "    <tr>\n",
              "      <th>75%</th>\n",
              "      <td>1.00000</td>\n",
              "      <td>0.00000</td>\n",
              "      <td>1307.00000</td>\n",
              "      <td>0.36120</td>\n",
              "      <td>24616.00000</td>\n",
              "    </tr>\n",
              "    <tr>\n",
              "      <th>max</th>\n",
              "      <td>108137.00000</td>\n",
              "      <td>35137.00000</td>\n",
              "      <td>62855265.00000</td>\n",
              "      <td>0.99190</td>\n",
              "      <td>4472178.00000</td>\n",
              "    </tr>\n",
              "  </tbody>\n",
              "</table>\n",
              "</div>"
            ],
            "text/plain": [
              "      favorite_count retweet_count  ...      compound user_statuses_count\n",
              "count   245389.00000  245389.00000  ...  245389.00000        245389.00000\n",
              "mean         9.52971       2.70475  ...      -0.01655         27468.30799\n",
              "std        384.21091     122.27732  ...       0.47919         75560.36124\n",
              "min          0.00000       0.00000  ...      -0.99520             1.00000\n",
              "25%          0.00000       0.00000  ...      -0.39760          1156.00000\n",
              "50%          0.00000       0.00000  ...       0.00000          6344.00000\n",
              "75%          1.00000       0.00000  ...       0.36120         24616.00000\n",
              "max     108137.00000   35137.00000  ...       0.99190       4472178.00000\n",
              "\n",
              "[8 rows x 5 columns]"
            ]
          },
          "metadata": {
            "tags": []
          },
          "execution_count": 22
        }
      ]
    },
    {
      "cell_type": "markdown",
      "metadata": {
        "id": "MQkgLWhJtnwS"
      },
      "source": [
        "Plot Distribution of sentiment scores"
      ]
    },
    {
      "cell_type": "markdown",
      "metadata": {
        "id": "JWvyTRxxHfWt"
      },
      "source": [
        "The histogram shows the distribution appears to have some modes, and rather symmetric."
      ]
    },
    {
      "cell_type": "code",
      "metadata": {
        "colab": {
          "base_uri": "https://localhost:8080/",
          "height": 483
        },
        "id": "9H9QeJvhtYMH",
        "outputId": "b2ddfd8d-c27b-41da-ac60-9da3b8260526"
      },
      "source": [
        "import matplotlib.pyplot as plt\n",
        "import seaborn as sns\n",
        "\n",
        "plt.figure(figsize=(8,8)) \n",
        "histo_plot = plt.hist(dfOriginals_Analyzed['compound'],bins=40)\n"
      ],
      "execution_count": 23,
      "outputs": [
        {
          "output_type": "display_data",
          "data": {
            "image/png": "[encoded data removed]",
            "text/plain": [
              "<Figure size 576x576 with 1 Axes>"
            ]
          },
          "metadata": {
            "tags": [],
            "needs_background": "light"
          }
        }
      ]
    },
    {
      "cell_type": "code",
      "metadata": {
        "colab": {
          "base_uri": "https://localhost:8080/",
          "height": 483
        },
        "id": "mjN93_Rzr90m",
        "outputId": "0327a10c-7071-4c73-fb21-ace36b04c599"
      },
      "source": [
        "plt.figure(figsize=(8,8)) \n",
        "histo_plot2 = plt.hist(dfOriginals_Analyzed['compound'],bins=20)\n"
      ],
      "execution_count": 24,
      "outputs": [
        {
          "output_type": "display_data",
          "data": {
            "image/png": "[encoded data removed]",
            "text/plain": [
              "<Figure size 576x576 with 1 Axes>"
            ]
          },
          "metadata": {
            "tags": [],
            "needs_background": "light"
          }
        }
      ]
    },
    {
      "cell_type": "markdown",
      "metadata": {
        "id": "FmFrATvf_2GW"
      },
      "source": [
        "# Step 9. Build Prediction Model with Linear Regression\n",
        "\n",
        "## Split Train and Test set"
      ]
    },
    {
      "cell_type": "code",
      "metadata": {
        "id": "43ZanG6qPf5d",
        "colab": {
          "base_uri": "https://localhost:8080/",
          "height": 419
        },
        "outputId": "7c5d2534-9af5-44f6-b09b-35af88d5aa1f"
      },
      "source": [
        "dfOriginals_Analyzed[['favorite_count','retweet_count','user_followers_count','compound']]"
      ],
      "execution_count": 25,
      "outputs": [
        {
          "output_type": "execute_result",
          "data": {
            "text/html": [
              "<div>\n",
              "<style scoped>\n",
              "    .dataframe tbody tr th:only-of-type {\n",
              "        vertical-align: middle;\n",
              "    }\n",
              "\n",
              "    .dataframe tbody tr th {\n",
              "        vertical-align: top;\n",
              "    }\n",
              "\n",
              "    .dataframe thead th {\n",
              "        text-align: right;\n",
              "    }\n",
              "</style>\n",
              "<table border=\"1\" class=\"dataframe\">\n",
              "  <thead>\n",
              "    <tr style=\"text-align: right;\">\n",
              "      <th></th>\n",
              "      <th>favorite_count</th>\n",
              "      <th>retweet_count</th>\n",
              "      <th>user_followers_count</th>\n",
              "      <th>compound</th>\n",
              "    </tr>\n",
              "  </thead>\n",
              "  <tbody>\n",
              "    <tr>\n",
              "      <th>3</th>\n",
              "      <td>0</td>\n",
              "      <td>0</td>\n",
              "      <td>54</td>\n",
              "      <td>0.0129</td>\n",
              "    </tr>\n",
              "    <tr>\n",
              "      <th>4</th>\n",
              "      <td>0</td>\n",
              "      <td>0</td>\n",
              "      <td>73</td>\n",
              "      <td>0.3400</td>\n",
              "    </tr>\n",
              "    <tr>\n",
              "      <th>6</th>\n",
              "      <td>0</td>\n",
              "      <td>0</td>\n",
              "      <td>55</td>\n",
              "      <td>0.4404</td>\n",
              "    </tr>\n",
              "    <tr>\n",
              "      <th>7</th>\n",
              "      <td>0</td>\n",
              "      <td>0</td>\n",
              "      <td>79</td>\n",
              "      <td>0.6369</td>\n",
              "    </tr>\n",
              "    <tr>\n",
              "      <th>12</th>\n",
              "      <td>0</td>\n",
              "      <td>0</td>\n",
              "      <td>36</td>\n",
              "      <td>0.8885</td>\n",
              "    </tr>\n",
              "    <tr>\n",
              "      <th>...</th>\n",
              "      <td>...</td>\n",
              "      <td>...</td>\n",
              "      <td>...</td>\n",
              "      <td>...</td>\n",
              "    </tr>\n",
              "    <tr>\n",
              "      <th>799126</th>\n",
              "      <td>0</td>\n",
              "      <td>0</td>\n",
              "      <td>36</td>\n",
              "      <td>-0.9267</td>\n",
              "    </tr>\n",
              "    <tr>\n",
              "      <th>799127</th>\n",
              "      <td>1</td>\n",
              "      <td>0</td>\n",
              "      <td>8</td>\n",
              "      <td>0.0000</td>\n",
              "    </tr>\n",
              "    <tr>\n",
              "      <th>799128</th>\n",
              "      <td>1</td>\n",
              "      <td>0</td>\n",
              "      <td>5</td>\n",
              "      <td>0.2023</td>\n",
              "    </tr>\n",
              "    <tr>\n",
              "      <th>799130</th>\n",
              "      <td>3</td>\n",
              "      <td>0</td>\n",
              "      <td>441</td>\n",
              "      <td>-0.5106</td>\n",
              "    </tr>\n",
              "    <tr>\n",
              "      <th>799133</th>\n",
              "      <td>0</td>\n",
              "      <td>0</td>\n",
              "      <td>40</td>\n",
              "      <td>-0.8611</td>\n",
              "    </tr>\n",
              "  </tbody>\n",
              "</table>\n",
              "<p>245389 rows × 4 columns</p>\n",
              "</div>"
            ],
            "text/plain": [
              "        favorite_count  retweet_count  user_followers_count  compound\n",
              "3                    0              0                    54    0.0129\n",
              "4                    0              0                    73    0.3400\n",
              "6                    0              0                    55    0.4404\n",
              "7                    0              0                    79    0.6369\n",
              "12                   0              0                    36    0.8885\n",
              "...                ...            ...                   ...       ...\n",
              "799126               0              0                    36   -0.9267\n",
              "799127               1              0                     8    0.0000\n",
              "799128               1              0                     5    0.2023\n",
              "799130               3              0                   441   -0.5106\n",
              "799133               0              0                    40   -0.8611\n",
              "\n",
              "[245389 rows x 4 columns]"
            ]
          },
          "metadata": {
            "tags": []
          },
          "execution_count": 25
        }
      ]
    },
    {
      "cell_type": "code",
      "metadata": {
        "colab": {
          "base_uri": "https://localhost:8080/"
        },
        "id": "i2s44LZO_Yvp",
        "outputId": "8cace587-e72c-4a29-8a44-ad51711caf7d"
      },
      "source": [
        "# trying to implement k-fold\n",
        "# https://stackoverflow.com/questions/45115964/separate-pandas-dataframe-using-sklearns-kfold\n",
        "# https://stackoverflow.com/questions/57398411/next-always-gives-the-same-index-with-a-kfold-generator\n",
        "# https://machinelearningmastery.com/k-fold-cross-validation/\n",
        "# https://machinelearningmastery.com/robust-regression-for-machine-learning-in-python/\n",
        "from sklearn.model_selection import KFold\n",
        "kf = KFold(n_splits = 10, shuffle = True, random_state = 2)\n",
        "\n",
        "kf_result = kf.split(dfOriginals_Analyzed)\n",
        "train_idx, test_idx = next(kf_result)\n",
        "print(train_idx, test_idx)\n",
        "train_idx, test_idx = next(kf_result)\n",
        "print(train_idx, test_idx)\n",
        "train_idx, test_idx = next(kf_result)\n",
        "print(train_idx, test_idx)\n",
        "train_idx, test_idx = next(kf_result)\n",
        "print(train_idx, test_idx)\n",
        "train_idx, test_idx = next(kf_result)\n",
        "print(train_idx, test_idx)\n",
        "train_idx, test_idx = next(kf_result)\n",
        "print(train_idx, test_idx)\n",
        "train_idx, test_idx = next(kf_result)\n",
        "print(train_idx, test_idx)\n",
        "train_idx, test_idx = next(kf_result)\n",
        "print(train_idx, test_idx)\n",
        "train_idx, test_idx = next(kf_result)\n",
        "print(train_idx, test_idx)\n",
        "train_idx, test_idx = next(kf_result)\n",
        "print(train_idx, test_idx)\n"
      ],
      "execution_count": 131,
      "outputs": [
        {
          "output_type": "stream",
          "text": [
            "[     0      1      2 ... 245385 245386 245387] [    13     14     16 ... 245369 245377 245388]\n",
            "[     1      2      3 ... 245386 245387 245388] [     0      9     25 ... 245366 245379 245382]\n",
            "[     0      1      2 ... 245386 245387 245388] [     4      5     17 ... 245356 245357 245383]\n",
            "[     0      1      2 ... 245386 245387 245388] [    15     20     26 ... 245352 245363 245368]\n",
            "[     0      1      2 ... 245384 245387 245388] [     7     33     41 ... 245374 245385 245386]\n",
            "[     0      1      2 ... 245385 245386 245388] [    10     29     30 ... 245380 245381 245387]\n",
            "[     0      2      4 ... 245386 245387 245388] [     1      3      6 ... 245360 245371 245376]\n",
            "[     0      1      3 ... 245386 245387 245388] [     2      8     11 ... 245337 245375 245378]\n",
            "[     0      1      2 ... 245386 245387 245388] [    19     60     61 ... 245348 245355 245384]\n",
            "[     0      1      2 ... 245386 245387 245388] [    43     57     85 ... 245354 245370 245373]\n"
          ],
          "name": "stdout"
        }
      ]
    },
    {
      "cell_type": "code",
      "metadata": {
        "id": "dnvWBGoU_9Nh",
        "colab": {
          "base_uri": "https://localhost:8080/"
        },
        "outputId": "3c93dd0a-a889-41ee-bbce-08eddcab6611"
      },
      "source": [
        "from sklearn import preprocessing\n",
        "from sklearn import linear_model\n",
        "\n",
        "trainSet=dfOriginals_Analyzed.sample(frac=0.8,random_state=150)\n",
        "testSet=dfOriginals_Analyzed.drop(trainSet.index)\n",
        "\n",
        "independent_variables = ['retweet_count','user_followers_count','compound']\n",
        "# independent_variables = ['retweet_count','user_followers_count','compound','user_statuses_count','user_verified']\n",
        "\n",
        "dependent_variables = 'favorite_count'\n",
        "X_train = (trainSet[independent_variables])\n",
        "Y_train = trainSet[dependent_variables]\n",
        "reg = linear_model.LinearRegression()\n",
        "\n",
        "reg.fit(X_train,Y_train)\n",
        "\n",
        "print(\"The coefficients of the regression model for features \" + ', '.join(independent_variables))\n",
        "print(reg.coef_)\n",
        "print(\"The intercept of the regression model is \" + str(reg.intercept_))\n"
      ],
      "execution_count": 98,
      "outputs": [
        {
          "output_type": "stream",
          "text": [
            "The coefficients of the regression model for features retweet_count, user_followers_count, compound\n",
            "[2.53987154e+00 1.55056871e-04 1.13039598e+00]\n",
            "The intercept of the regression model is 1.2093078813468576\n"
          ],
          "name": "stdout"
        }
      ]
    },
    {
      "cell_type": "markdown",
      "metadata": {
        "id": "eoL3s5b56z-i"
      },
      "source": [
        "Run prediction, rounding prediction numbers and setting it as integer."
      ]
    },
    {
      "cell_type": "code",
      "metadata": {
        "id": "AMVTjoD85Yw5",
        "colab": {
          "base_uri": "https://localhost:8080/",
          "height": 419
        },
        "outputId": "ea7012c6-acf8-4264-eef1-13f3d249824d"
      },
      "source": [
        "plot_1_Y = reg.predict(testSet[independent_variables]) # predicted as Y\n",
        "plot_1_X = testSet[dependent_variables].reset_index()  # actual as X\n",
        "df_plot_1 = pd.concat([plot_1_X,pd.DataFrame(plot_1_Y)],axis=1)\n",
        "df_plot_1.columns = ['index','actual', 'predicted']\n",
        "df_plot_1.predicted = round(df_plot_1.predicted,0).astype(int)\n",
        "df_plot_1"
      ],
      "execution_count": 99,
      "outputs": [
        {
          "output_type": "execute_result",
          "data": {
            "text/html": [
              "<div>\n",
              "<style scoped>\n",
              "    .dataframe tbody tr th:only-of-type {\n",
              "        vertical-align: middle;\n",
              "    }\n",
              "\n",
              "    .dataframe tbody tr th {\n",
              "        vertical-align: top;\n",
              "    }\n",
              "\n",
              "    .dataframe thead th {\n",
              "        text-align: right;\n",
              "    }\n",
              "</style>\n",
              "<table border=\"1\" class=\"dataframe\">\n",
              "  <thead>\n",
              "    <tr style=\"text-align: right;\">\n",
              "      <th></th>\n",
              "      <th>index</th>\n",
              "      <th>actual</th>\n",
              "      <th>predicted</th>\n",
              "    </tr>\n",
              "  </thead>\n",
              "  <tbody>\n",
              "    <tr>\n",
              "      <th>0</th>\n",
              "      <td>56</td>\n",
              "      <td>0</td>\n",
              "      <td>2</td>\n",
              "    </tr>\n",
              "    <tr>\n",
              "      <th>1</th>\n",
              "      <td>75</td>\n",
              "      <td>2</td>\n",
              "      <td>7</td>\n",
              "    </tr>\n",
              "    <tr>\n",
              "      <th>2</th>\n",
              "      <td>115</td>\n",
              "      <td>1</td>\n",
              "      <td>2</td>\n",
              "    </tr>\n",
              "    <tr>\n",
              "      <th>3</th>\n",
              "      <td>145</td>\n",
              "      <td>0</td>\n",
              "      <td>2</td>\n",
              "    </tr>\n",
              "    <tr>\n",
              "      <th>4</th>\n",
              "      <td>149</td>\n",
              "      <td>0</td>\n",
              "      <td>1</td>\n",
              "    </tr>\n",
              "    <tr>\n",
              "      <th>...</th>\n",
              "      <td>...</td>\n",
              "      <td>...</td>\n",
              "      <td>...</td>\n",
              "    </tr>\n",
              "    <tr>\n",
              "      <th>49073</th>\n",
              "      <td>799003</td>\n",
              "      <td>2</td>\n",
              "      <td>2</td>\n",
              "    </tr>\n",
              "    <tr>\n",
              "      <th>49074</th>\n",
              "      <td>799023</td>\n",
              "      <td>0</td>\n",
              "      <td>0</td>\n",
              "    </tr>\n",
              "    <tr>\n",
              "      <th>49075</th>\n",
              "      <td>799037</td>\n",
              "      <td>1</td>\n",
              "      <td>1</td>\n",
              "    </tr>\n",
              "    <tr>\n",
              "      <th>49076</th>\n",
              "      <td>799056</td>\n",
              "      <td>0</td>\n",
              "      <td>0</td>\n",
              "    </tr>\n",
              "    <tr>\n",
              "      <th>49077</th>\n",
              "      <td>799125</td>\n",
              "      <td>1</td>\n",
              "      <td>0</td>\n",
              "    </tr>\n",
              "  </tbody>\n",
              "</table>\n",
              "<p>49078 rows × 3 columns</p>\n",
              "</div>"
            ],
            "text/plain": [
              "        index  actual  predicted\n",
              "0          56       0          2\n",
              "1          75       2          7\n",
              "2         115       1          2\n",
              "3         145       0          2\n",
              "4         149       0          1\n",
              "...       ...     ...        ...\n",
              "49073  799003       2          2\n",
              "49074  799023       0          0\n",
              "49075  799037       1          1\n",
              "49076  799056       0          0\n",
              "49077  799125       1          0\n",
              "\n",
              "[49078 rows x 3 columns]"
            ]
          },
          "metadata": {
            "tags": []
          },
          "execution_count": 99
        }
      ]
    },
    {
      "cell_type": "markdown",
      "metadata": {
        "id": "kgzIaCKenOU_"
      },
      "source": [
        "# Step 10: Getting Results"
      ]
    },
    {
      "cell_type": "markdown",
      "metadata": {
        "id": "pY7S-xXxURqU"
      },
      "source": [
        "Since this is a regression model with continous values, we use Mean Square Error (MSE), Root MSE, and R-square metrics to measure the performance of the model. \n",
        "\n",
        "reference: https://stackoverflow.com/questions/49103139/calculating-accuracy-scores-of-predicted-continuous-values"
      ]
    },
    {
      "cell_type": "code",
      "metadata": {
        "colab": {
          "base_uri": "https://localhost:8080/"
        },
        "id": "I2FaV3XznNL0",
        "outputId": "f8e3c608-3170-488e-dc65-701a34621778"
      },
      "source": [
        "from sklearn.metrics import mean_squared_error\n",
        "from sklearn.metrics import r2_score\n",
        "\n",
        "from math import sqrt\n",
        "\n",
        "mse = mean_squared_error(df_plot_1.actual, df_plot_1.predicted)\n",
        "print(\"Mean Square Error (MSE): \" + str(mse))\n",
        "print(\"Root MSE: \" + str(sqrt(mse)))\n",
        "print(\"R-Square: \" + str(r2_score(df_plot_1.actual, df_plot_1.predicted)))\n"
      ],
      "execution_count": 100,
      "outputs": [
        {
          "output_type": "stream",
          "text": [
            "Mean Square Error (MSE): 33368.809425811975\n",
            "Root MSE: 182.67131527914276\n",
            "R-Square: 0.8733509628767524\n"
          ],
          "name": "stdout"
        }
      ]
    },
    {
      "cell_type": "markdown",
      "metadata": {
        "id": "3IReujajY_pz"
      },
      "source": [
        "Scatterplot to visually observe how well the model's prediction vs actual value."
      ]
    },
    {
      "cell_type": "code",
      "metadata": {
        "colab": {
          "base_uri": "https://localhost:8080/",
          "height": 762
        },
        "id": "pKt0m5Z2MKiW",
        "outputId": "85a2f607-8b1c-4064-e0ab-6eac675b8d4e"
      },
      "source": [
        "from numpy.polynomial.polynomial import polyfit\n",
        "\n",
        "plot_1 = df_plot_1.plot.scatter(x='actual',y='predicted',figsize=(40,20),title=\"Predicted values versus Actual values\")\n",
        "plot_1.set_ylabel(\"Predicted values\")\n",
        "plot_1.set_xlabel(\"Actual values\")\n",
        "\n",
        "b, m = polyfit(df_plot_1.actual, df_plot_1.predicted, 1)\n",
        "plot_1.plot(df_plot_1.actual, b + m * df_plot_1.actual, '-')\n",
        "\n"
      ],
      "execution_count": 101,
      "outputs": [
        {
          "output_type": "execute_result",
          "data": {
            "text/plain": [
              "[<matplotlib.lines.Line2D at 0x7f34788eddd8>]"
            ]
          },
          "metadata": {
            "tags": []
          },
          "execution_count": 101
        },
        {
          "output_type": "display_data",
          "data": {
            "image/png": "[encoded data removed]",
            "text/plain": [
              "<Figure size 2880x1440 with 1 Axes>"
            ]
          },
          "metadata": {
            "tags": [],
            "needs_background": "light"
          }
        }
      ]
    },
    {
      "cell_type": "markdown",
      "metadata": {
        "id": "LNm7upemtDpJ"
      },
      "source": [
        "Removing outliers covering only 99.7%"
      ]
    },
    {
      "cell_type": "code",
      "metadata": {
        "colab": {
          "base_uri": "https://localhost:8080/",
          "height": 764
        },
        "id": "UaXlgqAdtDWh",
        "outputId": "6d24e8b1-3b2d-4ed5-ac6f-7056aeb6e221"
      },
      "source": [
        "df_plot_2 = df_plot_1[df_plot_1.predicted.between(df_plot_1.predicted.quantile(.0015), df_plot_1.predicted.quantile(0.9985))]\n",
        "plot_2 = df_plot_2.plot.scatter(x='actual',y='predicted',figsize=(40,20),title=\"Predicted values versus Actual values without outliers\")\n",
        "plot_2.set_ylabel(\"Predicted values\")\n",
        "plot_2.set_xlabel(\"Actual values\")\n",
        "\n",
        "b, m = polyfit(df_plot_2.actual, df_plot_2.predicted, 1)\n",
        "plot_2.plot(df_plot_2.actual, b + m * df_plot_2.actual, '-')"
      ],
      "execution_count": 102,
      "outputs": [
        {
          "output_type": "execute_result",
          "data": {
            "text/plain": [
              "[<matplotlib.lines.Line2D at 0x7f34789b9828>]"
            ]
          },
          "metadata": {
            "tags": []
          },
          "execution_count": 102
        },
        {
          "output_type": "display_data",
          "data": {
            "image/png": "[encoded data removed]",
            "text/plain": [
              "<Figure size 2880x1440 with 1 Axes>"
            ]
          },
          "metadata": {
            "tags": [],
            "needs_background": "light"
          }
        }
      ]
    },
    {
      "cell_type": "code",
      "metadata": {
        "colab": {
          "base_uri": "https://localhost:8080/"
        },
        "id": "pywugtDmuD1m",
        "outputId": "027136f9-5218-4388-a79f-4c2ef55fc3e1"
      },
      "source": [
        "print(len(df_plot_1))\n",
        "print(len(df_plot_2))"
      ],
      "execution_count": 97,
      "outputs": [
        {
          "output_type": "stream",
          "text": [
            "49078\n",
            "48934\n"
          ],
          "name": "stdout"
        }
      ]
    },
    {
      "cell_type": "markdown",
      "metadata": {
        "id": "ZDHkWYpZRoQP"
      },
      "source": [
        "# Further Attempts\n",
        "\n",
        "- Groupby user_screen_name\n",
        "- calculate the mean sentiment score\n",
        "- see whether there are any correlation between number of followers and number of favourite tweets against the mean sentimental score (check SD)\n",
        "\n",
        "explain properly an understanding of why introducing new feature"
      ]
    },
    {
      "cell_type": "code",
      "metadata": {
        "id": "r5cQcimuQp1y",
        "colab": {
          "base_uri": "https://localhost:8080/",
          "height": 419
        },
        "outputId": "0ba6115f-792c-485c-d853-ad2e85f6e8c6"
      },
      "source": [
        "dfOriginals.groupby('user_screen_name').size().reset_index(name='counts').sort_values(by='counts', ascending=False)"
      ],
      "execution_count": 53,
      "outputs": [
        {
          "output_type": "execute_result",
          "data": {
            "text/html": [
              "<div>\n",
              "<style scoped>\n",
              "    .dataframe tbody tr th:only-of-type {\n",
              "        vertical-align: middle;\n",
              "    }\n",
              "\n",
              "    .dataframe tbody tr th {\n",
              "        vertical-align: top;\n",
              "    }\n",
              "\n",
              "    .dataframe thead th {\n",
              "        text-align: right;\n",
              "    }\n",
              "</style>\n",
              "<table border=\"1\" class=\"dataframe\">\n",
              "  <thead>\n",
              "    <tr style=\"text-align: right;\">\n",
              "      <th></th>\n",
              "      <th>user_screen_name</th>\n",
              "      <th>counts</th>\n",
              "    </tr>\n",
              "  </thead>\n",
              "  <tbody>\n",
              "    <tr>\n",
              "      <th>27508</th>\n",
              "      <td>ELister_social</td>\n",
              "      <td>666</td>\n",
              "    </tr>\n",
              "    <tr>\n",
              "      <th>79905</th>\n",
              "      <td>SattarSarki1</td>\n",
              "      <td>382</td>\n",
              "    </tr>\n",
              "    <tr>\n",
              "      <th>133777</th>\n",
              "      <td>iHeartFun1</td>\n",
              "      <td>185</td>\n",
              "    </tr>\n",
              "    <tr>\n",
              "      <th>27433</th>\n",
              "      <td>EG24NEWS</td>\n",
              "      <td>181</td>\n",
              "    </tr>\n",
              "    <tr>\n",
              "      <th>142347</th>\n",
              "      <td>kailashscienti1</td>\n",
              "      <td>179</td>\n",
              "    </tr>\n",
              "    <tr>\n",
              "      <th>...</th>\n",
              "      <td>...</td>\n",
              "      <td>...</td>\n",
              "    </tr>\n",
              "    <tr>\n",
              "      <th>68494</th>\n",
              "      <td>Patterico</td>\n",
              "      <td>1</td>\n",
              "    </tr>\n",
              "    <tr>\n",
              "      <th>68495</th>\n",
              "      <td>PattheOldBat</td>\n",
              "      <td>1</td>\n",
              "    </tr>\n",
              "    <tr>\n",
              "      <th>68496</th>\n",
              "      <td>PattiClifford10</td>\n",
              "      <td>1</td>\n",
              "    </tr>\n",
              "    <tr>\n",
              "      <th>68498</th>\n",
              "      <td>PattiMurin</td>\n",
              "      <td>1</td>\n",
              "    </tr>\n",
              "    <tr>\n",
              "      <th>191547</th>\n",
              "      <td>zzzzzzbjdbsh</td>\n",
              "      <td>1</td>\n",
              "    </tr>\n",
              "  </tbody>\n",
              "</table>\n",
              "<p>191548 rows × 2 columns</p>\n",
              "</div>"
            ],
            "text/plain": [
              "       user_screen_name  counts\n",
              "27508    ELister_social     666\n",
              "79905      SattarSarki1     382\n",
              "133777       iHeartFun1     185\n",
              "27433          EG24NEWS     181\n",
              "142347  kailashscienti1     179\n",
              "...                 ...     ...\n",
              "68494         Patterico       1\n",
              "68495      PattheOldBat       1\n",
              "68496   PattiClifford10       1\n",
              "68498        PattiMurin       1\n",
              "191547     zzzzzzbjdbsh       1\n",
              "\n",
              "[191548 rows x 2 columns]"
            ]
          },
          "metadata": {
            "tags": []
          },
          "execution_count": 53
        }
      ]
    }
  ]
}