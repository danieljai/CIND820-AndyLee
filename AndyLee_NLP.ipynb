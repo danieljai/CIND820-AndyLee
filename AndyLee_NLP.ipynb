{
  "nbformat": 4,
  "nbformat_minor": 0,
  "metadata": {
    "kernelspec": {
      "display_name": "Python 3",
      "language": "python",
      "name": "python3"
    },
    "language_info": {
      "name": "python",
      "version": "3.7.6",
      "mimetype": "text/x-python",
      "codemirror_mode": {
        "name": "ipython",
        "version": 3
      },
      "pygments_lexer": "ipython3",
      "nbconvert_exporter": "python",
      "file_extension": ".py"
    },
    "colab": {
      "name": "AndyLee-NLP.ipynb",
      "provenance": [],
      "include_colab_link": true
    }
  },
  "cells": [
    {
      "cell_type": "markdown",
      "metadata": {
        "id": "view-in-github",
        "colab_type": "text"
      },
      "source": [
        "<a href=\"https://colab.research.google.com/github/danieljai/CIND820-AndyLee/blob/main/AndyLee_NLP.ipynb\" target=\"_parent\"><img src=\"https://colab.research.google.com/assets/colab-badge.svg\" alt=\"Open In Colab\"/></a>"
      ]
    },
    {
      "cell_type": "markdown",
      "metadata": {
        "id": "_uncPLiQYnn0"
      },
      "source": [
        "# Step 3: Preload setup\n",
        "\n",
        "Basic setup so results can utilize the full width of the screen."
      ]
    },
    {
      "cell_type": "code",
      "metadata": {
        "id": "7VJ3TVjfpoiz"
      },
      "source": [
        "%config IPCompleter.greedy=True\n",
        "import pandas as pd\n",
        "\n",
        "pd.set_option('display.max_colwidth', 200)\n",
        "pd.options.display.max_colwidth = 500\n",
        "pd.options.display.max_rows = 100"
      ],
      "execution_count": 2,
      "outputs": []
    },
    {
      "cell_type": "markdown",
      "metadata": {
        "id": "HbYv2dHQYl-W"
      },
      "source": [
        "# Step 4: Import Dataset\n",
        "\n",
        "The hydrated file is stored in a Google Drive, and using the follow code will mount Google Drive onto Colaboratory."
      ]
    },
    {
      "cell_type": "code",
      "metadata": {
        "id": "RWSJpsyKqHjH",
        "colab": {
          "base_uri": "https://localhost:8080/"
        },
        "outputId": "b6406dad-6d8b-4827-fed5-92ecaf2feef7"
      },
      "source": [
        "from google.colab import drive\n",
        "drive.mount('/content/drive')"
      ],
      "execution_count": 3,
      "outputs": [
        {
          "output_type": "stream",
          "text": [
            "Mounted at /content/drive\n"
          ],
          "name": "stdout"
        }
      ]
    },
    {
      "cell_type": "code",
      "metadata": {
        "trusted": true,
        "id": "IhVcP_VWpoiv"
      },
      "source": [
        "df = pd.read_csv(\"/content/drive/My Drive/__CIND 820 - Data Analytics Project/3-data/Book1-fastsave.csv\")"
      ],
      "execution_count": 4,
      "outputs": []
    },
    {
      "cell_type": "markdown",
      "metadata": {
        "id": "uEl8PsIfYPlI"
      },
      "source": [
        "# Step 5. Data Cleaning and Manipulation"
      ]
    },
    {
      "cell_type": "markdown",
      "metadata": {
        "id": "7RbFQ3a7OgDj"
      },
      "source": [
        "## Preview data after cleaning and manipulation\n",
        "\n",
        "Original Tweet dataframe datatypes"
      ]
    },
    {
      "cell_type": "code",
      "metadata": {
        "id": "rwPS4yCo2ETZ",
        "colab": {
          "base_uri": "https://localhost:8080/"
        },
        "outputId": "d649903f-87c4-45cf-a0bb-10066f0c1a8f"
      },
      "source": [
        "# https://developer.twitter.com/en/docs/twitter-api/v1/data-dictionary/overview/user-object\n",
        "df.dtypes"
      ],
      "execution_count": 5,
      "outputs": [
        {
          "output_type": "execute_result",
          "data": {
            "text/plain": [
              "coordinates                    object\n",
              "created_at                     object\n",
              "hashtags                       object\n",
              "media                          object\n",
              "urls                           object\n",
              "favorite_count                  int64\n",
              "id                              int64\n",
              "in_reply_to_screen_name        object\n",
              "in_reply_to_status_id         float64\n",
              "in_reply_to_user_id           float64\n",
              "lang                           object\n",
              "place                          object\n",
              "possibly_sensitive             object\n",
              "retweet_count                   int64\n",
              "retweet_id                    float64\n",
              "retweet_screen_name            object\n",
              "source                         object\n",
              "text                           object\n",
              "tweet_url                      object\n",
              "user_created_at                object\n",
              "user_screen_name               object\n",
              "user_default_profile_image       bool\n",
              "user_description               object\n",
              "user_favourites_count           int64\n",
              "user_followers_count            int64\n",
              "user_friends_count              int64\n",
              "user_listed_count               int64\n",
              "user_location                  object\n",
              "user_name                      object\n",
              "user_screen_name.1             object\n",
              "user_statuses_count             int64\n",
              "user_time_zone                float64\n",
              "user_urls                      object\n",
              "user_verified                    bool\n",
              "dtype: object"
            ]
          },
          "metadata": {
            "tags": []
          },
          "execution_count": 5
        }
      ]
    },
    {
      "cell_type": "markdown",
      "metadata": {
        "id": "UZfDm-YdvsBC"
      },
      "source": [
        "## Readjust attribute datatype\n",
        "\n",
        "For `retweet_id`, `in_reply_to_status_id`, `in_reply_to_user_id`\n",
        "- Convert `null` values to 0\n",
        "- Convert attribute as int64"
      ]
    },
    {
      "cell_type": "code",
      "metadata": {
        "id": "BNtxXnmyuroY"
      },
      "source": [
        "df.retweet_id = df[df['retweet_id'].notnull()].retweet_id.astype('int64') "
      ],
      "execution_count": 6,
      "outputs": []
    },
    {
      "cell_type": "code",
      "metadata": {
        "id": "Wq7nVqm-Ybq5"
      },
      "source": [
        "df.retweet_id = df.retweet_id.fillna(0).astype('int64')\n",
        "df.in_reply_to_status_id = df.in_reply_to_status_id.fillna(0).astype('int64')\n",
        "df.in_reply_to_user_id = df.in_reply_to_user_id.fillna(0).astype('int64')"
      ],
      "execution_count": 7,
      "outputs": []
    },
    {
      "cell_type": "markdown",
      "metadata": {
        "id": "A1vhtGcnzqtp"
      },
      "source": [
        "## Misc. cleaning up to reduce noise when conducting sentimental analysis\n",
        "1. remove \\n\n",
        "2. remove URL\n",
        "3. remove user referrals\n",
        "4. remove hashtags"
      ]
    },
    {
      "cell_type": "code",
      "metadata": {
        "id": "TGLSjXA00aBs"
      },
      "source": [
        "df['modified_text'] = df.text.str.replace(r'\\n', '')\n",
        "df['modified_text'] = df.modified_text.str.replace(r'(http|ftp|https)://([\\w_-]+(?:(?:\\.[\\w_-]+)+))([\\w.,@?^=%&:/~+#-]*[\\w@?^=%&/~+#-])?', '')\n",
        "df['modified_text'] = df.modified_text.str.replace(r'\\B@\\w+', '')\n",
        "df['modified_text'] = df.modified_text.str.replace(r'\\B#\\w+', '')"
      ],
      "execution_count": 8,
      "outputs": []
    },
    {
      "cell_type": "markdown",
      "metadata": {
        "id": "4XU0njxYunzu"
      },
      "source": [
        "## Splitting Dataframes (originals and retweets)\n",
        "\n",
        "The collection includes both original tweets and retweets. Since retweets mirrors the original tweet by someone else other than the author, we don't need to run sentimental analysis on the retweet as it would have been run on the original tweet, therefore we can split original tweets and retweets into two dataframes to avoid wasting resources.\n",
        "\n",
        "\n",
        "- Original tweets: `dfOriginals`\n",
        "- Retweets: `dfRetweets` cons\n",
        "\n",
        "\n",
        "\n"
      ]
    },
    {
      "cell_type": "code",
      "metadata": {
        "id": "jPydisljWkFM"
      },
      "source": [
        "dfOriginals = df[df.retweet_id == 0]\n",
        "dfRetweets = df[df.retweet_id != 0]"
      ],
      "execution_count": 9,
      "outputs": []
    },
    {
      "cell_type": "markdown",
      "metadata": {
        "id": "r1UH6f4QNP24"
      },
      "source": [
        "Two samples of the original tweet dataframe."
      ]
    },
    {
      "cell_type": "code",
      "metadata": {
        "id": "d5nEYW5qOVAg",
        "colab": {
          "base_uri": "https://localhost:8080/",
          "height": 318
        },
        "outputId": "87d89ee8-d3e2-412f-d72e-8a2b984cb9d7"
      },
      "source": [
        "dfOriginals.sample(2)"
      ],
      "execution_count": 10,
      "outputs": [
        {
          "output_type": "execute_result",
          "data": {
            "text/html": [
              "<div>\n",
              "<style scoped>\n",
              "    .dataframe tbody tr th:only-of-type {\n",
              "        vertical-align: middle;\n",
              "    }\n",
              "\n",
              "    .dataframe tbody tr th {\n",
              "        vertical-align: top;\n",
              "    }\n",
              "\n",
              "    .dataframe thead th {\n",
              "        text-align: right;\n",
              "    }\n",
              "</style>\n",
              "<table border=\"1\" class=\"dataframe\">\n",
              "  <thead>\n",
              "    <tr style=\"text-align: right;\">\n",
              "      <th></th>\n",
              "      <th>coordinates</th>\n",
              "      <th>created_at</th>\n",
              "      <th>hashtags</th>\n",
              "      <th>media</th>\n",
              "      <th>urls</th>\n",
              "      <th>favorite_count</th>\n",
              "      <th>id</th>\n",
              "      <th>in_reply_to_screen_name</th>\n",
              "      <th>in_reply_to_status_id</th>\n",
              "      <th>in_reply_to_user_id</th>\n",
              "      <th>lang</th>\n",
              "      <th>place</th>\n",
              "      <th>possibly_sensitive</th>\n",
              "      <th>retweet_count</th>\n",
              "      <th>retweet_id</th>\n",
              "      <th>retweet_screen_name</th>\n",
              "      <th>source</th>\n",
              "      <th>text</th>\n",
              "      <th>tweet_url</th>\n",
              "      <th>user_created_at</th>\n",
              "      <th>user_screen_name</th>\n",
              "      <th>user_default_profile_image</th>\n",
              "      <th>user_description</th>\n",
              "      <th>user_favourites_count</th>\n",
              "      <th>user_followers_count</th>\n",
              "      <th>user_friends_count</th>\n",
              "      <th>user_listed_count</th>\n",
              "      <th>user_location</th>\n",
              "      <th>user_name</th>\n",
              "      <th>user_screen_name.1</th>\n",
              "      <th>user_statuses_count</th>\n",
              "      <th>user_time_zone</th>\n",
              "      <th>user_urls</th>\n",
              "      <th>user_verified</th>\n",
              "      <th>modified_text</th>\n",
              "    </tr>\n",
              "  </thead>\n",
              "  <tbody>\n",
              "    <tr>\n",
              "      <th>4421</th>\n",
              "      <td>NaN</td>\n",
              "      <td>Tue Mar 31 04:45:13 +0000 2020</td>\n",
              "      <td>pharmdfightscorona</td>\n",
              "      <td>NaN</td>\n",
              "      <td>NaN</td>\n",
              "      <td>1</td>\n",
              "      <td>1244848198184812545</td>\n",
              "      <td>AmitShah</td>\n",
              "      <td>1244215614278795264</td>\n",
              "      <td>1447949844</td>\n",
              "      <td>en</td>\n",
              "      <td>NaN</td>\n",
              "      <td>NaN</td>\n",
              "      <td>1</td>\n",
              "      <td>0</td>\n",
              "      <td>NaN</td>\n",
              "      <td>&lt;a href=\"http://twitter.com/download/android\" rel=\"nofollow\"&gt;Twitter for Android&lt;/a&gt;</td>\n",
              "      <td>@AmitShah @narendramodi Respected Sir, \\nIn these difficult times, we PharmD Doctors would like to join hands with the government of India &amp;amp; Other Healthcare professionals to fight against pandemic COVID-19/CORONA VIRUS \\n@TelanganaCMO @PMOIndia @KTRTRS @drharshvardhan\\n@DrHVoffice\\n#pharmdfightscorona</td>\n",
              "      <td>https://twitter.com/DrChandrapharmd/status/1244848198184812545</td>\n",
              "      <td>Tue Sep 09 18:07:26 +0000 2014</td>\n",
              "      <td>DrChandrapharmd</td>\n",
              "      <td>False</td>\n",
              "      <td>CLINICAL PHARMACIST, Entrepreneur, social Activist. Managing Director of Dhatree Healthcare Pvt Ltd.  PharmD doctors welfare association founder/president</td>\n",
              "      <td>1596</td>\n",
              "      <td>993</td>\n",
              "      <td>812</td>\n",
              "      <td>1</td>\n",
              "      <td>Hyderabad, Telangana</td>\n",
              "      <td>Dr.Chandrashekar Pharm.D</td>\n",
              "      <td>DrChandrapharmd</td>\n",
              "      <td>2065</td>\n",
              "      <td>NaN</td>\n",
              "      <td>https://www.facebook.com/DrChandrashekarPharmd</td>\n",
              "      <td>False</td>\n",
              "      <td>Respected Sir, In these difficult times, we PharmD Doctors would like to join hands with the government of India &amp;amp; Other Healthcare professionals to fight against pandemic COVID-19/CORONA VIRUS    @DrHVoffice#pharmdfightscorona</td>\n",
              "    </tr>\n",
              "    <tr>\n",
              "      <th>236008</th>\n",
              "      <td>NaN</td>\n",
              "      <td>Tue Mar 31 12:08:58 +0000 2020</td>\n",
              "      <td>NaN</td>\n",
              "      <td>NaN</td>\n",
              "      <td>NaN</td>\n",
              "      <td>0</td>\n",
              "      <td>1244959871981826048</td>\n",
              "      <td>joelycett</td>\n",
              "      <td>1234134537984266240</td>\n",
              "      <td>17948810</td>\n",
              "      <td>en</td>\n",
              "      <td>NaN</td>\n",
              "      <td>NaN</td>\n",
              "      <td>0</td>\n",
              "      <td>0</td>\n",
              "      <td>NaN</td>\n",
              "      <td>&lt;a href=\"https://mobile.twitter.com\" rel=\"nofollow\"&gt;Twitter Web App&lt;/a&gt;</td>\n",
              "      <td>@joelycett @djp2k18 @HUGOBOSS you are so super non-corona, Sir!</td>\n",
              "      <td>https://twitter.com/TryingTypi/status/1244959871981826048</td>\n",
              "      <td>Fri Feb 14 16:20:24 +0000 2014</td>\n",
              "      <td>TryingTypi</td>\n",
              "      <td>False</td>\n",
              "      <td>NaN</td>\n",
              "      <td>2413</td>\n",
              "      <td>17</td>\n",
              "      <td>13</td>\n",
              "      <td>0</td>\n",
              "      <td>NaN</td>\n",
              "      <td>confusi</td>\n",
              "      <td>TryingTypi</td>\n",
              "      <td>187</td>\n",
              "      <td>NaN</td>\n",
              "      <td>NaN</td>\n",
              "      <td>False</td>\n",
              "      <td>you are so super non-corona, Sir!</td>\n",
              "    </tr>\n",
              "  </tbody>\n",
              "</table>\n",
              "</div>"
            ],
            "text/plain": [
              "       coordinates  ...                                                                                                                                                                                                                              modified_text\n",
              "4421           NaN  ...    Respected Sir, In these difficult times, we PharmD Doctors would like to join hands with the government of India &amp; Other Healthcare professionals to fight against pandemic COVID-19/CORONA VIRUS    @DrHVoffice#pharmdfightscorona\n",
              "236008         NaN  ...                                                                                                                                                                                                          you are so super non-corona, Sir!\n",
              "\n",
              "[2 rows x 35 columns]"
            ]
          },
          "metadata": {
            "tags": []
          },
          "execution_count": 10
        }
      ]
    },
    {
      "cell_type": "markdown",
      "metadata": {
        "id": "Jfq66BaYpojK"
      },
      "source": [
        "## Guessing language\n",
        "\n",
        "Since our sentiment analysis focuses on only English tweets, we will install a `langdetect` library to help filter out tweets that are not English."
      ]
    },
    {
      "cell_type": "code",
      "metadata": {
        "id": "pPwDbh-HmBv8",
        "colab": {
          "base_uri": "https://localhost:8080/"
        },
        "outputId": "d9c72833-df82-4752-d5dc-85cf37c42b56"
      },
      "source": [
        "#https://pypi.org/project/langdetect/\n",
        "!pip install langdetect\n",
        "from langdetect import detect\n",
        "from langdetect import DetectorFactory\n",
        "DetectorFactory.seed = 0\n",
        "\n"
      ],
      "execution_count": 11,
      "outputs": [
        {
          "output_type": "stream",
          "text": [
            "Collecting langdetect\n",
            "\u001b[?25l  Downloading https://files.pythonhosted.org/packages/56/a3/8407c1e62d5980188b4acc45ef3d94b933d14a2ebc9ef3505f22cf772570/langdetect-1.0.8.tar.gz (981kB)\n",
            "\r\u001b[K     |▍                               | 10kB 15.6MB/s eta 0:00:01\r\u001b[K     |▊                               | 20kB 19.8MB/s eta 0:00:01\r\u001b[K     |█                               | 30kB 21.1MB/s eta 0:00:01\r\u001b[K     |█▍                              | 40kB 13.3MB/s eta 0:00:01\r\u001b[K     |█▊                              | 51kB 9.0MB/s eta 0:00:01\r\u001b[K     |██                              | 61kB 10.2MB/s eta 0:00:01\r\u001b[K     |██▍                             | 71kB 9.3MB/s eta 0:00:01\r\u001b[K     |██▊                             | 81kB 10.2MB/s eta 0:00:01\r\u001b[K     |███                             | 92kB 9.0MB/s eta 0:00:01\r\u001b[K     |███▍                            | 102kB 8.1MB/s eta 0:00:01\r\u001b[K     |███▊                            | 112kB 8.1MB/s eta 0:00:01\r\u001b[K     |████                            | 122kB 8.1MB/s eta 0:00:01\r\u001b[K     |████▍                           | 133kB 8.1MB/s eta 0:00:01\r\u001b[K     |████▊                           | 143kB 8.1MB/s eta 0:00:01\r\u001b[K     |█████                           | 153kB 8.1MB/s eta 0:00:01\r\u001b[K     |█████▍                          | 163kB 8.1MB/s eta 0:00:01\r\u001b[K     |█████▊                          | 174kB 8.1MB/s eta 0:00:01\r\u001b[K     |██████                          | 184kB 8.1MB/s eta 0:00:01\r\u001b[K     |██████▍                         | 194kB 8.1MB/s eta 0:00:01\r\u001b[K     |██████▊                         | 204kB 8.1MB/s eta 0:00:01\r\u001b[K     |███████                         | 215kB 8.1MB/s eta 0:00:01\r\u001b[K     |███████▍                        | 225kB 8.1MB/s eta 0:00:01\r\u001b[K     |███████▊                        | 235kB 8.1MB/s eta 0:00:01\r\u001b[K     |████████                        | 245kB 8.1MB/s eta 0:00:01\r\u001b[K     |████████▍                       | 256kB 8.1MB/s eta 0:00:01\r\u001b[K     |████████▊                       | 266kB 8.1MB/s eta 0:00:01\r\u001b[K     |█████████                       | 276kB 8.1MB/s eta 0:00:01\r\u001b[K     |█████████▍                      | 286kB 8.1MB/s eta 0:00:01\r\u001b[K     |█████████▊                      | 296kB 8.1MB/s eta 0:00:01\r\u001b[K     |██████████                      | 307kB 8.1MB/s eta 0:00:01\r\u001b[K     |██████████▍                     | 317kB 8.1MB/s eta 0:00:01\r\u001b[K     |██████████▊                     | 327kB 8.1MB/s eta 0:00:01\r\u001b[K     |███████████                     | 337kB 8.1MB/s eta 0:00:01\r\u001b[K     |███████████▍                    | 348kB 8.1MB/s eta 0:00:01\r\u001b[K     |███████████▊                    | 358kB 8.1MB/s eta 0:00:01\r\u001b[K     |████████████                    | 368kB 8.1MB/s eta 0:00:01\r\u001b[K     |████████████▍                   | 378kB 8.1MB/s eta 0:00:01\r\u001b[K     |████████████▊                   | 389kB 8.1MB/s eta 0:00:01\r\u001b[K     |█████████████                   | 399kB 8.1MB/s eta 0:00:01\r\u001b[K     |█████████████▍                  | 409kB 8.1MB/s eta 0:00:01\r\u001b[K     |█████████████▊                  | 419kB 8.1MB/s eta 0:00:01\r\u001b[K     |██████████████                  | 430kB 8.1MB/s eta 0:00:01\r\u001b[K     |██████████████▍                 | 440kB 8.1MB/s eta 0:00:01\r\u001b[K     |██████████████▊                 | 450kB 8.1MB/s eta 0:00:01\r\u001b[K     |███████████████                 | 460kB 8.1MB/s eta 0:00:01\r\u001b[K     |███████████████▍                | 471kB 8.1MB/s eta 0:00:01\r\u001b[K     |███████████████▊                | 481kB 8.1MB/s eta 0:00:01\r\u001b[K     |████████████████                | 491kB 8.1MB/s eta 0:00:01\r\u001b[K     |████████████████▍               | 501kB 8.1MB/s eta 0:00:01\r\u001b[K     |████████████████▊               | 512kB 8.1MB/s eta 0:00:01\r\u001b[K     |█████████████████               | 522kB 8.1MB/s eta 0:00:01\r\u001b[K     |█████████████████▍              | 532kB 8.1MB/s eta 0:00:01\r\u001b[K     |█████████████████▊              | 542kB 8.1MB/s eta 0:00:01\r\u001b[K     |██████████████████              | 552kB 8.1MB/s eta 0:00:01\r\u001b[K     |██████████████████▍             | 563kB 8.1MB/s eta 0:00:01\r\u001b[K     |██████████████████▊             | 573kB 8.1MB/s eta 0:00:01\r\u001b[K     |███████████████████             | 583kB 8.1MB/s eta 0:00:01\r\u001b[K     |███████████████████▍            | 593kB 8.1MB/s eta 0:00:01\r\u001b[K     |███████████████████▊            | 604kB 8.1MB/s eta 0:00:01\r\u001b[K     |████████████████████            | 614kB 8.1MB/s eta 0:00:01\r\u001b[K     |████████████████████▍           | 624kB 8.1MB/s eta 0:00:01\r\u001b[K     |████████████████████▊           | 634kB 8.1MB/s eta 0:00:01\r\u001b[K     |█████████████████████           | 645kB 8.1MB/s eta 0:00:01\r\u001b[K     |█████████████████████▍          | 655kB 8.1MB/s eta 0:00:01\r\u001b[K     |█████████████████████▊          | 665kB 8.1MB/s eta 0:00:01\r\u001b[K     |██████████████████████          | 675kB 8.1MB/s eta 0:00:01\r\u001b[K     |██████████████████████▍         | 686kB 8.1MB/s eta 0:00:01\r\u001b[K     |██████████████████████▊         | 696kB 8.1MB/s eta 0:00:01\r\u001b[K     |███████████████████████         | 706kB 8.1MB/s eta 0:00:01\r\u001b[K     |███████████████████████▍        | 716kB 8.1MB/s eta 0:00:01\r\u001b[K     |███████████████████████▊        | 727kB 8.1MB/s eta 0:00:01\r\u001b[K     |████████████████████████        | 737kB 8.1MB/s eta 0:00:01\r\u001b[K     |████████████████████████▍       | 747kB 8.1MB/s eta 0:00:01\r\u001b[K     |████████████████████████▊       | 757kB 8.1MB/s eta 0:00:01\r\u001b[K     |█████████████████████████       | 768kB 8.1MB/s eta 0:00:01\r\u001b[K     |█████████████████████████▍      | 778kB 8.1MB/s eta 0:00:01\r\u001b[K     |█████████████████████████▊      | 788kB 8.1MB/s eta 0:00:01\r\u001b[K     |██████████████████████████      | 798kB 8.1MB/s eta 0:00:01\r\u001b[K     |██████████████████████████▍     | 808kB 8.1MB/s eta 0:00:01\r\u001b[K     |██████████████████████████▊     | 819kB 8.1MB/s eta 0:00:01\r\u001b[K     |███████████████████████████     | 829kB 8.1MB/s eta 0:00:01\r\u001b[K     |███████████████████████████▍    | 839kB 8.1MB/s eta 0:00:01\r\u001b[K     |███████████████████████████▊    | 849kB 8.1MB/s eta 0:00:01\r\u001b[K     |████████████████████████████    | 860kB 8.1MB/s eta 0:00:01\r\u001b[K     |████████████████████████████▍   | 870kB 8.1MB/s eta 0:00:01\r\u001b[K     |████████████████████████████▊   | 880kB 8.1MB/s eta 0:00:01\r\u001b[K     |█████████████████████████████   | 890kB 8.1MB/s eta 0:00:01\r\u001b[K     |█████████████████████████████▍  | 901kB 8.1MB/s eta 0:00:01\r\u001b[K     |█████████████████████████████▊  | 911kB 8.1MB/s eta 0:00:01\r\u001b[K     |██████████████████████████████  | 921kB 8.1MB/s eta 0:00:01\r\u001b[K     |██████████████████████████████▍ | 931kB 8.1MB/s eta 0:00:01\r\u001b[K     |██████████████████████████████▊ | 942kB 8.1MB/s eta 0:00:01\r\u001b[K     |███████████████████████████████ | 952kB 8.1MB/s eta 0:00:01\r\u001b[K     |███████████████████████████████▍| 962kB 8.1MB/s eta 0:00:01\r\u001b[K     |███████████████████████████████▊| 972kB 8.1MB/s eta 0:00:01\r\u001b[K     |████████████████████████████████| 983kB 8.1MB/s \n",
            "\u001b[?25hRequirement already satisfied: six in /usr/local/lib/python3.6/dist-packages (from langdetect) (1.15.0)\n",
            "Building wheels for collected packages: langdetect\n",
            "  Building wheel for langdetect (setup.py) ... \u001b[?25l\u001b[?25hdone\n",
            "  Created wheel for langdetect: filename=langdetect-1.0.8-cp36-none-any.whl size=993195 sha256=2156388b3e75d7ad0aec3208b13f356b60b5452b6131e67ba856e15cc5345741\n",
            "  Stored in directory: /root/.cache/pip/wheels/8d/b3/aa/6d99de9f3841d7d3d40a60ea06e6d669e8e5012e6c8b947a57\n",
            "Successfully built langdetect\n",
            "Installing collected packages: langdetect\n",
            "Successfully installed langdetect-1.0.8\n"
          ],
          "name": "stdout"
        }
      ]
    },
    {
      "cell_type": "markdown",
      "metadata": {
        "id": "oPdqdngRnI8B"
      },
      "source": [
        "Function to test whether tweet is English with error handling."
      ]
    },
    {
      "cell_type": "code",
      "metadata": {
        "id": "HJWNxzqbQhIz"
      },
      "source": [
        "#https://stackoverflow.com/questions/60930935/exclude-non-english-rows-in-pandas\n",
        "\n",
        "def is_en(txt):\n",
        "    try:\n",
        "        return detect(txt)=='en'\n",
        "    except:\n",
        "        return False"
      ],
      "execution_count": 12,
      "outputs": []
    },
    {
      "cell_type": "markdown",
      "metadata": {
        "id": "zF4fSfUF3Gcy"
      },
      "source": [
        "Passing as the `is_en()` as first-class function; returning a boolean value as a attribute `guessed_language`."
      ]
    },
    {
      "cell_type": "code",
      "metadata": {
        "id": "CCxbwQfSmht4",
        "colab": {
          "base_uri": "https://localhost:8080/"
        },
        "outputId": "e0e55256-deaa-48db-8355-a67182d6fce6"
      },
      "source": [
        "dfOriginals['guessed_language'] = dfOriginals.modified_text.apply(is_en)"
      ],
      "execution_count": 13,
      "outputs": [
        {
          "output_type": "stream",
          "text": [
            "/usr/local/lib/python3.6/dist-packages/ipykernel_launcher.py:1: SettingWithCopyWarning: \n",
            "A value is trying to be set on a copy of a slice from a DataFrame.\n",
            "Try using .loc[row_indexer,col_indexer] = value instead\n",
            "\n",
            "See the caveats in the documentation: https://pandas.pydata.org/pandas-docs/stable/user_guide/indexing.html#returning-a-view-versus-a-copy\n",
            "  \"\"\"Entry point for launching an IPython kernel.\n"
          ],
          "name": "stderr"
        }
      ]
    },
    {
      "cell_type": "markdown",
      "metadata": {
        "id": "dsfksiehng6H"
      },
      "source": [
        "By filtering out non-English tweets, we remove noise that can potentially affect our sentimental analysis."
      ]
    },
    {
      "cell_type": "code",
      "metadata": {
        "id": "zPoRWDGSXx99",
        "colab": {
          "base_uri": "https://localhost:8080/"
        },
        "outputId": "48cdf81b-dfdc-4b4d-d648-306bb216edfe"
      },
      "source": [
        "print(\"There are \" + str(len(dfOriginals)) + \" tweets, and \" + str(sum(dfOriginals.guessed_language)) + \" (\"+str(round((sum(dfOriginals.guessed_language) / len(dfOriginals)) * 100, 2))+\"%) tweets detect as English.\")"
      ],
      "execution_count": 14,
      "outputs": [
        {
          "output_type": "stream",
          "text": [
            "There are 245389 tweets, and 232816 (94.88%) tweets detect as English.\n"
          ],
          "name": "stdout"
        }
      ]
    },
    {
      "cell_type": "markdown",
      "metadata": {
        "id": "atZ26M3rYTfg"
      },
      "source": [
        "# Step 6. Sentiment Analysis"
      ]
    },
    {
      "cell_type": "markdown",
      "metadata": {
        "id": "ezcFLOzHLRE_"
      },
      "source": [
        "To conduct Seitment Analysis, we begin by importing the NLTK library."
      ]
    },
    {
      "cell_type": "code",
      "metadata": {
        "id": "PxgmxMWypoi2",
        "colab": {
          "base_uri": "https://localhost:8080/"
        },
        "outputId": "5f2b611c-3579-4f39-977c-e35f37c95ee6"
      },
      "source": [
        "import nltk\n",
        "from nltk.sentiment.util import *\n",
        "from nltk.sentiment import SentimentIntensityAnalyzer\n",
        "from nltk import tokenize\n",
        "nltk.download('punkt')\n",
        "nltk.download('vader_lexicon')\n",
        "sid = SentimentIntensityAnalyzer()"
      ],
      "execution_count": 15,
      "outputs": [
        {
          "output_type": "stream",
          "text": [
            "/usr/local/lib/python3.6/dist-packages/nltk/twitter/__init__.py:20: UserWarning: The twython library has not been installed. Some functionality from the twitter package will not be available.\n",
            "  warnings.warn(\"The twython library has not been installed. \"\n"
          ],
          "name": "stderr"
        },
        {
          "output_type": "stream",
          "text": [
            "[nltk_data] Downloading package punkt to /root/nltk_data...\n",
            "[nltk_data]   Unzipping tokenizers/punkt.zip.\n",
            "[nltk_data] Downloading package vader_lexicon to /root/nltk_data...\n"
          ],
          "name": "stdout"
        }
      ]
    },
    {
      "cell_type": "markdown",
      "metadata": {
        "id": "IhrR1DkvcgNO"
      },
      "source": [
        "## Applying Sentiment Analysis function\n",
        "\n",
        "We apply the polarity score function and store results on a new attribute `sentimentscore`.\n",
        "\n"
      ]
    },
    {
      "cell_type": "code",
      "metadata": {
        "id": "Zjw8l4kapojF",
        "colab": {
          "base_uri": "https://localhost:8080/"
        },
        "outputId": "cdf9d559-bb1a-42cf-883e-46a4cb150846"
      },
      "source": [
        "dfOriginals['sentimentscore'] = dfOriginals.modified_text.apply(sid.polarity_scores)"
      ],
      "execution_count": 16,
      "outputs": [
        {
          "output_type": "stream",
          "text": [
            "/usr/local/lib/python3.6/dist-packages/ipykernel_launcher.py:1: SettingWithCopyWarning: \n",
            "A value is trying to be set on a copy of a slice from a DataFrame.\n",
            "Try using .loc[row_indexer,col_indexer] = value instead\n",
            "\n",
            "See the caveats in the documentation: https://pandas.pydata.org/pandas-docs/stable/user_guide/indexing.html#returning-a-view-versus-a-copy\n",
            "  \"\"\"Entry point for launching an IPython kernel.\n"
          ],
          "name": "stderr"
        }
      ]
    },
    {
      "cell_type": "markdown",
      "metadata": {
        "id": "MKHk7KzTXSNZ"
      },
      "source": [
        "A quick sample preview of the text and its sentiment score."
      ]
    },
    {
      "cell_type": "code",
      "metadata": {
        "id": "juosFirzpojI",
        "colab": {
          "base_uri": "https://localhost:8080/",
          "height": 111
        },
        "outputId": "0418f89f-69fe-4627-ed9d-c975d75e8dcd"
      },
      "source": [
        "dfOriginals.sample(2)[['modified_text','sentimentscore']]"
      ],
      "execution_count": 17,
      "outputs": [
        {
          "output_type": "execute_result",
          "data": {
            "text/html": [
              "<div>\n",
              "<style scoped>\n",
              "    .dataframe tbody tr th:only-of-type {\n",
              "        vertical-align: middle;\n",
              "    }\n",
              "\n",
              "    .dataframe tbody tr th {\n",
              "        vertical-align: top;\n",
              "    }\n",
              "\n",
              "    .dataframe thead th {\n",
              "        text-align: right;\n",
              "    }\n",
              "</style>\n",
              "<table border=\"1\" class=\"dataframe\">\n",
              "  <thead>\n",
              "    <tr style=\"text-align: right;\">\n",
              "      <th></th>\n",
              "      <th>modified_text</th>\n",
              "      <th>sentimentscore</th>\n",
              "    </tr>\n",
              "  </thead>\n",
              "  <tbody>\n",
              "    <tr>\n",
              "      <th>141175</th>\n",
              "      <td>like she was releasing merch anyway, it’s not like it was corona themed...</td>\n",
              "      <td>{'neg': 0.0, 'neu': 0.688, 'pos': 0.312, 'compound': 0.6124}</td>\n",
              "    </tr>\n",
              "    <tr>\n",
              "      <th>262027</th>\n",
              "      <td>Yeahhh....Corona Virus is a blanket name for viruses with a crown like hook/spike. Corona simply means crown in Spanish. COVID-19 is an acronym. Corona Virus 2019.</td>\n",
              "      <td>{'neg': 0.0, 'neu': 0.902, 'pos': 0.098, 'compound': 0.3612}</td>\n",
              "    </tr>\n",
              "  </tbody>\n",
              "</table>\n",
              "</div>"
            ],
            "text/plain": [
              "                                                                                                                                                                                    modified_text                                                sentimentscore\n",
              "141175                                                                                                                 like she was releasing merch anyway, it’s not like it was corona themed...  {'neg': 0.0, 'neu': 0.688, 'pos': 0.312, 'compound': 0.6124}\n",
              "262027                        Yeahhh....Corona Virus is a blanket name for viruses with a crown like hook/spike. Corona simply means crown in Spanish. COVID-19 is an acronym. Corona Virus 2019.  {'neg': 0.0, 'neu': 0.902, 'pos': 0.098, 'compound': 0.3612}"
            ]
          },
          "metadata": {
            "tags": []
          },
          "execution_count": 17
        }
      ]
    },
    {
      "cell_type": "markdown",
      "metadata": {
        "id": "kbrLEIGyEET0"
      },
      "source": [
        "The `SentimentIntensityAnalyzer()` returns a dictionary of scores negative, neutral, positive, and compound. Compound is the normalization of negative, neutral, and positive values.\n",
        "\n",
        "\n",
        "How compound is calculated? https://stackoverflow.com/questions/40325980/how-is-the-vader-compound-polarity-score-calculated-in-python-nltk\n",
        "\n",
        "Next, we expand the score, which is currently as dictionary, into their own attributes for better data manipulation--especially the compound attribute."
      ]
    },
    {
      "cell_type": "code",
      "metadata": {
        "id": "M9GcU1qtEKha"
      },
      "source": [
        "dfOriginalSScore = pd.json_normalize(dfOriginals.sentimentscore)\n",
        "dfOriginalSScore['original_index'] = dfOriginals.index\n",
        "dfOriginalSScore = dfOriginalSScore.set_index('original_index')"
      ],
      "execution_count": 18,
      "outputs": []
    },
    {
      "cell_type": "markdown",
      "metadata": {
        "id": "cyfN7LjOLffd"
      },
      "source": [
        "Merge the dataframe with sentiment scores and the dataframe with the original tweets together, onto a new dataframe `dfOriginals_Analyzed`."
      ]
    },
    {
      "cell_type": "code",
      "metadata": {
        "id": "Z9nqoDf7comS"
      },
      "source": [
        "dfOriginals_Analyzed = dfOriginals.merge(dfOriginalSScore, left_index=True, right_index=True)"
      ],
      "execution_count": 19,
      "outputs": []
    },
    {
      "cell_type": "markdown",
      "metadata": {
        "id": "baZ82QGJLxqf"
      },
      "source": [
        "Quick preview of modified text and compound on the merged dataframe."
      ]
    },
    {
      "cell_type": "code",
      "metadata": {
        "id": "aoK5ZqBlU9Wa",
        "colab": {
          "base_uri": "https://localhost:8080/",
          "height": 359
        },
        "outputId": "9452e39b-60bb-4e4e-99a4-2d95ee829ec9"
      },
      "source": [
        "dfOriginals_Analyzed.sample(10)[['modified_text','compound']]"
      ],
      "execution_count": 20,
      "outputs": [
        {
          "output_type": "execute_result",
          "data": {
            "text/html": [
              "<div>\n",
              "<style scoped>\n",
              "    .dataframe tbody tr th:only-of-type {\n",
              "        vertical-align: middle;\n",
              "    }\n",
              "\n",
              "    .dataframe tbody tr th {\n",
              "        vertical-align: top;\n",
              "    }\n",
              "\n",
              "    .dataframe thead th {\n",
              "        text-align: right;\n",
              "    }\n",
              "</style>\n",
              "<table border=\"1\" class=\"dataframe\">\n",
              "  <thead>\n",
              "    <tr style=\"text-align: right;\">\n",
              "      <th></th>\n",
              "      <th>modified_text</th>\n",
              "      <th>compound</th>\n",
              "    </tr>\n",
              "  </thead>\n",
              "  <tbody>\n",
              "    <tr>\n",
              "      <th>497480</th>\n",
              "      <td>Retweeted this again !!!!!! Lets order and become a super hero~</td>\n",
              "      <td>0.7243</td>\n",
              "    </tr>\n",
              "    <tr>\n",
              "      <th>326535</th>\n",
              "      <td>Who knew I was always tired and depressed because of all the pills I was doing? Assuming I don't die of the Corona this quarantine is probably saving my life fr.</td>\n",
              "      <td>-0.4685</td>\n",
              "    </tr>\n",
              "    <tr>\n",
              "      <th>551489</th>\n",
              "      <td>Fraud hai Tiger force..ploy to loot Corona fund in name of volunteer..see result in 2 weeks</td>\n",
              "      <td>-0.5859</td>\n",
              "    </tr>\n",
              "    <tr>\n",
              "      <th>106063</th>\n",
              "      <td>This one can lick 👅 away Corona Virus 🦠 in the world</td>\n",
              "      <td>0.0000</td>\n",
              "    </tr>\n",
              "    <tr>\n",
              "      <th>1925</th>\n",
              "      <td>corona = no let's plays 😡😡😡</td>\n",
              "      <td>-0.0516</td>\n",
              "    </tr>\n",
              "    <tr>\n",
              "      <th>106393</th>\n",
              "      <td>your support into the things you want to exist after the current wyrdness. Including me!! :)Corona Bundle:</td>\n",
              "      <td>0.5550</td>\n",
              "    </tr>\n",
              "    <tr>\n",
              "      <th>571656</th>\n",
              "      <td>who is corona and why is she killing people? like someone put that girl in jail</td>\n",
              "      <td>-0.4404</td>\n",
              "    </tr>\n",
              "    <tr>\n",
              "      <th>556127</th>\n",
              "      <td>Had the same discussion last week with a friend whose wife had her spleen removed a year ago she was told she would be put to the bottom of the list if she contracted Corona. 😪</td>\n",
              "      <td>0.4939</td>\n",
              "    </tr>\n",
              "    <tr>\n",
              "      <th>360531</th>\n",
              "      <td>Thank you! Bless you as well! I'm not trying to create fear, it's just that corona is such a big deal now that it's important that we know all the facts. New information comes out all the time.</td>\n",
              "      <td>0.5817</td>\n",
              "    </tr>\n",
              "    <tr>\n",
              "      <th>568975</th>\n",
              "      <td>Guy corona no fit catch ooo</td>\n",
              "      <td>0.0772</td>\n",
              "    </tr>\n",
              "  </tbody>\n",
              "</table>\n",
              "</div>"
            ],
            "text/plain": [
              "                                                                                                                                                                                              modified_text  compound\n",
              "497480                                                                                                                                     Retweeted this again !!!!!! Lets order and become a super hero~     0.7243\n",
              "326535                                    Who knew I was always tired and depressed because of all the pills I was doing? Assuming I don't die of the Corona this quarantine is probably saving my life fr.   -0.4685\n",
              "551489                                                                                                          Fraud hai Tiger force..ploy to loot Corona fund in name of volunteer..see result in 2 weeks   -0.5859\n",
              "106063                                                                                                                                                 This one can lick 👅 away Corona Virus 🦠 in the world    0.0000\n",
              "1925                                                                                                                                                                            corona = no let's plays 😡😡😡   -0.0516\n",
              "106393                                                                                          your support into the things you want to exist after the current wyrdness. Including me!! :)Corona Bundle:     0.5550\n",
              "571656                                                                                                                      who is corona and why is she killing people? like someone put that girl in jail   -0.4404\n",
              "556127                     Had the same discussion last week with a friend whose wife had her spleen removed a year ago she was told she would be put to the bottom of the list if she contracted Corona. 😪    0.4939\n",
              "360531    Thank you! Bless you as well! I'm not trying to create fear, it's just that corona is such a big deal now that it's important that we know all the facts. New information comes out all the time.    0.5817\n",
              "568975                                                                                                                                                                          Guy corona no fit catch ooo    0.0772"
            ]
          },
          "metadata": {
            "tags": []
          },
          "execution_count": 20
        }
      ]
    },
    {
      "cell_type": "markdown",
      "metadata": {
        "id": "haI-bZHZSbwB"
      },
      "source": [
        "We binning based on compound scores\n",
        "-1 to -0.1 = negative \n",
        "-0.1 to 0.1  = neutral\n",
        "0.1 to 1 = positive\n",
        "\n",
        "The threshold chosen is based on the paper \"Predictive Analysis of Resource Usage Data in Academic Libraries using the VADER Sentiment Algorithm\"\n",
        "\n",
        "Deo, G. S., Mishra, A., Jalaluddin, Z. M., & Mahamuni, C. V. (2020, September). Predictive Analysis of Resource Usage Data in Academic Libraries using the VADER Sentiment Algorithm. In 2020 12th International Conference on Computational Intelligence and Communication Networks (CICN) (pp. 221-228). IEEE.\n",
        "\n",
        "https://www.researchgate.net/profile/Gouri_Deo/publication/342988903_Predictive_Analysis_of_Resource_Usage_Data_in_Academic_Libraries_using_the_VADER_Sentiment_Algorithm/links/5f1085a6a6fdcc3ed70bcf20/Predictive-Analysis-of-Resource-Usage-Data-in-Academic-Libraries-using-the-VADER-Sentiment-Algorithm.pdf\n",
        "\n"
      ]
    },
    {
      "cell_type": "code",
      "metadata": {
        "id": "P2kbxHPFSlv0",
        "colab": {
          "base_uri": "https://localhost:8080/"
        },
        "outputId": "5100702d-ccf3-4e24-90d5-ab33253080e8"
      },
      "source": [
        "dfOriginals_Analyzed['sentiment_class_relaxed'] = pd.cut(dfOriginals_Analyzed['compound'], bins=[-1, -0.1, 0.1, 1], right=True, labels=['neg', 'neu', 'pos'])\n",
        "dfOriginals_Analyzed.sentiment_class_relaxed.value_counts()"
      ],
      "execution_count": 21,
      "outputs": [
        {
          "output_type": "execute_result",
          "data": {
            "text/plain": [
              "neg    89051\n",
              "pos    84039\n",
              "neu    72299\n",
              "Name: sentiment_class_relaxed, dtype: int64"
            ]
          },
          "metadata": {
            "tags": []
          },
          "execution_count": 21
        }
      ]
    },
    {
      "cell_type": "markdown",
      "metadata": {
        "id": "z301Ydq8pOWT"
      },
      "source": [
        "# Step 8. Basic Analysis\n",
        "\n",
        "Observing the correlation between variables."
      ]
    },
    {
      "cell_type": "code",
      "metadata": {
        "colab": {
          "base_uri": "https://localhost:8080/",
          "height": 204
        },
        "id": "85ESk5yIvkfQ",
        "outputId": "c7c5a986-9b39-4ebf-df10-b96b45b673aa"
      },
      "source": [
        "dfOriginals_Analyzed[['favorite_count','retweet_count','user_followers_count','compound','user_statuses_count']].corr()"
      ],
      "execution_count": 22,
      "outputs": [
        {
          "output_type": "execute_result",
          "data": {
            "text/html": [
              "<div>\n",
              "<style scoped>\n",
              "    .dataframe tbody tr th:only-of-type {\n",
              "        vertical-align: middle;\n",
              "    }\n",
              "\n",
              "    .dataframe tbody tr th {\n",
              "        vertical-align: top;\n",
              "    }\n",
              "\n",
              "    .dataframe thead th {\n",
              "        text-align: right;\n",
              "    }\n",
              "</style>\n",
              "<table border=\"1\" class=\"dataframe\">\n",
              "  <thead>\n",
              "    <tr style=\"text-align: right;\">\n",
              "      <th></th>\n",
              "      <th>favorite_count</th>\n",
              "      <th>retweet_count</th>\n",
              "      <th>user_followers_count</th>\n",
              "      <th>compound</th>\n",
              "      <th>user_statuses_count</th>\n",
              "    </tr>\n",
              "  </thead>\n",
              "  <tbody>\n",
              "    <tr>\n",
              "      <th>favorite_count</th>\n",
              "      <td>1.000000</td>\n",
              "      <td>0.908576</td>\n",
              "      <td>0.165683</td>\n",
              "      <td>-0.001108</td>\n",
              "      <td>0.015366</td>\n",
              "    </tr>\n",
              "    <tr>\n",
              "      <th>retweet_count</th>\n",
              "      <td>0.908576</td>\n",
              "      <td>1.000000</td>\n",
              "      <td>0.090025</td>\n",
              "      <td>-0.003071</td>\n",
              "      <td>0.015991</td>\n",
              "    </tr>\n",
              "    <tr>\n",
              "      <th>user_followers_count</th>\n",
              "      <td>0.165683</td>\n",
              "      <td>0.090025</td>\n",
              "      <td>1.000000</td>\n",
              "      <td>0.003693</td>\n",
              "      <td>0.116452</td>\n",
              "    </tr>\n",
              "    <tr>\n",
              "      <th>compound</th>\n",
              "      <td>-0.001108</td>\n",
              "      <td>-0.003071</td>\n",
              "      <td>0.003693</td>\n",
              "      <td>1.000000</td>\n",
              "      <td>-0.022604</td>\n",
              "    </tr>\n",
              "    <tr>\n",
              "      <th>user_statuses_count</th>\n",
              "      <td>0.015366</td>\n",
              "      <td>0.015991</td>\n",
              "      <td>0.116452</td>\n",
              "      <td>-0.022604</td>\n",
              "      <td>1.000000</td>\n",
              "    </tr>\n",
              "  </tbody>\n",
              "</table>\n",
              "</div>"
            ],
            "text/plain": [
              "                      favorite_count  ...  user_statuses_count\n",
              "favorite_count              1.000000  ...             0.015366\n",
              "retweet_count               0.908576  ...             0.015991\n",
              "user_followers_count        0.165683  ...             0.116452\n",
              "compound                   -0.001108  ...            -0.022604\n",
              "user_statuses_count         0.015366  ...             1.000000\n",
              "\n",
              "[5 rows x 5 columns]"
            ]
          },
          "metadata": {
            "tags": []
          },
          "execution_count": 22
        }
      ]
    },
    {
      "cell_type": "code",
      "metadata": {
        "colab": {
          "base_uri": "https://localhost:8080/",
          "height": 297
        },
        "id": "UDWk9JkiBfnT",
        "outputId": "d85a4e8f-41f2-443c-c042-0e293fa316d0"
      },
      "source": [
        "dfOriginals_Analyzed[['favorite_count','retweet_count','user_followers_count','compound','user_statuses_count','user_verified']].describe().apply(lambda s: s.apply('{0:.5f}'.format))"
      ],
      "execution_count": 23,
      "outputs": [
        {
          "output_type": "execute_result",
          "data": {
            "text/html": [
              "<div>\n",
              "<style scoped>\n",
              "    .dataframe tbody tr th:only-of-type {\n",
              "        vertical-align: middle;\n",
              "    }\n",
              "\n",
              "    .dataframe tbody tr th {\n",
              "        vertical-align: top;\n",
              "    }\n",
              "\n",
              "    .dataframe thead th {\n",
              "        text-align: right;\n",
              "    }\n",
              "</style>\n",
              "<table border=\"1\" class=\"dataframe\">\n",
              "  <thead>\n",
              "    <tr style=\"text-align: right;\">\n",
              "      <th></th>\n",
              "      <th>favorite_count</th>\n",
              "      <th>retweet_count</th>\n",
              "      <th>user_followers_count</th>\n",
              "      <th>compound</th>\n",
              "      <th>user_statuses_count</th>\n",
              "    </tr>\n",
              "  </thead>\n",
              "  <tbody>\n",
              "    <tr>\n",
              "      <th>count</th>\n",
              "      <td>245389.00000</td>\n",
              "      <td>245389.00000</td>\n",
              "      <td>245389.00000</td>\n",
              "      <td>245389.00000</td>\n",
              "      <td>245389.00000</td>\n",
              "    </tr>\n",
              "    <tr>\n",
              "      <th>mean</th>\n",
              "      <td>9.52971</td>\n",
              "      <td>2.70475</td>\n",
              "      <td>9251.20519</td>\n",
              "      <td>-0.01655</td>\n",
              "      <td>27468.30799</td>\n",
              "    </tr>\n",
              "    <tr>\n",
              "      <th>std</th>\n",
              "      <td>384.21091</td>\n",
              "      <td>122.27732</td>\n",
              "      <td>250678.23602</td>\n",
              "      <td>0.47919</td>\n",
              "      <td>75560.36124</td>\n",
              "    </tr>\n",
              "    <tr>\n",
              "      <th>min</th>\n",
              "      <td>0.00000</td>\n",
              "      <td>0.00000</td>\n",
              "      <td>0.00000</td>\n",
              "      <td>-0.99520</td>\n",
              "      <td>1.00000</td>\n",
              "    </tr>\n",
              "    <tr>\n",
              "      <th>25%</th>\n",
              "      <td>0.00000</td>\n",
              "      <td>0.00000</td>\n",
              "      <td>64.00000</td>\n",
              "      <td>-0.39760</td>\n",
              "      <td>1156.00000</td>\n",
              "    </tr>\n",
              "    <tr>\n",
              "      <th>50%</th>\n",
              "      <td>0.00000</td>\n",
              "      <td>0.00000</td>\n",
              "      <td>331.00000</td>\n",
              "      <td>0.00000</td>\n",
              "      <td>6344.00000</td>\n",
              "    </tr>\n",
              "    <tr>\n",
              "      <th>75%</th>\n",
              "      <td>1.00000</td>\n",
              "      <td>0.00000</td>\n",
              "      <td>1307.00000</td>\n",
              "      <td>0.36120</td>\n",
              "      <td>24616.00000</td>\n",
              "    </tr>\n",
              "    <tr>\n",
              "      <th>max</th>\n",
              "      <td>108137.00000</td>\n",
              "      <td>35137.00000</td>\n",
              "      <td>62855265.00000</td>\n",
              "      <td>0.99190</td>\n",
              "      <td>4472178.00000</td>\n",
              "    </tr>\n",
              "  </tbody>\n",
              "</table>\n",
              "</div>"
            ],
            "text/plain": [
              "      favorite_count retweet_count  ...      compound user_statuses_count\n",
              "count   245389.00000  245389.00000  ...  245389.00000        245389.00000\n",
              "mean         9.52971       2.70475  ...      -0.01655         27468.30799\n",
              "std        384.21091     122.27732  ...       0.47919         75560.36124\n",
              "min          0.00000       0.00000  ...      -0.99520             1.00000\n",
              "25%          0.00000       0.00000  ...      -0.39760          1156.00000\n",
              "50%          0.00000       0.00000  ...       0.00000          6344.00000\n",
              "75%          1.00000       0.00000  ...       0.36120         24616.00000\n",
              "max     108137.00000   35137.00000  ...       0.99190       4472178.00000\n",
              "\n",
              "[8 rows x 5 columns]"
            ]
          },
          "metadata": {
            "tags": []
          },
          "execution_count": 23
        }
      ]
    },
    {
      "cell_type": "markdown",
      "metadata": {
        "id": "MQkgLWhJtnwS"
      },
      "source": [
        "Plot Distribution of sentiment scores"
      ]
    },
    {
      "cell_type": "markdown",
      "metadata": {
        "id": "JWvyTRxxHfWt"
      },
      "source": [
        "The histogram shows the distribution appears to have some modes, and rather symmetric."
      ]
    },
    {
      "cell_type": "code",
      "metadata": {
        "colab": {
          "base_uri": "https://localhost:8080/",
          "height": 483
        },
        "id": "9H9QeJvhtYMH",
        "outputId": "2a17d80f-ccd0-4813-d3e5-31dda6f825fa"
      },
      "source": [
        "import matplotlib.pyplot as plt\n",
        "import seaborn as sns\n",
        "\n",
        "plt.figure(figsize=(8,8)) \n",
        "histo_plot = plt.hist(dfOriginals_Analyzed['compound'],bins=40)\n"
      ],
      "execution_count": 24,
      "outputs": [
        {
          "output_type": "display_data",
          "data": {
            "image/png": "[encoded data removed]",
            "text/plain": [
              "<Figure size 576x576 with 1 Axes>"
            ]
          },
          "metadata": {
            "tags": [],
            "needs_background": "light"
          }
        }
      ]
    },
    {
      "cell_type": "code",
      "metadata": {
        "colab": {
          "base_uri": "https://localhost:8080/",
          "height": 483
        },
        "id": "mjN93_Rzr90m",
        "outputId": "7e9ab843-d48d-46e0-bd89-1e68be68a77b"
      },
      "source": [
        "plt.figure(figsize=(8,8)) \n",
        "histo_plot2 = plt.hist(dfOriginals_Analyzed['compound'],bins=20)\n"
      ],
      "execution_count": 25,
      "outputs": [
        {
          "output_type": "display_data",
          "data": {
            "image/png": "[encoded data removed]",
            "text/plain": [
              "<Figure size 576x576 with 1 Axes>"
            ]
          },
          "metadata": {
            "tags": [],
            "needs_background": "light"
          }
        }
      ]
    },
    {
      "cell_type": "markdown",
      "metadata": {
        "id": "FmFrATvf_2GW"
      },
      "source": [
        "# Step 9. Build Classification\n",
        "\n",
        "## Split Train and Test set"
      ]
    },
    {
      "cell_type": "code",
      "metadata": {
        "id": "43ZanG6qPf5d",
        "colab": {
          "base_uri": "https://localhost:8080/",
          "height": 419
        },
        "outputId": "5717b4c2-717c-48c8-ae9d-6633b4b499e0"
      },
      "source": [
        "dfOriginals_Analyzed[['favorite_count','retweet_count','user_followers_count','compound']]"
      ],
      "execution_count": 26,
      "outputs": [
        {
          "output_type": "execute_result",
          "data": {
            "text/html": [
              "<div>\n",
              "<style scoped>\n",
              "    .dataframe tbody tr th:only-of-type {\n",
              "        vertical-align: middle;\n",
              "    }\n",
              "\n",
              "    .dataframe tbody tr th {\n",
              "        vertical-align: top;\n",
              "    }\n",
              "\n",
              "    .dataframe thead th {\n",
              "        text-align: right;\n",
              "    }\n",
              "</style>\n",
              "<table border=\"1\" class=\"dataframe\">\n",
              "  <thead>\n",
              "    <tr style=\"text-align: right;\">\n",
              "      <th></th>\n",
              "      <th>favorite_count</th>\n",
              "      <th>retweet_count</th>\n",
              "      <th>user_followers_count</th>\n",
              "      <th>compound</th>\n",
              "    </tr>\n",
              "  </thead>\n",
              "  <tbody>\n",
              "    <tr>\n",
              "      <th>3</th>\n",
              "      <td>0</td>\n",
              "      <td>0</td>\n",
              "      <td>54</td>\n",
              "      <td>0.0129</td>\n",
              "    </tr>\n",
              "    <tr>\n",
              "      <th>4</th>\n",
              "      <td>0</td>\n",
              "      <td>0</td>\n",
              "      <td>73</td>\n",
              "      <td>0.3400</td>\n",
              "    </tr>\n",
              "    <tr>\n",
              "      <th>6</th>\n",
              "      <td>0</td>\n",
              "      <td>0</td>\n",
              "      <td>55</td>\n",
              "      <td>0.4404</td>\n",
              "    </tr>\n",
              "    <tr>\n",
              "      <th>7</th>\n",
              "      <td>0</td>\n",
              "      <td>0</td>\n",
              "      <td>79</td>\n",
              "      <td>0.6369</td>\n",
              "    </tr>\n",
              "    <tr>\n",
              "      <th>12</th>\n",
              "      <td>0</td>\n",
              "      <td>0</td>\n",
              "      <td>36</td>\n",
              "      <td>0.8885</td>\n",
              "    </tr>\n",
              "    <tr>\n",
              "      <th>...</th>\n",
              "      <td>...</td>\n",
              "      <td>...</td>\n",
              "      <td>...</td>\n",
              "      <td>...</td>\n",
              "    </tr>\n",
              "    <tr>\n",
              "      <th>799126</th>\n",
              "      <td>0</td>\n",
              "      <td>0</td>\n",
              "      <td>36</td>\n",
              "      <td>-0.9267</td>\n",
              "    </tr>\n",
              "    <tr>\n",
              "      <th>799127</th>\n",
              "      <td>1</td>\n",
              "      <td>0</td>\n",
              "      <td>8</td>\n",
              "      <td>0.0000</td>\n",
              "    </tr>\n",
              "    <tr>\n",
              "      <th>799128</th>\n",
              "      <td>1</td>\n",
              "      <td>0</td>\n",
              "      <td>5</td>\n",
              "      <td>0.2023</td>\n",
              "    </tr>\n",
              "    <tr>\n",
              "      <th>799130</th>\n",
              "      <td>3</td>\n",
              "      <td>0</td>\n",
              "      <td>441</td>\n",
              "      <td>-0.5106</td>\n",
              "    </tr>\n",
              "    <tr>\n",
              "      <th>799133</th>\n",
              "      <td>0</td>\n",
              "      <td>0</td>\n",
              "      <td>40</td>\n",
              "      <td>-0.8611</td>\n",
              "    </tr>\n",
              "  </tbody>\n",
              "</table>\n",
              "<p>245389 rows × 4 columns</p>\n",
              "</div>"
            ],
            "text/plain": [
              "        favorite_count  retweet_count  user_followers_count  compound\n",
              "3                    0              0                    54    0.0129\n",
              "4                    0              0                    73    0.3400\n",
              "6                    0              0                    55    0.4404\n",
              "7                    0              0                    79    0.6369\n",
              "12                   0              0                    36    0.8885\n",
              "...                ...            ...                   ...       ...\n",
              "799126               0              0                    36   -0.9267\n",
              "799127               1              0                     8    0.0000\n",
              "799128               1              0                     5    0.2023\n",
              "799130               3              0                   441   -0.5106\n",
              "799133               0              0                    40   -0.8611\n",
              "\n",
              "[245389 rows x 4 columns]"
            ]
          },
          "metadata": {
            "tags": []
          },
          "execution_count": 26
        }
      ]
    },
    {
      "cell_type": "code",
      "metadata": {
        "id": "dnvWBGoU_9Nh",
        "colab": {
          "base_uri": "https://localhost:8080/"
        },
        "outputId": "b10785f4-1494-4343-92f8-7dd5d116d233"
      },
      "source": [
        "from sklearn import preprocessing\n",
        "from sklearn import linear_model\n",
        "\n",
        "trainSet=dfOriginals_Analyzed.sample(frac=0.8,random_state=150)\n",
        "testSet=dfOriginals_Analyzed.drop(trainSet.index)\n",
        "\n",
        "# X_train = preprocessing.scale(trainSet[['retweet_count','user_followers_count','compound','user_statuses_count','user_verified']])\n",
        "# X_train = preprocessing.scale(trainSet[['user_followers_count','compound','user_statuses_count','user_verified']])\n",
        "X_train = (trainSet[['retweet_count','user_followers_count','compound']])\n",
        "Y_train = trainSet['favorite_count']\n",
        "reg = linear_model.LinearRegression()\n",
        "\n",
        "reg.fit(X_train,Y_train)"
      ],
      "execution_count": 27,
      "outputs": [
        {
          "output_type": "execute_result",
          "data": {
            "text/plain": [
              "LinearRegression(copy_X=True, fit_intercept=True, n_jobs=None, normalize=False)"
            ]
          },
          "metadata": {
            "tags": []
          },
          "execution_count": 27
        }
      ]
    },
    {
      "cell_type": "code",
      "metadata": {
        "id": "AMVTjoD85Yw5",
        "colab": {
          "base_uri": "https://localhost:8080/",
          "height": 419
        },
        "outputId": "1524ca83-8955-4b92-8895-00b75981d2b0"
      },
      "source": [
        "# clf.predict(testSet[['retweet_count','user_followers_count','compound','user_statuses_count','user_verified',]]) #- testSet['favorite_count']\n",
        "plot_1_Y = reg.predict(testSet[['retweet_count','user_followers_count','compound']]) # predicted as Y\n",
        "plot_1_X = testSet['favorite_count'].reset_index()  # actual as X\n",
        "df_plot_1 = pd.concat([plot_1_X,pd.DataFrame(plot_1_Y)],axis=1)\n",
        "df_plot_1.columns = ['index','actual', 'predicted']\n",
        "df_plot_1"
      ],
      "execution_count": 28,
      "outputs": [
        {
          "output_type": "execute_result",
          "data": {
            "text/html": [
              "<div>\n",
              "<style scoped>\n",
              "    .dataframe tbody tr th:only-of-type {\n",
              "        vertical-align: middle;\n",
              "    }\n",
              "\n",
              "    .dataframe tbody tr th {\n",
              "        vertical-align: top;\n",
              "    }\n",
              "\n",
              "    .dataframe thead th {\n",
              "        text-align: right;\n",
              "    }\n",
              "</style>\n",
              "<table border=\"1\" class=\"dataframe\">\n",
              "  <thead>\n",
              "    <tr style=\"text-align: right;\">\n",
              "      <th></th>\n",
              "      <th>index</th>\n",
              "      <th>actual</th>\n",
              "      <th>predicted</th>\n",
              "    </tr>\n",
              "  </thead>\n",
              "  <tbody>\n",
              "    <tr>\n",
              "      <th>0</th>\n",
              "      <td>56</td>\n",
              "      <td>0</td>\n",
              "      <td>2.089095</td>\n",
              "    </tr>\n",
              "    <tr>\n",
              "      <th>1</th>\n",
              "      <td>75</td>\n",
              "      <td>2</td>\n",
              "      <td>6.829551</td>\n",
              "    </tr>\n",
              "    <tr>\n",
              "      <th>2</th>\n",
              "      <td>115</td>\n",
              "      <td>1</td>\n",
              "      <td>1.998072</td>\n",
              "    </tr>\n",
              "    <tr>\n",
              "      <th>3</th>\n",
              "      <td>145</td>\n",
              "      <td>0</td>\n",
              "      <td>1.749808</td>\n",
              "    </tr>\n",
              "    <tr>\n",
              "      <th>4</th>\n",
              "      <td>149</td>\n",
              "      <td>0</td>\n",
              "      <td>1.259081</td>\n",
              "    </tr>\n",
              "    <tr>\n",
              "      <th>...</th>\n",
              "      <td>...</td>\n",
              "      <td>...</td>\n",
              "      <td>...</td>\n",
              "    </tr>\n",
              "    <tr>\n",
              "      <th>49073</th>\n",
              "      <td>799003</td>\n",
              "      <td>2</td>\n",
              "      <td>1.682046</td>\n",
              "    </tr>\n",
              "    <tr>\n",
              "      <th>49074</th>\n",
              "      <td>799023</td>\n",
              "      <td>0</td>\n",
              "      <td>0.187456</td>\n",
              "    </tr>\n",
              "    <tr>\n",
              "      <th>49075</th>\n",
              "      <td>799037</td>\n",
              "      <td>1</td>\n",
              "      <td>1.341901</td>\n",
              "    </tr>\n",
              "    <tr>\n",
              "      <th>49076</th>\n",
              "      <td>799056</td>\n",
              "      <td>0</td>\n",
              "      <td>0.276063</td>\n",
              "    </tr>\n",
              "    <tr>\n",
              "      <th>49077</th>\n",
              "      <td>799125</td>\n",
              "      <td>1</td>\n",
              "      <td>0.425340</td>\n",
              "    </tr>\n",
              "  </tbody>\n",
              "</table>\n",
              "<p>49078 rows × 3 columns</p>\n",
              "</div>"
            ],
            "text/plain": [
              "        index  actual  predicted\n",
              "0          56       0   2.089095\n",
              "1          75       2   6.829551\n",
              "2         115       1   1.998072\n",
              "3         145       0   1.749808\n",
              "4         149       0   1.259081\n",
              "...       ...     ...        ...\n",
              "49073  799003       2   1.682046\n",
              "49074  799023       0   0.187456\n",
              "49075  799037       1   1.341901\n",
              "49076  799056       0   0.276063\n",
              "49077  799125       1   0.425340\n",
              "\n",
              "[49078 rows x 3 columns]"
            ]
          },
          "metadata": {
            "tags": []
          },
          "execution_count": 28
        }
      ]
    },
    {
      "cell_type": "markdown",
      "metadata": {
        "id": "kgzIaCKenOU_"
      },
      "source": [
        "# Step 10: Getting Results"
      ]
    },
    {
      "cell_type": "markdown",
      "metadata": {
        "id": "pY7S-xXxURqU"
      },
      "source": [
        "Since this is a regression model with continous values, we use Mean Square Error (MSE), Root MSE, and R-square metrics to measure the performance of the model. \n",
        "\n",
        "reference: https://stackoverflow.com/questions/49103139/calculating-accuracy-scores-of-predicted-continuous-values"
      ]
    },
    {
      "cell_type": "code",
      "metadata": {
        "colab": {
          "base_uri": "https://localhost:8080/"
        },
        "id": "I2FaV3XznNL0",
        "outputId": "6d6a75d5-393a-4c63-ec6f-3985fa8e46c1"
      },
      "source": [
        "from sklearn.metrics import mean_squared_error\n",
        "from sklearn.metrics import r2_score\n",
        "\n",
        "from math import sqrt\n",
        "\n",
        "mse = mean_squared_error(df_plot_1.actual, df_plot_1.predicted)\n",
        "print(\"Mean Square Error (MSE): \" + str(mse))\n",
        "print(\"Root MSE: \" + str(sqrt(mse)))\n",
        "print(\"R-Square: \" + str(r2_score(df_plot_1.actual, df_plot_1.predicted)))\n"
      ],
      "execution_count": 29,
      "outputs": [
        {
          "output_type": "stream",
          "text": [
            "Mean Square Error (MSE): 33369.46837319132\n",
            "Root MSE: 182.6731189124205\n",
            "R-Square: 0.8733484618869796\n"
          ],
          "name": "stdout"
        }
      ]
    },
    {
      "cell_type": "markdown",
      "metadata": {
        "id": "3IReujajY_pz"
      },
      "source": [
        "Scatterplot to visually observe how well the model's prediction vs actual value."
      ]
    },
    {
      "cell_type": "code",
      "metadata": {
        "colab": {
          "base_uri": "https://localhost:8080/",
          "height": 638
        },
        "id": "pKt0m5Z2MKiW",
        "outputId": "520c6093-f888-4626-9672-c18c77932050"
      },
      "source": [
        "from numpy.polynomial.polynomial import polyfit\n",
        "\n",
        "plot_1 = df_plot_1.plot.scatter(x='actual',y='predicted',figsize=(20,10),title=\"Predicted values versus Actual values\")\n",
        "plot_1.set_ylabel(\"Predicted values\")\n",
        "plot_1.set_xlabel(\"Actual values\")\n",
        "\n",
        "b, m = polyfit(df_plot_1.actual, df_plot_1.predicted, 1)\n",
        "plot_1.plot(df_plot_1.actual, b + m * df_plot_1.actual, '-')\n",
        "\n"
      ],
      "execution_count": 30,
      "outputs": [
        {
          "output_type": "execute_result",
          "data": {
            "text/plain": [
              "[<matplotlib.lines.Line2D at 0x7fa2e6d776d8>]"
            ]
          },
          "metadata": {
            "tags": []
          },
          "execution_count": 30
        },
        {
          "output_type": "display_data",
          "data": {
            "image/png": "[encoded data removed]",
            "text/plain": [
              "<Figure size 1440x720 with 1 Axes>"
            ]
          },
          "metadata": {
            "tags": [],
            "needs_background": "light"
          }
        }
      ]
    },
    {
      "cell_type": "markdown",
      "metadata": {
        "id": "ZDHkWYpZRoQP"
      },
      "source": [
        "# Further Attempts\n",
        "\n",
        "- Groupby user_screen_name\n",
        "- calculate the mean sentiment score\n",
        "- see whether there are any correlation between number of followers and number of favourite tweets against the mean sentimental score (check SD)\n",
        "\n",
        "explain properly an understanding of why introducing new feature"
      ]
    },
    {
      "cell_type": "code",
      "metadata": {
        "id": "r5cQcimuQp1y",
        "colab": {
          "base_uri": "https://localhost:8080/",
          "height": 419
        },
        "outputId": "d8a80c70-bab5-428d-ef3b-c927fa29260b"
      },
      "source": [
        "dfOriginals.groupby('user_screen_name').size().reset_index(name='counts').sort_values(by='counts', ascending=False)"
      ],
      "execution_count": 31,
      "outputs": [
        {
          "output_type": "execute_result",
          "data": {
            "text/html": [
              "<div>\n",
              "<style scoped>\n",
              "    .dataframe tbody tr th:only-of-type {\n",
              "        vertical-align: middle;\n",
              "    }\n",
              "\n",
              "    .dataframe tbody tr th {\n",
              "        vertical-align: top;\n",
              "    }\n",
              "\n",
              "    .dataframe thead th {\n",
              "        text-align: right;\n",
              "    }\n",
              "</style>\n",
              "<table border=\"1\" class=\"dataframe\">\n",
              "  <thead>\n",
              "    <tr style=\"text-align: right;\">\n",
              "      <th></th>\n",
              "      <th>user_screen_name</th>\n",
              "      <th>counts</th>\n",
              "    </tr>\n",
              "  </thead>\n",
              "  <tbody>\n",
              "    <tr>\n",
              "      <th>27508</th>\n",
              "      <td>ELister_social</td>\n",
              "      <td>666</td>\n",
              "    </tr>\n",
              "    <tr>\n",
              "      <th>79905</th>\n",
              "      <td>SattarSarki1</td>\n",
              "      <td>382</td>\n",
              "    </tr>\n",
              "    <tr>\n",
              "      <th>133777</th>\n",
              "      <td>iHeartFun1</td>\n",
              "      <td>185</td>\n",
              "    </tr>\n",
              "    <tr>\n",
              "      <th>27433</th>\n",
              "      <td>EG24NEWS</td>\n",
              "      <td>181</td>\n",
              "    </tr>\n",
              "    <tr>\n",
              "      <th>142347</th>\n",
              "      <td>kailashscienti1</td>\n",
              "      <td>179</td>\n",
              "    </tr>\n",
              "    <tr>\n",
              "      <th>...</th>\n",
              "      <td>...</td>\n",
              "      <td>...</td>\n",
              "    </tr>\n",
              "    <tr>\n",
              "      <th>68494</th>\n",
              "      <td>Patterico</td>\n",
              "      <td>1</td>\n",
              "    </tr>\n",
              "    <tr>\n",
              "      <th>68495</th>\n",
              "      <td>PattheOldBat</td>\n",
              "      <td>1</td>\n",
              "    </tr>\n",
              "    <tr>\n",
              "      <th>68496</th>\n",
              "      <td>PattiClifford10</td>\n",
              "      <td>1</td>\n",
              "    </tr>\n",
              "    <tr>\n",
              "      <th>68498</th>\n",
              "      <td>PattiMurin</td>\n",
              "      <td>1</td>\n",
              "    </tr>\n",
              "    <tr>\n",
              "      <th>191547</th>\n",
              "      <td>zzzzzzbjdbsh</td>\n",
              "      <td>1</td>\n",
              "    </tr>\n",
              "  </tbody>\n",
              "</table>\n",
              "<p>191548 rows × 2 columns</p>\n",
              "</div>"
            ],
            "text/plain": [
              "       user_screen_name  counts\n",
              "27508    ELister_social     666\n",
              "79905      SattarSarki1     382\n",
              "133777       iHeartFun1     185\n",
              "27433          EG24NEWS     181\n",
              "142347  kailashscienti1     179\n",
              "...                 ...     ...\n",
              "68494         Patterico       1\n",
              "68495      PattheOldBat       1\n",
              "68496   PattiClifford10       1\n",
              "68498        PattiMurin       1\n",
              "191547     zzzzzzbjdbsh       1\n",
              "\n",
              "[191548 rows x 2 columns]"
            ]
          },
          "metadata": {
            "tags": []
          },
          "execution_count": 31
        }
      ]
    }
  ]
}