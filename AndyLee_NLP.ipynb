{
  "nbformat": 4,
  "nbformat_minor": 0,
  "metadata": {
    "kernelspec": {
      "display_name": "Python 3",
      "language": "python",
      "name": "python3"
    },
    "language_info": {
      "name": "python",
      "version": "3.7.6",
      "mimetype": "text/x-python",
      "codemirror_mode": {
        "name": "ipython",
        "version": 3
      },
      "pygments_lexer": "ipython3",
      "nbconvert_exporter": "python",
      "file_extension": ".py"
    },
    "colab": {
      "name": "AndyLee-NLP.ipynb",
      "provenance": [],
      "include_colab_link": true
    }
  },
  "cells": [
    {
      "cell_type": "markdown",
      "metadata": {
        "id": "view-in-github",
        "colab_type": "text"
      },
      "source": [
        "<a href=\"https://colab.research.google.com/github/danieljai/CIND820-AndyLee/blob/main/AndyLee_NLP.ipynb\" target=\"_parent\"><img src=\"https://colab.research.google.com/assets/colab-badge.svg\" alt=\"Open In Colab\"/></a>"
      ]
    },
    {
      "cell_type": "markdown",
      "metadata": {
        "id": "_uncPLiQYnn0"
      },
      "source": [
        "# Step 4: Preload setup\n",
        "\n",
        "Basic setup so results can utilize the full width of the screen."
      ]
    },
    {
      "cell_type": "code",
      "metadata": {
        "id": "7VJ3TVjfpoiz"
      },
      "source": [
        "%config IPCompleter.greedy=True\n",
        "import pandas as pd\n",
        "\n",
        "pd.set_option('display.max_colwidth', 200)\n",
        "pd.options.display.max_colwidth = 500\n",
        "pd.options.display.max_rows = 100"
      ],
      "execution_count": 1,
      "outputs": []
    },
    {
      "cell_type": "markdown",
      "metadata": {
        "id": "HbYv2dHQYl-W"
      },
      "source": [
        "# Step 5: Import Dataset\n",
        "\n",
        "The hydrated file is stored in a Google Drive, and using the follow code will mount Google Drive onto Colaboratory."
      ]
    },
    {
      "cell_type": "code",
      "metadata": {
        "id": "RWSJpsyKqHjH",
        "colab": {
          "base_uri": "https://localhost:8080/"
        },
        "outputId": "6851f665-2fe3-4a3a-bd49-9d514c4069f3"
      },
      "source": [
        "from google.colab import drive\n",
        "drive.mount('/content/drive')"
      ],
      "execution_count": 2,
      "outputs": [
        {
          "output_type": "stream",
          "text": [
            "Mounted at /content/drive\n"
          ],
          "name": "stdout"
        }
      ]
    },
    {
      "cell_type": "code",
      "metadata": {
        "trusted": true,
        "id": "IhVcP_VWpoiv"
      },
      "source": [
        "\n",
        "df = pd.read_csv(\"/content/drive/My Drive/__CIND 820 - Data Analytics Project/3-data/Book1-fastsave.csv\")"
      ],
      "execution_count": 3,
      "outputs": []
    },
    {
      "cell_type": "markdown",
      "metadata": {
        "id": "uEl8PsIfYPlI"
      },
      "source": [
        "# Step 6. Data Cleaning and Manipulation"
      ]
    },
    {
      "cell_type": "markdown",
      "metadata": {
        "id": "UZfDm-YdvsBC"
      },
      "source": [
        "## Readjust attribute datatype\n",
        "\n",
        "For `retweet_id`, `in_reply_to_status_id`, `in_reply_to_user_id`\n",
        "- Convert `null` values to 0\n",
        "- Convert attribute as int64"
      ]
    },
    {
      "cell_type": "code",
      "metadata": {
        "id": "BNtxXnmyuroY"
      },
      "source": [
        "df.retweet_id = df[df['retweet_id'].notnull()].retweet_id.astype('int64') "
      ],
      "execution_count": 4,
      "outputs": []
    },
    {
      "cell_type": "code",
      "metadata": {
        "id": "Wq7nVqm-Ybq5"
      },
      "source": [
        "df.retweet_id = df.retweet_id.fillna(0).astype('int64')\n",
        "df.in_reply_to_status_id = df.in_reply_to_status_id.fillna(0).astype('int64')\n",
        "df.in_reply_to_user_id = df.in_reply_to_user_id.fillna(0).astype('int64')"
      ],
      "execution_count": 5,
      "outputs": []
    },
    {
      "cell_type": "markdown",
      "metadata": {
        "id": "A1vhtGcnzqtp"
      },
      "source": [
        "## Misc. cleaning up to reduce noise when conducting sentimental analysis\n",
        "1. remove \\n\n",
        "2. remove URL\n",
        "3. remove user referrals\n",
        "4. remove hashtags"
      ]
    },
    {
      "cell_type": "code",
      "metadata": {
        "id": "TGLSjXA00aBs"
      },
      "source": [
        "df['modified_text'] = df.text.str.replace(r'\\n', '')\n",
        "df['modified_text'] = df.modified_text.str.replace(r'(http|ftp|https)://([\\w_-]+(?:(?:\\.[\\w_-]+)+))([\\w.,@?^=%&:/~+#-]*[\\w@?^=%&/~+#-])?', '')\n",
        "df['modified_text'] = df.modified_text.str.replace(r'\\B@\\w+', '')\n",
        "df['modified_text'] = df.modified_text.str.replace(r'\\B#\\w+', '')"
      ],
      "execution_count": 6,
      "outputs": []
    },
    {
      "cell_type": "markdown",
      "metadata": {
        "id": "4XU0njxYunzu"
      },
      "source": [
        "## Splitting Dataframes (originals and retweets)\n",
        "\n",
        "The collection includes both original tweets and retweets. Since retweets mirrors the original tweet by someone else other than the author, we don't need to run sentimental analysis on the retweet as it would have been run on the original tweet, therefore we can split original tweets and retweets into two dataframes to avoid wasting resources.\n",
        "\n",
        "\n",
        "- Original tweets: `dfOriginals`\n",
        "- Retweets: `dfRetweets` cons\n",
        "\n",
        "\n",
        "\n"
      ]
    },
    {
      "cell_type": "code",
      "metadata": {
        "id": "jPydisljWkFM"
      },
      "source": [
        "dfOriginals = df[df.retweet_id == 0]\n",
        "dfRetweets = df[df.retweet_id != 0]"
      ],
      "execution_count": 7,
      "outputs": []
    },
    {
      "cell_type": "markdown",
      "metadata": {
        "id": "7RbFQ3a7OgDj"
      },
      "source": [
        "## Preview data after cleaning and manipulation"
      ]
    },
    {
      "cell_type": "markdown",
      "metadata": {
        "id": "791wvRVcqsA0"
      },
      "source": [
        "Original Tweet dataframe datatypes"
      ]
    },
    {
      "cell_type": "code",
      "metadata": {
        "id": "rwPS4yCo2ETZ",
        "colab": {
          "base_uri": "https://localhost:8080/"
        },
        "outputId": "d92cb051-bc45-4005-de98-9b9b103d68c4"
      },
      "source": [
        "# https://developer.twitter.com/en/docs/twitter-api/v1/data-dictionary/overview/user-object\n",
        "dfOriginals.dtypes"
      ],
      "execution_count": 8,
      "outputs": [
        {
          "output_type": "execute_result",
          "data": {
            "text/plain": [
              "coordinates                    object\n",
              "created_at                     object\n",
              "hashtags                       object\n",
              "media                          object\n",
              "urls                           object\n",
              "favorite_count                  int64\n",
              "id                              int64\n",
              "in_reply_to_screen_name        object\n",
              "in_reply_to_status_id           int64\n",
              "in_reply_to_user_id             int64\n",
              "lang                           object\n",
              "place                          object\n",
              "possibly_sensitive             object\n",
              "retweet_count                   int64\n",
              "retweet_id                      int64\n",
              "retweet_screen_name            object\n",
              "source                         object\n",
              "text                           object\n",
              "tweet_url                      object\n",
              "user_created_at                object\n",
              "user_screen_name               object\n",
              "user_default_profile_image       bool\n",
              "user_description               object\n",
              "user_favourites_count           int64\n",
              "user_followers_count            int64\n",
              "user_friends_count              int64\n",
              "user_listed_count               int64\n",
              "user_location                  object\n",
              "user_name                      object\n",
              "user_screen_name.1             object\n",
              "user_statuses_count             int64\n",
              "user_time_zone                float64\n",
              "user_urls                      object\n",
              "user_verified                    bool\n",
              "modified_text                  object\n",
              "dtype: object"
            ]
          },
          "metadata": {
            "tags": []
          },
          "execution_count": 8
        }
      ]
    },
    {
      "cell_type": "markdown",
      "metadata": {
        "id": "r1UH6f4QNP24"
      },
      "source": [
        "Two samples of the original tweet dataframe."
      ]
    },
    {
      "cell_type": "code",
      "metadata": {
        "id": "d5nEYW5qOVAg",
        "colab": {
          "base_uri": "https://localhost:8080/",
          "height": 437
        },
        "outputId": "761d256a-f13c-47c4-e72b-7793ffe9abad"
      },
      "source": [
        "dfOriginals.sample(2)"
      ],
      "execution_count": 9,
      "outputs": [
        {
          "output_type": "execute_result",
          "data": {
            "text/html": [
              "<div>\n",
              "<style scoped>\n",
              "    .dataframe tbody tr th:only-of-type {\n",
              "        vertical-align: middle;\n",
              "    }\n",
              "\n",
              "    .dataframe tbody tr th {\n",
              "        vertical-align: top;\n",
              "    }\n",
              "\n",
              "    .dataframe thead th {\n",
              "        text-align: right;\n",
              "    }\n",
              "</style>\n",
              "<table border=\"1\" class=\"dataframe\">\n",
              "  <thead>\n",
              "    <tr style=\"text-align: right;\">\n",
              "      <th></th>\n",
              "      <th>coordinates</th>\n",
              "      <th>created_at</th>\n",
              "      <th>hashtags</th>\n",
              "      <th>media</th>\n",
              "      <th>urls</th>\n",
              "      <th>favorite_count</th>\n",
              "      <th>id</th>\n",
              "      <th>in_reply_to_screen_name</th>\n",
              "      <th>in_reply_to_status_id</th>\n",
              "      <th>in_reply_to_user_id</th>\n",
              "      <th>lang</th>\n",
              "      <th>place</th>\n",
              "      <th>possibly_sensitive</th>\n",
              "      <th>retweet_count</th>\n",
              "      <th>retweet_id</th>\n",
              "      <th>retweet_screen_name</th>\n",
              "      <th>source</th>\n",
              "      <th>text</th>\n",
              "      <th>tweet_url</th>\n",
              "      <th>user_created_at</th>\n",
              "      <th>user_screen_name</th>\n",
              "      <th>user_default_profile_image</th>\n",
              "      <th>user_description</th>\n",
              "      <th>user_favourites_count</th>\n",
              "      <th>user_followers_count</th>\n",
              "      <th>user_friends_count</th>\n",
              "      <th>user_listed_count</th>\n",
              "      <th>user_location</th>\n",
              "      <th>user_name</th>\n",
              "      <th>user_screen_name.1</th>\n",
              "      <th>user_statuses_count</th>\n",
              "      <th>user_time_zone</th>\n",
              "      <th>user_urls</th>\n",
              "      <th>user_verified</th>\n",
              "      <th>modified_text</th>\n",
              "    </tr>\n",
              "  </thead>\n",
              "  <tbody>\n",
              "    <tr>\n",
              "      <th>167713</th>\n",
              "      <td>NaN</td>\n",
              "      <td>Tue Mar 31 10:15:13 +0000 2020</td>\n",
              "      <td>NaN</td>\n",
              "      <td>NaN</td>\n",
              "      <td>NaN</td>\n",
              "      <td>1</td>\n",
              "      <td>1244931245680799746</td>\n",
              "      <td>MLouisaE</td>\n",
              "      <td>1244908908986187776</td>\n",
              "      <td>2284836942</td>\n",
              "      <td>en</td>\n",
              "      <td>NaN</td>\n",
              "      <td>NaN</td>\n",
              "      <td>0</td>\n",
              "      <td>0</td>\n",
              "      <td>NaN</td>\n",
              "      <td>&lt;a href=\"http://twitter.com/download/android\" rel=\"nofollow\"&gt;Twitter for Android&lt;/a&gt;</td>\n",
              "      <td>@MLouisaE @DavidNdii @Udadisi Eti \"Corona Times\". Nifty!</td>\n",
              "      <td>https://twitter.com/mungaikihanya/status/1244931245680799746</td>\n",
              "      <td>Wed May 26 08:27:11 +0000 2010</td>\n",
              "      <td>mungaikihanya</td>\n",
              "      <td>False</td>\n",
              "      <td>I am who I am https://t.co/FnHz0ho1mZ</td>\n",
              "      <td>1101</td>\n",
              "      <td>9466</td>\n",
              "      <td>9</td>\n",
              "      <td>20</td>\n",
              "      <td>Nairobi, Kenya</td>\n",
              "      <td>Mungai Kihanya</td>\n",
              "      <td>mungaikihanya</td>\n",
              "      <td>34864</td>\n",
              "      <td>NaN</td>\n",
              "      <td>http://www.figures.co.ke</td>\n",
              "      <td>False</td>\n",
              "      <td>Eti \"Corona Times\". Nifty!</td>\n",
              "    </tr>\n",
              "    <tr>\n",
              "      <th>608857</th>\n",
              "      <td>NaN</td>\n",
              "      <td>Tue Mar 31 21:46:24 +0000 2020</td>\n",
              "      <td>WaqarZaka</td>\n",
              "      <td>NaN</td>\n",
              "      <td>http://www.tenup.io</td>\n",
              "      <td>0</td>\n",
              "      <td>1245105186776981505</td>\n",
              "      <td>NaN</td>\n",
              "      <td>0</td>\n",
              "      <td>0</td>\n",
              "      <td>en</td>\n",
              "      <td>NaN</td>\n",
              "      <td>False</td>\n",
              "      <td>0</td>\n",
              "      <td>0</td>\n",
              "      <td>NaN</td>\n",
              "      <td>&lt;a href=\"https://mobile.twitter.com\" rel=\"nofollow\"&gt;Twitter Web App&lt;/a&gt;</td>\n",
              "      <td>Because of Corona, Italian Bank Opens Bitcoin Trading to 1.2 Million during LockDown, @ImranKhanPTI we need to listen #WaqarZaka who developed https://t.co/JI9BTeOnLO which we can use to trade with the world legally without PAYPAL or paying a heavy fee.</td>\n",
              "      <td>https://twitter.com/HamaadK11436172/status/1245105186776981505</td>\n",
              "      <td>Sat Mar 02 15:17:32 +0000 2019</td>\n",
              "      <td>HamaadK11436172</td>\n",
              "      <td>True</td>\n",
              "      <td>Entrepreneur\\nTrader\\nStocks\\nForex.</td>\n",
              "      <td>0</td>\n",
              "      <td>2</td>\n",
              "      <td>10</td>\n",
              "      <td>0</td>\n",
              "      <td>NaN</td>\n",
              "      <td>Hamaad Khan</td>\n",
              "      <td>HamaadK11436172</td>\n",
              "      <td>7</td>\n",
              "      <td>NaN</td>\n",
              "      <td>NaN</td>\n",
              "      <td>False</td>\n",
              "      <td>Because of Corona, Italian Bank Opens Bitcoin Trading to 1.2 Million during LockDown,  we need to listen  who developed  which we can use to trade with the world legally without PAYPAL or paying a heavy fee.</td>\n",
              "    </tr>\n",
              "  </tbody>\n",
              "</table>\n",
              "</div>"
            ],
            "text/plain": [
              "       coordinates  ...                                                                                                                                                                                                    modified_text\n",
              "167713         NaN  ...                                                                                                                                                                                       Eti \"Corona Times\". Nifty!\n",
              "608857         NaN  ...  Because of Corona, Italian Bank Opens Bitcoin Trading to 1.2 Million during LockDown,  we need to listen  who developed  which we can use to trade with the world legally without PAYPAL or paying a heavy fee.\n",
              "\n",
              "[2 rows x 35 columns]"
            ]
          },
          "metadata": {
            "tags": []
          },
          "execution_count": 9
        }
      ]
    },
    {
      "cell_type": "markdown",
      "metadata": {
        "id": "Jfq66BaYpojK"
      },
      "source": [
        "## Step 5: Guessing language\n",
        "\n",
        "Since our sentiment analysis focuses on only English tweets, we will install a `langdetect` library to help filter out tweets that are not English."
      ]
    },
    {
      "cell_type": "code",
      "metadata": {
        "id": "pPwDbh-HmBv8",
        "colab": {
          "base_uri": "https://localhost:8080/"
        },
        "outputId": "a954b54a-a2e8-478f-eac6-0783292728ee"
      },
      "source": [
        "#https://pypi.org/project/langdetect/\n",
        "!pip install langdetect\n",
        "from langdetect import detect\n",
        "from langdetect import DetectorFactory\n",
        "DetectorFactory.seed = 0\n",
        "\n"
      ],
      "execution_count": 10,
      "outputs": [
        {
          "output_type": "stream",
          "text": [
            "Collecting langdetect\n",
            "\u001b[?25l  Downloading https://files.pythonhosted.org/packages/56/a3/8407c1e62d5980188b4acc45ef3d94b933d14a2ebc9ef3505f22cf772570/langdetect-1.0.8.tar.gz (981kB)\n",
            "\u001b[K     |████████████████████████████████| 983kB 4.2MB/s \n",
            "\u001b[?25hRequirement already satisfied: six in /usr/local/lib/python3.6/dist-packages (from langdetect) (1.15.0)\n",
            "Building wheels for collected packages: langdetect\n",
            "  Building wheel for langdetect (setup.py) ... \u001b[?25l\u001b[?25hdone\n",
            "  Created wheel for langdetect: filename=langdetect-1.0.8-cp36-none-any.whl size=993195 sha256=3f423d6657fe400363dfa4fc06b7d66f7f838f848968febd285ee07c3587e240\n",
            "  Stored in directory: /root/.cache/pip/wheels/8d/b3/aa/6d99de9f3841d7d3d40a60ea06e6d669e8e5012e6c8b947a57\n",
            "Successfully built langdetect\n",
            "Installing collected packages: langdetect\n",
            "Successfully installed langdetect-1.0.8\n"
          ],
          "name": "stdout"
        }
      ]
    },
    {
      "cell_type": "markdown",
      "metadata": {
        "id": "oPdqdngRnI8B"
      },
      "source": [
        "Function to test whether tweet is English with error handling."
      ]
    },
    {
      "cell_type": "code",
      "metadata": {
        "id": "HJWNxzqbQhIz"
      },
      "source": [
        "#https://stackoverflow.com/questions/60930935/exclude-non-english-rows-in-pandas\n",
        "\n",
        "def is_en(txt):\n",
        "    try:\n",
        "        return detect(txt)=='en'\n",
        "    except:\n",
        "        return False"
      ],
      "execution_count": 11,
      "outputs": []
    },
    {
      "cell_type": "markdown",
      "metadata": {
        "id": "zF4fSfUF3Gcy"
      },
      "source": [
        "Passing as the `is_en()` as first-class function; returning a boolean value as a attribute `guessed_language`."
      ]
    },
    {
      "cell_type": "code",
      "metadata": {
        "id": "CCxbwQfSmht4",
        "colab": {
          "base_uri": "https://localhost:8080/"
        },
        "outputId": "0bbe3302-dcfe-46f0-b3cd-93d47ade682f"
      },
      "source": [
        "dfOriginals['guessed_language'] = dfOriginals.modified_text.apply(is_en)"
      ],
      "execution_count": 12,
      "outputs": [
        {
          "output_type": "stream",
          "text": [
            "/usr/local/lib/python3.6/dist-packages/ipykernel_launcher.py:1: SettingWithCopyWarning: \n",
            "A value is trying to be set on a copy of a slice from a DataFrame.\n",
            "Try using .loc[row_indexer,col_indexer] = value instead\n",
            "\n",
            "See the caveats in the documentation: https://pandas.pydata.org/pandas-docs/stable/user_guide/indexing.html#returning-a-view-versus-a-copy\n",
            "  \"\"\"Entry point for launching an IPython kernel.\n"
          ],
          "name": "stderr"
        }
      ]
    },
    {
      "cell_type": "markdown",
      "metadata": {
        "id": "dsfksiehng6H"
      },
      "source": [
        "My filtering out non-English tweets, we remove noise induced to the sentimental analysis which will affect the sentimental score."
      ]
    },
    {
      "cell_type": "code",
      "metadata": {
        "id": "zPoRWDGSXx99",
        "colab": {
          "base_uri": "https://localhost:8080/"
        },
        "outputId": "3fab7416-a739-47a9-8f42-a85dd6a67224"
      },
      "source": [
        "print(\"There are \" + str(len(dfOriginals)) + \" tweets in total, and \" + str(sum(dfOriginals.guessed_language)) + \" detects as English.\")\n",
        "print(\"Percentage of tweets that are in English: \" + str(round((sum(dfOriginals.guessed_language) / len(dfOriginals)) * 100, 4)) + \"%\")\n"
      ],
      "execution_count": 13,
      "outputs": [
        {
          "output_type": "stream",
          "text": [
            "There are 245389 tweets in total, and 232816 detects as English.\n",
            "Percentage of tweets that are in English: 94.8763%\n"
          ],
          "name": "stdout"
        }
      ]
    },
    {
      "cell_type": "markdown",
      "metadata": {
        "id": "atZ26M3rYTfg"
      },
      "source": [
        "# Step 7. Sentiment Analysis"
      ]
    },
    {
      "cell_type": "markdown",
      "metadata": {
        "id": "ezcFLOzHLRE_"
      },
      "source": [
        "To conduct Seitment Analysis, we begin by importing the NLTK library."
      ]
    },
    {
      "cell_type": "code",
      "metadata": {
        "id": "PxgmxMWypoi2",
        "colab": {
          "base_uri": "https://localhost:8080/"
        },
        "outputId": "a721e4b1-dd18-4f90-909f-faa4d457197d"
      },
      "source": [
        "import nltk\n",
        "from nltk.sentiment.util import *\n",
        "from nltk.sentiment import SentimentIntensityAnalyzer\n",
        "from nltk import tokenize\n",
        "nltk.download('punkt')\n",
        "nltk.download('vader_lexicon')\n",
        "sid = SentimentIntensityAnalyzer()"
      ],
      "execution_count": 14,
      "outputs": [
        {
          "output_type": "stream",
          "text": [
            "/usr/local/lib/python3.6/dist-packages/nltk/twitter/__init__.py:20: UserWarning: The twython library has not been installed. Some functionality from the twitter package will not be available.\n",
            "  warnings.warn(\"The twython library has not been installed. \"\n"
          ],
          "name": "stderr"
        },
        {
          "output_type": "stream",
          "text": [
            "[nltk_data] Downloading package punkt to /root/nltk_data...\n",
            "[nltk_data]   Unzipping tokenizers/punkt.zip.\n",
            "[nltk_data] Downloading package vader_lexicon to /root/nltk_data...\n"
          ],
          "name": "stdout"
        }
      ]
    },
    {
      "cell_type": "markdown",
      "metadata": {
        "id": "IhrR1DkvcgNO"
      },
      "source": [
        "## Applying Sentiment Analysis function\n",
        "\n",
        "We apply the polarity score function and store results on a new attribute `sentimentscore`.\n",
        "\n"
      ]
    },
    {
      "cell_type": "code",
      "metadata": {
        "id": "Zjw8l4kapojF",
        "colab": {
          "base_uri": "https://localhost:8080/"
        },
        "outputId": "34190b00-4e0a-4927-9191-1c61fa4055b6"
      },
      "source": [
        "dfOriginals['sentimentscore'] = dfOriginals.text.apply(sid.polarity_scores)"
      ],
      "execution_count": 15,
      "outputs": [
        {
          "output_type": "stream",
          "text": [
            "/usr/local/lib/python3.6/dist-packages/ipykernel_launcher.py:1: SettingWithCopyWarning: \n",
            "A value is trying to be set on a copy of a slice from a DataFrame.\n",
            "Try using .loc[row_indexer,col_indexer] = value instead\n",
            "\n",
            "See the caveats in the documentation: https://pandas.pydata.org/pandas-docs/stable/user_guide/indexing.html#returning-a-view-versus-a-copy\n",
            "  \"\"\"Entry point for launching an IPython kernel.\n"
          ],
          "name": "stderr"
        }
      ]
    },
    {
      "cell_type": "markdown",
      "metadata": {
        "id": "MKHk7KzTXSNZ"
      },
      "source": [
        "A quick sample preview of the text and its sentiment score."
      ]
    },
    {
      "cell_type": "code",
      "metadata": {
        "id": "juosFirzpojI",
        "colab": {
          "base_uri": "https://localhost:8080/",
          "height": 359
        },
        "outputId": "38c04bf4-1fb5-464d-d7c1-e9c92baf5df2"
      },
      "source": [
        "dfOriginals.sample(10)[['modified_text','sentimentscore']]"
      ],
      "execution_count": 16,
      "outputs": [
        {
          "output_type": "execute_result",
          "data": {
            "text/html": [
              "<div>\n",
              "<style scoped>\n",
              "    .dataframe tbody tr th:only-of-type {\n",
              "        vertical-align: middle;\n",
              "    }\n",
              "\n",
              "    .dataframe tbody tr th {\n",
              "        vertical-align: top;\n",
              "    }\n",
              "\n",
              "    .dataframe thead th {\n",
              "        text-align: right;\n",
              "    }\n",
              "</style>\n",
              "<table border=\"1\" class=\"dataframe\">\n",
              "  <thead>\n",
              "    <tr style=\"text-align: right;\">\n",
              "      <th></th>\n",
              "      <th>modified_text</th>\n",
              "      <th>sentimentscore</th>\n",
              "    </tr>\n",
              "  </thead>\n",
              "  <tbody>\n",
              "    <tr>\n",
              "      <th>506110</th>\n",
              "      <td>\"Spitting out\".  So what? Wondering why the famous journalist couple has not come out to defend them.Please be reminded that this simple misdeed of spitting out might be lethal, if any one of those 'spitting out' turns out to be a covid-19 victim.</td>\n",
              "      <td>{'neg': 0.045, 'neu': 0.905, 'pos': 0.05, 'compound': 0.0516}</td>\n",
              "    </tr>\n",
              "    <tr>\n",
              "      <th>680321</th>\n",
              "      <td>Hope all this corona shit gets handled ASAP</td>\n",
              "      <td>{'neg': 0.267, 'neu': 0.519, 'pos': 0.215, 'compound': -0.1779}</td>\n",
              "    </tr>\n",
              "    <tr>\n",
              "      <th>96465</th>\n",
              "      <td>Useful medicine for fight against Corona Virus - Thymol (50 gram) + Camphor (30 gram) + Mint (50 gram) [all in solid form] put in a bottle and wait for mixup.Put some drops on hanky and smell it at least 10 time. Definitely it kill Corona viruses. Pls test it.</td>\n",
              "      <td>{'neg': 0.129, 'neu': 0.722, 'pos': 0.15, 'compound': -0.2023}</td>\n",
              "    </tr>\n",
              "    <tr>\n",
              "      <th>579618</th>\n",
              "      <td>Kanika kapoor spread Corona virus in INDIA, she transferred corona virus in thousand people's in INDIA, Must be CBI inquiry she infected many many Our MP, MLA, and business man also, but DALAL MEDIA quite, because she not a Muslims if she were Muslims she also became jihadi,,</td>\n",
              "      <td>{'neg': 0.044, 'neu': 0.956, 'pos': 0.0, 'compound': -0.2732}</td>\n",
              "    </tr>\n",
              "    <tr>\n",
              "      <th>594990</th>\n",
              "      <td>‘After thinking long and hard’</td>\n",
              "      <td>{'neg': 0.0, 'neu': 1.0, 'pos': 0.0, 'compound': 0.0}</td>\n",
              "    </tr>\n",
              "    <tr>\n",
              "      <th>55817</th>\n",
              "      <td>All those who coming to save these corona  terrorists  should be arrested. This moron Mir Zafar should be put behind bar first</td>\n",
              "      <td>{'neg': 0.269, 'neu': 0.648, 'pos': 0.083, 'compound': -0.802}</td>\n",
              "    </tr>\n",
              "    <tr>\n",
              "      <th>389131</th>\n",
              "      <td>Minister's once a week shopping suggestion 'is not official guidance'</td>\n",
              "      <td>{'neg': 0.0, 'neu': 1.0, 'pos': 0.0, 'compound': 0.0}</td>\n",
              "    </tr>\n",
              "    <tr>\n",
              "      <th>777825</th>\n",
              "      <td>The very final chapter of demon slayer is delayed due to Corona.... NOOOOOO!!!!!</td>\n",
              "      <td>{'neg': 0.118, 'neu': 0.882, 'pos': 0.0, 'compound': -0.471}</td>\n",
              "    </tr>\n",
              "    <tr>\n",
              "      <th>286957</th>\n",
              "      <td>Exactly. By the way SHAH sahab kahan hain aaj kal.</td>\n",
              "      <td>{'neg': 0.0, 'neu': 1.0, 'pos': 0.0, 'compound': 0.0}</td>\n",
              "    </tr>\n",
              "    <tr>\n",
              "      <th>627306</th>\n",
              "      <td>LMAO! You're not along!</td>\n",
              "      <td>{'neg': 0.0, 'neu': 0.434, 'pos': 0.566, 'compound': 0.7365}</td>\n",
              "    </tr>\n",
              "  </tbody>\n",
              "</table>\n",
              "</div>"
            ],
            "text/plain": [
              "                                                                                                                                                                                                                                                                               modified_text                                                   sentimentscore\n",
              "506110                              \"Spitting out\".  So what? Wondering why the famous journalist couple has not come out to defend them.Please be reminded that this simple misdeed of spitting out might be lethal, if any one of those 'spitting out' turns out to be a covid-19 victim.     {'neg': 0.045, 'neu': 0.905, 'pos': 0.05, 'compound': 0.0516}\n",
              "680321                                                                                                                                                                                                                                           Hope all this corona shit gets handled ASAP  {'neg': 0.267, 'neu': 0.519, 'pos': 0.215, 'compound': -0.1779}\n",
              "96465                   Useful medicine for fight against Corona Virus - Thymol (50 gram) + Camphor (30 gram) + Mint (50 gram) [all in solid form] put in a bottle and wait for mixup.Put some drops on hanky and smell it at least 10 time. Definitely it kill Corona viruses. Pls test it.   {'neg': 0.129, 'neu': 0.722, 'pos': 0.15, 'compound': -0.2023}\n",
              "579618  Kanika kapoor spread Corona virus in INDIA, she transferred corona virus in thousand people's in INDIA, Must be CBI inquiry she infected many many Our MP, MLA, and business man also, but DALAL MEDIA quite, because she not a Muslims if she were Muslims she also became jihadi,,    {'neg': 0.044, 'neu': 0.956, 'pos': 0.0, 'compound': -0.2732}\n",
              "594990                                                                                                                                                                                                                                                       ‘After thinking long and hard’             {'neg': 0.0, 'neu': 1.0, 'pos': 0.0, 'compound': 0.0}\n",
              "55817                                                                                                                                                     All those who coming to save these corona  terrorists  should be arrested. This moron Mir Zafar should be put behind bar first       {'neg': 0.269, 'neu': 0.648, 'pos': 0.083, 'compound': -0.802}\n",
              "389131                                                                                                                                                                                                                Minister's once a week shopping suggestion 'is not official guidance'             {'neg': 0.0, 'neu': 1.0, 'pos': 0.0, 'compound': 0.0}\n",
              "777825                                                                                                                                                                                           The very final chapter of demon slayer is delayed due to Corona.... NOOOOOO!!!!!                {'neg': 0.118, 'neu': 0.882, 'pos': 0.0, 'compound': -0.471}\n",
              "286957                                                                                                                                                                                                                                   Exactly. By the way SHAH sahab kahan hain aaj kal.             {'neg': 0.0, 'neu': 1.0, 'pos': 0.0, 'compound': 0.0}\n",
              "627306                                                                                                                                                                                                                                                              LMAO! You're not along!      {'neg': 0.0, 'neu': 0.434, 'pos': 0.566, 'compound': 0.7365}"
            ]
          },
          "metadata": {
            "tags": []
          },
          "execution_count": 16
        }
      ]
    },
    {
      "cell_type": "markdown",
      "metadata": {
        "id": "kbrLEIGyEET0"
      },
      "source": [
        "The `SentimentIntensityAnalyzer()` returns a dictionary of scores negative, neutral, positive, and compound. Compound is the normalization of negative, neutral, and positive values.\n",
        "\n",
        "\n",
        "How compound is calculated? https://stackoverflow.com/questions/40325980/how-is-the-vader-compound-polarity-score-calculated-in-python-nltk\n",
        "\n",
        "Next, we expand the score, which is currently as dictionary, into their own attributes for better data manipulation--especially the compound attribute."
      ]
    },
    {
      "cell_type": "code",
      "metadata": {
        "id": "M9GcU1qtEKha"
      },
      "source": [
        "dfOriginalSScore = pd.json_normalize(dfOriginals.sentimentscore)\n",
        "dfOriginalSScore['original_index'] = dfOriginals.index\n",
        "dfOriginalSScore = dfOriginalSScore.set_index('original_index')"
      ],
      "execution_count": 17,
      "outputs": []
    },
    {
      "cell_type": "code",
      "metadata": {
        "id": "Z9nqoDf7comS"
      },
      "source": [
        "dfOriginals = dfOriginals.merge(dfOriginalSScore, left_index=True, right_index=True)"
      ],
      "execution_count": 18,
      "outputs": []
    },
    {
      "cell_type": "code",
      "metadata": {
        "id": "aoK5ZqBlU9Wa",
        "colab": {
          "base_uri": "https://localhost:8080/",
          "height": 359
        },
        "outputId": "d8f810f5-964e-47cf-bb11-6a7da6c4d450"
      },
      "source": [
        "dfOriginals.sample(10)[['modified_text','compound']]"
      ],
      "execution_count": 19,
      "outputs": [
        {
          "output_type": "execute_result",
          "data": {
            "text/html": [
              "<div>\n",
              "<style scoped>\n",
              "    .dataframe tbody tr th:only-of-type {\n",
              "        vertical-align: middle;\n",
              "    }\n",
              "\n",
              "    .dataframe tbody tr th {\n",
              "        vertical-align: top;\n",
              "    }\n",
              "\n",
              "    .dataframe thead th {\n",
              "        text-align: right;\n",
              "    }\n",
              "</style>\n",
              "<table border=\"1\" class=\"dataframe\">\n",
              "  <thead>\n",
              "    <tr style=\"text-align: right;\">\n",
              "      <th></th>\n",
              "      <th>modified_text</th>\n",
              "      <th>compound</th>\n",
              "    </tr>\n",
              "  </thead>\n",
              "  <tbody>\n",
              "    <tr>\n",
              "      <th>356655</th>\n",
              "      <td>GOODBYE ABSURD!A module that opened my mind but Corona really ruined my vibe! Online learning isn't for me, but I'm keeping positive 😂</td>\n",
              "      <td>0.2250</td>\n",
              "    </tr>\n",
              "    <tr>\n",
              "      <th>557405</th>\n",
              "      <td>In currency CORONA situation how Pakistan is planning to earn money or after this crisis? there is no product except this digital Gold which  is suggesting, let him put crypto mining farm in KPK using Hydropower or tell us why it is not feasible?</td>\n",
              "      <td>-0.8144</td>\n",
              "    </tr>\n",
              "    <tr>\n",
              "      <th>603536</th>\n",
              "      <td>Meet Pedro Corona, proud father of  Class of 2022 President Derrick Corona and alum Samantha Corona. Thank you for keeping us safe during these difficult times, Officer. We appreciate your service</td>\n",
              "      <td>0.8271</td>\n",
              "    </tr>\n",
              "    <tr>\n",
              "      <th>714812</th>\n",
              "      <td>'Amid Corona, good wildlife news,' says Rajasthan CM Gehlot as Sariska tigress gives birth</td>\n",
              "      <td>0.4404</td>\n",
              "    </tr>\n",
              "    <tr>\n",
              "      <th>245827</th>\n",
              "      <td>LolBeen saying this since forever now</td>\n",
              "      <td>0.4215</td>\n",
              "    </tr>\n",
              "    <tr>\n",
              "      <th>791977</th>\n",
              "      <td>APRIL FOOLS!! Corona isn’t real😂😂</td>\n",
              "      <td>-0.6723</td>\n",
              "    </tr>\n",
              "    <tr>\n",
              "      <th>605317</th>\n",
              "      <td>go get one, corona isn’t getting you far</td>\n",
              "      <td>0.0000</td>\n",
              "    </tr>\n",
              "    <tr>\n",
              "      <th>400221</th>\n",
              "      <td>Dem go isolate some of Las Las....  Without corona meddling sef.... Cos the moment you mess (ya so)  and house scatter....  😈😈Guy! Isolation straight 🙃🙃🙃</td>\n",
              "      <td>-0.6588</td>\n",
              "    </tr>\n",
              "    <tr>\n",
              "      <th>751009</th>\n",
              "      <td>The National for March 22, 2020      ...</td>\n",
              "      <td>0.0000</td>\n",
              "    </tr>\n",
              "    <tr>\n",
              "      <th>482077</th>\n",
              "      <td>while all countries now are facing shortages of supplies and staff to treat those infected w corona, the challenges facing the Palestinian territories are exacerbated by more than half a century of Israeli military occupation and its hampering of development</td>\n",
              "      <td>-0.2023</td>\n",
              "    </tr>\n",
              "  </tbody>\n",
              "</table>\n",
              "</div>"
            ],
            "text/plain": [
              "                                                                                                                                                                                                                                                              modified_text  compound\n",
              "356655                                                                                                                               GOODBYE ABSURD!A module that opened my mind but Corona really ruined my vibe! Online learning isn't for me, but I'm keeping positive 😂    0.2250\n",
              "557405               In currency CORONA situation how Pakistan is planning to earn money or after this crisis? there is no product except this digital Gold which  is suggesting, let him put crypto mining farm in KPK using Hydropower or tell us why it is not feasible?   -0.8144\n",
              "603536                                                              Meet Pedro Corona, proud father of  Class of 2022 President Derrick Corona and alum Samantha Corona. Thank you for keeping us safe during these difficult times, Officer. We appreciate your service       0.8271\n",
              "714812                                                                                                                                                                          'Amid Corona, good wildlife news,' says Rajasthan CM Gehlot as Sariska tigress gives birth     0.4404\n",
              "245827                                                                                                                                                                                                                               LolBeen saying this since forever now     0.4215\n",
              "791977                                                                                                                                                                                                                                    APRIL FOOLS!! Corona isn’t real😂😂   -0.6723\n",
              "605317                                                                                                                                                                                                                             go get one, corona isn’t getting you far    0.0000\n",
              "400221                                                                                                            Dem go isolate some of Las Las....  Without corona meddling sef.... Cos the moment you mess (ya so)  and house scatter....  😈😈Guy! Isolation straight 🙃🙃🙃   -0.6588\n",
              "751009                                                                                                                                                                                                                            The National for March 22, 2020      ...     0.0000\n",
              "482077  while all countries now are facing shortages of supplies and staff to treat those infected w corona, the challenges facing the Palestinian territories are exacerbated by more than half a century of Israeli military occupation and its hampering of development    -0.2023"
            ]
          },
          "metadata": {
            "tags": []
          },
          "execution_count": 19
        }
      ]
    },
    {
      "cell_type": "markdown",
      "metadata": {
        "id": "o57uAAy3rzB3"
      },
      "source": [
        "Splitting sentiment score into 5 classes of equal 0.4 parts.\n",
        "- -1 to -0.6 for extra negative\n",
        "- -0.6 to -0.2 for slight negative\n",
        "- 0.2 to 0.2 for neutral\n",
        "- 0.2 to 0.6 for slight positive\n",
        "- 0.6 to 1 for extra positive"
      ]
    },
    {
      "cell_type": "code",
      "metadata": {
        "id": "BqdFZMtMF43y"
      },
      "source": [
        "dfOriginals['sentiment_class'] = pd.cut(dfOriginals['compound'], bins=[-1, -.6, -.2, 0.2, .6, 1], right=True, labels=['x_neg', 's_neg', 'neu', 's_pos','x_pos'])"
      ],
      "execution_count": 20,
      "outputs": []
    },
    {
      "cell_type": "code",
      "metadata": {
        "id": "tpPtkx69Guf3",
        "colab": {
          "base_uri": "https://localhost:8080/",
          "height": 359
        },
        "outputId": "cf85ecd9-d2c8-47c2-8325-92a2525a2a34"
      },
      "source": [
        "dfOriginals.sample(10)[['modified_text','compound','sentiment_class']]"
      ],
      "execution_count": 21,
      "outputs": [
        {
          "output_type": "execute_result",
          "data": {
            "text/html": [
              "<div>\n",
              "<style scoped>\n",
              "    .dataframe tbody tr th:only-of-type {\n",
              "        vertical-align: middle;\n",
              "    }\n",
              "\n",
              "    .dataframe tbody tr th {\n",
              "        vertical-align: top;\n",
              "    }\n",
              "\n",
              "    .dataframe thead th {\n",
              "        text-align: right;\n",
              "    }\n",
              "</style>\n",
              "<table border=\"1\" class=\"dataframe\">\n",
              "  <thead>\n",
              "    <tr style=\"text-align: right;\">\n",
              "      <th></th>\n",
              "      <th>modified_text</th>\n",
              "      <th>compound</th>\n",
              "      <th>sentiment_class</th>\n",
              "    </tr>\n",
              "  </thead>\n",
              "  <tbody>\n",
              "    <tr>\n",
              "      <th>758181</th>\n",
              "      <td>Bro of this what they gata do to test me for Covid19 cheapus ya put me sleep cuz me staying wake for this shit</td>\n",
              "      <td>-0.6428</td>\n",
              "      <td>x_neg</td>\n",
              "    </tr>\n",
              "    <tr>\n",
              "      <th>794425</th>\n",
              "      <td>I’m actually in the midst of writing my Corona Chronicles. So I got you. Don’t steal that name.</td>\n",
              "      <td>-0.4939</td>\n",
              "      <td>s_neg</td>\n",
              "    </tr>\n",
              "    <tr>\n",
              "      <th>455545</th>\n",
              "      <td>This corona virus is scary. Cause if it enters slums and suburbs how do you want an infected person to self isolate in a room of 7-10 persons in a face me I face you yard.</td>\n",
              "      <td>-0.7845</td>\n",
              "      <td>x_neg</td>\n",
              "    </tr>\n",
              "    <tr>\n",
              "      <th>299141</th>\n",
              "      <td>So a few months into the corona crisis and this is what you came up with? Still trying to influence the media instead of actually doing something useful...  Wow! Thanks! 🤦‍♂️</td>\n",
              "      <td>0.4912</td>\n",
              "      <td>s_pos</td>\n",
              "    </tr>\n",
              "    <tr>\n",
              "      <th>249574</th>\n",
              "      <td>Sir i am student of law from mlsu Udaipur and i want to ask to u that we are having semester system and from this corona we are not having and what will for out exam</td>\n",
              "      <td>0.0772</td>\n",
              "      <td>neu</td>\n",
              "    </tr>\n",
              "    <tr>\n",
              "      <th>782062</th>\n",
              "      <td>😂😂😂Now Check them, Both will be get Corona positive</td>\n",
              "      <td>0.5574</td>\n",
              "      <td>s_pos</td>\n",
              "    </tr>\n",
              "    <tr>\n",
              "      <th>736632</th>\n",
              "      <td>Oh no I am so relieved now that you have pointed out that medical errors killed 250,00 every year in the US compare with novel corona virus PANDEMIC w/ no cure &amp;amp; mortality rate of 1-3% that is 10 times more contagious than the flu &amp;amp; spread over 180 countries in three months! Yea!</td>\n",
              "      <td>-0.8997</td>\n",
              "      <td>x_neg</td>\n",
              "    </tr>\n",
              "    <tr>\n",
              "      <th>700604</th>\n",
              "      <td>MSNBC is disgustingly promoting trump’s campaign now. Fox is going to do what they always do promote false information to get trump re-elected. Why in the world MSNBC cover this political rally from the White House? Mind bugling!</td>\n",
              "      <td>0.1260</td>\n",
              "      <td>neu</td>\n",
              "    </tr>\n",
              "    <tr>\n",
              "      <th>514244</th>\n",
              "      <td>Fuck a bitch named corona 🖕🏾🦠</td>\n",
              "      <td>-0.8074</td>\n",
              "      <td>x_neg</td>\n",
              "    </tr>\n",
              "    <tr>\n",
              "      <th>796821</th>\n",
              "      <td>Virus se Bachne ke Upay</td>\n",
              "      <td>0.0000</td>\n",
              "      <td>neu</td>\n",
              "    </tr>\n",
              "  </tbody>\n",
              "</table>\n",
              "</div>"
            ],
            "text/plain": [
              "                                                                                                                                                                                                                                                                                             modified_text  ...  sentiment_class\n",
              "758181                                                                                                                                                                                     Bro of this what they gata do to test me for Covid19 cheapus ya put me sleep cuz me staying wake for this shit   ...            x_neg\n",
              "794425                                                                                                                                                                                                     I’m actually in the midst of writing my Corona Chronicles. So I got you. Don’t steal that name.  ...            s_neg\n",
              "455545                                                                                                                         This corona virus is scary. Cause if it enters slums and suburbs how do you want an infected person to self isolate in a room of 7-10 persons in a face me I face you yard.  ...            x_neg\n",
              "299141                                                                                                                      So a few months into the corona crisis and this is what you came up with? Still trying to influence the media instead of actually doing something useful...  Wow! Thanks! 🤦‍♂️  ...            s_pos\n",
              "249574                                                                                                                               Sir i am student of law from mlsu Udaipur and i want to ask to u that we are having semester system and from this corona we are not having and what will for out exam  ...              neu\n",
              "782062                                                                                                                                                                                                                                                 😂😂😂Now Check them, Both will be get Corona positive  ...            s_pos\n",
              "736632    Oh no I am so relieved now that you have pointed out that medical errors killed 250,00 every year in the US compare with novel corona virus PANDEMIC w/ no cure &amp; mortality rate of 1-3% that is 10 times more contagious than the flu &amp; spread over 180 countries in three months! Yea!  ...            x_neg\n",
              "700604                                                              MSNBC is disgustingly promoting trump’s campaign now. Fox is going to do what they always do promote false information to get trump re-elected. Why in the world MSNBC cover this political rally from the White House? Mind bugling!   ...              neu\n",
              "514244                                                                                                                                                                                                                                                                       Fuck a bitch named corona 🖕🏾🦠  ...            x_neg\n",
              "796821                                                                                                                                                                                                                                                                            Virus se Bachne ke Upay   ...              neu\n",
              "\n",
              "[10 rows x 3 columns]"
            ]
          },
          "metadata": {
            "tags": []
          },
          "execution_count": 21
        }
      ]
    },
    {
      "cell_type": "markdown",
      "metadata": {
        "id": "VVm75gsTSos2"
      },
      "source": [
        "Getting the total count for each sentiment class."
      ]
    },
    {
      "cell_type": "code",
      "metadata": {
        "id": "wcYwXQdVHTt9",
        "colab": {
          "base_uri": "https://localhost:8080/"
        },
        "outputId": "42a6d2e4-0ddc-4e95-dbf5-3bd4d848daad"
      },
      "source": [
        "dfOriginals.sentiment_class.value_counts()"
      ],
      "execution_count": 22,
      "outputs": [
        {
          "output_type": "execute_result",
          "data": {
            "text/plain": [
              "neu      82447\n",
              "s_pos    48833\n",
              "s_neg    47398\n",
              "x_neg    35876\n",
              "x_pos    30835\n",
              "Name: sentiment_class, dtype: int64"
            ]
          },
          "metadata": {
            "tags": []
          },
          "execution_count": 22
        }
      ]
    },
    {
      "cell_type": "markdown",
      "metadata": {
        "id": "haI-bZHZSbwB"
      },
      "source": [
        "Creating a more relaxed system of sentiment classification, compound scores of -1 to -0.1 = negative \n",
        "-0.1 to 0.1  = neutral\n",
        "0.1 to 1 = positive.\n",
        "\n",
        "reference:\n",
        "Deo, G. S., Mishra, A., Jalaluddin, Z. M., & Mahamuni, C. V. (2020, September). Predictive Analysis of Resource Usage Data in Academic Libraries using the VADER Sentiment Algorithm. In 2020 12th International Conference on Computational Intelligence and Communication Networks (CICN) (pp. 221-228). IEEE.\n",
        "\n",
        "https://www.researchgate.net/profile/Gouri_Deo/publication/342988903_Predictive_Analysis_of_Resource_Usage_Data_in_Academic_Libraries_using_the_VADER_Sentiment_Algorithm/links/5f1085a6a6fdcc3ed70bcf20/Predictive-Analysis-of-Resource-Usage-Data-in-Academic-Libraries-using-the-VADER-Sentiment-Algorithm.pdf\n",
        "\n"
      ]
    },
    {
      "cell_type": "code",
      "metadata": {
        "id": "P2kbxHPFSlv0",
        "colab": {
          "base_uri": "https://localhost:8080/"
        },
        "outputId": "0a5a49c5-36d0-4cc6-b8bd-a7084f467943"
      },
      "source": [
        "dfOriginals['sentiment_class_relaxed'] = pd.cut(dfOriginals['compound'], bins=[-1, -.1, 0.1, 1], right=True, labels=['neg', 'neu', 'pos'])\n",
        "dfOriginals.sentiment_class_relaxed.value_counts()"
      ],
      "execution_count": 23,
      "outputs": [
        {
          "output_type": "execute_result",
          "data": {
            "text/plain": [
              "neg    89699\n",
              "pos    85606\n",
              "neu    70084\n",
              "Name: sentiment_class_relaxed, dtype: int64"
            ]
          },
          "metadata": {
            "tags": []
          },
          "execution_count": 23
        }
      ]
    },
    {
      "cell_type": "markdown",
      "metadata": {
        "id": "ijaX3C_HonE7"
      },
      "source": [
        "- impact factor of a tweet "
      ]
    },
    {
      "cell_type": "markdown",
      "metadata": {
        "id": "z301Ydq8pOWT"
      },
      "source": [
        "# Step 8. Basic Analysis\n",
        "\n",
        "Observing the correlation between variables."
      ]
    },
    {
      "cell_type": "code",
      "metadata": {
        "colab": {
          "base_uri": "https://localhost:8080/",
          "height": 204
        },
        "id": "85ESk5yIvkfQ",
        "outputId": "21cfaf2d-fe29-4d84-ef16-8464e3444a92"
      },
      "source": [
        "dfOriginals[['favorite_count','retweet_count','user_followers_count','compound','user_statuses_count']].corr()"
      ],
      "execution_count": 24,
      "outputs": [
        {
          "output_type": "execute_result",
          "data": {
            "text/html": [
              "<div>\n",
              "<style scoped>\n",
              "    .dataframe tbody tr th:only-of-type {\n",
              "        vertical-align: middle;\n",
              "    }\n",
              "\n",
              "    .dataframe tbody tr th {\n",
              "        vertical-align: top;\n",
              "    }\n",
              "\n",
              "    .dataframe thead th {\n",
              "        text-align: right;\n",
              "    }\n",
              "</style>\n",
              "<table border=\"1\" class=\"dataframe\">\n",
              "  <thead>\n",
              "    <tr style=\"text-align: right;\">\n",
              "      <th></th>\n",
              "      <th>favorite_count</th>\n",
              "      <th>retweet_count</th>\n",
              "      <th>user_followers_count</th>\n",
              "      <th>compound</th>\n",
              "      <th>user_statuses_count</th>\n",
              "    </tr>\n",
              "  </thead>\n",
              "  <tbody>\n",
              "    <tr>\n",
              "      <th>favorite_count</th>\n",
              "      <td>1.000000</td>\n",
              "      <td>0.908576</td>\n",
              "      <td>0.165683</td>\n",
              "      <td>-0.001289</td>\n",
              "      <td>0.015366</td>\n",
              "    </tr>\n",
              "    <tr>\n",
              "      <th>retweet_count</th>\n",
              "      <td>0.908576</td>\n",
              "      <td>1.000000</td>\n",
              "      <td>0.090025</td>\n",
              "      <td>-0.003297</td>\n",
              "      <td>0.015991</td>\n",
              "    </tr>\n",
              "    <tr>\n",
              "      <th>user_followers_count</th>\n",
              "      <td>0.165683</td>\n",
              "      <td>0.090025</td>\n",
              "      <td>1.000000</td>\n",
              "      <td>0.003237</td>\n",
              "      <td>0.116452</td>\n",
              "    </tr>\n",
              "    <tr>\n",
              "      <th>compound</th>\n",
              "      <td>-0.001289</td>\n",
              "      <td>-0.003297</td>\n",
              "      <td>0.003237</td>\n",
              "      <td>1.000000</td>\n",
              "      <td>-0.016042</td>\n",
              "    </tr>\n",
              "    <tr>\n",
              "      <th>user_statuses_count</th>\n",
              "      <td>0.015366</td>\n",
              "      <td>0.015991</td>\n",
              "      <td>0.116452</td>\n",
              "      <td>-0.016042</td>\n",
              "      <td>1.000000</td>\n",
              "    </tr>\n",
              "  </tbody>\n",
              "</table>\n",
              "</div>"
            ],
            "text/plain": [
              "                      favorite_count  ...  user_statuses_count\n",
              "favorite_count              1.000000  ...             0.015366\n",
              "retweet_count               0.908576  ...             0.015991\n",
              "user_followers_count        0.165683  ...             0.116452\n",
              "compound                   -0.001289  ...            -0.016042\n",
              "user_statuses_count         0.015366  ...             1.000000\n",
              "\n",
              "[5 rows x 5 columns]"
            ]
          },
          "metadata": {
            "tags": []
          },
          "execution_count": 24
        }
      ]
    },
    {
      "cell_type": "code",
      "metadata": {
        "colab": {
          "base_uri": "https://localhost:8080/",
          "height": 297
        },
        "id": "UDWk9JkiBfnT",
        "outputId": "94178d9e-8fdc-4346-962e-1f3365da77d4"
      },
      "source": [
        "dfOriginals[['favorite_count','retweet_count','user_followers_count','compound','user_statuses_count','user_verified']].describe().apply(lambda s: s.apply('{0:.5f}'.format))"
      ],
      "execution_count": 25,
      "outputs": [
        {
          "output_type": "execute_result",
          "data": {
            "text/html": [
              "<div>\n",
              "<style scoped>\n",
              "    .dataframe tbody tr th:only-of-type {\n",
              "        vertical-align: middle;\n",
              "    }\n",
              "\n",
              "    .dataframe tbody tr th {\n",
              "        vertical-align: top;\n",
              "    }\n",
              "\n",
              "    .dataframe thead th {\n",
              "        text-align: right;\n",
              "    }\n",
              "</style>\n",
              "<table border=\"1\" class=\"dataframe\">\n",
              "  <thead>\n",
              "    <tr style=\"text-align: right;\">\n",
              "      <th></th>\n",
              "      <th>favorite_count</th>\n",
              "      <th>retweet_count</th>\n",
              "      <th>user_followers_count</th>\n",
              "      <th>compound</th>\n",
              "      <th>user_statuses_count</th>\n",
              "    </tr>\n",
              "  </thead>\n",
              "  <tbody>\n",
              "    <tr>\n",
              "      <th>count</th>\n",
              "      <td>245389.00000</td>\n",
              "      <td>245389.00000</td>\n",
              "      <td>245389.00000</td>\n",
              "      <td>245389.00000</td>\n",
              "      <td>245389.00000</td>\n",
              "    </tr>\n",
              "    <tr>\n",
              "      <th>mean</th>\n",
              "      <td>9.52971</td>\n",
              "      <td>2.70475</td>\n",
              "      <td>9251.20519</td>\n",
              "      <td>-0.01442</td>\n",
              "      <td>27468.30799</td>\n",
              "    </tr>\n",
              "    <tr>\n",
              "      <th>std</th>\n",
              "      <td>384.21091</td>\n",
              "      <td>122.27732</td>\n",
              "      <td>250678.23602</td>\n",
              "      <td>0.48520</td>\n",
              "      <td>75560.36124</td>\n",
              "    </tr>\n",
              "    <tr>\n",
              "      <th>min</th>\n",
              "      <td>0.00000</td>\n",
              "      <td>0.00000</td>\n",
              "      <td>0.00000</td>\n",
              "      <td>-0.99590</td>\n",
              "      <td>1.00000</td>\n",
              "    </tr>\n",
              "    <tr>\n",
              "      <th>25%</th>\n",
              "      <td>0.00000</td>\n",
              "      <td>0.00000</td>\n",
              "      <td>64.00000</td>\n",
              "      <td>-0.40190</td>\n",
              "      <td>1156.00000</td>\n",
              "    </tr>\n",
              "    <tr>\n",
              "      <th>50%</th>\n",
              "      <td>0.00000</td>\n",
              "      <td>0.00000</td>\n",
              "      <td>331.00000</td>\n",
              "      <td>0.00000</td>\n",
              "      <td>6344.00000</td>\n",
              "    </tr>\n",
              "    <tr>\n",
              "      <th>75%</th>\n",
              "      <td>1.00000</td>\n",
              "      <td>0.00000</td>\n",
              "      <td>1307.00000</td>\n",
              "      <td>0.38180</td>\n",
              "      <td>24616.00000</td>\n",
              "    </tr>\n",
              "    <tr>\n",
              "      <th>max</th>\n",
              "      <td>108137.00000</td>\n",
              "      <td>35137.00000</td>\n",
              "      <td>62855265.00000</td>\n",
              "      <td>0.99190</td>\n",
              "      <td>4472178.00000</td>\n",
              "    </tr>\n",
              "  </tbody>\n",
              "</table>\n",
              "</div>"
            ],
            "text/plain": [
              "      favorite_count retweet_count  ...      compound user_statuses_count\n",
              "count   245389.00000  245389.00000  ...  245389.00000        245389.00000\n",
              "mean         9.52971       2.70475  ...      -0.01442         27468.30799\n",
              "std        384.21091     122.27732  ...       0.48520         75560.36124\n",
              "min          0.00000       0.00000  ...      -0.99590             1.00000\n",
              "25%          0.00000       0.00000  ...      -0.40190          1156.00000\n",
              "50%          0.00000       0.00000  ...       0.00000          6344.00000\n",
              "75%          1.00000       0.00000  ...       0.38180         24616.00000\n",
              "max     108137.00000   35137.00000  ...       0.99190       4472178.00000\n",
              "\n",
              "[8 rows x 5 columns]"
            ]
          },
          "metadata": {
            "tags": []
          },
          "execution_count": 25
        }
      ]
    },
    {
      "cell_type": "markdown",
      "metadata": {
        "id": "FmFrATvf_2GW"
      },
      "source": [
        "# Step 9. Build Classification\n",
        "\n",
        "## Split Train and Test set"
      ]
    },
    {
      "cell_type": "code",
      "metadata": {
        "id": "43ZanG6qPf5d",
        "colab": {
          "base_uri": "https://localhost:8080/",
          "height": 419
        },
        "outputId": "abed65d6-4466-467c-fa47-08b56920ad3c"
      },
      "source": [
        "dfOriginals[['favorite_count','retweet_count','user_followers_count','compound']]"
      ],
      "execution_count": 26,
      "outputs": [
        {
          "output_type": "execute_result",
          "data": {
            "text/html": [
              "<div>\n",
              "<style scoped>\n",
              "    .dataframe tbody tr th:only-of-type {\n",
              "        vertical-align: middle;\n",
              "    }\n",
              "\n",
              "    .dataframe tbody tr th {\n",
              "        vertical-align: top;\n",
              "    }\n",
              "\n",
              "    .dataframe thead th {\n",
              "        text-align: right;\n",
              "    }\n",
              "</style>\n",
              "<table border=\"1\" class=\"dataframe\">\n",
              "  <thead>\n",
              "    <tr style=\"text-align: right;\">\n",
              "      <th></th>\n",
              "      <th>favorite_count</th>\n",
              "      <th>retweet_count</th>\n",
              "      <th>user_followers_count</th>\n",
              "      <th>compound</th>\n",
              "    </tr>\n",
              "  </thead>\n",
              "  <tbody>\n",
              "    <tr>\n",
              "      <th>3</th>\n",
              "      <td>0</td>\n",
              "      <td>0</td>\n",
              "      <td>54</td>\n",
              "      <td>0.0129</td>\n",
              "    </tr>\n",
              "    <tr>\n",
              "      <th>4</th>\n",
              "      <td>0</td>\n",
              "      <td>0</td>\n",
              "      <td>73</td>\n",
              "      <td>0.3400</td>\n",
              "    </tr>\n",
              "    <tr>\n",
              "      <th>6</th>\n",
              "      <td>0</td>\n",
              "      <td>0</td>\n",
              "      <td>55</td>\n",
              "      <td>0.4404</td>\n",
              "    </tr>\n",
              "    <tr>\n",
              "      <th>7</th>\n",
              "      <td>0</td>\n",
              "      <td>0</td>\n",
              "      <td>79</td>\n",
              "      <td>0.6369</td>\n",
              "    </tr>\n",
              "    <tr>\n",
              "      <th>12</th>\n",
              "      <td>0</td>\n",
              "      <td>0</td>\n",
              "      <td>36</td>\n",
              "      <td>0.8885</td>\n",
              "    </tr>\n",
              "    <tr>\n",
              "      <th>...</th>\n",
              "      <td>...</td>\n",
              "      <td>...</td>\n",
              "      <td>...</td>\n",
              "      <td>...</td>\n",
              "    </tr>\n",
              "    <tr>\n",
              "      <th>799126</th>\n",
              "      <td>0</td>\n",
              "      <td>0</td>\n",
              "      <td>36</td>\n",
              "      <td>-0.9267</td>\n",
              "    </tr>\n",
              "    <tr>\n",
              "      <th>799127</th>\n",
              "      <td>1</td>\n",
              "      <td>0</td>\n",
              "      <td>8</td>\n",
              "      <td>0.0000</td>\n",
              "    </tr>\n",
              "    <tr>\n",
              "      <th>799128</th>\n",
              "      <td>1</td>\n",
              "      <td>0</td>\n",
              "      <td>5</td>\n",
              "      <td>0.2023</td>\n",
              "    </tr>\n",
              "    <tr>\n",
              "      <th>799130</th>\n",
              "      <td>3</td>\n",
              "      <td>0</td>\n",
              "      <td>441</td>\n",
              "      <td>-0.5106</td>\n",
              "    </tr>\n",
              "    <tr>\n",
              "      <th>799133</th>\n",
              "      <td>0</td>\n",
              "      <td>0</td>\n",
              "      <td>40</td>\n",
              "      <td>-0.8611</td>\n",
              "    </tr>\n",
              "  </tbody>\n",
              "</table>\n",
              "<p>245389 rows × 4 columns</p>\n",
              "</div>"
            ],
            "text/plain": [
              "        favorite_count  retweet_count  user_followers_count  compound\n",
              "3                    0              0                    54    0.0129\n",
              "4                    0              0                    73    0.3400\n",
              "6                    0              0                    55    0.4404\n",
              "7                    0              0                    79    0.6369\n",
              "12                   0              0                    36    0.8885\n",
              "...                ...            ...                   ...       ...\n",
              "799126               0              0                    36   -0.9267\n",
              "799127               1              0                     8    0.0000\n",
              "799128               1              0                     5    0.2023\n",
              "799130               3              0                   441   -0.5106\n",
              "799133               0              0                    40   -0.8611\n",
              "\n",
              "[245389 rows x 4 columns]"
            ]
          },
          "metadata": {
            "tags": []
          },
          "execution_count": 26
        }
      ]
    },
    {
      "cell_type": "code",
      "metadata": {
        "id": "dnvWBGoU_9Nh",
        "colab": {
          "base_uri": "https://localhost:8080/"
        },
        "outputId": "06be326d-ede0-4dd1-878c-81892e8ceaeb"
      },
      "source": [
        "from sklearn import preprocessing\n",
        "from sklearn import linear_model\n",
        "\n",
        "trainSet=dfOriginals.sample(frac=0.8,random_state=200)\n",
        "testSet=dfOriginals.drop(trainSet.index)\n",
        "\n",
        "# X_train = preprocessing.scale(trainSet[['retweet_count','user_followers_count','compound','user_statuses_count','user_verified']])\n",
        "# X_train = preprocessing.scale(trainSet[['user_followers_count','compound','user_statuses_count','user_verified']])\n",
        "X_train = (trainSet[['retweet_count','user_followers_count','compound']])\n",
        "Y_train = trainSet['favorite_count']\n",
        "reg = linear_model.LinearRegression()\n",
        "\n",
        "reg.fit(X_train,Y_train)"
      ],
      "execution_count": 27,
      "outputs": [
        {
          "output_type": "execute_result",
          "data": {
            "text/plain": [
              "LinearRegression(copy_X=True, fit_intercept=True, n_jobs=None, normalize=False)"
            ]
          },
          "metadata": {
            "tags": []
          },
          "execution_count": 27
        }
      ]
    },
    {
      "cell_type": "code",
      "metadata": {
        "id": "LmivDCGY5DlH"
      },
      "source": [
        "# from sklearn import tree\n",
        "# clf = tree.DecisionTreeClassifier()\n",
        "# clf = clf.fit(X_train, Y_train)\n"
      ],
      "execution_count": 28,
      "outputs": []
    },
    {
      "cell_type": "code",
      "metadata": {
        "id": "AMVTjoD85Yw5",
        "colab": {
          "base_uri": "https://localhost:8080/",
          "height": 419
        },
        "outputId": "09d09eeb-09a0-4546-f565-8d90e5173237"
      },
      "source": [
        "# clf.predict(testSet[['retweet_count','user_followers_count','compound','user_statuses_count','user_verified',]]) #- testSet['favorite_count']\n",
        "plot_1_Y = reg.predict(testSet[['retweet_count','user_followers_count','compound']]) # predicted as Y\n",
        "plot_1_X = testSet['favorite_count'].reset_index()  # actual as X\n",
        "df_plot_1 = pd.concat([plot_1_X,pd.DataFrame(plot_1_Y)],axis=1)\n",
        "df_plot_1.columns = ['index','actual', 'predicted']\n",
        "df_plot_1"
      ],
      "execution_count": 29,
      "outputs": [
        {
          "output_type": "execute_result",
          "data": {
            "text/html": [
              "<div>\n",
              "<style scoped>\n",
              "    .dataframe tbody tr th:only-of-type {\n",
              "        vertical-align: middle;\n",
              "    }\n",
              "\n",
              "    .dataframe tbody tr th {\n",
              "        vertical-align: top;\n",
              "    }\n",
              "\n",
              "    .dataframe thead th {\n",
              "        text-align: right;\n",
              "    }\n",
              "</style>\n",
              "<table border=\"1\" class=\"dataframe\">\n",
              "  <thead>\n",
              "    <tr style=\"text-align: right;\">\n",
              "      <th></th>\n",
              "      <th>index</th>\n",
              "      <th>actual</th>\n",
              "      <th>predicted</th>\n",
              "    </tr>\n",
              "  </thead>\n",
              "  <tbody>\n",
              "    <tr>\n",
              "      <th>0</th>\n",
              "      <td>3</td>\n",
              "      <td>0</td>\n",
              "      <td>1.334603</td>\n",
              "    </tr>\n",
              "    <tr>\n",
              "      <th>1</th>\n",
              "      <td>12</td>\n",
              "      <td>0</td>\n",
              "      <td>2.639196</td>\n",
              "    </tr>\n",
              "    <tr>\n",
              "      <th>2</th>\n",
              "      <td>28</td>\n",
              "      <td>1</td>\n",
              "      <td>1.471820</td>\n",
              "    </tr>\n",
              "    <tr>\n",
              "      <th>3</th>\n",
              "      <td>52</td>\n",
              "      <td>0</td>\n",
              "      <td>1.825821</td>\n",
              "    </tr>\n",
              "    <tr>\n",
              "      <th>4</th>\n",
              "      <td>77</td>\n",
              "      <td>1</td>\n",
              "      <td>2.497649</td>\n",
              "    </tr>\n",
              "    <tr>\n",
              "      <th>...</th>\n",
              "      <td>...</td>\n",
              "      <td>...</td>\n",
              "      <td>...</td>\n",
              "    </tr>\n",
              "    <tr>\n",
              "      <th>49073</th>\n",
              "      <td>799102</td>\n",
              "      <td>1</td>\n",
              "      <td>1.357766</td>\n",
              "    </tr>\n",
              "    <tr>\n",
              "      <th>49074</th>\n",
              "      <td>799123</td>\n",
              "      <td>0</td>\n",
              "      <td>1.311873</td>\n",
              "    </tr>\n",
              "    <tr>\n",
              "      <th>49075</th>\n",
              "      <td>799126</td>\n",
              "      <td>0</td>\n",
              "      <td>-0.070743</td>\n",
              "    </tr>\n",
              "    <tr>\n",
              "      <th>49076</th>\n",
              "      <td>799127</td>\n",
              "      <td>1</td>\n",
              "      <td>1.308692</td>\n",
              "    </tr>\n",
              "    <tr>\n",
              "      <th>49077</th>\n",
              "      <td>799130</td>\n",
              "      <td>3</td>\n",
              "      <td>0.609029</td>\n",
              "    </tr>\n",
              "  </tbody>\n",
              "</table>\n",
              "<p>49078 rows × 3 columns</p>\n",
              "</div>"
            ],
            "text/plain": [
              "        index  actual  predicted\n",
              "0           3       0   1.334603\n",
              "1          12       0   2.639196\n",
              "2          28       1   1.471820\n",
              "3          52       0   1.825821\n",
              "4          77       1   2.497649\n",
              "...       ...     ...        ...\n",
              "49073  799102       1   1.357766\n",
              "49074  799123       0   1.311873\n",
              "49075  799126       0  -0.070743\n",
              "49076  799127       1   1.308692\n",
              "49077  799130       3   0.609029\n",
              "\n",
              "[49078 rows x 3 columns]"
            ]
          },
          "metadata": {
            "tags": []
          },
          "execution_count": 29
        }
      ]
    },
    {
      "cell_type": "code",
      "metadata": {
        "colab": {
          "base_uri": "https://localhost:8080/",
          "height": 623
        },
        "id": "pKt0m5Z2MKiW",
        "outputId": "b0c9f663-9f83-4a3a-8882-0e72e9ae4302"
      },
      "source": [
        "from numpy.polynomial.polynomial import polyfit\n",
        "\n",
        "plot_1 = df_plot_1.plot.scatter(x='actual',y='predicted',figsize=(20,10))\n",
        "b, m = polyfit(df_plot_1.actual, df_plot_1.predicted, 1)\n",
        "\n",
        "plot_1.plot(df_plot_1.actual, b + m * df_plot_1.actual, '-')\n",
        "\n",
        "# df_plot_1.plot(x='actual',y='predicted', ax=plot_1)"
      ],
      "execution_count": 30,
      "outputs": [
        {
          "output_type": "execute_result",
          "data": {
            "text/plain": [
              "[<matplotlib.lines.Line2D at 0x7ff1562687f0>]"
            ]
          },
          "metadata": {
            "tags": []
          },
          "execution_count": 30
        },
        {
          "output_type": "display_data",
          "data": {
            "image/png": "[encoded data removed]",
            "text/plain": [
              "<Figure size 1440x720 with 1 Axes>"
            ]
          },
          "metadata": {
            "tags": [],
            "needs_background": "light"
          }
        }
      ]
    },
    {
      "cell_type": "markdown",
      "metadata": {
        "id": "kgzIaCKenOU_"
      },
      "source": [
        "Mean Square Error"
      ]
    },
    {
      "cell_type": "code",
      "metadata": {
        "colab": {
          "base_uri": "https://localhost:8080/"
        },
        "id": "I2FaV3XznNL0",
        "outputId": "ffec5b26-fbf2-45c2-c4d3-e357ea61a710"
      },
      "source": [
        "from sklearn.metrics import mean_squared_error\n",
        "from math import sqrt\n",
        "\n",
        "mse = mean_squared_error(df_plot_1.actual, df_plot_1.predicted)\n",
        "print(\"MSE: \" + str(mse))\n",
        "print(\"RMSE: \" + str(sqrt(mse)))\n",
        "# sqrt(mse)"
      ],
      "execution_count": 31,
      "outputs": [
        {
          "output_type": "stream",
          "text": [
            "MSE: 36005.685772655306\n",
            "RMSE: 189.7516423450804\n"
          ],
          "name": "stdout"
        }
      ]
    },
    {
      "cell_type": "markdown",
      "metadata": {
        "id": "ZDHkWYpZRoQP"
      },
      "source": [
        "## Attempt 2\n",
        "\n",
        "- Groupby user_screen_name\n",
        "- calculate the mean sentiment score\n",
        "- see whether there are any correlation between number of followers and number of favourite tweets against the mean sentimental score (check SD)\n",
        "\n",
        "explain properly an understanding of why introducing new feature"
      ]
    },
    {
      "cell_type": "code",
      "metadata": {
        "id": "r5cQcimuQp1y",
        "colab": {
          "base_uri": "https://localhost:8080/",
          "height": 419
        },
        "outputId": "97330d7f-3ec8-4f26-d8a0-35920b10e2db"
      },
      "source": [
        "dfOriginals.groupby('user_screen_name').size().reset_index(name='counts').sort_values(by='counts', ascending=False)"
      ],
      "execution_count": 33,
      "outputs": [
        {
          "output_type": "execute_result",
          "data": {
            "text/html": [
              "<div>\n",
              "<style scoped>\n",
              "    .dataframe tbody tr th:only-of-type {\n",
              "        vertical-align: middle;\n",
              "    }\n",
              "\n",
              "    .dataframe tbody tr th {\n",
              "        vertical-align: top;\n",
              "    }\n",
              "\n",
              "    .dataframe thead th {\n",
              "        text-align: right;\n",
              "    }\n",
              "</style>\n",
              "<table border=\"1\" class=\"dataframe\">\n",
              "  <thead>\n",
              "    <tr style=\"text-align: right;\">\n",
              "      <th></th>\n",
              "      <th>user_screen_name</th>\n",
              "      <th>counts</th>\n",
              "    </tr>\n",
              "  </thead>\n",
              "  <tbody>\n",
              "    <tr>\n",
              "      <th>27508</th>\n",
              "      <td>ELister_social</td>\n",
              "      <td>666</td>\n",
              "    </tr>\n",
              "    <tr>\n",
              "      <th>79905</th>\n",
              "      <td>SattarSarki1</td>\n",
              "      <td>382</td>\n",
              "    </tr>\n",
              "    <tr>\n",
              "      <th>133777</th>\n",
              "      <td>iHeartFun1</td>\n",
              "      <td>185</td>\n",
              "    </tr>\n",
              "    <tr>\n",
              "      <th>27433</th>\n",
              "      <td>EG24NEWS</td>\n",
              "      <td>181</td>\n",
              "    </tr>\n",
              "    <tr>\n",
              "      <th>142347</th>\n",
              "      <td>kailashscienti1</td>\n",
              "      <td>179</td>\n",
              "    </tr>\n",
              "    <tr>\n",
              "      <th>...</th>\n",
              "      <td>...</td>\n",
              "      <td>...</td>\n",
              "    </tr>\n",
              "    <tr>\n",
              "      <th>68494</th>\n",
              "      <td>Patterico</td>\n",
              "      <td>1</td>\n",
              "    </tr>\n",
              "    <tr>\n",
              "      <th>68495</th>\n",
              "      <td>PattheOldBat</td>\n",
              "      <td>1</td>\n",
              "    </tr>\n",
              "    <tr>\n",
              "      <th>68496</th>\n",
              "      <td>PattiClifford10</td>\n",
              "      <td>1</td>\n",
              "    </tr>\n",
              "    <tr>\n",
              "      <th>68498</th>\n",
              "      <td>PattiMurin</td>\n",
              "      <td>1</td>\n",
              "    </tr>\n",
              "    <tr>\n",
              "      <th>191547</th>\n",
              "      <td>zzzzzzbjdbsh</td>\n",
              "      <td>1</td>\n",
              "    </tr>\n",
              "  </tbody>\n",
              "</table>\n",
              "<p>191548 rows × 2 columns</p>\n",
              "</div>"
            ],
            "text/plain": [
              "       user_screen_name  counts\n",
              "27508    ELister_social     666\n",
              "79905      SattarSarki1     382\n",
              "133777       iHeartFun1     185\n",
              "27433          EG24NEWS     181\n",
              "142347  kailashscienti1     179\n",
              "...                 ...     ...\n",
              "68494         Patterico       1\n",
              "68495      PattheOldBat       1\n",
              "68496   PattiClifford10       1\n",
              "68498        PattiMurin       1\n",
              "191547     zzzzzzbjdbsh       1\n",
              "\n",
              "[191548 rows x 2 columns]"
            ]
          },
          "metadata": {
            "tags": []
          },
          "execution_count": 33
        }
      ]
    }
  ]
}