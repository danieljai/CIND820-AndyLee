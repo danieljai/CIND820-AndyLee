{
  "nbformat": 4,
  "nbformat_minor": 0,
  "metadata": {
    "kernelspec": {
      "display_name": "Python 3",
      "language": "python",
      "name": "python3"
    },
    "language_info": {
      "name": "python",
      "version": "3.7.6",
      "mimetype": "text/x-python",
      "codemirror_mode": {
        "name": "ipython",
        "version": 3
      },
      "pygments_lexer": "ipython3",
      "nbconvert_exporter": "python",
      "file_extension": ".py"
    },
    "colab": {
      "name": "AndyLee-NLP.ipynb",
      "provenance": [],
      "include_colab_link": true
    }
  },
  "cells": [
    {
      "cell_type": "markdown",
      "metadata": {
        "id": "view-in-github",
        "colab_type": "text"
      },
      "source": [
        "<a href=\"https://colab.research.google.com/github/danieljai/CIND820-AndyLee/blob/main/AndyLee_NLP.ipynb\" target=\"_parent\"><img src=\"https://colab.research.google.com/assets/colab-badge.svg\" alt=\"Open In Colab\"/></a>"
      ]
    },
    {
      "cell_type": "markdown",
      "metadata": {
        "id": "_uncPLiQYnn0"
      },
      "source": [
        "# Step 3: Preload setup\n",
        "\n",
        "Basic setup so results can utilize the full width of the screen."
      ]
    },
    {
      "cell_type": "code",
      "metadata": {
        "id": "7VJ3TVjfpoiz"
      },
      "source": [
        "%config IPCompleter.greedy=True\n",
        "import pandas as pd\n",
        "\n",
        "pd.set_option('display.max_colwidth', 200)\n",
        "pd.options.display.max_colwidth = 500\n",
        "pd.options.display.max_rows = 100"
      ],
      "execution_count": 50,
      "outputs": []
    },
    {
      "cell_type": "markdown",
      "metadata": {
        "id": "HbYv2dHQYl-W"
      },
      "source": [
        "# Step 4: Import Dataset\n",
        "\n",
        "The hydrated file is stored in a Google Drive, and using the follow code will mount Google Drive onto Colaboratory."
      ]
    },
    {
      "cell_type": "code",
      "metadata": {
        "id": "RWSJpsyKqHjH",
        "colab": {
          "base_uri": "https://localhost:8080/",
          "height": 0
        },
        "outputId": "fc8d7ab9-e31f-4341-abf3-00168684c157"
      },
      "source": [
        "from google.colab import drive\n",
        "drive.mount('/content/drive')"
      ],
      "execution_count": 51,
      "outputs": [
        {
          "output_type": "stream",
          "text": [
            "Drive already mounted at /content/drive; to attempt to forcibly remount, call drive.mount(\"/content/drive\", force_remount=True).\n"
          ],
          "name": "stdout"
        }
      ]
    },
    {
      "cell_type": "code",
      "metadata": {
        "trusted": true,
        "id": "IhVcP_VWpoiv"
      },
      "source": [
        "df = pd.read_csv(\"/content/drive/My Drive/__CIND 820 - Data Analytics Project/3-data/Book1-fastsave.csv\")"
      ],
      "execution_count": 52,
      "outputs": []
    },
    {
      "cell_type": "markdown",
      "metadata": {
        "id": "uEl8PsIfYPlI"
      },
      "source": [
        "# Step 5. Perform Data Cleaning"
      ]
    },
    {
      "cell_type": "markdown",
      "metadata": {
        "id": "7RbFQ3a7OgDj"
      },
      "source": [
        "## Preview data after cleaning and manipulation\n",
        "\n",
        "Original Tweet dataframe datatypes"
      ]
    },
    {
      "cell_type": "code",
      "metadata": {
        "id": "rwPS4yCo2ETZ",
        "colab": {
          "base_uri": "https://localhost:8080/",
          "height": 0
        },
        "outputId": "2adad32f-142a-4d76-ae68-3273693d66d9"
      },
      "source": [
        "# https://developer.twitter.com/en/docs/twitter-api/v1/data-dictionary/overview/user-object\n",
        "df.dtypes"
      ],
      "execution_count": 53,
      "outputs": [
        {
          "output_type": "execute_result",
          "data": {
            "text/plain": [
              "coordinates                    object\n",
              "created_at                     object\n",
              "hashtags                       object\n",
              "media                          object\n",
              "urls                           object\n",
              "favorite_count                  int64\n",
              "id                              int64\n",
              "in_reply_to_screen_name        object\n",
              "in_reply_to_status_id         float64\n",
              "in_reply_to_user_id           float64\n",
              "lang                           object\n",
              "place                          object\n",
              "possibly_sensitive             object\n",
              "retweet_count                   int64\n",
              "retweet_id                    float64\n",
              "retweet_screen_name            object\n",
              "source                         object\n",
              "text                           object\n",
              "tweet_url                      object\n",
              "user_created_at                object\n",
              "user_screen_name               object\n",
              "user_default_profile_image       bool\n",
              "user_description               object\n",
              "user_favourites_count           int64\n",
              "user_followers_count            int64\n",
              "user_friends_count              int64\n",
              "user_listed_count               int64\n",
              "user_location                  object\n",
              "user_name                      object\n",
              "user_screen_name.1             object\n",
              "user_statuses_count             int64\n",
              "user_time_zone                float64\n",
              "user_urls                      object\n",
              "user_verified                    bool\n",
              "dtype: object"
            ]
          },
          "metadata": {
            "tags": []
          },
          "execution_count": 53
        }
      ]
    },
    {
      "cell_type": "markdown",
      "metadata": {
        "id": "UZfDm-YdvsBC"
      },
      "source": [
        "## Readjust attribute datatype\n",
        "\n",
        "For `retweet_id`, `in_reply_to_status_id`, `in_reply_to_user_id`\n",
        "- Convert `null` values to 0\n",
        "- Convert attribute as int64"
      ]
    },
    {
      "cell_type": "code",
      "metadata": {
        "id": "BNtxXnmyuroY"
      },
      "source": [
        "df.retweet_id = df[df['retweet_id'].notnull()].retweet_id.astype('int64') "
      ],
      "execution_count": 54,
      "outputs": []
    },
    {
      "cell_type": "code",
      "metadata": {
        "id": "Wq7nVqm-Ybq5"
      },
      "source": [
        "df.retweet_id = df.retweet_id.fillna(0).astype('int64')\n",
        "df.in_reply_to_status_id = df.in_reply_to_status_id.fillna(0).astype('int64')\n",
        "df.in_reply_to_user_id = df.in_reply_to_user_id.fillna(0).astype('int64')"
      ],
      "execution_count": 55,
      "outputs": []
    },
    {
      "cell_type": "code",
      "metadata": {
        "colab": {
          "base_uri": "https://localhost:8080/",
          "height": 359
        },
        "id": "ZKRbDVZKqaZ9",
        "outputId": "b05fd259-990d-4849-eeb8-a21b099bb001"
      },
      "source": [
        "df[['text']].sample(10)"
      ],
      "execution_count": 56,
      "outputs": [
        {
          "output_type": "execute_result",
          "data": {
            "text/html": [
              "<div>\n",
              "<style scoped>\n",
              "    .dataframe tbody tr th:only-of-type {\n",
              "        vertical-align: middle;\n",
              "    }\n",
              "\n",
              "    .dataframe tbody tr th {\n",
              "        vertical-align: top;\n",
              "    }\n",
              "\n",
              "    .dataframe thead th {\n",
              "        text-align: right;\n",
              "    }\n",
              "</style>\n",
              "<table border=\"1\" class=\"dataframe\">\n",
              "  <thead>\n",
              "    <tr style=\"text-align: right;\">\n",
              "      <th></th>\n",
              "      <th>text</th>\n",
              "    </tr>\n",
              "  </thead>\n",
              "  <tbody>\n",
              "    <tr>\n",
              "      <th>664426</th>\n",
              "      <td>my birthday is in exactly 2 months, pls join me as we say a prayer for corona to be gone by then so i can be 21 &amp;amp; have some fun</td>\n",
              "    </tr>\n",
              "    <tr>\n",
              "      <th>158177</th>\n",
              "      <td>RT @vaishu0208: @SKedia7 @rpbreakingnews Indian Government has decided that anyone who is already in prison for 6 years will be released af…</td>\n",
              "    </tr>\n",
              "    <tr>\n",
              "      <th>623182</th>\n",
              "      <td>RT @sardesairajdeep: I know this will be seen as troll bait but @RahulGandhi was probably the first national politician to warn of an impen…</td>\n",
              "    </tr>\n",
              "    <tr>\n",
              "      <th>5391</th>\n",
              "      <td>They only believe in Sharia. #Nizamuddin https://t.co/BE7XAx42Dl</td>\n",
              "    </tr>\n",
              "    <tr>\n",
              "      <th>621696</th>\n",
              "      <td>RT @KammyTaughtYou: Y’all gotta stop telling people they gon avoid corona by simmering sangria on the stove. We need to start beating peopl…</td>\n",
              "    </tr>\n",
              "    <tr>\n",
              "      <th>646052</th>\n",
              "      <td>So they sent notice that IV had a confirmed corona case.\\n\\nHope they’re taking that shelter in place seriously.</td>\n",
              "    </tr>\n",
              "    <tr>\n",
              "      <th>55012</th>\n",
              "      <td>RT @Kaalateetham: I will not use it on my dog if it gets Corona.\\n\\nIt looks worse than amateur designing.\\n\\nWe are ready to spend more for mo…</td>\n",
              "    </tr>\n",
              "    <tr>\n",
              "      <th>669612</th>\n",
              "      <td>RT @TheRickWilson: \"Trump was so distracted by impeachment he couldn't focus on Corona!\"\\n\\nExcept when he was golfing about a dozen times be…</td>\n",
              "    </tr>\n",
              "    <tr>\n",
              "      <th>564921</th>\n",
              "      <td>RT @StevenHyden5: RIP to the 13 year old boy who had no underlining illness that has died from corona virus\\nMy heart goes out to his poor p…</td>\n",
              "    </tr>\n",
              "    <tr>\n",
              "      <th>40272</th>\n",
              "      <td>RT @ShefVaidya: Meet ‘atheist’ Jihad Akhtar. Jihad is not happy with Indian govt’s order to close all places of worship. Jihad wants a Fatw…</td>\n",
              "    </tr>\n",
              "  </tbody>\n",
              "</table>\n",
              "</div>"
            ],
            "text/plain": [
              "                                                                                                                                                    text\n",
              "664426               my birthday is in exactly 2 months, pls join me as we say a prayer for corona to be gone by then so i can be 21 &amp; have some fun\n",
              "158177      RT @vaishu0208: @SKedia7 @rpbreakingnews Indian Government has decided that anyone who is already in prison for 6 years will be released af…\n",
              "623182      RT @sardesairajdeep: I know this will be seen as troll bait but @RahulGandhi was probably the first national politician to warn of an impen…\n",
              "5391                                                                                    They only believe in Sharia. #Nizamuddin https://t.co/BE7XAx42Dl\n",
              "621696      RT @KammyTaughtYou: Y’all gotta stop telling people they gon avoid corona by simmering sangria on the stove. We need to start beating peopl…\n",
              "646052                                  So they sent notice that IV had a confirmed corona case.\\n\\nHope they’re taking that shelter in place seriously.\n",
              "55012   RT @Kaalateetham: I will not use it on my dog if it gets Corona.\\n\\nIt looks worse than amateur designing.\\n\\nWe are ready to spend more for mo…\n",
              "669612    RT @TheRickWilson: \"Trump was so distracted by impeachment he couldn't focus on Corona!\"\\n\\nExcept when he was golfing about a dozen times be…\n",
              "564921     RT @StevenHyden5: RIP to the 13 year old boy who had no underlining illness that has died from corona virus\\nMy heart goes out to his poor p…\n",
              "40272       RT @ShefVaidya: Meet ‘atheist’ Jihad Akhtar. Jihad is not happy with Indian govt’s order to close all places of worship. Jihad wants a Fatw…"
            ]
          },
          "metadata": {
            "tags": []
          },
          "execution_count": 56
        }
      ]
    },
    {
      "cell_type": "markdown",
      "metadata": {
        "id": "A1vhtGcnzqtp"
      },
      "source": [
        "## Misc. cleaning up to reduce noise when conducting sentimental analysis\n",
        "1. remove \\n\n",
        "2. remove URL\n",
        "3. remove user referrals\n",
        "4. remove hashtags"
      ]
    },
    {
      "cell_type": "code",
      "metadata": {
        "id": "TGLSjXA00aBs"
      },
      "source": [
        "df['modified_text'] = df.text.str.replace(r'\\n', '')\n",
        "df['modified_text'] = df.modified_text.str.replace(r'(http|ftp|https)://([\\w_-]+(?:(?:\\.[\\w_-]+)+))([\\w.,@?^=%&:/~+#-]*[\\w@?^=%&/~+#-])?', '')\n",
        "df['modified_text'] = df.modified_text.str.replace(r'\\B@\\w+', '')\n",
        "df['modified_text'] = df.modified_text.str.replace(r'\\B#\\w+', '')"
      ],
      "execution_count": 57,
      "outputs": []
    },
    {
      "cell_type": "markdown",
      "metadata": {
        "id": "4XU0njxYunzu"
      },
      "source": [
        "## Splitting Dataframes (originals and retweets)\n",
        "\n",
        "The collection includes both original tweets and retweets. Since retweets mirrors the original tweet by someone else other than the author, we don't need to run sentimental analysis on the retweet as it would have been run on the original tweet, therefore we can split original tweets and retweets into two dataframes to avoid wasting resources.\n",
        "\n",
        "\n",
        "- Original tweets: `dfOriginals`\n",
        "- Retweets: `dfRetweets` cons\n",
        "\n",
        "\n",
        "\n"
      ]
    },
    {
      "cell_type": "code",
      "metadata": {
        "id": "jPydisljWkFM"
      },
      "source": [
        "dfOriginals = df[df.retweet_id == 0]\n",
        "dfRetweets = df[df.retweet_id != 0]"
      ],
      "execution_count": 58,
      "outputs": []
    },
    {
      "cell_type": "markdown",
      "metadata": {
        "id": "r1UH6f4QNP24"
      },
      "source": [
        "Two samples of the original tweet dataframe."
      ]
    },
    {
      "cell_type": "code",
      "metadata": {
        "id": "d5nEYW5qOVAg",
        "colab": {
          "base_uri": "https://localhost:8080/",
          "height": 284
        },
        "outputId": "425e396e-0b77-4f5c-9c4c-24beb8deb0b4"
      },
      "source": [
        "dfOriginals.sample(2)"
      ],
      "execution_count": 59,
      "outputs": [
        {
          "output_type": "execute_result",
          "data": {
            "text/html": [
              "<div>\n",
              "<style scoped>\n",
              "    .dataframe tbody tr th:only-of-type {\n",
              "        vertical-align: middle;\n",
              "    }\n",
              "\n",
              "    .dataframe tbody tr th {\n",
              "        vertical-align: top;\n",
              "    }\n",
              "\n",
              "    .dataframe thead th {\n",
              "        text-align: right;\n",
              "    }\n",
              "</style>\n",
              "<table border=\"1\" class=\"dataframe\">\n",
              "  <thead>\n",
              "    <tr style=\"text-align: right;\">\n",
              "      <th></th>\n",
              "      <th>coordinates</th>\n",
              "      <th>created_at</th>\n",
              "      <th>hashtags</th>\n",
              "      <th>media</th>\n",
              "      <th>urls</th>\n",
              "      <th>favorite_count</th>\n",
              "      <th>id</th>\n",
              "      <th>in_reply_to_screen_name</th>\n",
              "      <th>in_reply_to_status_id</th>\n",
              "      <th>in_reply_to_user_id</th>\n",
              "      <th>lang</th>\n",
              "      <th>place</th>\n",
              "      <th>possibly_sensitive</th>\n",
              "      <th>retweet_count</th>\n",
              "      <th>retweet_id</th>\n",
              "      <th>retweet_screen_name</th>\n",
              "      <th>source</th>\n",
              "      <th>text</th>\n",
              "      <th>tweet_url</th>\n",
              "      <th>user_created_at</th>\n",
              "      <th>user_screen_name</th>\n",
              "      <th>user_default_profile_image</th>\n",
              "      <th>user_description</th>\n",
              "      <th>user_favourites_count</th>\n",
              "      <th>user_followers_count</th>\n",
              "      <th>user_friends_count</th>\n",
              "      <th>user_listed_count</th>\n",
              "      <th>user_location</th>\n",
              "      <th>user_name</th>\n",
              "      <th>user_screen_name.1</th>\n",
              "      <th>user_statuses_count</th>\n",
              "      <th>user_time_zone</th>\n",
              "      <th>user_urls</th>\n",
              "      <th>user_verified</th>\n",
              "      <th>modified_text</th>\n",
              "    </tr>\n",
              "  </thead>\n",
              "  <tbody>\n",
              "    <tr>\n",
              "      <th>205414</th>\n",
              "      <td>NaN</td>\n",
              "      <td>Tue Mar 31 11:18:23 +0000 2020</td>\n",
              "      <td>NaN</td>\n",
              "      <td>NaN</td>\n",
              "      <td>NaN</td>\n",
              "      <td>29</td>\n",
              "      <td>1244947142155702275</td>\n",
              "      <td>NaN</td>\n",
              "      <td>0</td>\n",
              "      <td>0</td>\n",
              "      <td>en</td>\n",
              "      <td>NaN</td>\n",
              "      <td>NaN</td>\n",
              "      <td>3</td>\n",
              "      <td>0</td>\n",
              "      <td>NaN</td>\n",
              "      <td>&lt;a href=\"https://mobile.twitter.com\" rel=\"nofollow\"&gt;Twitter Web App&lt;/a&gt;</td>\n",
              "      <td>Choonawallah is legit asking Tableeghi Jamat to be banned in India even if it was not about Corona.</td>\n",
              "      <td>https://twitter.com/mehdi_nisar1/status/1244947142155702275</td>\n",
              "      <td>Wed Jun 30 11:46:13 +0000 2010</td>\n",
              "      <td>mehdi_nisar1</td>\n",
              "      <td>False</td>\n",
              "      <td>Bandey Hai Hum USKE.</td>\n",
              "      <td>47523</td>\n",
              "      <td>7749</td>\n",
              "      <td>1831</td>\n",
              "      <td>29</td>\n",
              "      <td>Bangalore</td>\n",
              "      <td>ನಿಸಾರ್ ( R C B )</td>\n",
              "      <td>mehdi_nisar1</td>\n",
              "      <td>151173</td>\n",
              "      <td>NaN</td>\n",
              "      <td>NaN</td>\n",
              "      <td>False</td>\n",
              "      <td>Choonawallah is legit asking Tableeghi Jamat to be banned in India even if it was not about Corona.</td>\n",
              "    </tr>\n",
              "    <tr>\n",
              "      <th>321952</th>\n",
              "      <td>NaN</td>\n",
              "      <td>Tue Mar 31 14:15:26 +0000 2020</td>\n",
              "      <td>NaN</td>\n",
              "      <td>NaN</td>\n",
              "      <td>https://twitter.com/KristenMorozin/status/1244989822491557891</td>\n",
              "      <td>1</td>\n",
              "      <td>1244991698192814088</td>\n",
              "      <td>NaN</td>\n",
              "      <td>0</td>\n",
              "      <td>0</td>\n",
              "      <td>en</td>\n",
              "      <td>NaN</td>\n",
              "      <td>False</td>\n",
              "      <td>0</td>\n",
              "      <td>0</td>\n",
              "      <td>NaN</td>\n",
              "      <td>&lt;a href=\"http://twitter.com/download/iphone\" rel=\"nofollow\"&gt;Twitter for iPhone&lt;/a&gt;</td>\n",
              "      <td>a lyrical genius https://t.co/RE4lnIzw4F</td>\n",
              "      <td>https://twitter.com/rachelxx7_/status/1244991698192814088</td>\n",
              "      <td>Sat Apr 14 00:46:27 +0000 2012</td>\n",
              "      <td>rachelxx7_</td>\n",
              "      <td>False</td>\n",
              "      <td>probably complaining | she/her</td>\n",
              "      <td>94692</td>\n",
              "      <td>363</td>\n",
              "      <td>179</td>\n",
              "      <td>4</td>\n",
              "      <td>NaN</td>\n",
              "      <td>lil rachie ✨</td>\n",
              "      <td>rachelxx7_</td>\n",
              "      <td>76210</td>\n",
              "      <td>NaN</td>\n",
              "      <td>http://instagram.com/rachel7x</td>\n",
              "      <td>False</td>\n",
              "      <td>a lyrical genius</td>\n",
              "    </tr>\n",
              "  </tbody>\n",
              "</table>\n",
              "</div>"
            ],
            "text/plain": [
              "       coordinates  ...                                                                                        modified_text\n",
              "205414         NaN  ...  Choonawallah is legit asking Tableeghi Jamat to be banned in India even if it was not about Corona.\n",
              "321952         NaN  ...                                                                                    a lyrical genius \n",
              "\n",
              "[2 rows x 35 columns]"
            ]
          },
          "metadata": {
            "tags": []
          },
          "execution_count": 59
        }
      ]
    },
    {
      "cell_type": "markdown",
      "metadata": {
        "id": "Jfq66BaYpojK"
      },
      "source": [
        "## Guessing language\n",
        "\n",
        "Since our sentiment analysis focuses on only English tweets, we will install a `langdetect` library to help filter out tweets that are not English."
      ]
    },
    {
      "cell_type": "code",
      "metadata": {
        "id": "pPwDbh-HmBv8",
        "colab": {
          "base_uri": "https://localhost:8080/",
          "height": 0
        },
        "outputId": "37bef93b-7c84-441c-dba5-18281b9775dc"
      },
      "source": [
        "#https://pypi.org/project/langdetect/\n",
        "!pip install langdetect\n",
        "from langdetect import detect\n",
        "from langdetect import DetectorFactory\n",
        "DetectorFactory.seed = 0\n",
        "\n"
      ],
      "execution_count": 60,
      "outputs": [
        {
          "output_type": "stream",
          "text": [
            "Requirement already satisfied: langdetect in /usr/local/lib/python3.6/dist-packages (1.0.8)\n",
            "Requirement already satisfied: six in /usr/local/lib/python3.6/dist-packages (from langdetect) (1.15.0)\n"
          ],
          "name": "stdout"
        }
      ]
    },
    {
      "cell_type": "markdown",
      "metadata": {
        "id": "oPdqdngRnI8B"
      },
      "source": [
        "Function to test whether tweet is English with error handling."
      ]
    },
    {
      "cell_type": "code",
      "metadata": {
        "id": "HJWNxzqbQhIz"
      },
      "source": [
        "#https://stackoverflow.com/questions/60930935/exclude-non-english-rows-in-pandas\n",
        "\n",
        "def is_en(txt):\n",
        "    try:\n",
        "        return detect(txt)=='en'\n",
        "    except:\n",
        "        return False"
      ],
      "execution_count": 61,
      "outputs": []
    },
    {
      "cell_type": "markdown",
      "metadata": {
        "id": "zF4fSfUF3Gcy"
      },
      "source": [
        "Passing as the `is_en()` as first-class function; returning a boolean value as a attribute `guessed_language`."
      ]
    },
    {
      "cell_type": "code",
      "metadata": {
        "id": "CCxbwQfSmht4",
        "colab": {
          "base_uri": "https://localhost:8080/",
          "height": 0
        },
        "outputId": "284ada72-457c-49cd-b134-18ff9eb03432"
      },
      "source": [
        "dfOriginals['guessed_language'] = dfOriginals.modified_text.apply(is_en)"
      ],
      "execution_count": 62,
      "outputs": [
        {
          "output_type": "stream",
          "text": [
            "/usr/local/lib/python3.6/dist-packages/ipykernel_launcher.py:1: SettingWithCopyWarning: \n",
            "A value is trying to be set on a copy of a slice from a DataFrame.\n",
            "Try using .loc[row_indexer,col_indexer] = value instead\n",
            "\n",
            "See the caveats in the documentation: https://pandas.pydata.org/pandas-docs/stable/user_guide/indexing.html#returning-a-view-versus-a-copy\n",
            "  \"\"\"Entry point for launching an IPython kernel.\n"
          ],
          "name": "stderr"
        }
      ]
    },
    {
      "cell_type": "markdown",
      "metadata": {
        "id": "dsfksiehng6H"
      },
      "source": [
        "By filtering out non-English tweets, we remove noise that can potentially affect our sentimental analysis."
      ]
    },
    {
      "cell_type": "code",
      "metadata": {
        "id": "zPoRWDGSXx99",
        "colab": {
          "base_uri": "https://localhost:8080/",
          "height": 0
        },
        "outputId": "5ab12de7-7437-4c42-fc61-0d9f39870c06"
      },
      "source": [
        "print(\"There are \" + str(len(dfOriginals)) + \" tweets, and \" + str(sum(dfOriginals.guessed_language)) + \" (\"+str(round((sum(dfOriginals.guessed_language) / len(dfOriginals)) * 100, 2))+\"%) tweets detected as English.\")"
      ],
      "execution_count": 63,
      "outputs": [
        {
          "output_type": "stream",
          "text": [
            "There are 245389 tweets, and 232816 (94.88%) tweets detected as English.\n"
          ],
          "name": "stdout"
        }
      ]
    },
    {
      "cell_type": "markdown",
      "metadata": {
        "id": "atZ26M3rYTfg"
      },
      "source": [
        "# Step 6. Conduct Sentiment Analysis"
      ]
    },
    {
      "cell_type": "markdown",
      "metadata": {
        "id": "ezcFLOzHLRE_"
      },
      "source": [
        "To conduct Seitment Analysis, we begin by importing the NLTK library."
      ]
    },
    {
      "cell_type": "code",
      "metadata": {
        "id": "PxgmxMWypoi2",
        "colab": {
          "base_uri": "https://localhost:8080/",
          "height": 0
        },
        "outputId": "f8f7e35f-e59e-4b8f-ffd3-c4227d7c27ac"
      },
      "source": [
        "import nltk\n",
        "from nltk.sentiment.util import *\n",
        "from nltk.sentiment import SentimentIntensityAnalyzer\n",
        "from nltk import tokenize\n",
        "nltk.download('punkt')\n",
        "nltk.download('vader_lexicon')\n",
        "sid = SentimentIntensityAnalyzer()"
      ],
      "execution_count": 64,
      "outputs": [
        {
          "output_type": "stream",
          "text": [
            "[nltk_data] Downloading package punkt to /root/nltk_data...\n",
            "[nltk_data]   Package punkt is already up-to-date!\n",
            "[nltk_data] Downloading package vader_lexicon to /root/nltk_data...\n",
            "[nltk_data]   Package vader_lexicon is already up-to-date!\n"
          ],
          "name": "stdout"
        }
      ]
    },
    {
      "cell_type": "markdown",
      "metadata": {
        "id": "IhrR1DkvcgNO"
      },
      "source": [
        "## Applying Sentiment Analysis function\n",
        "\n",
        "We apply the polarity score function and store results on a new attribute `sentimentscore`.\n",
        "\n"
      ]
    },
    {
      "cell_type": "code",
      "metadata": {
        "id": "Zjw8l4kapojF",
        "colab": {
          "base_uri": "https://localhost:8080/",
          "height": 0
        },
        "outputId": "a0d77243-2b26-42cd-f13f-99bdaf2ab69b"
      },
      "source": [
        "dfOriginals['sentimentscore'] = dfOriginals.modified_text.apply(sid.polarity_scores)"
      ],
      "execution_count": 65,
      "outputs": [
        {
          "output_type": "stream",
          "text": [
            "/usr/local/lib/python3.6/dist-packages/ipykernel_launcher.py:1: SettingWithCopyWarning: \n",
            "A value is trying to be set on a copy of a slice from a DataFrame.\n",
            "Try using .loc[row_indexer,col_indexer] = value instead\n",
            "\n",
            "See the caveats in the documentation: https://pandas.pydata.org/pandas-docs/stable/user_guide/indexing.html#returning-a-view-versus-a-copy\n",
            "  \"\"\"Entry point for launching an IPython kernel.\n"
          ],
          "name": "stderr"
        }
      ]
    },
    {
      "cell_type": "markdown",
      "metadata": {
        "id": "MKHk7KzTXSNZ"
      },
      "source": [
        "A quick sample preview of the text and its sentiment score."
      ]
    },
    {
      "cell_type": "code",
      "metadata": {
        "id": "juosFirzpojI",
        "colab": {
          "base_uri": "https://localhost:8080/",
          "height": 145
        },
        "outputId": "13e093f7-5850-4945-b107-eec57146dd59"
      },
      "source": [
        "dfOriginals.sample(2)[['modified_text','sentimentscore']]"
      ],
      "execution_count": 66,
      "outputs": [
        {
          "output_type": "execute_result",
          "data": {
            "text/html": [
              "<div>\n",
              "<style scoped>\n",
              "    .dataframe tbody tr th:only-of-type {\n",
              "        vertical-align: middle;\n",
              "    }\n",
              "\n",
              "    .dataframe tbody tr th {\n",
              "        vertical-align: top;\n",
              "    }\n",
              "\n",
              "    .dataframe thead th {\n",
              "        text-align: right;\n",
              "    }\n",
              "</style>\n",
              "<table border=\"1\" class=\"dataframe\">\n",
              "  <thead>\n",
              "    <tr style=\"text-align: right;\">\n",
              "      <th></th>\n",
              "      <th>modified_text</th>\n",
              "      <th>sentimentscore</th>\n",
              "    </tr>\n",
              "  </thead>\n",
              "  <tbody>\n",
              "    <tr>\n",
              "      <th>375022</th>\n",
              "      <td>Bottle of Corona?</td>\n",
              "      <td>{'neg': 0.0, 'neu': 1.0, 'pos': 0.0, 'compound': 0.0}</td>\n",
              "    </tr>\n",
              "    <tr>\n",
              "      <th>690809</th>\n",
              "      <td>Its not being blessed. U buy things which dont get spoiled fast. A kg costs only 15 rupees and 12 kgs costs only 180 i can survive  just on that for more than a week without having to look at rice wheat and dal. My diet was 90% fruits and raw veggies even before Corona!!!</td>\n",
              "      <td>{'neg': 0.074, 'neu': 0.926, 'pos': 0.0, 'compound': -0.6152}</td>\n",
              "    </tr>\n",
              "  </tbody>\n",
              "</table>\n",
              "</div>"
            ],
            "text/plain": [
              "                                                                                                                                                                                                                                                                             modified_text                                                 sentimentscore\n",
              "375022                                                                                                                                                                                                                                                                  Bottle of Corona?           {'neg': 0.0, 'neu': 1.0, 'pos': 0.0, 'compound': 0.0}\n",
              "690809    Its not being blessed. U buy things which dont get spoiled fast. A kg costs only 15 rupees and 12 kgs costs only 180 i can survive  just on that for more than a week without having to look at rice wheat and dal. My diet was 90% fruits and raw veggies even before Corona!!!  {'neg': 0.074, 'neu': 0.926, 'pos': 0.0, 'compound': -0.6152}"
            ]
          },
          "metadata": {
            "tags": []
          },
          "execution_count": 66
        }
      ]
    },
    {
      "cell_type": "markdown",
      "metadata": {
        "id": "kbrLEIGyEET0"
      },
      "source": [
        "The `SentimentIntensityAnalyzer()` returns a dictionary of scores negative, neutral, positive, and compound. Compound is the normalization of negative, neutral, and positive values.\n",
        "\n",
        "\n",
        "How compound is calculated? https://stackoverflow.com/questions/40325980/how-is-the-vader-compound-polarity-score-calculated-in-python-nltk\n",
        "\n",
        "Next, we expand the score, which is currently as dictionary, into their own attributes for better data manipulation--especially the compound attribute."
      ]
    },
    {
      "cell_type": "code",
      "metadata": {
        "id": "M9GcU1qtEKha"
      },
      "source": [
        "dfOriginalSScore = pd.json_normalize(dfOriginals.sentimentscore)\n",
        "dfOriginalSScore['original_index'] = dfOriginals.index\n",
        "dfOriginalSScore = dfOriginalSScore.set_index('original_index')"
      ],
      "execution_count": 67,
      "outputs": []
    },
    {
      "cell_type": "markdown",
      "metadata": {
        "id": "cyfN7LjOLffd"
      },
      "source": [
        "Merge the dataframe with sentiment scores and the dataframe with the original tweets together, onto a new dataframe `dfOriginals_Analyzed`."
      ]
    },
    {
      "cell_type": "code",
      "metadata": {
        "id": "Z9nqoDf7comS"
      },
      "source": [
        "dfOriginals_Analyzed = dfOriginals.merge(dfOriginalSScore, left_index=True, right_index=True)"
      ],
      "execution_count": 68,
      "outputs": []
    },
    {
      "cell_type": "markdown",
      "metadata": {
        "id": "baZ82QGJLxqf"
      },
      "source": [
        "Quick preview of modified text and compound on the merged dataframe."
      ]
    },
    {
      "cell_type": "code",
      "metadata": {
        "id": "aoK5ZqBlU9Wa",
        "colab": {
          "base_uri": "https://localhost:8080/",
          "height": 410
        },
        "outputId": "950886da-4562-4316-82fc-0d807a615215"
      },
      "source": [
        "dfOriginals_Analyzed.sample(10)[['modified_text','compound']]"
      ],
      "execution_count": 69,
      "outputs": [
        {
          "output_type": "execute_result",
          "data": {
            "text/html": [
              "<div>\n",
              "<style scoped>\n",
              "    .dataframe tbody tr th:only-of-type {\n",
              "        vertical-align: middle;\n",
              "    }\n",
              "\n",
              "    .dataframe tbody tr th {\n",
              "        vertical-align: top;\n",
              "    }\n",
              "\n",
              "    .dataframe thead th {\n",
              "        text-align: right;\n",
              "    }\n",
              "</style>\n",
              "<table border=\"1\" class=\"dataframe\">\n",
              "  <thead>\n",
              "    <tr style=\"text-align: right;\">\n",
              "      <th></th>\n",
              "      <th>modified_text</th>\n",
              "      <th>compound</th>\n",
              "    </tr>\n",
              "  </thead>\n",
              "  <tbody>\n",
              "    <tr>\n",
              "      <th>721216</th>\n",
              "      <td>That’s NOT the truth. It’s an idiot without any knowledge or experience about it spouting his ignorance.There are a lot of idiots like that with EVERY happening. From 911 to Corona.</td>\n",
              "      <td>-0.4141</td>\n",
              "    </tr>\n",
              "    <tr>\n",
              "      <th>479225</th>\n",
              "      <td>For your next music from home video I feel you should perform a rewritten Corona-themed version of the Dukes of Hazzard.</td>\n",
              "      <td>0.0000</td>\n",
              "    </tr>\n",
              "    <tr>\n",
              "      <th>636958</th>\n",
              "      <td>why, is the governor from Lakewood or throwing Corona parties;-) seriously, some of this is people acting irresponsibly when they know better --but they just don't want to or they think the restrictions don't apply to them personally and are just for other people.</td>\n",
              "      <td>0.2448</td>\n",
              "    </tr>\n",
              "    <tr>\n",
              "      <th>39852</th>\n",
              "      <td>So many Commissions ,post-corona. Money shall be chowed.</td>\n",
              "      <td>0.0000</td>\n",
              "    </tr>\n",
              "    <tr>\n",
              "      <th>54044</th>\n",
              "      <td>It's been quite clear since the beginning of his presidency, but never has it been more obvious that Cyril doesn't give a damn about the economy or well-being of South Africans. He's merely using the corona virus as an excuse and distraction for his own failures.</td>\n",
              "      <td>-0.4795</td>\n",
              "    </tr>\n",
              "    <tr>\n",
              "      <th>643628</th>\n",
              "      <td>Account for Corona Relief Fund is working well.</td>\n",
              "      <td>0.6369</td>\n",
              "    </tr>\n",
              "    <tr>\n",
              "      <th>273206</th>\n",
              "      <td>I agree with what you're saying, but it's most likely she died from corona</td>\n",
              "      <td>-0.6752</td>\n",
              "    </tr>\n",
              "    <tr>\n",
              "      <th>751819</th>\n",
              "      <td>Hopefully by the grace of god this corona-virus pandemic will end in America by the summer or the winter like September or November god willing this doesn't last for the rest of the year.</td>\n",
              "      <td>0.8807</td>\n",
              "    </tr>\n",
              "    <tr>\n",
              "      <th>117734</th>\n",
              "      <td>Because many people do. Would you be happier if they hadn't?</td>\n",
              "      <td>0.5267</td>\n",
              "    </tr>\n",
              "    <tr>\n",
              "      <th>127644</th>\n",
              "      <td>I am from Dharavi Mumbai 400017 here we all people use public toilets which are not senitized due to which risk of Corona virus is much because in a day on every toilet 1000+ people go there please share this issue with government authority through your media</td>\n",
              "      <td>0.4019</td>\n",
              "    </tr>\n",
              "  </tbody>\n",
              "</table>\n",
              "</div>"
            ],
            "text/plain": [
              "                                                                                                                                                                                                                                                                      modified_text  compound\n",
              "721216                                                                                        That’s NOT the truth. It’s an idiot without any knowledge or experience about it spouting his ignorance.There are a lot of idiots like that with EVERY happening. From 911 to Corona.   -0.4141\n",
              "479225                                                                                                                                                     For your next music from home video I feel you should perform a rewritten Corona-themed version of the Dukes of Hazzard.    0.0000\n",
              "636958     why, is the governor from Lakewood or throwing Corona parties;-) seriously, some of this is people acting irresponsibly when they know better --but they just don't want to or they think the restrictions don't apply to them personally and are just for other people.    0.2448\n",
              "39852                                                                                                                                                                                                                      So many Commissions ,post-corona. Money shall be chowed.    0.0000\n",
              "54044      It's been quite clear since the beginning of his presidency, but never has it been more obvious that Cyril doesn't give a damn about the economy or well-being of South Africans. He's merely using the corona virus as an excuse and distraction for his own failures.    -0.4795\n",
              "643628                                                                                                                                                                                                                            Account for Corona Relief Fund is working well.      0.6369\n",
              "273206                                                                                                                                                                                                   I agree with what you're saying, but it's most likely she died from corona   -0.6752\n",
              "751819                                                                                  Hopefully by the grace of god this corona-virus pandemic will end in America by the summer or the winter like September or November god willing this doesn't last for the rest of the year.    0.8807\n",
              "117734                                                                                                                                                                                                                Because many people do. Would you be happier if they hadn't?     0.5267\n",
              "127644          I am from Dharavi Mumbai 400017 here we all people use public toilets which are not senitized due to which risk of Corona virus is much because in a day on every toilet 1000+ people go there please share this issue with government authority through your media    0.4019"
            ]
          },
          "metadata": {
            "tags": []
          },
          "execution_count": 69
        }
      ]
    },
    {
      "cell_type": "markdown",
      "metadata": {
        "id": "haI-bZHZSbwB"
      },
      "source": [
        "We binning based on compound scores\n",
        "* -1 to -0.1 = negative \n",
        "* -0.1 to 0.1  = neutral\n",
        "* 0.1 to 1 = positive\n",
        "\n",
        "The threshold chosen is based on the paper \"Predictive Analysis of Resource Usage Data in Academic Libraries using the VADER Sentiment Algorithm\"\n",
        "\n",
        "Deo, G. S., Mishra, A., Jalaluddin, Z. M., & Mahamuni, C. V. (2020, September). Predictive Analysis of Resource Usage Data in Academic Libraries using the VADER Sentiment Algorithm. In 2020 12th International Conference on Computational Intelligence and Communication Networks (CICN) (pp. 221-228). IEEE.\n",
        "\n",
        "https://www.researchgate.net/profile/Gouri_Deo/publication/342988903_Predictive_Analysis_of_Resource_Usage_Data_in_Academic_Libraries_using_the_VADER_Sentiment_Algorithm/links/5f1085a6a6fdcc3ed70bcf20/Predictive-Analysis-of-Resource-Usage-Data-in-Academic-Libraries-using-the-VADER-Sentiment-Algorithm.pdf\n",
        "\n"
      ]
    },
    {
      "cell_type": "code",
      "metadata": {
        "id": "P2kbxHPFSlv0",
        "colab": {
          "base_uri": "https://localhost:8080/",
          "height": 0
        },
        "outputId": "907665a0-d8e6-4566-f08c-b310a4b4b27f"
      },
      "source": [
        "dfOriginals_Analyzed['sentiment_class_relaxed'] = pd.cut(dfOriginals_Analyzed['compound'], bins=[-1, -0.1, 0.1, 1], right=True, labels=['neg', 'neu', 'pos'])\n",
        "dfOriginals_Analyzed.sentiment_class_relaxed.value_counts()"
      ],
      "execution_count": 70,
      "outputs": [
        {
          "output_type": "execute_result",
          "data": {
            "text/plain": [
              "neg    89051\n",
              "pos    84039\n",
              "neu    72299\n",
              "Name: sentiment_class_relaxed, dtype: int64"
            ]
          },
          "metadata": {
            "tags": []
          },
          "execution_count": 70
        }
      ]
    },
    {
      "cell_type": "markdown",
      "metadata": {
        "id": "z301Ydq8pOWT"
      },
      "source": [
        "# Step 7. Conduct Basic Analysis\n",
        "\n",
        "Observing the correlation between variables."
      ]
    },
    {
      "cell_type": "code",
      "metadata": {
        "id": "85ESk5yIvkfQ",
        "colab": {
          "base_uri": "https://localhost:8080/",
          "height": 297
        },
        "outputId": "0fdc9553-9c9b-4a16-9487-42a46cb60a19"
      },
      "source": [
        "dfOriginals_Analyzed[['favorite_count','retweet_count','user_followers_count','compound','user_statuses_count','user_favourites_count','user_friends_count','user_listed_count']].corr()"
      ],
      "execution_count": 71,
      "outputs": [
        {
          "output_type": "execute_result",
          "data": {
            "text/html": [
              "<div>\n",
              "<style scoped>\n",
              "    .dataframe tbody tr th:only-of-type {\n",
              "        vertical-align: middle;\n",
              "    }\n",
              "\n",
              "    .dataframe tbody tr th {\n",
              "        vertical-align: top;\n",
              "    }\n",
              "\n",
              "    .dataframe thead th {\n",
              "        text-align: right;\n",
              "    }\n",
              "</style>\n",
              "<table border=\"1\" class=\"dataframe\">\n",
              "  <thead>\n",
              "    <tr style=\"text-align: right;\">\n",
              "      <th></th>\n",
              "      <th>favorite_count</th>\n",
              "      <th>retweet_count</th>\n",
              "      <th>user_followers_count</th>\n",
              "      <th>compound</th>\n",
              "      <th>user_statuses_count</th>\n",
              "      <th>user_favourites_count</th>\n",
              "      <th>user_friends_count</th>\n",
              "      <th>user_listed_count</th>\n",
              "    </tr>\n",
              "  </thead>\n",
              "  <tbody>\n",
              "    <tr>\n",
              "      <th>favorite_count</th>\n",
              "      <td>1.000000</td>\n",
              "      <td>0.908576</td>\n",
              "      <td>0.165683</td>\n",
              "      <td>-0.001108</td>\n",
              "      <td>0.015366</td>\n",
              "      <td>0.007852</td>\n",
              "      <td>0.005575</td>\n",
              "      <td>0.051646</td>\n",
              "    </tr>\n",
              "    <tr>\n",
              "      <th>retweet_count</th>\n",
              "      <td>0.908576</td>\n",
              "      <td>1.000000</td>\n",
              "      <td>0.090025</td>\n",
              "      <td>-0.003071</td>\n",
              "      <td>0.015991</td>\n",
              "      <td>0.007261</td>\n",
              "      <td>0.007084</td>\n",
              "      <td>0.039251</td>\n",
              "    </tr>\n",
              "    <tr>\n",
              "      <th>user_followers_count</th>\n",
              "      <td>0.165683</td>\n",
              "      <td>0.090025</td>\n",
              "      <td>1.000000</td>\n",
              "      <td>0.003693</td>\n",
              "      <td>0.116452</td>\n",
              "      <td>0.000535</td>\n",
              "      <td>0.032721</td>\n",
              "      <td>0.609057</td>\n",
              "    </tr>\n",
              "    <tr>\n",
              "      <th>compound</th>\n",
              "      <td>-0.001108</td>\n",
              "      <td>-0.003071</td>\n",
              "      <td>0.003693</td>\n",
              "      <td>1.000000</td>\n",
              "      <td>-0.022604</td>\n",
              "      <td>-0.028941</td>\n",
              "      <td>-0.006560</td>\n",
              "      <td>0.000249</td>\n",
              "    </tr>\n",
              "    <tr>\n",
              "      <th>user_statuses_count</th>\n",
              "      <td>0.015366</td>\n",
              "      <td>0.015991</td>\n",
              "      <td>0.116452</td>\n",
              "      <td>-0.022604</td>\n",
              "      <td>1.000000</td>\n",
              "      <td>0.326723</td>\n",
              "      <td>0.105958</td>\n",
              "      <td>0.128835</td>\n",
              "    </tr>\n",
              "    <tr>\n",
              "      <th>user_favourites_count</th>\n",
              "      <td>0.007852</td>\n",
              "      <td>0.007261</td>\n",
              "      <td>0.000535</td>\n",
              "      <td>-0.028941</td>\n",
              "      <td>0.326723</td>\n",
              "      <td>1.000000</td>\n",
              "      <td>0.100920</td>\n",
              "      <td>0.016049</td>\n",
              "    </tr>\n",
              "    <tr>\n",
              "      <th>user_friends_count</th>\n",
              "      <td>0.005575</td>\n",
              "      <td>0.007084</td>\n",
              "      <td>0.032721</td>\n",
              "      <td>-0.006560</td>\n",
              "      <td>0.105958</td>\n",
              "      <td>0.100920</td>\n",
              "      <td>1.000000</td>\n",
              "      <td>0.048344</td>\n",
              "    </tr>\n",
              "    <tr>\n",
              "      <th>user_listed_count</th>\n",
              "      <td>0.051646</td>\n",
              "      <td>0.039251</td>\n",
              "      <td>0.609057</td>\n",
              "      <td>0.000249</td>\n",
              "      <td>0.128835</td>\n",
              "      <td>0.016049</td>\n",
              "      <td>0.048344</td>\n",
              "      <td>1.000000</td>\n",
              "    </tr>\n",
              "  </tbody>\n",
              "</table>\n",
              "</div>"
            ],
            "text/plain": [
              "                       favorite_count  ...  user_listed_count\n",
              "favorite_count               1.000000  ...           0.051646\n",
              "retweet_count                0.908576  ...           0.039251\n",
              "user_followers_count         0.165683  ...           0.609057\n",
              "compound                    -0.001108  ...           0.000249\n",
              "user_statuses_count          0.015366  ...           0.128835\n",
              "user_favourites_count        0.007852  ...           0.016049\n",
              "user_friends_count           0.005575  ...           0.048344\n",
              "user_listed_count            0.051646  ...           1.000000\n",
              "\n",
              "[8 rows x 8 columns]"
            ]
          },
          "metadata": {
            "tags": []
          },
          "execution_count": 71
        }
      ]
    },
    {
      "cell_type": "code",
      "metadata": {
        "id": "UDWk9JkiBfnT",
        "colab": {
          "base_uri": "https://localhost:8080/",
          "height": 297
        },
        "outputId": "771ffa5c-25f3-473d-ce2c-94806fb5fc30"
      },
      "source": [
        "dfOriginals_Analyzed[['favorite_count','retweet_count','user_followers_count','compound','user_statuses_count','user_favourites_count','user_friends_count','user_listed_count']].describe().apply(lambda s: s.apply('{0:.5f}'.format))"
      ],
      "execution_count": 72,
      "outputs": [
        {
          "output_type": "execute_result",
          "data": {
            "text/html": [
              "<div>\n",
              "<style scoped>\n",
              "    .dataframe tbody tr th:only-of-type {\n",
              "        vertical-align: middle;\n",
              "    }\n",
              "\n",
              "    .dataframe tbody tr th {\n",
              "        vertical-align: top;\n",
              "    }\n",
              "\n",
              "    .dataframe thead th {\n",
              "        text-align: right;\n",
              "    }\n",
              "</style>\n",
              "<table border=\"1\" class=\"dataframe\">\n",
              "  <thead>\n",
              "    <tr style=\"text-align: right;\">\n",
              "      <th></th>\n",
              "      <th>favorite_count</th>\n",
              "      <th>retweet_count</th>\n",
              "      <th>user_followers_count</th>\n",
              "      <th>compound</th>\n",
              "      <th>user_statuses_count</th>\n",
              "      <th>user_favourites_count</th>\n",
              "      <th>user_friends_count</th>\n",
              "      <th>user_listed_count</th>\n",
              "    </tr>\n",
              "  </thead>\n",
              "  <tbody>\n",
              "    <tr>\n",
              "      <th>count</th>\n",
              "      <td>245389.00000</td>\n",
              "      <td>245389.00000</td>\n",
              "      <td>245389.00000</td>\n",
              "      <td>245389.00000</td>\n",
              "      <td>245389.00000</td>\n",
              "      <td>245389.00000</td>\n",
              "      <td>245389.00000</td>\n",
              "      <td>245389.00000</td>\n",
              "    </tr>\n",
              "    <tr>\n",
              "      <th>mean</th>\n",
              "      <td>9.52971</td>\n",
              "      <td>2.70475</td>\n",
              "      <td>9251.20519</td>\n",
              "      <td>-0.01655</td>\n",
              "      <td>27468.30799</td>\n",
              "      <td>18028.51423</td>\n",
              "      <td>1284.43071</td>\n",
              "      <td>34.64758</td>\n",
              "    </tr>\n",
              "    <tr>\n",
              "      <th>std</th>\n",
              "      <td>384.21091</td>\n",
              "      <td>122.27732</td>\n",
              "      <td>250678.23602</td>\n",
              "      <td>0.47919</td>\n",
              "      <td>75560.36124</td>\n",
              "      <td>39592.12977</td>\n",
              "      <td>10409.72569</td>\n",
              "      <td>680.04372</td>\n",
              "    </tr>\n",
              "    <tr>\n",
              "      <th>min</th>\n",
              "      <td>0.00000</td>\n",
              "      <td>0.00000</td>\n",
              "      <td>0.00000</td>\n",
              "      <td>-0.99520</td>\n",
              "      <td>1.00000</td>\n",
              "      <td>0.00000</td>\n",
              "      <td>0.00000</td>\n",
              "      <td>0.00000</td>\n",
              "    </tr>\n",
              "    <tr>\n",
              "      <th>25%</th>\n",
              "      <td>0.00000</td>\n",
              "      <td>0.00000</td>\n",
              "      <td>64.00000</td>\n",
              "      <td>-0.39760</td>\n",
              "      <td>1156.00000</td>\n",
              "      <td>510.00000</td>\n",
              "      <td>135.00000</td>\n",
              "      <td>0.00000</td>\n",
              "    </tr>\n",
              "    <tr>\n",
              "      <th>50%</th>\n",
              "      <td>0.00000</td>\n",
              "      <td>0.00000</td>\n",
              "      <td>331.00000</td>\n",
              "      <td>0.00000</td>\n",
              "      <td>6344.00000</td>\n",
              "      <td>4200.00000</td>\n",
              "      <td>399.00000</td>\n",
              "      <td>1.00000</td>\n",
              "    </tr>\n",
              "    <tr>\n",
              "      <th>75%</th>\n",
              "      <td>1.00000</td>\n",
              "      <td>0.00000</td>\n",
              "      <td>1307.00000</td>\n",
              "      <td>0.36120</td>\n",
              "      <td>24616.00000</td>\n",
              "      <td>17807.00000</td>\n",
              "      <td>1038.00000</td>\n",
              "      <td>6.00000</td>\n",
              "    </tr>\n",
              "    <tr>\n",
              "      <th>max</th>\n",
              "      <td>108137.00000</td>\n",
              "      <td>35137.00000</td>\n",
              "      <td>62855265.00000</td>\n",
              "      <td>0.99190</td>\n",
              "      <td>4472178.00000</td>\n",
              "      <td>1254400.00000</td>\n",
              "      <td>4322723.00000</td>\n",
              "      <td>202433.00000</td>\n",
              "    </tr>\n",
              "  </tbody>\n",
              "</table>\n",
              "</div>"
            ],
            "text/plain": [
              "      favorite_count retweet_count  ... user_friends_count user_listed_count\n",
              "count   245389.00000  245389.00000  ...       245389.00000      245389.00000\n",
              "mean         9.52971       2.70475  ...         1284.43071          34.64758\n",
              "std        384.21091     122.27732  ...        10409.72569         680.04372\n",
              "min          0.00000       0.00000  ...            0.00000           0.00000\n",
              "25%          0.00000       0.00000  ...          135.00000           0.00000\n",
              "50%          0.00000       0.00000  ...          399.00000           1.00000\n",
              "75%          1.00000       0.00000  ...         1038.00000           6.00000\n",
              "max     108137.00000   35137.00000  ...      4322723.00000      202433.00000\n",
              "\n",
              "[8 rows x 8 columns]"
            ]
          },
          "metadata": {
            "tags": []
          },
          "execution_count": 72
        }
      ]
    },
    {
      "cell_type": "markdown",
      "metadata": {
        "id": "MQkgLWhJtnwS"
      },
      "source": [
        "Plot Distribution of sentiment scores"
      ]
    },
    {
      "cell_type": "markdown",
      "metadata": {
        "id": "JWvyTRxxHfWt"
      },
      "source": [
        "The histogram shows the distribution appears to have some modes, and rather symmetric."
      ]
    },
    {
      "cell_type": "code",
      "metadata": {
        "id": "9H9QeJvhtYMH",
        "colab": {
          "base_uri": "https://localhost:8080/",
          "height": 483
        },
        "outputId": "696a4b76-29a9-4abd-fb9f-fef19d1bf4e4"
      },
      "source": [
        "import matplotlib.pyplot as plt\n",
        "import seaborn as sns\n",
        "\n",
        "plt.figure(figsize=(8,8)) \n",
        "histo_plot = plt.hist(dfOriginals_Analyzed['compound'],bins=40)\n"
      ],
      "execution_count": 73,
      "outputs": [
        {
          "output_type": "display_data",
          "data": {
            "image/png": "[encoded data removed]",
            "text/plain": [
              "<Figure size 576x576 with 1 Axes>"
            ]
          },
          "metadata": {
            "tags": [],
            "needs_background": "light"
          }
        }
      ]
    },
    {
      "cell_type": "code",
      "metadata": {
        "colab": {
          "base_uri": "https://localhost:8080/",
          "height": 333
        },
        "id": "D2b8aARwSFd_",
        "outputId": "930fafee-db47-4c19-cb93-7c5340e05ffc"
      },
      "source": [
        "# Plot pie chart\n",
        "# \n",
        "\n",
        "fig1, ax1 = plt.subplots()\n",
        "ax1.pie(dfOriginals_Analyzed.sentiment_class_relaxed.value_counts().values, labels=dfOriginals_Analyzed.sentiment_class_relaxed.value_counts().index.rename_categories(['Negative','Neutral','Positive']), autopct='%1.1f%%', shadow=True, startangle=90)\n",
        "ax1.title.set_text(\"Percentage of Sentiment Levels in Tweets\")\n",
        "ax1.axis('equal')"
      ],
      "execution_count": 74,
      "outputs": [
        {
          "output_type": "execute_result",
          "data": {
            "text/plain": [
              "(-1.1182944691568912,\n",
              " 1.1129382929025038,\n",
              " -1.1162563432183583,\n",
              " 1.1007741115818266)"
            ]
          },
          "metadata": {
            "tags": []
          },
          "execution_count": 74
        },
        {
          "output_type": "display_data",
          "data": {
            "image/png": "[encoded data removed]",
            "text/plain": [
              "<Figure size 432x288 with 1 Axes>"
            ]
          },
          "metadata": {
            "tags": []
          }
        }
      ]
    },
    {
      "cell_type": "markdown",
      "metadata": {
        "id": "FmFrATvf_2GW"
      },
      "source": [
        "# Step 8. Build Prediction Model for \"Favourite Count\" with Linear Regression\n",
        "\n",
        "## Split Train and Test set"
      ]
    },
    {
      "cell_type": "code",
      "metadata": {
        "id": "dnvWBGoU_9Nh",
        "colab": {
          "base_uri": "https://localhost:8080/",
          "height": 0
        },
        "outputId": "a7a60363-b77a-430e-823a-233904d620bc"
      },
      "source": [
        "from sklearn import preprocessing\n",
        "from sklearn import linear_model\n",
        "\n",
        "\n",
        "\n",
        "independent_variables = ['retweet_count','user_followers_count','compound','user_statuses_count','user_favourites_count','user_friends_count','user_listed_count']\n",
        "dependent_variables = 'favorite_count'\n",
        "\n",
        "\n",
        "trainSet=dfOriginals_Analyzed.sample(frac=0.8,random_state=150)\n",
        "testSet=dfOriginals_Analyzed.drop(trainSet.index)\n",
        "\n",
        "X_train = trainSet[independent_variables]\n",
        "Y_train = trainSet[dependent_variables]\n",
        "X_test = testSet[independent_variables]\n",
        "Y_test = testSet[dependent_variables]\n",
        "reg = linear_model.LinearRegression()\n",
        "\n",
        "reg.fit(X_train,Y_train)\n",
        "\n",
        "print('Coefficient\\tLabel\\n===========================================')\n",
        "coefficient_list = (list(zip(reg.coef_, independent_variables)))\n",
        "for el in coefficient_list:\n",
        "  print('{: 4f}\\t{}'.format(*el))\n",
        "\n",
        "print(f\"\\nR^2-score (train set): {reg.score(X_train,Y_train):4f}\")\n"
      ],
      "execution_count": 75,
      "outputs": [
        {
          "output_type": "stream",
          "text": [
            "Coefficient\tLabel\n",
            "===========================================\n",
            " 2.536713\tretweet_count\n",
            " 0.000211\tuser_followers_count\n",
            " 1.016376\tcompound\n",
            "-0.000038\tuser_statuses_count\n",
            " 0.000057\tuser_favourites_count\n",
            "-0.000056\tuser_friends_count\n",
            "-0.034559\tuser_listed_count\n",
            "\n",
            "R^2-score (train set): 0.799859\n"
          ],
          "name": "stdout"
        }
      ]
    },
    {
      "cell_type": "markdown",
      "metadata": {
        "id": "KemJJsl8dAfJ"
      },
      "source": [
        "Since this is a regression model with continous values, we use Mean Square Error (MSE), Root MSE, and R-square metrics to measure the performance of the model. \n",
        "\n",
        "reference: https://stackoverflow.com/questions/49103139/calculating-accuracy-scores-of-predicted-continuous-values"
      ]
    },
    {
      "cell_type": "code",
      "metadata": {
        "id": "59twK3DodAfJ",
        "colab": {
          "base_uri": "https://localhost:8080/",
          "height": 0
        },
        "outputId": "d29ee952-e746-4611-8d8d-a510d60ae58a"
      },
      "source": [
        "from sklearn.metrics import mean_squared_error\n",
        "from sklearn.metrics import r2_score\n",
        "from sklearn.metrics import mean_absolute_error\n",
        "\n",
        "from math import sqrt\n",
        "\n",
        "# Run prediction; Concating results onto a single dataframe; rounding prediction numbers as integer.\n",
        "plot_1_Y = reg.predict(X_test) # predicted as Y\n",
        "plot_1_X = Y_test.reset_index()  # actual as X\n",
        "df_plot_1 = pd.concat([plot_1_X,pd.DataFrame(plot_1_Y)],axis=1)\n",
        "df_plot_1.columns = ['index','actual', 'predicted']\n",
        "df_plot_1.predicted = round(df_plot_1.predicted,0).astype(int)\n",
        "\n",
        "mse = mean_squared_error(df_plot_1.actual, df_plot_1.predicted)\n",
        "mae = mean_absolute_error(df_plot_1.actual, df_plot_1.predicted)\n",
        "r2 = r2_score(df_plot_1.actual, df_plot_1.predicted)\n",
        "adj_r2 = 1-(1-r2)*(len(df_plot_1.actual)-1)/(len(df_plot_1.actual)-len(independent_variables)-1)\n",
        "print(\"\\nMetrics\\n============================================\")\n",
        "print(f\"Mean Square Error (MSE): {mse:4f}\")\n",
        "print(f\"Root MSE:\\t\\t {sqrt(mse):4f}\")\n",
        "print(f\"Mean Absolute Error:\\t {mae:4f}\")\n",
        "print(f\"R^2:\\t\\t\\t {r2:4f}\")\n",
        "print(f\"Adjusted R-Square:\\t {adj_r2:4f}\")\n",
        "\n"
      ],
      "execution_count": 76,
      "outputs": [
        {
          "output_type": "stream",
          "text": [
            "\n",
            "Metrics\n",
            "============================================\n",
            "Mean Square Error (MSE): 33404.189046\n",
            "Root MSE:\t\t 182.768129\n",
            "Mean Absolute Error:\t 7.281756\n",
            "R^2:\t\t\t 0.873217\n",
            "Adjusted R-Square:\t 0.873199\n"
          ],
          "name": "stdout"
        }
      ]
    },
    {
      "cell_type": "markdown",
      "metadata": {
        "id": "i0q56zAtdAfL"
      },
      "source": [
        "Scatterplot to visually observe how well the model's prediction vs actual value."
      ]
    },
    {
      "cell_type": "code",
      "metadata": {
        "id": "PHtyiLQjdAfL",
        "colab": {
          "base_uri": "https://localhost:8080/",
          "height": 807
        },
        "outputId": "5eb4eace-46e8-476c-b369-4b4eb40769fe"
      },
      "source": [
        "from numpy.polynomial.polynomial import polyfit\n",
        "import numpy as np\n",
        "\n",
        "\n",
        "plot_1 = df_plot_1.plot.scatter(x='actual',y='predicted',figsize=(30,15),title=\"Dependent Variable: \" + dependent_variables + \"; Predicted versus Actual\")\n",
        "plot_1.set_ylabel(\"Predicted values (\" + dependent_variables + \")\")\n",
        "plot_1.set_xlabel(\"Actual values (\" + dependent_variables + \")\")\n",
        "\n"
      ],
      "execution_count": 77,
      "outputs": [
        {
          "output_type": "execute_result",
          "data": {
            "text/plain": [
              "Text(0.5, 0, 'Actual values (favorite_count)')"
            ]
          },
          "metadata": {
            "tags": []
          },
          "execution_count": 77
        },
        {
          "output_type": "display_data",
          "data": {
            "image/png": "[encoded data removed]",
            "text/plain": [
              "<Figure size 2160x1080 with 1 Axes>"
            ]
          },
          "metadata": {
            "tags": [],
            "needs_background": "light"
          }
        }
      ]
    },
    {
      "cell_type": "markdown",
      "metadata": {
        "id": "edY2xn5XdAfM"
      },
      "source": [
        "Since our outliers are distorting the scatterplot visually, we will limit the observation to 2-sigma (95%)."
      ]
    },
    {
      "cell_type": "code",
      "metadata": {
        "id": "Z_NU1pzpdAfM",
        "colab": {
          "base_uri": "https://localhost:8080/",
          "height": 808
        },
        "outputId": "f96f75c3-96ef-4c20-9f5f-448c0f7986de"
      },
      "source": [
        "df_plot_2 = df_plot_1[df_plot_1.predicted.between(df_plot_1.predicted.quantile(0.025), df_plot_1.predicted.quantile(0.975))]\n",
        "# df_plot_2 = df_plot_1[df_plot_1.predicted.between(df_plot_1.predicted.quantile(0.0015), df_plot_1.predicted.quantile(0.9985))]\n",
        "plot_2 = df_plot_2.plot.scatter(x='actual',y='predicted',figsize=(30,15),title=\"Dependent Variable: \" + dependent_variables + \"; Predicted versus Actual (2.5-sigma)\")\n",
        "plot_2.set_ylabel(\"Predicted values (\" + dependent_variables + \")\")\n",
        "plot_2.set_xlabel(\"Actual values (\" + dependent_variables + \")\")\n",
        "plot_2.set_ylim(top=100)\n",
        "plot_2.set_xlim(right=100)\n",
        "plot_2.set_xlim(left=-1)\n",
        "\n",
        "\n",
        "\n",
        "\n",
        "# b, m = polyfit(df_plot_2.actual, df_plot_2.predicted, 1)\n",
        "# plot_2.plot(df_plot_2.actual, b + m * df_plot_2.actual, '-')\n",
        "\n",
        "lims = [\n",
        "    np.min([plot_2.get_xlim(), plot_2.get_ylim()]),  # min of both axes\n",
        "    np.max([plot_2.get_xlim(), plot_2.get_ylim()]),  # max of both axes\n",
        "]\n",
        "plot_2.plot(lims, lims, 'r--', alpha=0.75, zorder=0)"
      ],
      "execution_count": 78,
      "outputs": [
        {
          "output_type": "execute_result",
          "data": {
            "text/plain": [
              "[<matplotlib.lines.Line2D at 0x7f6063d73be0>]"
            ]
          },
          "metadata": {
            "tags": []
          },
          "execution_count": 78
        },
        {
          "output_type": "display_data",
          "data": {
            "image/png": "[encoded data removed]",
            "text/plain": [
              "<Figure size 2160x1080 with 1 Axes>"
            ]
          },
          "metadata": {
            "tags": [],
            "needs_background": "light"
          }
        }
      ]
    },
    {
      "cell_type": "markdown",
      "metadata": {
        "id": "2a62ZTRmdeX-"
      },
      "source": [
        "# Step 9. Build Prediction Model for \"Retweet Count\" with Linear Regression\n",
        "\n",
        "## Split Train and Test set"
      ]
    },
    {
      "cell_type": "code",
      "metadata": {
        "id": "CBsRkjJ4deX-",
        "colab": {
          "base_uri": "https://localhost:8080/",
          "height": 0
        },
        "outputId": "02099d40-6a00-46bd-d1b8-7bddce55fd68"
      },
      "source": [
        "from sklearn import preprocessing\n",
        "from sklearn import linear_model\n",
        "\n",
        "independent_variables = ['favorite_count','user_followers_count','compound','user_statuses_count','user_favourites_count','user_friends_count','user_listed_count']\n",
        "dependent_variables = 'retweet_count'\n",
        "\n",
        "trainSet=dfOriginals_Analyzed.sample(frac=0.8,random_state=150)\n",
        "testSet=dfOriginals_Analyzed.drop(trainSet.index)\n",
        "\n",
        "X_train = trainSet[independent_variables]\n",
        "Y_train = trainSet[dependent_variables]\n",
        "X_test = testSet[independent_variables]\n",
        "Y_test = testSet[dependent_variables]\n",
        "reg = linear_model.LinearRegression()\n",
        "\n",
        "reg.fit(X_train,Y_train)\n",
        "\n",
        "# print(\"Coefficients: \" + ', '.join(independent_variables))\n",
        "# print(reg.coef_)\n",
        "print('Coefficient\\tLabel\\n===========================================')\n",
        "coefficient_list = (list(zip(reg.coef_, independent_variables)))\n",
        "for el in coefficient_list:\n",
        "  print('{: 4f}\\t{}'.format(*el))\n",
        "\n",
        "print(f\"\\nR^2-score (train set): {reg.score(X_train,Y_train):4f}\")\n",
        "\n",
        "\n",
        "from sklearn.metrics import mean_squared_error\n",
        "from sklearn.metrics import r2_score\n",
        "\n",
        "from math import sqrt\n",
        "\n",
        "# Run prediction; Concating results onto a single dataframe; rounding prediction numbers as integer.\n",
        "plot_1_Y = reg.predict(X_test) # predicted as Y\n",
        "plot_1_X = Y_test.reset_index()  # actual as X\n",
        "df_plot_1 = pd.concat([plot_1_X,pd.DataFrame(plot_1_Y)],axis=1)\n",
        "df_plot_1.columns = ['index','actual', 'predicted']\n",
        "df_plot_1.predicted = round(df_plot_1.predicted,0).astype(int)\n",
        "\n",
        "\n",
        "\n",
        "mse = mean_squared_error(df_plot_1.actual, df_plot_1.predicted)\n",
        "mae = mean_absolute_error(df_plot_1.actual, df_plot_1.predicted)\n",
        "r2 = r2_score(df_plot_1.actual, df_plot_1.predicted)\n",
        "adj_r2 = 1-(1-r2)*(len(df_plot_1.actual)-1)/(len(df_plot_1.actual)-len(independent_variables)-1)\n",
        "print(\"\\nMetrics\\n============================================\")\n",
        "print(f\"Mean Square Error (MSE): {mse:4f}\")\n",
        "print(f\"Root MSE:\\t\\t {sqrt(mse):4f}\")\n",
        "print(f\"Mean Absolute Error:\\t {mae:4f}\")\n",
        "print(f\"R-Square:\\t\\t {r2:4f}\")\n",
        "print(f\"Adjusted R-Square:\\t {adj_r2:4f}\")\n"
      ],
      "execution_count": 79,
      "outputs": [
        {
          "output_type": "stream",
          "text": [
            "Coefficient\tLabel\n",
            "===========================================\n",
            " 0.311235\tfavorite_count\n",
            "-0.000055\tuser_followers_count\n",
            "-0.449341\tcompound\n",
            " 0.000013\tuser_statuses_count\n",
            "-0.000014\tuser_favourites_count\n",
            " 0.000025\tuser_friends_count\n",
            " 0.009861\tuser_listed_count\n",
            "\n",
            "R^2-score (train set): 0.791882\n",
            "\n",
            "Metrics\n",
            "============================================\n",
            "Mean Square Error (MSE): 1234.588084\n",
            "Root MSE:\t\t 35.136706\n",
            "Mean Absolute Error:\t 1.967480\n",
            "R-Square:\t\t 0.934187\n",
            "Adjusted R-Square:\t 0.934178\n"
          ],
          "name": "stdout"
        }
      ]
    },
    {
      "cell_type": "markdown",
      "metadata": {
        "id": "bpXP7aPbdeYA"
      },
      "source": [
        "Scatterplot of Predicted value vs Actual Value."
      ]
    },
    {
      "cell_type": "code",
      "metadata": {
        "colab": {
          "base_uri": "https://localhost:8080/",
          "height": 0
        },
        "id": "TjJpzOLOZhoO",
        "outputId": "f5d7374b-5267-47ba-a9a1-0fbc6ca32805"
      },
      "source": [
        "(sum((df_plot_1.actual - df_plot_1.predicted) ** 2)) / len(df_plot_1.actual)"
      ],
      "execution_count": 80,
      "outputs": [
        {
          "output_type": "execute_result",
          "data": {
            "text/plain": [
              "1234.5880842740128"
            ]
          },
          "metadata": {
            "tags": []
          },
          "execution_count": 80
        }
      ]
    },
    {
      "cell_type": "code",
      "metadata": {
        "id": "V0iw8LfZdeYA",
        "colab": {
          "base_uri": "https://localhost:8080/",
          "height": 805
        },
        "outputId": "6b25a342-cf2f-4b95-ad71-e473b72a090c"
      },
      "source": [
        "from numpy.polynomial.polynomial import polyfit\n",
        "\n",
        "plot_1 = df_plot_1.plot.scatter(x='actual',y='predicted',figsize=(30,15),title=\"Dependent Variable: \" + dependent_variables + \"; Predicted versus Actual\")\n",
        "plot_1.set_ylabel(\"Predicted values (\" + dependent_variables + \")\")\n",
        "plot_1.set_xlabel(\"Actual values (\" + dependent_variables + \")\")\n",
        "\n",
        "\n"
      ],
      "execution_count": 81,
      "outputs": [
        {
          "output_type": "execute_result",
          "data": {
            "text/plain": [
              "Text(0.5, 0, 'Actual values (retweet_count)')"
            ]
          },
          "metadata": {
            "tags": []
          },
          "execution_count": 81
        },
        {
          "output_type": "display_data",
          "data": {
            "image/png": "[encoded data removed]",
            "text/plain": [
              "<Figure size 2160x1080 with 1 Axes>"
            ]
          },
          "metadata": {
            "tags": [],
            "needs_background": "light"
          }
        }
      ]
    },
    {
      "cell_type": "code",
      "metadata": {
        "id": "OfZsxj0-deYA",
        "colab": {
          "base_uri": "https://localhost:8080/",
          "height": 812
        },
        "outputId": "8128211b-25dd-4c36-f5c6-8a87c9e738f3"
      },
      "source": [
        "# Scatterplot covering 2.5-sigma.\n",
        "df_plot_2 = df_plot_1[df_plot_1.predicted.between(df_plot_1.predicted.quantile(.0031), df_plot_1.predicted.quantile(0.9969))]\n",
        "plot_2 = df_plot_2.plot.scatter(x='actual',y='predicted',figsize=(30,15),title=\"Dependent Variable: \" + dependent_variables + \"; Predicted versus Actual (2.5-sigma)\")\n",
        "plot_2.set_ylabel(\"Predicted values (\" + dependent_variables + \")\")\n",
        "plot_2.set_xlabel(\"Actual values (\" + dependent_variables + \")\")\n",
        "\n",
        "# b, m = polyfit(df_plot_2.actual, df_plot_2.predicted, 1)\n",
        "# plot_2.plot(df_plot_2.actual, b + m * df_plot_2.actual, '-')\n",
        "\n",
        "lims = [\n",
        "    np.min([plot_2.get_xlim(), plot_2.get_ylim()]),  # min of both axes\n",
        "    np.max([plot_2.get_xlim(), plot_2.get_ylim()]),  # max of both axes\n",
        "]\n",
        "plot_2.plot(lims, lims, 'r--', alpha=0.75, zorder=0)"
      ],
      "execution_count": 82,
      "outputs": [
        {
          "output_type": "execute_result",
          "data": {
            "text/plain": [
              "[<matplotlib.lines.Line2D at 0x7f6063d73978>]"
            ]
          },
          "metadata": {
            "tags": []
          },
          "execution_count": 82
        },
        {
          "output_type": "display_data",
          "data": {
            "image/png": "[encoded data removed]",
            "text/plain": [
              "<Figure size 2160x1080 with 1 Axes>"
            ]
          },
          "metadata": {
            "tags": [],
            "needs_background": "light"
          }
        }
      ]
    },
    {
      "cell_type": "markdown",
      "metadata": {
        "id": "XszGlak5RR4E"
      },
      "source": [
        "# Step 10: Build Linear Regression with k-Fold\n",
        "\n",
        "Since the metrics we got from the previous regression consist of only one sampling, we should implement the same regression model using K-fold cross-validation in order to get more accurate metrics."
      ]
    },
    {
      "cell_type": "code",
      "metadata": {
        "id": "i2s44LZO_Yvp",
        "colab": {
          "base_uri": "https://localhost:8080/",
          "height": 0
        },
        "outputId": "3d29ef20-f19a-46d5-8046-705ef7a64c6c"
      },
      "source": [
        "# K-fold - #1 favourite count as dependent\n",
        "#\n",
        "# References:\n",
        "# https://stackoverflow.com/questions/45115964/separate-pandas-dataframe-using-sklearns-kfold\n",
        "# https://stackoverflow.com/questions/57398411/next-always-gives-the-same-index-with-a-kfold-generator\n",
        "# https://machinelearningmastery.com/k-fold-cross-validation/\n",
        "# https://machinelearningmastery.com/robust-regression-for-machine-learning-in-python/\n",
        "from sklearn.model_selection import KFold\n",
        "\n",
        "independent_variables = ['retweet_count','user_followers_count','compound','user_statuses_count','user_favourites_count','user_friends_count','user_listed_count']\n",
        "dependent_variables = 'favorite_count'\n",
        "\n",
        "\n",
        "kfold_n = 5\n",
        "kfold_mse_total, kfold_rmse_total, kfold_rsqr_total = 0, 0, 0\n",
        "kf = KFold(n_splits = kfold_n, shuffle = True, random_state = 2)\n",
        "\n",
        "# Excluding outliers, only including within 3-sigma\n",
        "# dfKfold = dfOriginals_Analyzed[dfOriginals_Analyzed[dependent_variables].between(dfOriginals_Analyzed[dependent_variables].quantile(.0015), dfOriginals_Analyzed[dependent_variables].quantile(0.9985))]\n",
        "dfKfold = dfOriginals_Analyzed\n",
        "\n",
        "kf_result = kf.split(dfKfold)\n",
        "\n",
        "print(\"Dependent Variable: {}\".format(dependent_variables))\n",
        "print(\"Independent Variables: {}\".format(independent_variables))\n",
        "print(\"K-fold: {}\".format(kfold_n))\n",
        "print(\"MSE\\t\\t\\tRMSE\\t\\t\\tR-Square\\n=============================================================================================\")\n",
        "\n",
        "for train_idx, test_idx in kf_result:\n",
        "  # print(train_idx)\n",
        "  trainSet=dfKfold.iloc[train_idx]\n",
        "  testSet=dfKfold.iloc[test_idx]\n",
        "\n",
        "  X_train = trainSet[independent_variables]\n",
        "  Y_train = trainSet[dependent_variables]\n",
        "  X_test = testSet[independent_variables]\n",
        "  Y_test = testSet[dependent_variables]\n",
        "\n",
        "  reg = linear_model.LinearRegression()\n",
        "\n",
        "  reg.fit(X_train,Y_train)\n",
        "\n",
        "  y_test_pred = reg.predict(X_test) \n",
        "\n",
        "  mse = mean_squared_error(Y_test, y_test_pred)\n",
        "  rsqr = r2_score(Y_test, y_test_pred)\n",
        "  # print(\"Mean Square Error (MSE): \" + str(mse))\n",
        "  # print(\"Root MSE: \" + str(sqrt(mse)))\n",
        "  # print(\"R-Square: \" + )\n",
        "\n",
        "  print(f\"{mse:4f}\\t\\t{sqrt(mse):4f}\\t\\t{rsqr:4f}\")\n",
        "\n",
        "  kfold_mse_total += mse\n",
        "  kfold_rmse_total += sqrt(mse)\n",
        "  kfold_rsqr_total += rsqr\n",
        "\n",
        "print(\"\\nAverage\\n=============================================================================================\")\n",
        "print(f\"{kfold_mse_total / kfold_n:4f}\\t\\t{kfold_rmse_total / kfold_n:4f}\\t\\t{kfold_rsqr_total / kfold_n:4f}\")\n",
        "\n",
        "\n"
      ],
      "execution_count": 83,
      "outputs": [
        {
          "output_type": "stream",
          "text": [
            "Dependent Variable: favorite_count\n",
            "Independent Variables: ['retweet_count', 'user_followers_count', 'compound', 'user_statuses_count', 'user_favourites_count', 'user_friends_count', 'user_listed_count']\n",
            "K-fold: 5\n",
            "MSE\t\t\tRMSE\t\t\tR-Square\n",
            "=============================================================================================\n",
            "31564.218170\t\t177.663216\t\t0.877825\n",
            "10521.044828\t\t102.572145\t\t0.704872\n",
            "130028.329157\t\t360.594411\t\t0.378130\n",
            "10211.723622\t\t101.053073\t\t0.782832\n",
            "13119.346895\t\t114.539718\t\t0.930201\n",
            "\n",
            "Average\n",
            "=============================================================================================\n",
            "39088.932535\t\t171.284512\t\t0.734772\n"
          ],
          "name": "stdout"
        }
      ]
    },
    {
      "cell_type": "code",
      "metadata": {
        "id": "prpg-in1mlk0",
        "colab": {
          "base_uri": "https://localhost:8080/",
          "height": 0
        },
        "outputId": "86678ba4-de4c-4206-8df1-36ce2aebb254"
      },
      "source": [
        "# K-fold #2 Retweet as independent\n",
        "#\n",
        "\n",
        "from sklearn.model_selection import KFold\n",
        "\n",
        "\n",
        "independent_variables = ['favorite_count','user_followers_count','compound','user_statuses_count','user_favourites_count','user_friends_count','user_listed_count']\n",
        "dependent_variables = 'retweet_count'\n",
        "\n",
        "kfold_n = 5\n",
        "kfold_mse_total, kfold_rmse_total, kfold_rsqr_total = 0, 0, 0\n",
        "kf = KFold(n_splits = kfold_n, shuffle = True, random_state = 2)\n",
        "\n",
        "dfKfold = dfOriginals_Analyzed\n",
        "\n",
        "kf_result = kf.split(dfKfold)\n",
        "\n",
        "print(\"Dependent Variable: {}\".format(dependent_variables))\n",
        "print(\"Independent Variables: {}\".format(independent_variables))\n",
        "print(\"K-fold: {}\".format(kfold_n))\n",
        "print(\"MSE\\t\\t\\tRMSE\\t\\t\\tR-Square\\n=============================================================================================\")\n",
        "\n",
        "for train_idx, test_idx in kf_result:\n",
        "  # print(train_idx)\n",
        "  trainSet=dfKfold.iloc[train_idx]\n",
        "  testSet=dfKfold.iloc[test_idx]\n",
        "\n",
        "  X_train = trainSet[independent_variables]\n",
        "  Y_train = trainSet[dependent_variables]\n",
        "  X_test = testSet[independent_variables]\n",
        "  Y_test = testSet[dependent_variables]\n",
        "\n",
        "  reg = linear_model.LinearRegression()\n",
        "\n",
        "  reg.fit(X_train,Y_train)\n",
        "\n",
        "  y_test_pred = reg.predict(X_test) \n",
        "\n",
        "  mse = mean_squared_error(Y_test, y_test_pred)\n",
        "  rsqr = r2_score(Y_test, y_test_pred)\n",
        "\n",
        "  print(f\"{mse:4f}\\t\\t{sqrt(mse):4f}\\t\\t{rsqr:4f}\")\n",
        "\n",
        "  kfold_mse_total += mse\n",
        "  kfold_rmse_total += sqrt(mse)\n",
        "  kfold_rsqr_total += rsqr\n",
        "\n",
        "print(\"\\nAverage\\n=============================================================================================\")\n",
        "print(f\"{kfold_mse_total / kfold_n:4f}\\t\\t{kfold_rmse_total / kfold_n:4f}\\t\\t{kfold_rsqr_total / kfold_n:4f}\")\n",
        "\n",
        "\n",
        "\n"
      ],
      "execution_count": 84,
      "outputs": [
        {
          "output_type": "stream",
          "text": [
            "Dependent Variable: retweet_count\n",
            "Independent Variables: ['favorite_count', 'user_followers_count', 'compound', 'user_statuses_count', 'user_favourites_count', 'user_friends_count', 'user_listed_count']\n",
            "K-fold: 5\n",
            "MSE\t\t\tRMSE\t\t\tR-Square\n",
            "=============================================================================================\n",
            "1001.568224\t\t31.647563\t\t0.945563\n",
            "798.111384\t\t28.250865\t\t0.605363\n",
            "10974.758804\t\t104.760483\t\t0.685319\n",
            "728.033332\t\t26.982093\t\t0.750776\n",
            "666.921016\t\t25.824814\t\t0.959674\n",
            "\n",
            "Average\n",
            "=============================================================================================\n",
            "2833.878552\t\t43.493164\t\t0.789339\n"
          ],
          "name": "stdout"
        }
      ]
    },
    {
      "cell_type": "markdown",
      "metadata": {
        "id": "QInUdIQcRUo8"
      },
      "source": [
        "# Step 11: Build Polynomial Regression\n",
        "\n",
        "Here we attempt to fit our model onto a non-linear regression model--Polynomial regression model to see whether we are able to build a better fit of the model than linear regression."
      ]
    },
    {
      "cell_type": "code",
      "metadata": {
        "id": "K5Vem4pinoBu",
        "colab": {
          "base_uri": "https://localhost:8080/",
          "height": 708
        },
        "outputId": "937cc40d-635b-40c9-8a9e-0740e36d1547"
      },
      "source": [
        "# POLYNOMIAL REGRESSION #1 favorite_count\n",
        "#\n",
        "# Reference\n",
        "# https://www.kaggle.com/jnikhilsai/cross-validation-with-linear-regression\n",
        "\n",
        "import numpy as np\n",
        "from sklearn.pipeline import make_pipeline\n",
        "from sklearn.preprocessing import PolynomialFeatures\n",
        "\n",
        "independent_variables = ['retweet_count','user_followers_count','compound','user_statuses_count','user_verified']\n",
        "dependent_variables = 'favorite_count'\n",
        "# independent_variables = ['favorite_count','user_followers_count','compound','user_statuses_count','user_verified']\n",
        "# dependent_variables = 'retweet_count'\n",
        "degrees = [1, 2, 3, 6]\n",
        "\n",
        "# excluding Outliners\n",
        "# dfPoly = dfOriginals_Analyzed[dfOriginals_Analyzed[dependent_variables].between(dfOriginals_Analyzed[dependent_variables].quantile(.0015), dfOriginals_Analyzed[dependent_variables].quantile(0.9985))]\n",
        "dfPoly = dfOriginals_Analyzed\n",
        "\n",
        "trainSet=dfPoly.sample(frac=0.8,random_state=200)\n",
        "testSet=dfPoly.drop(trainSet.index)\n",
        "\n",
        "\n",
        "X_train = trainSet[independent_variables]\n",
        "Y_train = trainSet[dependent_variables]\n",
        "X_test = testSet[independent_variables]\n",
        "Y_test = testSet[dependent_variables]\n",
        "\n",
        "# y_train_pred = np.zeros((len(X_train), len(degrees)))\n",
        "y_test_pred = np.zeros((len(X_test), len(degrees)))\n",
        "\n",
        "# calculate values for each degree\n",
        "for i, degree in enumerate(degrees):    \n",
        "    model = make_pipeline(PolynomialFeatures(degree), linear_model.LinearRegression())\n",
        "    model.fit(X_train, Y_train)\n",
        "    \n",
        "    # predict on test and train data\n",
        "    # store the predictions of each degree in the corresponding column\n",
        "    # y_train_pred[:, i] = model.predict(X_train)\n",
        "    y_test_pred[:, i] = model.predict(X_test)\n",
        "  \n",
        "# plot the graph\n",
        "plt.figure(figsize=(40, 10))\n",
        "plt.subplot(121)\n",
        "plt.xlabel(\"Actual\")\n",
        "plt.ylabel(\"Predicted\")\n",
        "plt.ylim([-1000,15000])\n",
        "plt.xlim([0,12500])\n",
        "for i, degree in enumerate(degrees):    \n",
        "    plt.scatter(Y_test, y_test_pred[:, i], label=str(degree))\n",
        "    plt.legend(loc='upper left')\n",
        "\n",
        "\n",
        "# print metrics\n",
        "print(\"R-squared values: \\n\")\n",
        "\n",
        "for i, degree in enumerate(degrees):\n",
        "    test_r2 = round(r2_score(Y_test, y_test_pred[:, i]), 2)\n",
        "    print(\"Polynomial degree {0}: test score={1}\".format(degree, test_r2))"
      ],
      "execution_count": 85,
      "outputs": [
        {
          "output_type": "stream",
          "text": [
            "R-squared values: \n",
            "\n",
            "Polynomial degree 1: test score=0.87\n",
            "Polynomial degree 2: test score=0.72\n",
            "Polynomial degree 3: test score=-5.57\n",
            "Polynomial degree 6: test score=0.11\n"
          ],
          "name": "stdout"
        },
        {
          "output_type": "display_data",
          "data": {
            "image/png": "[encoded data removed]",
            "text/plain": [
              "<Figure size 2880x720 with 1 Axes>"
            ]
          },
          "metadata": {
            "tags": [],
            "needs_background": "light"
          }
        }
      ]
    },
    {
      "cell_type": "code",
      "metadata": {
        "id": "Dg1QmdTXotKS",
        "colab": {
          "base_uri": "https://localhost:8080/",
          "height": 708
        },
        "outputId": "60adf565-1922-43ad-bd29-d99f6fd8d95d"
      },
      "source": [
        "# POLYNOMIAL REGRESSION #2 retweet_count\n",
        "#\n",
        "\n",
        "# independent_variables = ['retweet_count','user_followers_count','compound','user_statuses_count','user_verified']\n",
        "# dependent_variables = 'favorite_count'\n",
        "independent_variables = ['favorite_count','user_followers_count','compound','user_statuses_count','user_verified']\n",
        "dependent_variables = 'retweet_count'\n",
        "degrees = [1, 2, 3, 6]\n",
        "\n",
        "# excluding Outliners\n",
        "# dfPoly = dfOriginals_Analyzed[dfOriginals_Analyzed[dependent_variables].between(dfOriginals_Analyzed[dependent_variables].quantile(.0015), dfOriginals_Analyzed[dependent_variables].quantile(0.9985))]\n",
        "dfPoly = dfOriginals_Analyzed\n",
        "\n",
        "trainSet=dfPoly.sample(frac=0.8,random_state=200)\n",
        "testSet=dfPoly.drop(trainSet.index)\n",
        "\n",
        "\n",
        "X_train = trainSet[independent_variables]\n",
        "Y_train = trainSet[dependent_variables]\n",
        "X_test = testSet[independent_variables]\n",
        "Y_test = testSet[dependent_variables]\n",
        "\n",
        "# y_train_pred = np.zeros((len(X_train), len(degrees)))\n",
        "y_test_pred = np.zeros((len(X_test), len(degrees)))\n",
        "\n",
        "# calculate values for each degree\n",
        "for i, degree in enumerate(degrees):    \n",
        "    # make pipeline: create features, then feed them to linear_reg model\n",
        "    model = make_pipeline(PolynomialFeatures(degree), linear_model.LinearRegression())\n",
        "    model.fit(X_train, Y_train)\n",
        "    \n",
        "    # predict on test and train data\n",
        "    # store the predictions of each degree in the corresponding column\n",
        "    # y_train_pred[:, i] = model.predict(X_train)\n",
        "    y_test_pred[:, i] = model.predict(X_test)\n",
        "  \n",
        "# plot the graph\n",
        "plt.figure(figsize=(40, 10))\n",
        "plt.subplot(121)\n",
        "plt.xlabel(\"Actual\")\n",
        "plt.ylabel(\"Predicted\")\n",
        "plt.ylim([-1000,15000])\n",
        "plt.xlim([0,12500])\n",
        "for i, degree in enumerate(degrees):    \n",
        "    plt.scatter(Y_test, y_test_pred[:, i], label=str(degree))\n",
        "    plt.legend(loc='upper left')\n",
        "\n",
        "\n",
        "# print metrics\n",
        "print(\"R-squared values: \\n\")\n",
        "\n",
        "for i, degree in enumerate(degrees):\n",
        "    # train_r2 = round(sklearn.metrics.r2_score(y_train, y_train_pred[:, i]), 2)\n",
        "    test_r2 = round(r2_score(Y_test, y_test_pred[:, i]), 2)\n",
        "    print(\"Polynomial degree {0}: test score={1}\".format(degree, test_r2))"
      ],
      "execution_count": 86,
      "outputs": [
        {
          "output_type": "stream",
          "text": [
            "R-squared values: \n",
            "\n",
            "Polynomial degree 1: test score=0.94\n",
            "Polynomial degree 2: test score=0.08\n",
            "Polynomial degree 3: test score=0.01\n",
            "Polynomial degree 6: test score=-422.7\n"
          ],
          "name": "stdout"
        },
        {
          "output_type": "display_data",
          "data": {
            "image/png": "[encoded data removed]",
            "text/plain": [
              "<Figure size 2880x720 with 1 Axes>"
            ]
          },
          "metadata": {
            "tags": [],
            "needs_background": "light"
          }
        }
      ]
    },
    {
      "cell_type": "markdown",
      "metadata": {
        "id": "lHiYzL0Vg74h"
      },
      "source": [
        "# Step 12: Build Polynomial Regression K-fold"
      ]
    },
    {
      "cell_type": "code",
      "metadata": {
        "id": "K3xGlWDMMkor",
        "colab": {
          "base_uri": "https://localhost:8080/",
          "height": 0
        },
        "outputId": "a60e57bc-c595-4b6d-a48b-a9f3efe10e9b"
      },
      "source": [
        "import math\n",
        "\n",
        "independent_variables = ['retweet_count','user_followers_count','compound','user_statuses_count','user_verified']\n",
        "dependent_variables = 'favorite_count'\n",
        "# independent_variables = ['favorite_count','user_followers_count','compound','user_statuses_count','user_verified']\n",
        "# dependent_variables = 'retweet_count'\n",
        "# degrees = [1, 2 ]\n",
        "degrees = [1, 2, 3, 6]\n",
        "count = 0\n",
        "\n",
        "kfold_n = 5\n",
        "kfold_mse_total, kfold_rmse_total, kfold_rsqr_total = pd.DataFrame(0, index=np.arange(kfold_n), columns=degrees),pd.DataFrame(0, index=np.arange(kfold_n), columns=degrees),pd.DataFrame(0, index=np.arange(kfold_n), columns=degrees)\n",
        "kf = KFold(n_splits = kfold_n, shuffle = True, random_state = 2)\n",
        "\n",
        "# Excluding outliers, only including within 3-sigma\n",
        "# dfKfold = dfOriginals_Analyzed[dfOriginals_Analyzed[dependent_variables].between(dfOriginals_Analyzed[dependent_variables].quantile(.0015), dfOriginals_Analyzed[dependent_variables].quantile(0.9985))]\n",
        "dfPolyKfold = dfOriginals_Analyzed\n",
        "\n",
        "kf_result = kf.split(dfPolyKfold)\n",
        "\n",
        "print(\"Dependent Variable: {}\".format(dependent_variables))\n",
        "print(\"Independent Variables: {}\".format(independent_variables))\n",
        "print(\"K-fold: {}\".format(kfold_n))\n",
        "print(\"Polynomial\\t\\tRoot MSE\\t\\t\\tR-Square\\n=============================================================================================\")\n",
        "\n",
        "for train_idx, test_idx in kf_result:\n",
        "  # print(train_idx)\n",
        "  trainSet=dfPolyKfold.iloc[train_idx]\n",
        "  testSet=dfPolyKfold.iloc[test_idx]\n",
        "\n",
        "  X_train = trainSet[independent_variables]\n",
        "  Y_train = trainSet[dependent_variables]\n",
        "  X_test = testSet[independent_variables]\n",
        "  Y_test = testSet[dependent_variables]\n",
        "\n",
        "  reg = linear_model.LinearRegression()\n",
        "\n",
        "  y_test_pred = np.zeros((len(X_test), len(degrees)))\n",
        "\n",
        "  for i, degree in enumerate(degrees):    \n",
        "    model = make_pipeline(PolynomialFeatures(degree), linear_model.LinearRegression())\n",
        "    model.fit(X_train, Y_train)\n",
        "    \n",
        "\n",
        "    y_test_pred[:, i] = model.predict(X_test)\n",
        "\n",
        "  \n",
        "  \n",
        "  for i, degree in enumerate(degrees):\n",
        "    \n",
        "    rsqr = round(r2_score(Y_test, y_test_pred[:, i]), 2)\n",
        "    mse = mean_squared_error(Y_test, y_test_pred[:, i])\n",
        "    print(\"Degree {0}: \\t\\t{1} \\t\\t{2}\".format(degree, sqrt(mse),rsqr))\n",
        "    row = math.floor(count/len(degrees))\n",
        "    kfold_mse_total.loc[ row,degree ] = mse\n",
        "    kfold_rmse_total.loc[ row,degree] = sqrt(mse)\n",
        "    kfold_rsqr_total.loc[row,degree] = rsqr\n",
        "    # print(f\"count: {count}  row: {row}\\n{kfold_rsqr_total.loc[row]}\")\n",
        "    count += 1\n",
        "    \n",
        "\n",
        "\n",
        "  print(\"---------------------------------------------------------------------------------\")\n",
        "\n",
        "polykfold_overall_metrics = list(zip(degrees,kfold_rmse_total.mean(),kfold_rsqr_total.mean()))\n",
        "print('Degree\\tAverage RMSE\\tAverage R^2'.format(*el))\n",
        "for el in polykfold_overall_metrics:\n",
        "  print('{}\\t{: 4f}\\t{: 4f}'.format(*el))\n",
        "\n"
      ],
      "execution_count": 87,
      "outputs": [
        {
          "output_type": "stream",
          "text": [
            "Dependent Variable: favorite_count\n",
            "Independent Variables: ['retweet_count', 'user_followers_count', 'compound', 'user_statuses_count', 'user_verified']\n",
            "K-fold: 5\n",
            "Polynomial\t\tRoot MSE\t\t\tR-Square\n",
            "=============================================================================================\n",
            "Degree 1: \t\t176.1003309179579 \t\t0.88\n",
            "Degree 2: \t\t283.8671924780902 \t\t0.69\n",
            "Degree 3: \t\t906.2368606263769 \t\t-2.18\n",
            "Degree 6: \t\t856.3979925552468 \t\t-1.84\n",
            "---------------------------------------------------------------------------------\n",
            "Degree 1: \t\t101.57117876732413 \t\t0.71\n",
            "Degree 2: \t\t113.61553501192776 \t\t0.64\n",
            "Degree 3: \t\t164.8107158447843 \t\t0.24\n",
            "Degree 6: \t\t1067.8173629126154 \t\t-30.98\n",
            "---------------------------------------------------------------------------------\n",
            "Degree 1: \t\t361.7648735168686 \t\t0.37\n",
            "Degree 2: \t\t578.1225176563707 \t\t-0.6\n",
            "Degree 3: \t\t10089.810890024544 \t\t-485.89\n",
            "Degree 6: \t\t38011377.335343964 \t\t-6910168447.01\n",
            "---------------------------------------------------------------------------------\n",
            "Degree 1: \t\t106.07747474685985 \t\t0.76\n",
            "Degree 2: \t\t132.28407898975604 \t\t0.63\n",
            "Degree 3: \t\t429.9725980224988 \t\t-2.93\n",
            "Degree 6: \t\t21654.500707596068 \t\t-9971.23\n",
            "---------------------------------------------------------------------------------\n",
            "Degree 1: \t\t113.14836415856713 \t\t0.93\n",
            "Degree 2: \t\t284.245851156108 \t\t0.57\n",
            "Degree 3: \t\t1548.2663280761865 \t\t-11.75\n",
            "Degree 6: \t\t15713.147572038102 \t\t-1312.61\n",
            "---------------------------------------------------------------------------------\n",
            "Degree\tAverage RMSE\tAverage R^2\n",
            "1\t 171.732444\t 0.730000\n",
            "2\t 278.427035\t 0.386000\n",
            "3\t 2627.819479\t-100.502000\n",
            "6\t 7610133.839796\t-1382035952.734000\n"
          ],
          "name": "stdout"
        }
      ]
    },
    {
      "cell_type": "code",
      "metadata": {
        "colab": {
          "base_uri": "https://localhost:8080/",
          "height": 0
        },
        "id": "q7tXhqhJBzMU",
        "outputId": "c0e2c52a-b703-4a33-c9d0-884e55da3273"
      },
      "source": [
        "# K-fold Poly #2 Retweet\n",
        "\n",
        "import math\n",
        "\n",
        "# independent_variables = ['retweet_count','user_followers_count','compound','user_statuses_count','user_verified']\n",
        "# dependent_variables = 'favorite_count'\n",
        "independent_variables = ['favorite_count','user_followers_count','compound','user_statuses_count','user_verified']\n",
        "dependent_variables = 'retweet_count'\n",
        "# degrees = [1, 2 ]\n",
        "degrees = [1, 2, 3, 6]\n",
        "count = 0\n",
        "\n",
        "kfold_n = 5\n",
        "kfold_mse_total, kfold_rmse_total, kfold_rsqr_total = pd.DataFrame(0, index=np.arange(kfold_n), columns=degrees),pd.DataFrame(0, index=np.arange(kfold_n), columns=degrees),pd.DataFrame(0, index=np.arange(kfold_n), columns=degrees)\n",
        "kf = KFold(n_splits = kfold_n, shuffle = True, random_state = 2)\n",
        "\n",
        "# Excluding outliers, only including within 3-sigma\n",
        "dfPolyKfold = dfOriginals_Analyzed\n",
        "\n",
        "kf_result = kf.split(dfPolyKfold)\n",
        "\n",
        "print(\"Dependent Variable: {}\".format(dependent_variables))\n",
        "print(\"Independent Variables: {}\".format(independent_variables))\n",
        "print(\"K-fold: {}\".format(kfold_n))\n",
        "print(\"Polynomial\\t\\tRoot MSE\\t\\t\\tR-Square\\n=============================================================================================\")\n",
        "\n",
        "for train_idx, test_idx in kf_result:\n",
        "  trainSet=dfPolyKfold.iloc[train_idx]\n",
        "  testSet=dfPolyKfold.iloc[test_idx]\n",
        "\n",
        "  X_train = trainSet[independent_variables]\n",
        "  Y_train = trainSet[dependent_variables]\n",
        "  X_test = testSet[independent_variables]\n",
        "  Y_test = testSet[dependent_variables]\n",
        "\n",
        "  reg = linear_model.LinearRegression()\n",
        "\n",
        "  y_test_pred = np.zeros((len(X_test), len(degrees)))\n",
        "\n",
        "  for i, degree in enumerate(degrees):    \n",
        "    model = make_pipeline(PolynomialFeatures(degree), linear_model.LinearRegression())\n",
        "    model.fit(X_train, Y_train)\n",
        "    \n",
        "\n",
        "    y_test_pred[:, i] = model.predict(X_test)\n",
        "\n",
        "  \n",
        "  \n",
        "  for i, degree in enumerate(degrees):\n",
        "    \n",
        "    rsqr = round(r2_score(Y_test, y_test_pred[:, i]), 2)\n",
        "    mse = mean_squared_error(Y_test, y_test_pred[:, i])\n",
        "    print(\"Degree {0}: \\t\\t{1} \\t\\t{2}\".format(degree, sqrt(mse),rsqr))\n",
        "    row = math.floor(count/len(degrees))\n",
        "    kfold_mse_total.loc[ row,degree ] = mse\n",
        "    kfold_rmse_total.loc[ row,degree] = sqrt(mse)\n",
        "    kfold_rsqr_total.loc[row,degree] = rsqr\n",
        "    # print(f\"count: {count}  row: {row}\\n{kfold_rsqr_total.loc[row]}\")\n",
        "    count += 1\n",
        "    \n",
        "\n",
        "\n",
        "  print(\"---------------------------------------------------------------------------------\")\n",
        "\n",
        "polykfold_overall_metrics = list(zip(degrees,kfold_rmse_total.mean(),kfold_rsqr_total.mean()))\n",
        "print('Degree\\tAverage RMSE\\tAverage R^2'.format(*el))\n",
        "for el in polykfold_overall_metrics:\n",
        "  print('{}\\t{: 4f}\\t{: 4f}'.format(*el))\n",
        "\n"
      ],
      "execution_count": 88,
      "outputs": [
        {
          "output_type": "stream",
          "text": [
            "Dependent Variable: retweet_count\n",
            "Independent Variables: ['favorite_count', 'user_followers_count', 'compound', 'user_statuses_count', 'user_verified']\n",
            "K-fold: 5\n",
            "Polynomial\t\tRoot MSE\t\t\tR-Square\n",
            "=============================================================================================\n",
            "Degree 1: \t\t30.619157472439177 \t\t0.95\n",
            "Degree 2: \t\t143.57465611146827 \t\t-0.12\n",
            "Degree 3: \t\t197.92059429558387 \t\t-1.13\n",
            "Degree 6: \t\t140.91449714880363 \t\t-0.08\n",
            "---------------------------------------------------------------------------------\n",
            "Degree 1: \t\t27.778555948274388 \t\t0.62\n",
            "Degree 2: \t\t33.17703268992806 \t\t0.46\n",
            "Degree 3: \t\t44.99600146557491 \t\t-0.0\n",
            "Degree 6: \t\t1595.006459641652 \t\t-1256.94\n",
            "---------------------------------------------------------------------------------\n",
            "Degree 1: \t\t105.01778633851833 \t\t0.68\n",
            "Degree 2: \t\t109.10569803537199 \t\t0.66\n",
            "Degree 3: \t\t1123.4793102354063 \t\t-35.19\n",
            "Degree 6: \t\t185441.21308761396 \t\t-986024.03\n",
            "---------------------------------------------------------------------------------\n",
            "Degree 1: \t\t28.269222892920038 \t\t0.73\n",
            "Degree 2: \t\t47.405288929894574 \t\t0.23\n",
            "Degree 3: \t\t55.005669883911004 \t\t-0.04\n",
            "Degree 6: \t\t10069.950456869094 \t\t-34712.13\n",
            "---------------------------------------------------------------------------------\n",
            "Degree 1: \t\t25.580491200820568 \t\t0.96\n",
            "Degree 2: \t\t73.46282149176497 \t\t0.67\n",
            "Degree 3: \t\t241.73438207411132 \t\t-2.53\n",
            "Degree 6: \t\t5081.564815280062 \t\t-1560.37\n",
            "---------------------------------------------------------------------------------\n",
            "Degree\tAverage RMSE\tAverage R^2\n",
            "1\t 43.453043\t 0.788000\n",
            "2\t 81.345099\t 0.380000\n",
            "3\t 332.627192\t-7.778000\n",
            "6\t 40465.729863\t-204710.710000\n"
          ],
          "name": "stdout"
        }
      ]
    }
  ]
}