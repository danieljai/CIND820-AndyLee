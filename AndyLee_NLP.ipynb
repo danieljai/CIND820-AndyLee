{
  "nbformat": 4,
  "nbformat_minor": 0,
  "metadata": {
    "kernelspec": {
      "display_name": "Python 3",
      "language": "python",
      "name": "python3"
    },
    "language_info": {
      "name": "python",
      "version": "3.7.6",
      "mimetype": "text/x-python",
      "codemirror_mode": {
        "name": "ipython",
        "version": 3
      },
      "pygments_lexer": "ipython3",
      "nbconvert_exporter": "python",
      "file_extension": ".py"
    },
    "colab": {
      "name": "AndyLee-NLP.ipynb",
      "provenance": [],
      "include_colab_link": true
    }
  },
  "cells": [
    {
      "cell_type": "markdown",
      "metadata": {
        "id": "view-in-github",
        "colab_type": "text"
      },
      "source": [
        "<a href=\"https://colab.research.google.com/github/danieljai/CIND820-AndyLee/blob/main/AndyLee_NLP.ipynb\" target=\"_parent\"><img src=\"https://colab.research.google.com/assets/colab-badge.svg\" alt=\"Open In Colab\"/></a>"
      ]
    },
    {
      "cell_type": "markdown",
      "metadata": {
        "id": "_uncPLiQYnn0"
      },
      "source": [
        "# Step 3: Preload setup\n",
        "\n",
        "Basic setup so results can utilize the full width of the screen."
      ]
    },
    {
      "cell_type": "code",
      "metadata": {
        "id": "7VJ3TVjfpoiz"
      },
      "source": [
        "%config IPCompleter.greedy=True\n",
        "import pandas as pd\n",
        "\n",
        "pd.set_option('display.max_colwidth', 200)\n",
        "pd.options.display.max_colwidth = 500\n",
        "pd.options.display.max_rows = 100"
      ],
      "execution_count": 3,
      "outputs": []
    },
    {
      "cell_type": "markdown",
      "metadata": {
        "id": "HbYv2dHQYl-W"
      },
      "source": [
        "# Step 4: Import Dataset\n",
        "\n",
        "The hydrated file is stored in a Google Drive, and using the follow code will mount Google Drive onto Colaboratory."
      ]
    },
    {
      "cell_type": "code",
      "metadata": {
        "id": "RWSJpsyKqHjH",
        "colab": {
          "base_uri": "https://localhost:8080/"
        },
        "outputId": "01593d0a-cd60-4138-e57c-d9e4a8c1c227"
      },
      "source": [
        "from google.colab import drive\n",
        "drive.mount('/content/drive')"
      ],
      "execution_count": 4,
      "outputs": [
        {
          "output_type": "stream",
          "text": [
            "Mounted at /content/drive\n"
          ],
          "name": "stdout"
        }
      ]
    },
    {
      "cell_type": "code",
      "metadata": {
        "trusted": true,
        "id": "IhVcP_VWpoiv"
      },
      "source": [
        "df = pd.read_csv(\"/content/drive/My Drive/__CIND 820 - Data Analytics Project/3-data/Book1-fastsave.csv\")"
      ],
      "execution_count": 5,
      "outputs": []
    },
    {
      "cell_type": "markdown",
      "metadata": {
        "id": "uEl8PsIfYPlI"
      },
      "source": [
        "# Step 5. Data Cleaning and Manipulation"
      ]
    },
    {
      "cell_type": "markdown",
      "metadata": {
        "id": "7RbFQ3a7OgDj"
      },
      "source": [
        "## Preview data after cleaning and manipulation\n",
        "\n",
        "Original Tweet dataframe datatypes"
      ]
    },
    {
      "cell_type": "code",
      "metadata": {
        "id": "rwPS4yCo2ETZ",
        "colab": {
          "base_uri": "https://localhost:8080/"
        },
        "outputId": "35ccb994-5d29-439c-f113-f6bcec711b2c"
      },
      "source": [
        "# https://developer.twitter.com/en/docs/twitter-api/v1/data-dictionary/overview/user-object\n",
        "df.dtypes"
      ],
      "execution_count": 6,
      "outputs": [
        {
          "output_type": "execute_result",
          "data": {
            "text/plain": [
              "coordinates                    object\n",
              "created_at                     object\n",
              "hashtags                       object\n",
              "media                          object\n",
              "urls                           object\n",
              "favorite_count                  int64\n",
              "id                              int64\n",
              "in_reply_to_screen_name        object\n",
              "in_reply_to_status_id         float64\n",
              "in_reply_to_user_id           float64\n",
              "lang                           object\n",
              "place                          object\n",
              "possibly_sensitive             object\n",
              "retweet_count                   int64\n",
              "retweet_id                    float64\n",
              "retweet_screen_name            object\n",
              "source                         object\n",
              "text                           object\n",
              "tweet_url                      object\n",
              "user_created_at                object\n",
              "user_screen_name               object\n",
              "user_default_profile_image       bool\n",
              "user_description               object\n",
              "user_favourites_count           int64\n",
              "user_followers_count            int64\n",
              "user_friends_count              int64\n",
              "user_listed_count               int64\n",
              "user_location                  object\n",
              "user_name                      object\n",
              "user_screen_name.1             object\n",
              "user_statuses_count             int64\n",
              "user_time_zone                float64\n",
              "user_urls                      object\n",
              "user_verified                    bool\n",
              "dtype: object"
            ]
          },
          "metadata": {
            "tags": []
          },
          "execution_count": 6
        }
      ]
    },
    {
      "cell_type": "markdown",
      "metadata": {
        "id": "UZfDm-YdvsBC"
      },
      "source": [
        "## Readjust attribute datatype\n",
        "\n",
        "For `retweet_id`, `in_reply_to_status_id`, `in_reply_to_user_id`\n",
        "- Convert `null` values to 0\n",
        "- Convert attribute as int64"
      ]
    },
    {
      "cell_type": "code",
      "metadata": {
        "id": "BNtxXnmyuroY"
      },
      "source": [
        "df.retweet_id = df[df['retweet_id'].notnull()].retweet_id.astype('int64') "
      ],
      "execution_count": 7,
      "outputs": []
    },
    {
      "cell_type": "code",
      "metadata": {
        "id": "Wq7nVqm-Ybq5"
      },
      "source": [
        "df.retweet_id = df.retweet_id.fillna(0).astype('int64')\n",
        "df.in_reply_to_status_id = df.in_reply_to_status_id.fillna(0).astype('int64')\n",
        "df.in_reply_to_user_id = df.in_reply_to_user_id.fillna(0).astype('int64')"
      ],
      "execution_count": 8,
      "outputs": []
    },
    {
      "cell_type": "code",
      "metadata": {
        "colab": {
          "base_uri": "https://localhost:8080/",
          "height": 0
        },
        "id": "ZKRbDVZKqaZ9",
        "outputId": "fbb57e16-0713-462c-c6e8-95dbc53a2fae"
      },
      "source": [
        "df[['text']].sample(10)"
      ],
      "execution_count": 9,
      "outputs": [
        {
          "output_type": "execute_result",
          "data": {
            "text/html": [
              "<div>\n",
              "<style scoped>\n",
              "    .dataframe tbody tr th:only-of-type {\n",
              "        vertical-align: middle;\n",
              "    }\n",
              "\n",
              "    .dataframe tbody tr th {\n",
              "        vertical-align: top;\n",
              "    }\n",
              "\n",
              "    .dataframe thead th {\n",
              "        text-align: right;\n",
              "    }\n",
              "</style>\n",
              "<table border=\"1\" class=\"dataframe\">\n",
              "  <thead>\n",
              "    <tr style=\"text-align: right;\">\n",
              "      <th></th>\n",
              "      <th>text</th>\n",
              "    </tr>\n",
              "  </thead>\n",
              "  <tbody>\n",
              "    <tr>\n",
              "      <th>785258</th>\n",
              "      <td>RT @JainGoldnMandir: A glimpse of selfless activities done by \\nAmdavad Jain Tapovan during the crisis of Corona..\\n\\n*Jabardust Jaino ki Shas…</td>\n",
              "    </tr>\n",
              "    <tr>\n",
              "      <th>295900</th>\n",
              "      <td>@RamCNN What have you done to help with the Corona Virus other than feed your Trump Derangement Syndrome at your lame Network. You and Acosta giving each other hand jobs while you figure out ways to trash the President for saving lives? #enemyofthepeople</td>\n",
              "    </tr>\n",
              "    <tr>\n",
              "      <th>521616</th>\n",
              "      <td>@TeniEntertainer See Mary see jesus see baby see corona</td>\n",
              "    </tr>\n",
              "    <tr>\n",
              "      <th>688879</th>\n",
              "      <td>I now know 2 people who have lost a loved one to the Corona virus within the last 6 days</td>\n",
              "    </tr>\n",
              "    <tr>\n",
              "      <th>573766</th>\n",
              "      <td>RT @raga_with: Corona can also be treated but not the Godi media. \\n#मीडिया_वायरस https://t.co/U1O9EufWCP</td>\n",
              "    </tr>\n",
              "    <tr>\n",
              "      <th>165295</th>\n",
              "      <td>RT @guyverhofstadt: We’ll overcome this Corona crisis as a society of free &amp;amp; responsible people. Not because a wannabe dictator tells us to…</td>\n",
              "    </tr>\n",
              "    <tr>\n",
              "      <th>129568</th>\n",
              "      <td>@sagarikaghose Are you stupid or Corona has taken over your brain ? When they attended that function none aware of Kanika positiveness and this is something else for what you are comparing these two different scenarios ? Just like your glass you are also weird 😂🤣🙈🤦</td>\n",
              "    </tr>\n",
              "    <tr>\n",
              "      <th>698807</th>\n",
              "      <td>RT @ThuggerDaily: Tory Lanez asked Thug what he’s doing to avoid corona and this what he said 😂 https://t.co/b2ppVdVdWD</td>\n",
              "    </tr>\n",
              "    <tr>\n",
              "      <th>216952</th>\n",
              "      <td>RT @RukmaniTomar: My son and other children, who are in Denipro, Ukraine for higher studies are stuck there alone due to this corona virus…</td>\n",
              "    </tr>\n",
              "    <tr>\n",
              "      <th>99677</th>\n",
              "      <td>RT @Real_SureshBJP: @aniljaindr thank you very much to you and your entire family\\nYou are the responsibility of an Indian citizen by donati…</td>\n",
              "    </tr>\n",
              "  </tbody>\n",
              "</table>\n",
              "</div>"
            ],
            "text/plain": [
              "                                                                                                                                                                                                                                                                             text\n",
              "785258                                                                                                                            RT @JainGoldnMandir: A glimpse of selfless activities done by \\nAmdavad Jain Tapovan during the crisis of Corona..\\n\\n*Jabardust Jaino ki Shas…\n",
              "295900             @RamCNN What have you done to help with the Corona Virus other than feed your Trump Derangement Syndrome at your lame Network. You and Acosta giving each other hand jobs while you figure out ways to trash the President for saving lives? #enemyofthepeople\n",
              "521616                                                                                                                                                                                                                    @TeniEntertainer See Mary see jesus see baby see corona\n",
              "688879                                                                                                                                                                                   I now know 2 people who have lost a loved one to the Corona virus within the last 6 days\n",
              "573766                                                                                                                                                                  RT @raga_with: Corona can also be treated but not the Godi media. \\n#मीडिया_वायरस https://t.co/U1O9EufWCP\n",
              "165295                                                                                                                           RT @guyverhofstadt: We’ll overcome this Corona crisis as a society of free &amp; responsible people. Not because a wannabe dictator tells us to…\n",
              "129568  @sagarikaghose Are you stupid or Corona has taken over your brain ? When they attended that function none aware of Kanika positiveness and this is something else for what you are comparing these two different scenarios ? Just like your glass you are also weird 😂🤣🙈🤦\n",
              "698807                                                                                                                                                    RT @ThuggerDaily: Tory Lanez asked Thug what he’s doing to avoid corona and this what he said 😂 https://t.co/b2ppVdVdWD\n",
              "216952                                                                                                                                RT @RukmaniTomar: My son and other children, who are in Denipro, Ukraine for higher studies are stuck there alone due to this corona virus…\n",
              "99677                                                                                                                               RT @Real_SureshBJP: @aniljaindr thank you very much to you and your entire family\\nYou are the responsibility of an Indian citizen by donati…"
            ]
          },
          "metadata": {
            "tags": []
          },
          "execution_count": 9
        }
      ]
    },
    {
      "cell_type": "markdown",
      "metadata": {
        "id": "A1vhtGcnzqtp"
      },
      "source": [
        "## Misc. cleaning up to reduce noise when conducting sentimental analysis\n",
        "1. remove \\n\n",
        "2. remove URL\n",
        "3. remove user referrals\n",
        "4. remove hashtags"
      ]
    },
    {
      "cell_type": "code",
      "metadata": {
        "id": "TGLSjXA00aBs"
      },
      "source": [
        "df['modified_text'] = df.text.str.replace(r'\\n', '')\n",
        "df['modified_text'] = df.modified_text.str.replace(r'(http|ftp|https)://([\\w_-]+(?:(?:\\.[\\w_-]+)+))([\\w.,@?^=%&:/~+#-]*[\\w@?^=%&/~+#-])?', '')\n",
        "df['modified_text'] = df.modified_text.str.replace(r'\\B@\\w+', '')\n",
        "df['modified_text'] = df.modified_text.str.replace(r'\\B#\\w+', '')"
      ],
      "execution_count": 10,
      "outputs": []
    },
    {
      "cell_type": "markdown",
      "metadata": {
        "id": "4XU0njxYunzu"
      },
      "source": [
        "## Splitting Dataframes (originals and retweets)\n",
        "\n",
        "The collection includes both original tweets and retweets. Since retweets mirrors the original tweet by someone else other than the author, we don't need to run sentimental analysis on the retweet as it would have been run on the original tweet, therefore we can split original tweets and retweets into two dataframes to avoid wasting resources.\n",
        "\n",
        "\n",
        "- Original tweets: `dfOriginals`\n",
        "- Retweets: `dfRetweets` cons\n",
        "\n",
        "\n",
        "\n"
      ]
    },
    {
      "cell_type": "code",
      "metadata": {
        "id": "jPydisljWkFM"
      },
      "source": [
        "dfOriginals = df[df.retweet_id == 0]\n",
        "dfRetweets = df[df.retweet_id != 0]"
      ],
      "execution_count": 11,
      "outputs": []
    },
    {
      "cell_type": "markdown",
      "metadata": {
        "id": "r1UH6f4QNP24"
      },
      "source": [
        "Two samples of the original tweet dataframe."
      ]
    },
    {
      "cell_type": "code",
      "metadata": {
        "id": "d5nEYW5qOVAg",
        "colab": {
          "base_uri": "https://localhost:8080/",
          "height": 0
        },
        "outputId": "3595df16-806e-43b2-99a8-221d76991799"
      },
      "source": [
        "dfOriginals.sample(2)"
      ],
      "execution_count": 12,
      "outputs": [
        {
          "output_type": "execute_result",
          "data": {
            "text/html": [
              "<div>\n",
              "<style scoped>\n",
              "    .dataframe tbody tr th:only-of-type {\n",
              "        vertical-align: middle;\n",
              "    }\n",
              "\n",
              "    .dataframe tbody tr th {\n",
              "        vertical-align: top;\n",
              "    }\n",
              "\n",
              "    .dataframe thead th {\n",
              "        text-align: right;\n",
              "    }\n",
              "</style>\n",
              "<table border=\"1\" class=\"dataframe\">\n",
              "  <thead>\n",
              "    <tr style=\"text-align: right;\">\n",
              "      <th></th>\n",
              "      <th>coordinates</th>\n",
              "      <th>created_at</th>\n",
              "      <th>hashtags</th>\n",
              "      <th>media</th>\n",
              "      <th>urls</th>\n",
              "      <th>favorite_count</th>\n",
              "      <th>id</th>\n",
              "      <th>in_reply_to_screen_name</th>\n",
              "      <th>in_reply_to_status_id</th>\n",
              "      <th>in_reply_to_user_id</th>\n",
              "      <th>lang</th>\n",
              "      <th>place</th>\n",
              "      <th>possibly_sensitive</th>\n",
              "      <th>retweet_count</th>\n",
              "      <th>retweet_id</th>\n",
              "      <th>retweet_screen_name</th>\n",
              "      <th>source</th>\n",
              "      <th>text</th>\n",
              "      <th>tweet_url</th>\n",
              "      <th>user_created_at</th>\n",
              "      <th>user_screen_name</th>\n",
              "      <th>user_default_profile_image</th>\n",
              "      <th>user_description</th>\n",
              "      <th>user_favourites_count</th>\n",
              "      <th>user_followers_count</th>\n",
              "      <th>user_friends_count</th>\n",
              "      <th>user_listed_count</th>\n",
              "      <th>user_location</th>\n",
              "      <th>user_name</th>\n",
              "      <th>user_screen_name.1</th>\n",
              "      <th>user_statuses_count</th>\n",
              "      <th>user_time_zone</th>\n",
              "      <th>user_urls</th>\n",
              "      <th>user_verified</th>\n",
              "      <th>modified_text</th>\n",
              "    </tr>\n",
              "  </thead>\n",
              "  <tbody>\n",
              "    <tr>\n",
              "      <th>214559</th>\n",
              "      <td>NaN</td>\n",
              "      <td>Tue Mar 31 11:33:51 +0000 2020</td>\n",
              "      <td>NaN</td>\n",
              "      <td>NaN</td>\n",
              "      <td>NaN</td>\n",
              "      <td>0</td>\n",
              "      <td>1244951033887035394</td>\n",
              "      <td>rtenews</td>\n",
              "      <td>1244935699511554048</td>\n",
              "      <td>8973062</td>\n",
              "      <td>en</td>\n",
              "      <td>NaN</td>\n",
              "      <td>NaN</td>\n",
              "      <td>0</td>\n",
              "      <td>0</td>\n",
              "      <td>NaN</td>\n",
              "      <td>&lt;a href=\"https://mobile.twitter.com\" rel=\"nofollow\"&gt;Twitter Web App&lt;/a&gt;</td>\n",
              "      <td>@rtenews This doesn't apply I assume if God forbid the deceased passed from Corona</td>\n",
              "      <td>https://twitter.com/Thehighstool/status/1244951033887035394</td>\n",
              "      <td>Mon Sep 07 18:48:43 +0000 2009</td>\n",
              "      <td>Thehighstool</td>\n",
              "      <td>False</td>\n",
              "      <td>Meath Gaa fan, Liverpool fc fan, Darts fan &amp; general sports nut</td>\n",
              "      <td>18995</td>\n",
              "      <td>275</td>\n",
              "      <td>5001</td>\n",
              "      <td>0</td>\n",
              "      <td>Meath, Ireland</td>\n",
              "      <td>Keith Byrne</td>\n",
              "      <td>Thehighstool</td>\n",
              "      <td>191</td>\n",
              "      <td>NaN</td>\n",
              "      <td>NaN</td>\n",
              "      <td>False</td>\n",
              "      <td>This doesn't apply I assume if God forbid the deceased passed from Corona</td>\n",
              "    </tr>\n",
              "    <tr>\n",
              "      <th>186642</th>\n",
              "      <td>NaN</td>\n",
              "      <td>Tue Mar 31 10:46:56 +0000 2020</td>\n",
              "      <td>NaN</td>\n",
              "      <td>NaN</td>\n",
              "      <td>https://twitter.com/PoddarVaishali/status/1244920448413872128</td>\n",
              "      <td>9</td>\n",
              "      <td>1244939228477341702</td>\n",
              "      <td>NaN</td>\n",
              "      <td>0</td>\n",
              "      <td>0</td>\n",
              "      <td>en</td>\n",
              "      <td>NaN</td>\n",
              "      <td>False</td>\n",
              "      <td>2</td>\n",
              "      <td>0</td>\n",
              "      <td>NaN</td>\n",
              "      <td>&lt;a href=\"http://twitter.com/download/iphone\" rel=\"nofollow\"&gt;Twitter for iPhone&lt;/a&gt;</td>\n",
              "      <td>Please let me know if you need volunteers in Pune area for noble work. https://t.co/9CwAPF4XTd</td>\n",
              "      <td>https://twitter.com/theogrishi/status/1244939228477341702</td>\n",
              "      <td>Tue Nov 26 10:20:43 +0000 2019</td>\n",
              "      <td>theogrishi</td>\n",
              "      <td>False</td>\n",
              "      <td>Adventure &amp; Fitness Freak 🤓! Pune. Law. DM or Mail on one99notout@icloud.com</td>\n",
              "      <td>1226</td>\n",
              "      <td>70</td>\n",
              "      <td>255</td>\n",
              "      <td>0</td>\n",
              "      <td>Pune, India</td>\n",
              "      <td>Rishi Bharadwaj</td>\n",
              "      <td>theogrishi</td>\n",
              "      <td>2106</td>\n",
              "      <td>NaN</td>\n",
              "      <td>http://www.instagram.com/theogrishi</td>\n",
              "      <td>False</td>\n",
              "      <td>Please let me know if you need volunteers in Pune area for noble work.</td>\n",
              "    </tr>\n",
              "  </tbody>\n",
              "</table>\n",
              "</div>"
            ],
            "text/plain": [
              "       coordinates  ...                                                               modified_text\n",
              "214559         NaN  ...   This doesn't apply I assume if God forbid the deceased passed from Corona\n",
              "186642         NaN  ...     Please let me know if you need volunteers in Pune area for noble work. \n",
              "\n",
              "[2 rows x 35 columns]"
            ]
          },
          "metadata": {
            "tags": []
          },
          "execution_count": 12
        }
      ]
    },
    {
      "cell_type": "markdown",
      "metadata": {
        "id": "Jfq66BaYpojK"
      },
      "source": [
        "## Guessing language\n",
        "\n",
        "Since our sentiment analysis focuses on only English tweets, we will install a `langdetect` library to help filter out tweets that are not English."
      ]
    },
    {
      "cell_type": "code",
      "metadata": {
        "id": "pPwDbh-HmBv8",
        "colab": {
          "base_uri": "https://localhost:8080/"
        },
        "outputId": "45c4fef9-d7fc-41ca-ad00-0f923681a08d"
      },
      "source": [
        "#https://pypi.org/project/langdetect/\n",
        "!pip install langdetect\n",
        "from langdetect import detect\n",
        "from langdetect import DetectorFactory\n",
        "DetectorFactory.seed = 0\n",
        "\n"
      ],
      "execution_count": 13,
      "outputs": [
        {
          "output_type": "stream",
          "text": [
            "Collecting langdetect\n",
            "\u001b[?25l  Downloading https://files.pythonhosted.org/packages/56/a3/8407c1e62d5980188b4acc45ef3d94b933d14a2ebc9ef3505f22cf772570/langdetect-1.0.8.tar.gz (981kB)\n",
            "\u001b[K     |████████████████████████████████| 983kB 4.4MB/s \n",
            "\u001b[?25hRequirement already satisfied: six in /usr/local/lib/python3.6/dist-packages (from langdetect) (1.15.0)\n",
            "Building wheels for collected packages: langdetect\n",
            "  Building wheel for langdetect (setup.py) ... \u001b[?25l\u001b[?25hdone\n",
            "  Created wheel for langdetect: filename=langdetect-1.0.8-cp36-none-any.whl size=993195 sha256=182cd2556d7f05819d22378c3da5907e0db645ae295fa54c4bf0cea197153bea\n",
            "  Stored in directory: /root/.cache/pip/wheels/8d/b3/aa/6d99de9f3841d7d3d40a60ea06e6d669e8e5012e6c8b947a57\n",
            "Successfully built langdetect\n",
            "Installing collected packages: langdetect\n",
            "Successfully installed langdetect-1.0.8\n"
          ],
          "name": "stdout"
        }
      ]
    },
    {
      "cell_type": "markdown",
      "metadata": {
        "id": "oPdqdngRnI8B"
      },
      "source": [
        "Function to test whether tweet is English with error handling."
      ]
    },
    {
      "cell_type": "code",
      "metadata": {
        "id": "HJWNxzqbQhIz"
      },
      "source": [
        "#https://stackoverflow.com/questions/60930935/exclude-non-english-rows-in-pandas\n",
        "\n",
        "def is_en(txt):\n",
        "    try:\n",
        "        return detect(txt)=='en'\n",
        "    except:\n",
        "        return False"
      ],
      "execution_count": 14,
      "outputs": []
    },
    {
      "cell_type": "markdown",
      "metadata": {
        "id": "zF4fSfUF3Gcy"
      },
      "source": [
        "Passing as the `is_en()` as first-class function; returning a boolean value as a attribute `guessed_language`."
      ]
    },
    {
      "cell_type": "code",
      "metadata": {
        "id": "CCxbwQfSmht4",
        "colab": {
          "base_uri": "https://localhost:8080/"
        },
        "outputId": "d58b4539-9d35-4c3f-bccf-73e8c257d4c8"
      },
      "source": [
        "dfOriginals['guessed_language'] = dfOriginals.modified_text.apply(is_en)"
      ],
      "execution_count": 15,
      "outputs": [
        {
          "output_type": "stream",
          "text": [
            "/usr/local/lib/python3.6/dist-packages/ipykernel_launcher.py:1: SettingWithCopyWarning: \n",
            "A value is trying to be set on a copy of a slice from a DataFrame.\n",
            "Try using .loc[row_indexer,col_indexer] = value instead\n",
            "\n",
            "See the caveats in the documentation: https://pandas.pydata.org/pandas-docs/stable/user_guide/indexing.html#returning-a-view-versus-a-copy\n",
            "  \"\"\"Entry point for launching an IPython kernel.\n"
          ],
          "name": "stderr"
        }
      ]
    },
    {
      "cell_type": "markdown",
      "metadata": {
        "id": "dsfksiehng6H"
      },
      "source": [
        "By filtering out non-English tweets, we remove noise that can potentially affect our sentimental analysis."
      ]
    },
    {
      "cell_type": "code",
      "metadata": {
        "id": "zPoRWDGSXx99",
        "colab": {
          "base_uri": "https://localhost:8080/"
        },
        "outputId": "70ef752f-638e-4933-d395-fd70bc625b70"
      },
      "source": [
        "print(\"There are \" + str(len(dfOriginals)) + \" tweets, and \" + str(sum(dfOriginals.guessed_language)) + \" (\"+str(round((sum(dfOriginals.guessed_language) / len(dfOriginals)) * 100, 2))+\"%) tweets detected as English.\")"
      ],
      "execution_count": 16,
      "outputs": [
        {
          "output_type": "stream",
          "text": [
            "There are 245389 tweets, and 232816 (94.88%) tweets detected as English.\n"
          ],
          "name": "stdout"
        }
      ]
    },
    {
      "cell_type": "markdown",
      "metadata": {
        "id": "atZ26M3rYTfg"
      },
      "source": [
        "# Step 6. Sentiment Analysis"
      ]
    },
    {
      "cell_type": "markdown",
      "metadata": {
        "id": "ezcFLOzHLRE_"
      },
      "source": [
        "To conduct Seitment Analysis, we begin by importing the NLTK library."
      ]
    },
    {
      "cell_type": "code",
      "metadata": {
        "id": "PxgmxMWypoi2",
        "colab": {
          "base_uri": "https://localhost:8080/"
        },
        "outputId": "0db3f1fa-1cfc-435c-f225-fa779cc8cc88"
      },
      "source": [
        "import nltk\n",
        "from nltk.sentiment.util import *\n",
        "from nltk.sentiment import SentimentIntensityAnalyzer\n",
        "from nltk import tokenize\n",
        "nltk.download('punkt')\n",
        "nltk.download('vader_lexicon')\n",
        "sid = SentimentIntensityAnalyzer()"
      ],
      "execution_count": 17,
      "outputs": [
        {
          "output_type": "stream",
          "text": [
            "/usr/local/lib/python3.6/dist-packages/nltk/twitter/__init__.py:20: UserWarning: The twython library has not been installed. Some functionality from the twitter package will not be available.\n",
            "  warnings.warn(\"The twython library has not been installed. \"\n"
          ],
          "name": "stderr"
        },
        {
          "output_type": "stream",
          "text": [
            "[nltk_data] Downloading package punkt to /root/nltk_data...\n",
            "[nltk_data]   Unzipping tokenizers/punkt.zip.\n",
            "[nltk_data] Downloading package vader_lexicon to /root/nltk_data...\n"
          ],
          "name": "stdout"
        }
      ]
    },
    {
      "cell_type": "markdown",
      "metadata": {
        "id": "IhrR1DkvcgNO"
      },
      "source": [
        "## Applying Sentiment Analysis function\n",
        "\n",
        "We apply the polarity score function and store results on a new attribute `sentimentscore`.\n",
        "\n"
      ]
    },
    {
      "cell_type": "code",
      "metadata": {
        "id": "Zjw8l4kapojF",
        "colab": {
          "base_uri": "https://localhost:8080/"
        },
        "outputId": "3dfc2cd9-3949-4c43-ccaf-8e160b54144d"
      },
      "source": [
        "dfOriginals['sentimentscore'] = dfOriginals.modified_text.apply(sid.polarity_scores)"
      ],
      "execution_count": 18,
      "outputs": [
        {
          "output_type": "stream",
          "text": [
            "/usr/local/lib/python3.6/dist-packages/ipykernel_launcher.py:1: SettingWithCopyWarning: \n",
            "A value is trying to be set on a copy of a slice from a DataFrame.\n",
            "Try using .loc[row_indexer,col_indexer] = value instead\n",
            "\n",
            "See the caveats in the documentation: https://pandas.pydata.org/pandas-docs/stable/user_guide/indexing.html#returning-a-view-versus-a-copy\n",
            "  \"\"\"Entry point for launching an IPython kernel.\n"
          ],
          "name": "stderr"
        }
      ]
    },
    {
      "cell_type": "markdown",
      "metadata": {
        "id": "MKHk7KzTXSNZ"
      },
      "source": [
        "A quick sample preview of the text and its sentiment score."
      ]
    },
    {
      "cell_type": "code",
      "metadata": {
        "id": "juosFirzpojI",
        "colab": {
          "base_uri": "https://localhost:8080/",
          "height": 0
        },
        "outputId": "f03aee87-81fa-49ad-ce9d-956953a88aef"
      },
      "source": [
        "dfOriginals.sample(2)[['modified_text','sentimentscore']]"
      ],
      "execution_count": 19,
      "outputs": [
        {
          "output_type": "execute_result",
          "data": {
            "text/html": [
              "<div>\n",
              "<style scoped>\n",
              "    .dataframe tbody tr th:only-of-type {\n",
              "        vertical-align: middle;\n",
              "    }\n",
              "\n",
              "    .dataframe tbody tr th {\n",
              "        vertical-align: top;\n",
              "    }\n",
              "\n",
              "    .dataframe thead th {\n",
              "        text-align: right;\n",
              "    }\n",
              "</style>\n",
              "<table border=\"1\" class=\"dataframe\">\n",
              "  <thead>\n",
              "    <tr style=\"text-align: right;\">\n",
              "      <th></th>\n",
              "      <th>modified_text</th>\n",
              "      <th>sentimentscore</th>\n",
              "    </tr>\n",
              "  </thead>\n",
              "  <tbody>\n",
              "    <tr>\n",
              "      <th>111395</th>\n",
              "      <td>Fuck corona let's have shots</td>\n",
              "      <td>{'neg': 0.467, 'neu': 0.533, 'pos': 0.0, 'compound': -0.5423}</td>\n",
              "    </tr>\n",
              "    <tr>\n",
              "      <th>496916</th>\n",
              "      <td>Corona why</td>\n",
              "      <td>{'neg': 0.0, 'neu': 1.0, 'pos': 0.0, 'compound': 0.0}</td>\n",
              "    </tr>\n",
              "  </tbody>\n",
              "</table>\n",
              "</div>"
            ],
            "text/plain": [
              "                        modified_text                                                 sentimentscore\n",
              "111395   Fuck corona let's have shots  {'neg': 0.467, 'neu': 0.533, 'pos': 0.0, 'compound': -0.5423}\n",
              "496916                     Corona why          {'neg': 0.0, 'neu': 1.0, 'pos': 0.0, 'compound': 0.0}"
            ]
          },
          "metadata": {
            "tags": []
          },
          "execution_count": 19
        }
      ]
    },
    {
      "cell_type": "markdown",
      "metadata": {
        "id": "kbrLEIGyEET0"
      },
      "source": [
        "The `SentimentIntensityAnalyzer()` returns a dictionary of scores negative, neutral, positive, and compound. Compound is the normalization of negative, neutral, and positive values.\n",
        "\n",
        "\n",
        "How compound is calculated? https://stackoverflow.com/questions/40325980/how-is-the-vader-compound-polarity-score-calculated-in-python-nltk\n",
        "\n",
        "Next, we expand the score, which is currently as dictionary, into their own attributes for better data manipulation--especially the compound attribute."
      ]
    },
    {
      "cell_type": "code",
      "metadata": {
        "id": "M9GcU1qtEKha"
      },
      "source": [
        "dfOriginalSScore = pd.json_normalize(dfOriginals.sentimentscore)\n",
        "dfOriginalSScore['original_index'] = dfOriginals.index\n",
        "dfOriginalSScore = dfOriginalSScore.set_index('original_index')"
      ],
      "execution_count": 20,
      "outputs": []
    },
    {
      "cell_type": "markdown",
      "metadata": {
        "id": "cyfN7LjOLffd"
      },
      "source": [
        "Merge the dataframe with sentiment scores and the dataframe with the original tweets together, onto a new dataframe `dfOriginals_Analyzed`."
      ]
    },
    {
      "cell_type": "code",
      "metadata": {
        "id": "Z9nqoDf7comS"
      },
      "source": [
        "dfOriginals_Analyzed = dfOriginals.merge(dfOriginalSScore, left_index=True, right_index=True)"
      ],
      "execution_count": 21,
      "outputs": []
    },
    {
      "cell_type": "markdown",
      "metadata": {
        "id": "baZ82QGJLxqf"
      },
      "source": [
        "Quick preview of modified text and compound on the merged dataframe."
      ]
    },
    {
      "cell_type": "code",
      "metadata": {
        "id": "aoK5ZqBlU9Wa",
        "colab": {
          "base_uri": "https://localhost:8080/",
          "height": 0
        },
        "outputId": "16e6e4b5-f9a4-4e1b-bef3-da5f45a4075f"
      },
      "source": [
        "dfOriginals_Analyzed.sample(10)[['modified_text','compound']]"
      ],
      "execution_count": 22,
      "outputs": [
        {
          "output_type": "execute_result",
          "data": {
            "text/html": [
              "<div>\n",
              "<style scoped>\n",
              "    .dataframe tbody tr th:only-of-type {\n",
              "        vertical-align: middle;\n",
              "    }\n",
              "\n",
              "    .dataframe tbody tr th {\n",
              "        vertical-align: top;\n",
              "    }\n",
              "\n",
              "    .dataframe thead th {\n",
              "        text-align: right;\n",
              "    }\n",
              "</style>\n",
              "<table border=\"1\" class=\"dataframe\">\n",
              "  <thead>\n",
              "    <tr style=\"text-align: right;\">\n",
              "      <th></th>\n",
              "      <th>modified_text</th>\n",
              "      <th>compound</th>\n",
              "    </tr>\n",
              "  </thead>\n",
              "  <tbody>\n",
              "    <tr>\n",
              "      <th>23868</th>\n",
              "      <td>Now I've got a clean picture of who they are .For the first time they've bcome human! I've always thot they're superior,kupiga vifua duf! am going to do this &amp;amp;that!Corona has humbled them,wameogopa,they can't talk! Matiangi ako?</td>\n",
              "      <td>0.5951</td>\n",
              "    </tr>\n",
              "    <tr>\n",
              "      <th>363861</th>\n",
              "      <td>now muslims so speak.cant tolerate if their religion is attacked for fault. Fake news start peddling to save them. Have u heard of Mohd. Saad of markaz saying what he said about corona. He said fake disease and qe shud meet more. U ppl cant digest any thing against religion.</td>\n",
              "      <td>-0.8271</td>\n",
              "    </tr>\n",
              "    <tr>\n",
              "      <th>646074</th>\n",
              "      <td>So 100,000 people will likely die of corona virus in the US OR 250,000.....the reason for the large discrepancy? It depends highly on non-essentials staying home! So stay home.</td>\n",
              "      <td>-0.6360</td>\n",
              "    </tr>\n",
              "    <tr>\n",
              "      <th>707130</th>\n",
              "      <td>She is crying all this while.She want to know whether she can get any drug that can help her get fit. She believed she's a corona virus carrier.. Please u can help by suggesting the measures she can apply. 🙏</td>\n",
              "      <td>0.7506</td>\n",
              "    </tr>\n",
              "    <tr>\n",
              "      <th>265423</th>\n",
              "      <td>Rain rain and self quarantine at home  unexpected and unbelievable situation    @ Taxila</td>\n",
              "      <td>0.2023</td>\n",
              "    </tr>\n",
              "    <tr>\n",
              "      <th>95420</th>\n",
              "      <td>Prysmian Reduces Dividend Due to Corona Crisis      -19</td>\n",
              "      <td>-0.6249</td>\n",
              "    </tr>\n",
              "    <tr>\n",
              "      <th>307453</th>\n",
              "      <td>So with all this talk of the corona virus death and case numbers, I genuinely don’t look at them much. There’s almost no real statistical value in it when a great number aren’t tested. Even if they meet all criteria. And work in a hospital. This is how hard it was for someone:</td>\n",
              "      <td>0.1513</td>\n",
              "    </tr>\n",
              "    <tr>\n",
              "      <th>465395</th>\n",
              "      <td>Think people think the Corona covid-19 virus does not magically appear!!🇺🇸</td>\n",
              "      <td>0.0000</td>\n",
              "    </tr>\n",
              "    <tr>\n",
              "      <th>385221</th>\n",
              "      <td>These are bigger Virus to our nation than</td>\n",
              "      <td>0.0000</td>\n",
              "    </tr>\n",
              "    <tr>\n",
              "      <th>767694</th>\n",
              "      <td>What we should have done is to ban all international flighrs since Feb 25 or atleast from corona affected countries like China, U.S, Italy, Saudi countries etc ,if no in allowed situation should be better than now</td>\n",
              "      <td>-0.2500</td>\n",
              "    </tr>\n",
              "  </tbody>\n",
              "</table>\n",
              "</div>"
            ],
            "text/plain": [
              "                                                                                                                                                                                                                                                                                modified_text  compound\n",
              "23868                                             Now I've got a clean picture of who they are .For the first time they've bcome human! I've always thot they're superior,kupiga vifua duf! am going to do this &amp;that!Corona has humbled them,wameogopa,they can't talk! Matiangi ako?       0.5951\n",
              "363861    now muslims so speak.cant tolerate if their religion is attacked for fault. Fake news start peddling to save them. Have u heard of Mohd. Saad of markaz saying what he said about corona. He said fake disease and qe shud meet more. U ppl cant digest any thing against religion.   -0.8271\n",
              "646074                                                                                                       So 100,000 people will likely die of corona virus in the US OR 250,000.....the reason for the large discrepancy? It depends highly on non-essentials staying home! So stay home.   -0.6360\n",
              "707130                                                                        She is crying all this while.She want to know whether she can get any drug that can help her get fit. She believed she's a corona virus carrier.. Please u can help by suggesting the measures she can apply. 🙏    0.7506\n",
              "265423                                                                                                                                                                                              Rain rain and self quarantine at home  unexpected and unbelievable situation    @ Taxila     0.2023\n",
              "95420                                                                                                                                                                                                                              Prysmian Reduces Dividend Due to Corona Crisis      -19      -0.6249\n",
              "307453  So with all this talk of the corona virus death and case numbers, I genuinely don’t look at them much. There’s almost no real statistical value in it when a great number aren’t tested. Even if they meet all criteria. And work in a hospital. This is how hard it was for someone:    0.1513\n",
              "465395                                                                                                                                                                                                            Think people think the Corona covid-19 virus does not magically appear!!🇺🇸     0.0000\n",
              "385221                                                                                                                                                                                                                                         These are bigger Virus to our nation than         0.0000\n",
              "767694                                                                  What we should have done is to ban all international flighrs since Feb 25 or atleast from corona affected countries like China, U.S, Italy, Saudi countries etc ,if no in allowed situation should be better than now   -0.2500"
            ]
          },
          "metadata": {
            "tags": []
          },
          "execution_count": 22
        }
      ]
    },
    {
      "cell_type": "markdown",
      "metadata": {
        "id": "haI-bZHZSbwB"
      },
      "source": [
        "We binning based on compound scores\n",
        "* -1 to -0.1 = negative \n",
        "* -0.1 to 0.1  = neutral\n",
        "* 0.1 to 1 = positive\n",
        "\n",
        "The threshold chosen is based on the paper \"Predictive Analysis of Resource Usage Data in Academic Libraries using the VADER Sentiment Algorithm\"\n",
        "\n",
        "Deo, G. S., Mishra, A., Jalaluddin, Z. M., & Mahamuni, C. V. (2020, September). Predictive Analysis of Resource Usage Data in Academic Libraries using the VADER Sentiment Algorithm. In 2020 12th International Conference on Computational Intelligence and Communication Networks (CICN) (pp. 221-228). IEEE.\n",
        "\n",
        "https://www.researchgate.net/profile/Gouri_Deo/publication/342988903_Predictive_Analysis_of_Resource_Usage_Data_in_Academic_Libraries_using_the_VADER_Sentiment_Algorithm/links/5f1085a6a6fdcc3ed70bcf20/Predictive-Analysis-of-Resource-Usage-Data-in-Academic-Libraries-using-the-VADER-Sentiment-Algorithm.pdf\n",
        "\n"
      ]
    },
    {
      "cell_type": "code",
      "metadata": {
        "id": "P2kbxHPFSlv0",
        "colab": {
          "base_uri": "https://localhost:8080/"
        },
        "outputId": "2959d1ec-e9e6-482a-a734-0cfaf9a01cb7"
      },
      "source": [
        "dfOriginals_Analyzed['sentiment_class_relaxed'] = pd.cut(dfOriginals_Analyzed['compound'], bins=[-1, -0.1, 0.1, 1], right=True, labels=['neg', 'neu', 'pos'])\n",
        "dfOriginals_Analyzed.sentiment_class_relaxed.value_counts()"
      ],
      "execution_count": 23,
      "outputs": [
        {
          "output_type": "execute_result",
          "data": {
            "text/plain": [
              "neg    89051\n",
              "pos    84039\n",
              "neu    72299\n",
              "Name: sentiment_class_relaxed, dtype: int64"
            ]
          },
          "metadata": {
            "tags": []
          },
          "execution_count": 23
        }
      ]
    },
    {
      "cell_type": "markdown",
      "metadata": {
        "id": "z301Ydq8pOWT"
      },
      "source": [
        "# Step 7. Basic Analysis\n",
        "\n",
        "Observing the correlation between variables."
      ]
    },
    {
      "cell_type": "code",
      "metadata": {
        "id": "85ESk5yIvkfQ",
        "colab": {
          "base_uri": "https://localhost:8080/",
          "height": 0
        },
        "outputId": "4f1d69ed-6be0-44ec-f781-071947bff3b5"
      },
      "source": [
        "dfOriginals_Analyzed[['favorite_count','retweet_count','user_followers_count','compound','user_statuses_count','user_favourites_count','user_followers_count','user_friends_count','user_listed_count']].corr()"
      ],
      "execution_count": 24,
      "outputs": [
        {
          "output_type": "execute_result",
          "data": {
            "text/html": [
              "<div>\n",
              "<style scoped>\n",
              "    .dataframe tbody tr th:only-of-type {\n",
              "        vertical-align: middle;\n",
              "    }\n",
              "\n",
              "    .dataframe tbody tr th {\n",
              "        vertical-align: top;\n",
              "    }\n",
              "\n",
              "    .dataframe thead th {\n",
              "        text-align: right;\n",
              "    }\n",
              "</style>\n",
              "<table border=\"1\" class=\"dataframe\">\n",
              "  <thead>\n",
              "    <tr style=\"text-align: right;\">\n",
              "      <th></th>\n",
              "      <th>favorite_count</th>\n",
              "      <th>retweet_count</th>\n",
              "      <th>user_followers_count</th>\n",
              "      <th>compound</th>\n",
              "      <th>user_statuses_count</th>\n",
              "      <th>user_favourites_count</th>\n",
              "      <th>user_followers_count</th>\n",
              "      <th>user_friends_count</th>\n",
              "      <th>user_listed_count</th>\n",
              "    </tr>\n",
              "  </thead>\n",
              "  <tbody>\n",
              "    <tr>\n",
              "      <th>favorite_count</th>\n",
              "      <td>1.000000</td>\n",
              "      <td>0.908576</td>\n",
              "      <td>0.165683</td>\n",
              "      <td>-0.001108</td>\n",
              "      <td>0.015366</td>\n",
              "      <td>0.007852</td>\n",
              "      <td>0.165683</td>\n",
              "      <td>0.005575</td>\n",
              "      <td>0.051646</td>\n",
              "    </tr>\n",
              "    <tr>\n",
              "      <th>retweet_count</th>\n",
              "      <td>0.908576</td>\n",
              "      <td>1.000000</td>\n",
              "      <td>0.090025</td>\n",
              "      <td>-0.003071</td>\n",
              "      <td>0.015991</td>\n",
              "      <td>0.007261</td>\n",
              "      <td>0.090025</td>\n",
              "      <td>0.007084</td>\n",
              "      <td>0.039251</td>\n",
              "    </tr>\n",
              "    <tr>\n",
              "      <th>user_followers_count</th>\n",
              "      <td>0.165683</td>\n",
              "      <td>0.090025</td>\n",
              "      <td>1.000000</td>\n",
              "      <td>0.003693</td>\n",
              "      <td>0.116452</td>\n",
              "      <td>0.000535</td>\n",
              "      <td>1.000000</td>\n",
              "      <td>0.032721</td>\n",
              "      <td>0.609057</td>\n",
              "    </tr>\n",
              "    <tr>\n",
              "      <th>compound</th>\n",
              "      <td>-0.001108</td>\n",
              "      <td>-0.003071</td>\n",
              "      <td>0.003693</td>\n",
              "      <td>1.000000</td>\n",
              "      <td>-0.022604</td>\n",
              "      <td>-0.028941</td>\n",
              "      <td>0.003693</td>\n",
              "      <td>-0.006560</td>\n",
              "      <td>0.000249</td>\n",
              "    </tr>\n",
              "    <tr>\n",
              "      <th>user_statuses_count</th>\n",
              "      <td>0.015366</td>\n",
              "      <td>0.015991</td>\n",
              "      <td>0.116452</td>\n",
              "      <td>-0.022604</td>\n",
              "      <td>1.000000</td>\n",
              "      <td>0.326723</td>\n",
              "      <td>0.116452</td>\n",
              "      <td>0.105958</td>\n",
              "      <td>0.128835</td>\n",
              "    </tr>\n",
              "    <tr>\n",
              "      <th>user_favourites_count</th>\n",
              "      <td>0.007852</td>\n",
              "      <td>0.007261</td>\n",
              "      <td>0.000535</td>\n",
              "      <td>-0.028941</td>\n",
              "      <td>0.326723</td>\n",
              "      <td>1.000000</td>\n",
              "      <td>0.000535</td>\n",
              "      <td>0.100920</td>\n",
              "      <td>0.016049</td>\n",
              "    </tr>\n",
              "    <tr>\n",
              "      <th>user_followers_count</th>\n",
              "      <td>0.165683</td>\n",
              "      <td>0.090025</td>\n",
              "      <td>1.000000</td>\n",
              "      <td>0.003693</td>\n",
              "      <td>0.116452</td>\n",
              "      <td>0.000535</td>\n",
              "      <td>1.000000</td>\n",
              "      <td>0.032721</td>\n",
              "      <td>0.609057</td>\n",
              "    </tr>\n",
              "    <tr>\n",
              "      <th>user_friends_count</th>\n",
              "      <td>0.005575</td>\n",
              "      <td>0.007084</td>\n",
              "      <td>0.032721</td>\n",
              "      <td>-0.006560</td>\n",
              "      <td>0.105958</td>\n",
              "      <td>0.100920</td>\n",
              "      <td>0.032721</td>\n",
              "      <td>1.000000</td>\n",
              "      <td>0.048344</td>\n",
              "    </tr>\n",
              "    <tr>\n",
              "      <th>user_listed_count</th>\n",
              "      <td>0.051646</td>\n",
              "      <td>0.039251</td>\n",
              "      <td>0.609057</td>\n",
              "      <td>0.000249</td>\n",
              "      <td>0.128835</td>\n",
              "      <td>0.016049</td>\n",
              "      <td>0.609057</td>\n",
              "      <td>0.048344</td>\n",
              "      <td>1.000000</td>\n",
              "    </tr>\n",
              "  </tbody>\n",
              "</table>\n",
              "</div>"
            ],
            "text/plain": [
              "                       favorite_count  ...  user_listed_count\n",
              "favorite_count               1.000000  ...           0.051646\n",
              "retweet_count                0.908576  ...           0.039251\n",
              "user_followers_count         0.165683  ...           0.609057\n",
              "compound                    -0.001108  ...           0.000249\n",
              "user_statuses_count          0.015366  ...           0.128835\n",
              "user_favourites_count        0.007852  ...           0.016049\n",
              "user_followers_count         0.165683  ...           0.609057\n",
              "user_friends_count           0.005575  ...           0.048344\n",
              "user_listed_count            0.051646  ...           1.000000\n",
              "\n",
              "[9 rows x 9 columns]"
            ]
          },
          "metadata": {
            "tags": []
          },
          "execution_count": 24
        }
      ]
    },
    {
      "cell_type": "code",
      "metadata": {
        "id": "UDWk9JkiBfnT",
        "colab": {
          "base_uri": "https://localhost:8080/",
          "height": 0
        },
        "outputId": "e9ae3403-be1f-4a66-d078-9b7f362a57bf"
      },
      "source": [
        "dfOriginals_Analyzed[['favorite_count','retweet_count','user_followers_count','compound','user_statuses_count','user_favourites_count','user_followers_count','user_friends_count','user_listed_count']].describe().apply(lambda s: s.apply('{0:.5f}'.format))"
      ],
      "execution_count": 25,
      "outputs": [
        {
          "output_type": "execute_result",
          "data": {
            "text/html": [
              "<div>\n",
              "<style scoped>\n",
              "    .dataframe tbody tr th:only-of-type {\n",
              "        vertical-align: middle;\n",
              "    }\n",
              "\n",
              "    .dataframe tbody tr th {\n",
              "        vertical-align: top;\n",
              "    }\n",
              "\n",
              "    .dataframe thead th {\n",
              "        text-align: right;\n",
              "    }\n",
              "</style>\n",
              "<table border=\"1\" class=\"dataframe\">\n",
              "  <thead>\n",
              "    <tr style=\"text-align: right;\">\n",
              "      <th></th>\n",
              "      <th>favorite_count</th>\n",
              "      <th>retweet_count</th>\n",
              "      <th>user_followers_count</th>\n",
              "      <th>compound</th>\n",
              "      <th>user_statuses_count</th>\n",
              "      <th>user_favourites_count</th>\n",
              "      <th>user_followers_count</th>\n",
              "      <th>user_friends_count</th>\n",
              "      <th>user_listed_count</th>\n",
              "    </tr>\n",
              "  </thead>\n",
              "  <tbody>\n",
              "    <tr>\n",
              "      <th>count</th>\n",
              "      <td>245389.00000</td>\n",
              "      <td>245389.00000</td>\n",
              "      <td>245389.00000</td>\n",
              "      <td>245389.00000</td>\n",
              "      <td>245389.00000</td>\n",
              "      <td>245389.00000</td>\n",
              "      <td>245389.00000</td>\n",
              "      <td>245389.00000</td>\n",
              "      <td>245389.00000</td>\n",
              "    </tr>\n",
              "    <tr>\n",
              "      <th>mean</th>\n",
              "      <td>9.52971</td>\n",
              "      <td>2.70475</td>\n",
              "      <td>9251.20519</td>\n",
              "      <td>-0.01655</td>\n",
              "      <td>27468.30799</td>\n",
              "      <td>18028.51423</td>\n",
              "      <td>9251.20519</td>\n",
              "      <td>1284.43071</td>\n",
              "      <td>34.64758</td>\n",
              "    </tr>\n",
              "    <tr>\n",
              "      <th>std</th>\n",
              "      <td>384.21091</td>\n",
              "      <td>122.27732</td>\n",
              "      <td>250678.23602</td>\n",
              "      <td>0.47919</td>\n",
              "      <td>75560.36124</td>\n",
              "      <td>39592.12977</td>\n",
              "      <td>250678.23602</td>\n",
              "      <td>10409.72569</td>\n",
              "      <td>680.04372</td>\n",
              "    </tr>\n",
              "    <tr>\n",
              "      <th>min</th>\n",
              "      <td>0.00000</td>\n",
              "      <td>0.00000</td>\n",
              "      <td>0.00000</td>\n",
              "      <td>-0.99520</td>\n",
              "      <td>1.00000</td>\n",
              "      <td>0.00000</td>\n",
              "      <td>0.00000</td>\n",
              "      <td>0.00000</td>\n",
              "      <td>0.00000</td>\n",
              "    </tr>\n",
              "    <tr>\n",
              "      <th>25%</th>\n",
              "      <td>0.00000</td>\n",
              "      <td>0.00000</td>\n",
              "      <td>64.00000</td>\n",
              "      <td>-0.39760</td>\n",
              "      <td>1156.00000</td>\n",
              "      <td>510.00000</td>\n",
              "      <td>64.00000</td>\n",
              "      <td>135.00000</td>\n",
              "      <td>0.00000</td>\n",
              "    </tr>\n",
              "    <tr>\n",
              "      <th>50%</th>\n",
              "      <td>0.00000</td>\n",
              "      <td>0.00000</td>\n",
              "      <td>331.00000</td>\n",
              "      <td>0.00000</td>\n",
              "      <td>6344.00000</td>\n",
              "      <td>4200.00000</td>\n",
              "      <td>331.00000</td>\n",
              "      <td>399.00000</td>\n",
              "      <td>1.00000</td>\n",
              "    </tr>\n",
              "    <tr>\n",
              "      <th>75%</th>\n",
              "      <td>1.00000</td>\n",
              "      <td>0.00000</td>\n",
              "      <td>1307.00000</td>\n",
              "      <td>0.36120</td>\n",
              "      <td>24616.00000</td>\n",
              "      <td>17807.00000</td>\n",
              "      <td>1307.00000</td>\n",
              "      <td>1038.00000</td>\n",
              "      <td>6.00000</td>\n",
              "    </tr>\n",
              "    <tr>\n",
              "      <th>max</th>\n",
              "      <td>108137.00000</td>\n",
              "      <td>35137.00000</td>\n",
              "      <td>62855265.00000</td>\n",
              "      <td>0.99190</td>\n",
              "      <td>4472178.00000</td>\n",
              "      <td>1254400.00000</td>\n",
              "      <td>62855265.00000</td>\n",
              "      <td>4322723.00000</td>\n",
              "      <td>202433.00000</td>\n",
              "    </tr>\n",
              "  </tbody>\n",
              "</table>\n",
              "</div>"
            ],
            "text/plain": [
              "      favorite_count retweet_count  ... user_friends_count user_listed_count\n",
              "count   245389.00000  245389.00000  ...       245389.00000      245389.00000\n",
              "mean         9.52971       2.70475  ...         1284.43071          34.64758\n",
              "std        384.21091     122.27732  ...        10409.72569         680.04372\n",
              "min          0.00000       0.00000  ...            0.00000           0.00000\n",
              "25%          0.00000       0.00000  ...          135.00000           0.00000\n",
              "50%          0.00000       0.00000  ...          399.00000           1.00000\n",
              "75%          1.00000       0.00000  ...         1038.00000           6.00000\n",
              "max     108137.00000   35137.00000  ...      4322723.00000      202433.00000\n",
              "\n",
              "[8 rows x 9 columns]"
            ]
          },
          "metadata": {
            "tags": []
          },
          "execution_count": 25
        }
      ]
    },
    {
      "cell_type": "markdown",
      "metadata": {
        "id": "MQkgLWhJtnwS"
      },
      "source": [
        "Plot Distribution of sentiment scores"
      ]
    },
    {
      "cell_type": "markdown",
      "metadata": {
        "id": "JWvyTRxxHfWt"
      },
      "source": [
        "The histogram shows the distribution appears to have some modes, and rather symmetric."
      ]
    },
    {
      "cell_type": "code",
      "metadata": {
        "id": "9H9QeJvhtYMH",
        "colab": {
          "base_uri": "https://localhost:8080/",
          "height": 0
        },
        "outputId": "fdd70da6-d85f-472a-f91c-2f7f56c4f8b7"
      },
      "source": [
        "import matplotlib.pyplot as plt\n",
        "import seaborn as sns\n",
        "\n",
        "plt.figure(figsize=(8,8)) \n",
        "histo_plot = plt.hist(dfOriginals_Analyzed['compound'],bins=40)\n"
      ],
      "execution_count": 26,
      "outputs": [
        {
          "output_type": "display_data",
          "data": {
            "image/png": "[encoded data removed]",
            "text/plain": [
              "<Figure size 576x576 with 1 Axes>"
            ]
          },
          "metadata": {
            "tags": [],
            "needs_background": "light"
          }
        }
      ]
    },
    {
      "cell_type": "code",
      "metadata": {
        "id": "mjN93_Rzr90m",
        "colab": {
          "base_uri": "https://localhost:8080/",
          "height": 0
        },
        "outputId": "45ecdfaf-2bee-457c-e75b-e0e2e50fcccd"
      },
      "source": [
        "plt.figure(figsize=(8,8)) \n",
        "histo_plot2 = plt.hist(dfOriginals_Analyzed['compound'],bins=20)\n"
      ],
      "execution_count": 27,
      "outputs": [
        {
          "output_type": "display_data",
          "data": {
            "image/png": "[encoded data removed]",
            "text/plain": [
              "<Figure size 576x576 with 1 Axes>"
            ]
          },
          "metadata": {
            "tags": [],
            "needs_background": "light"
          }
        }
      ]
    },
    {
      "cell_type": "code",
      "metadata": {
        "colab": {
          "base_uri": "https://localhost:8080/",
          "height": 0
        },
        "id": "D2b8aARwSFd_",
        "outputId": "ae409e77-4700-4c7a-e0b1-70d721edfd6d"
      },
      "source": [
        "# Plot pie chart\n",
        "# \n",
        "\n",
        "fig1, ax1 = plt.subplots()\n",
        "ax1.pie(dfOriginals_Analyzed.sentiment_class_relaxed.value_counts().values, labels=dfOriginals_Analyzed.sentiment_class_relaxed.value_counts().index.rename_categories(['Negative','Neutral','Positive']), autopct='%1.1f%%', shadow=True, startangle=90)\n",
        "ax1.title.set_text(\"Percentage of Sentiment Levels in Tweets\")\n",
        "ax1.axis('equal')"
      ],
      "execution_count": 28,
      "outputs": [
        {
          "output_type": "execute_result",
          "data": {
            "text/plain": [
              "(-1.1182944691568912,\n",
              " 1.1129382929025038,\n",
              " -1.1162563432183583,\n",
              " 1.1007741115818266)"
            ]
          },
          "metadata": {
            "tags": []
          },
          "execution_count": 28
        },
        {
          "output_type": "display_data",
          "data": {
            "image/png": "[encoded data removed]",
            "text/plain": [
              "<Figure size 432x288 with 1 Axes>"
            ]
          },
          "metadata": {
            "tags": []
          }
        }
      ]
    },
    {
      "cell_type": "markdown",
      "metadata": {
        "id": "FmFrATvf_2GW"
      },
      "source": [
        "# Step 8. Build Prediction Model for \"Favourite Count\" with Linear Regression\n",
        "\n",
        "## Split Train and Test set"
      ]
    },
    {
      "cell_type": "code",
      "metadata": {
        "id": "dnvWBGoU_9Nh",
        "colab": {
          "base_uri": "https://localhost:8080/"
        },
        "outputId": "2c593223-cdd2-4f51-f7f8-6fbf829162e2"
      },
      "source": [
        "from sklearn import preprocessing\n",
        "from sklearn import linear_model\n",
        "\n",
        "\n",
        "\n",
        "independent_variables = ['retweet_count','user_followers_count','compound','user_statuses_count','user_favourites_count','user_friends_count','user_listed_count']\n",
        "dependent_variables = 'favorite_count'\n",
        "\n",
        "\n",
        "trainSet=dfOriginals_Analyzed.sample(frac=0.8,random_state=150)\n",
        "testSet=dfOriginals_Analyzed.drop(trainSet.index)\n",
        "\n",
        "X_train = trainSet[independent_variables]\n",
        "Y_train = trainSet[dependent_variables]\n",
        "X_test = testSet[independent_variables]\n",
        "Y_test = testSet[dependent_variables]\n",
        "reg = linear_model.LinearRegression()\n",
        "\n",
        "reg.fit(X_train,Y_train)\n",
        "\n",
        "print('Coefficient\\tLabel\\n===========================================')\n",
        "coefficient_list = (list(zip(reg.coef_, independent_variables)))\n",
        "for el in coefficient_list:\n",
        "  print('{: 4f}\\t{}'.format(*el))\n",
        "\n",
        "print(f\"\\nR^2-score (train set): {reg.score(X_train,Y_train):4f}\")\n"
      ],
      "execution_count": 29,
      "outputs": [
        {
          "output_type": "stream",
          "text": [
            "Coefficient\tLabel\n",
            "===========================================\n",
            " 2.536713\tretweet_count\n",
            " 0.000211\tuser_followers_count\n",
            " 1.016376\tcompound\n",
            "-0.000038\tuser_statuses_count\n",
            " 0.000057\tuser_favourites_count\n",
            "-0.000056\tuser_friends_count\n",
            "-0.034559\tuser_listed_count\n",
            "\n",
            "R^2-score (train set): 0.799859\n"
          ],
          "name": "stdout"
        }
      ]
    },
    {
      "cell_type": "markdown",
      "metadata": {
        "id": "KemJJsl8dAfJ"
      },
      "source": [
        "Since this is a regression model with continous values, we use Mean Square Error (MSE), Root MSE, and R-square metrics to measure the performance of the model. \n",
        "\n",
        "reference: https://stackoverflow.com/questions/49103139/calculating-accuracy-scores-of-predicted-continuous-values"
      ]
    },
    {
      "cell_type": "code",
      "metadata": {
        "id": "59twK3DodAfJ",
        "colab": {
          "base_uri": "https://localhost:8080/"
        },
        "outputId": "f5cba495-569c-4d49-afe7-3a36f63b61f8"
      },
      "source": [
        "from sklearn.metrics import mean_squared_error\n",
        "from sklearn.metrics import r2_score\n",
        "from sklearn.metrics import mean_absolute_error\n",
        "\n",
        "from math import sqrt\n",
        "\n",
        "# Run prediction; Concating results onto a single dataframe; rounding prediction numbers as integer.\n",
        "plot_1_Y = reg.predict(X_test) # predicted as Y\n",
        "plot_1_X = Y_test.reset_index()  # actual as X\n",
        "df_plot_1 = pd.concat([plot_1_X,pd.DataFrame(plot_1_Y)],axis=1)\n",
        "df_plot_1.columns = ['index','actual', 'predicted']\n",
        "df_plot_1.predicted = round(df_plot_1.predicted,0).astype(int)\n",
        "\n",
        "mse = mean_squared_error(df_plot_1.actual, df_plot_1.predicted)\n",
        "mae = mean_absolute_error(df_plot_1.actual, df_plot_1.predicted)\n",
        "r2 = r2_score(df_plot_1.actual, df_plot_1.predicted)\n",
        "adj_r2 = 1-(1-r2)*(len(df_plot_1.actual)-1)/(len(df_plot_1.actual)-len(independent_variables)-1)\n",
        "print(\"\\nMetrics\\n============================================\")\n",
        "print(f\"Mean Square Error (MSE): {mse:4f}\")\n",
        "print(f\"Root MSE:\\t\\t {sqrt(mse):4f}\")\n",
        "print(f\"Mean Absolute Error:\\t {mae:4f}\")\n",
        "print(f\"R^2:\\t\\t\\t {r2:4f}\")\n",
        "print(f\"Adjusted R-Square:\\t {adj_r2:4f}\")\n",
        "\n"
      ],
      "execution_count": 30,
      "outputs": [
        {
          "output_type": "stream",
          "text": [
            "\n",
            "Metrics\n",
            "============================================\n",
            "Mean Square Error (MSE): 33404.189046\n",
            "Root MSE:\t\t 182.768129\n",
            "Mean Absolute Error:\t 7.281756\n",
            "R^2:\t\t\t 0.873217\n",
            "Adjusted R-Square:\t 0.873199\n"
          ],
          "name": "stdout"
        }
      ]
    },
    {
      "cell_type": "markdown",
      "metadata": {
        "id": "i0q56zAtdAfL"
      },
      "source": [
        "Scatterplot to visually observe how well the model's prediction vs actual value."
      ]
    },
    {
      "cell_type": "code",
      "metadata": {
        "id": "PHtyiLQjdAfL",
        "colab": {
          "base_uri": "https://localhost:8080/",
          "height": 911
        },
        "outputId": "e59ed33b-2899-4d30-c0ed-cef90939d3bd"
      },
      "source": [
        "from numpy.polynomial.polynomial import polyfit\n",
        "import numpy as np\n",
        "\n",
        "\n",
        "plot_1 = df_plot_1.plot.scatter(x='actual',y='predicted',figsize=(30,15),title=\"Dependent Variable: \" + dependent_variables + \"; Predicted versus Actual\")\n",
        "plot_1.set_ylabel(\"Predicted values (\" + dependent_variables + \")\")\n",
        "plot_1.set_xlabel(\"Actual values (\" + dependent_variables + \")\")\n",
        "\n"
      ],
      "execution_count": 38,
      "outputs": [
        {
          "output_type": "execute_result",
          "data": {
            "text/plain": [
              "Text(0.5, 0, 'Actual values (retweet_count)')"
            ]
          },
          "metadata": {
            "tags": []
          },
          "execution_count": 38
        },
        {
          "output_type": "display_data",
          "data": {
            "image/png": "[encoded data removed]",
            "text/plain": [
              "<Figure size 2160x1080 with 1 Axes>"
            ]
          },
          "metadata": {
            "tags": [],
            "needs_background": "light"
          }
        }
      ]
    },
    {
      "cell_type": "markdown",
      "metadata": {
        "id": "edY2xn5XdAfM"
      },
      "source": [
        "Since our outliers are distorting the scatterplot visually, we will limit the observation to 2-sigma (95%)."
      ]
    },
    {
      "cell_type": "code",
      "metadata": {
        "id": "Z_NU1pzpdAfM",
        "colab": {
          "base_uri": "https://localhost:8080/",
          "height": 911
        },
        "outputId": "e4f4ef87-b7be-442f-d8b5-fce3d6a9d89e"
      },
      "source": [
        "df_plot_2 = df_plot_1[df_plot_1.predicted.between(df_plot_1.predicted.quantile(0.025), df_plot_1.predicted.quantile(0.975))]\n",
        "# df_plot_2 = df_plot_1[df_plot_1.predicted.between(df_plot_1.predicted.quantile(0.0015), df_plot_1.predicted.quantile(0.9985))]\n",
        "plot_2 = df_plot_2.plot.scatter(x='actual',y='predicted',figsize=(30,15),title=\"Dependent Variable: \" + dependent_variables + \"; Predicted versus Actual (2.5-sigma)\")\n",
        "plot_2.set_ylabel(\"Predicted values (\" + dependent_variables + \")\")\n",
        "plot_2.set_xlabel(\"Actual values (\" + dependent_variables + \")\")\n",
        "plot_2.set_ylim(top=100)\n",
        "plot_2.set_xlim(right=100)\n",
        "plot_2.set_xlim(left=-1)\n",
        "\n",
        "\n",
        "\n",
        "\n",
        "# b, m = polyfit(df_plot_2.actual, df_plot_2.predicted, 1)\n",
        "# plot_2.plot(df_plot_2.actual, b + m * df_plot_2.actual, '-')\n",
        "\n",
        "lims = [\n",
        "    np.min([plot_2.get_xlim(), plot_2.get_ylim()]),  # min of both axes\n",
        "    np.max([plot_2.get_xlim(), plot_2.get_ylim()]),  # max of both axes\n",
        "]\n",
        "plot_2.plot(lims, lims, 'r--', alpha=0.75, zorder=0)"
      ],
      "execution_count": 39,
      "outputs": [
        {
          "output_type": "execute_result",
          "data": {
            "text/plain": [
              "[<matplotlib.lines.Line2D at 0x7f9fd458ac18>]"
            ]
          },
          "metadata": {
            "tags": []
          },
          "execution_count": 39
        },
        {
          "output_type": "display_data",
          "data": {
            "image/png": "[encoded data removed]",
            "text/plain": [
              "<Figure size 2160x1080 with 1 Axes>"
            ]
          },
          "metadata": {
            "tags": [],
            "needs_background": "light"
          }
        }
      ]
    },
    {
      "cell_type": "markdown",
      "metadata": {
        "id": "2a62ZTRmdeX-"
      },
      "source": [
        "# Step 9. Build Prediction Model for \"Retweet Count\" with Linear Regression\n",
        "\n",
        "## Split Train and Test set"
      ]
    },
    {
      "cell_type": "code",
      "metadata": {
        "id": "CBsRkjJ4deX-",
        "colab": {
          "base_uri": "https://localhost:8080/"
        },
        "outputId": "a65d95b4-c7a0-46a1-ca18-553ff59c1f21"
      },
      "source": [
        "from sklearn import preprocessing\n",
        "from sklearn import linear_model\n",
        "\n",
        "\n",
        "# independent_variables = ['retweet_count','user_followers_count','compound','user_statuses_count','user_verified']\n",
        "# dependent_variables = 'favorite_count'\n",
        "\n",
        "# independent_variables = ['favorite_count','user_followers_count','compound','user_statuses_count','user_verified']\n",
        "independent_variables = ['favorite_count','user_followers_count','compound','user_statuses_count','user_favourites_count','user_friends_count','user_listed_count']\n",
        "dependent_variables = 'retweet_count'\n",
        "\n",
        "trainSet=dfOriginals_Analyzed.sample(frac=0.8,random_state=150)\n",
        "testSet=dfOriginals_Analyzed.drop(trainSet.index)\n",
        "\n",
        "X_train = trainSet[independent_variables]\n",
        "Y_train = trainSet[dependent_variables]\n",
        "X_test = testSet[independent_variables]\n",
        "Y_test = testSet[dependent_variables]\n",
        "reg = linear_model.LinearRegression()\n",
        "\n",
        "reg.fit(X_train,Y_train)\n",
        "\n",
        "# print(\"Coefficients: \" + ', '.join(independent_variables))\n",
        "# print(reg.coef_)\n",
        "print('Coefficient\\tLabel\\n===========================================')\n",
        "coefficient_list = (list(zip(reg.coef_, independent_variables)))\n",
        "for el in coefficient_list:\n",
        "  print('{: 4f}\\t{}'.format(*el))\n",
        "\n",
        "print(f\"\\nR^2-score (train set): {reg.score(X_train,Y_train):4f}\")\n",
        "\n",
        "\n",
        "from sklearn.metrics import mean_squared_error\n",
        "from sklearn.metrics import r2_score\n",
        "\n",
        "from math import sqrt\n",
        "\n",
        "# Run prediction; Concating results onto a single dataframe; rounding prediction numbers as integer.\n",
        "plot_1_Y = reg.predict(X_test) # predicted as Y\n",
        "plot_1_X = Y_test.reset_index()  # actual as X\n",
        "df_plot_1 = pd.concat([plot_1_X,pd.DataFrame(plot_1_Y)],axis=1)\n",
        "df_plot_1.columns = ['index','actual', 'predicted']\n",
        "df_plot_1.predicted = round(df_plot_1.predicted,0).astype(int)\n",
        "\n",
        "\n",
        "\n",
        "mse = mean_squared_error(df_plot_1.actual, df_plot_1.predicted)\n",
        "mae = mean_absolute_error(df_plot_1.actual, df_plot_1.predicted)\n",
        "r2 = r2_score(df_plot_1.actual, df_plot_1.predicted)\n",
        "adj_r2 = 1-(1-r2)*(len(df_plot_1.actual)-1)/(len(df_plot_1.actual)-len(independent_variables)-1)\n",
        "print(\"\\nMetrics\\n============================================\")\n",
        "print(f\"Mean Square Error (MSE): {mse:4f}\")\n",
        "print(f\"Root MSE:\\t\\t {sqrt(mse):4f}\")\n",
        "print(f\"Mean Absolute Error:\\t {mae:4f}\")\n",
        "print(f\"R-Square:\\t\\t {r2:4f}\")\n",
        "print(f\"Adjusted R-Square:\\t {adj_r2:4f}\")\n"
      ],
      "execution_count": 40,
      "outputs": [
        {
          "output_type": "stream",
          "text": [
            "Coefficient\tLabel\n",
            "===========================================\n",
            " 0.311235\tfavorite_count\n",
            "-0.000055\tuser_followers_count\n",
            "-0.449341\tcompound\n",
            " 0.000013\tuser_statuses_count\n",
            "-0.000014\tuser_favourites_count\n",
            " 0.000025\tuser_friends_count\n",
            " 0.009861\tuser_listed_count\n",
            "\n",
            "R^2-score (train set): 0.791882\n",
            "\n",
            "Metrics\n",
            "============================================\n",
            "Mean Square Error (MSE): 1234.588084\n",
            "Root MSE:\t\t 35.136706\n",
            "Mean Absolute Error:\t 1.967480\n",
            "R-Square:\t\t 0.934187\n",
            "Adjusted R-Square:\t 0.934178\n"
          ],
          "name": "stdout"
        }
      ]
    },
    {
      "cell_type": "markdown",
      "metadata": {
        "id": "bpXP7aPbdeYA"
      },
      "source": [
        "Scatterplot of Predicted value vs Actual Value."
      ]
    },
    {
      "cell_type": "code",
      "metadata": {
        "colab": {
          "base_uri": "https://localhost:8080/"
        },
        "id": "TjJpzOLOZhoO",
        "outputId": "f8d4b492-0c7b-4684-de13-003a99319e11"
      },
      "source": [
        "(sum((df_plot_1.actual - df_plot_1.predicted) ** 2)) / len(df_plot_1.actual)"
      ],
      "execution_count": 41,
      "outputs": [
        {
          "output_type": "execute_result",
          "data": {
            "text/plain": [
              "1234.5880842740128"
            ]
          },
          "metadata": {
            "tags": []
          },
          "execution_count": 41
        }
      ]
    },
    {
      "cell_type": "code",
      "metadata": {
        "id": "V0iw8LfZdeYA",
        "colab": {
          "base_uri": "https://localhost:8080/",
          "height": 911
        },
        "outputId": "72a25155-ba2a-42e6-ff20-21129b18fbac"
      },
      "source": [
        "from numpy.polynomial.polynomial import polyfit\n",
        "\n",
        "plot_1 = df_plot_1.plot.scatter(x='actual',y='predicted',figsize=(30,15),title=\"Dependent Variable: \" + dependent_variables + \"; Predicted versus Actual\")\n",
        "plot_1.set_ylabel(\"Predicted values (\" + dependent_variables + \")\")\n",
        "plot_1.set_xlabel(\"Actual values (\" + dependent_variables + \")\")\n",
        "\n",
        "\n"
      ],
      "execution_count": 42,
      "outputs": [
        {
          "output_type": "execute_result",
          "data": {
            "text/plain": [
              "Text(0.5, 0, 'Actual values (retweet_count)')"
            ]
          },
          "metadata": {
            "tags": []
          },
          "execution_count": 42
        },
        {
          "output_type": "display_data",
          "data": {
            "image/png": "[encoded data removed]",
            "text/plain": [
              "<Figure size 2160x1080 with 1 Axes>"
            ]
          },
          "metadata": {
            "tags": [],
            "needs_background": "light"
          }
        }
      ]
    },
    {
      "cell_type": "code",
      "metadata": {
        "id": "OfZsxj0-deYA",
        "colab": {
          "base_uri": "https://localhost:8080/",
          "height": 911
        },
        "outputId": "50aed984-8181-4220-d2b3-283acbc8850d"
      },
      "source": [
        "# Scatterplot covering 2.5-sigma.\n",
        "df_plot_2 = df_plot_1[df_plot_1.predicted.between(df_plot_1.predicted.quantile(.0031), df_plot_1.predicted.quantile(0.9969))]\n",
        "plot_2 = df_plot_2.plot.scatter(x='actual',y='predicted',figsize=(30,15),title=\"Dependent Variable: \" + dependent_variables + \"; Predicted versus Actual (2.5-sigma)\")\n",
        "plot_2.set_ylabel(\"Predicted values (\" + dependent_variables + \")\")\n",
        "plot_2.set_xlabel(\"Actual values (\" + dependent_variables + \")\")\n",
        "\n",
        "# b, m = polyfit(df_plot_2.actual, df_plot_2.predicted, 1)\n",
        "# plot_2.plot(df_plot_2.actual, b + m * df_plot_2.actual, '-')\n",
        "\n",
        "lims = [\n",
        "    np.min([plot_2.get_xlim(), plot_2.get_ylim()]),  # min of both axes\n",
        "    np.max([plot_2.get_xlim(), plot_2.get_ylim()]),  # max of both axes\n",
        "]\n",
        "plot_2.plot(lims, lims, 'r--', alpha=0.75, zorder=0)"
      ],
      "execution_count": 43,
      "outputs": [
        {
          "output_type": "execute_result",
          "data": {
            "text/plain": [
              "[<matplotlib.lines.Line2D at 0x7f9fd2c53c50>]"
            ]
          },
          "metadata": {
            "tags": []
          },
          "execution_count": 43
        },
        {
          "output_type": "display_data",
          "data": {
            "image/png": "[encoded data removed]",
            "text/plain": [
              "<Figure size 2160x1080 with 1 Axes>"
            ]
          },
          "metadata": {
            "tags": [],
            "needs_background": "light"
          }
        }
      ]
    },
    {
      "cell_type": "markdown",
      "metadata": {
        "id": "XszGlak5RR4E"
      },
      "source": [
        "# Step 10: Linear Regression with K-fold\n",
        "\n",
        "Since the metrics we got from the previous regression consist of only one sampling, we should implement the same regression model using K-fold cross-validation in order to get more accurate metrics."
      ]
    },
    {
      "cell_type": "code",
      "metadata": {
        "id": "i2s44LZO_Yvp",
        "colab": {
          "base_uri": "https://localhost:8080/"
        },
        "outputId": "3e2a9d67-7b74-4bdd-a17b-9803745544ae"
      },
      "source": [
        "# K-fold - #1 favourite count as dependent\n",
        "#\n",
        "# References:\n",
        "# https://stackoverflow.com/questions/45115964/separate-pandas-dataframe-using-sklearns-kfold\n",
        "# https://stackoverflow.com/questions/57398411/next-always-gives-the-same-index-with-a-kfold-generator\n",
        "# https://machinelearningmastery.com/k-fold-cross-validation/\n",
        "# https://machinelearningmastery.com/robust-regression-for-machine-learning-in-python/\n",
        "from sklearn.model_selection import KFold\n",
        "\n",
        "independent_variables = ['retweet_count','user_followers_count','compound','user_statuses_count','user_favourites_count','user_friends_count','user_listed_count']\n",
        "dependent_variables = 'favorite_count'\n",
        "\n",
        "\n",
        "kfold_n = 5\n",
        "kfold_mse_total, kfold_rmse_total, kfold_rsqr_total = 0, 0, 0\n",
        "kf = KFold(n_splits = kfold_n, shuffle = True, random_state = 2)\n",
        "\n",
        "# Excluding outliers, only including within 3-sigma\n",
        "# dfKfold = dfOriginals_Analyzed[dfOriginals_Analyzed[dependent_variables].between(dfOriginals_Analyzed[dependent_variables].quantile(.0015), dfOriginals_Analyzed[dependent_variables].quantile(0.9985))]\n",
        "dfKfold = dfOriginals_Analyzed\n",
        "\n",
        "kf_result = kf.split(dfKfold)\n",
        "\n",
        "print(\"Dependent Variable: {}\".format(dependent_variables))\n",
        "print(\"Independent Variables: {}\".format(independent_variables))\n",
        "print(\"K-fold: {}\".format(kfold_n))\n",
        "print(\"Mean Square Error (MSE)\\t\\tRoot MSE\\t\\t\\tR-Square\\n=============================================================================================\")\n",
        "\n",
        "for train_idx, test_idx in kf_result:\n",
        "  # print(train_idx)\n",
        "  trainSet=dfKfold.iloc[train_idx]\n",
        "  testSet=dfKfold.iloc[test_idx]\n",
        "\n",
        "  X_train = trainSet[independent_variables]\n",
        "  Y_train = trainSet[dependent_variables]\n",
        "  X_test = testSet[independent_variables]\n",
        "  Y_test = testSet[dependent_variables]\n",
        "\n",
        "  reg = linear_model.LinearRegression()\n",
        "\n",
        "  reg.fit(X_train,Y_train)\n",
        "\n",
        "  y_test_pred = reg.predict(X_test) \n",
        "\n",
        "  mse = mean_squared_error(Y_test, y_test_pred)\n",
        "  rsqr = r2_score(Y_test, y_test_pred)\n",
        "  # print(\"Mean Square Error (MSE): \" + str(mse))\n",
        "  # print(\"Root MSE: \" + str(sqrt(mse)))\n",
        "  # print(\"R-Square: \" + )\n",
        "\n",
        "  print(f\"{mse:4f}\\t\\t{sqrt(mse):4f}\\t\\t{rsqr:4f}\")\n",
        "\n",
        "  kfold_mse_total += mse\n",
        "  kfold_rmse_total += sqrt(mse)\n",
        "  kfold_rsqr_total += rsqr\n",
        "\n",
        "print(\"\\nAverage\\n=============================================================================================\")\n",
        "print(f\"{kfold_mse_total / kfold_n:4f}\\t\\t{kfold_rmse_total / kfold_n:4f}\\t\\t{kfold_rsqr_total / kfold_n:4f}\")\n",
        "\n",
        "\n"
      ],
      "execution_count": 82,
      "outputs": [
        {
          "output_type": "stream",
          "text": [
            "Dependent Variable: favorite_count\n",
            "Independent Variables: ['retweet_count', 'user_followers_count', 'compound', 'user_statuses_count', 'user_favourites_count', 'user_friends_count', 'user_listed_count']\n",
            "K-fold: 5\n",
            "Mean Square Error (MSE)\t\tRoot MSE\t\t\tR-Square\n",
            "=============================================================================================\n",
            "31564.218170\t\t177.663216\t\t0.877825\n",
            "10521.044828\t\t102.572145\t\t0.704872\n",
            "130028.329157\t\t360.594411\t\t0.378130\n",
            "10211.723622\t\t101.053073\t\t0.782832\n",
            "13119.346895\t\t114.539718\t\t0.930201\n",
            "\n",
            "Average\n",
            "=============================================================================================\n",
            "39088.932535\t\t171.284512\t\t0.734772\n"
          ],
          "name": "stdout"
        }
      ]
    },
    {
      "cell_type": "code",
      "metadata": {
        "id": "prpg-in1mlk0",
        "colab": {
          "base_uri": "https://localhost:8080/"
        },
        "outputId": "08b2f0f7-8c41-4472-9e37-66943f95aff9"
      },
      "source": [
        "# K-fold #2 Retweet as independent\n",
        "#\n",
        "\n",
        "from sklearn.model_selection import KFold\n",
        "\n",
        "\n",
        "independent_variables = ['favorite_count','user_followers_count','compound','user_statuses_count','user_favourites_count','user_followers_count','user_friends_count','user_listed_count']\n",
        "dependent_variables = 'retweet_count'\n",
        "\n",
        "kfold_n = 5\n",
        "kfold_mse_total, kfold_rmse_total, kfold_rsqr_total = 0, 0, 0\n",
        "kf = KFold(n_splits = kfold_n, shuffle = True, random_state = 2)\n",
        "\n",
        "dfKfold = dfOriginals_Analyzed\n",
        "\n",
        "kf_result = kf.split(dfKfold)\n",
        "\n",
        "print(\"Dependent Variable: {}\".format(dependent_variables))\n",
        "print(\"Independent Variables: {}\".format(independent_variables))\n",
        "print(\"K-fold: {}\".format(kfold_n))\n",
        "print(\"Mean Square Error (MSE)\\t\\tRoot MSE\\t\\t\\tR-Square\\n=============================================================================================\")\n",
        "\n",
        "for train_idx, test_idx in kf_result:\n",
        "  # print(train_idx)\n",
        "  trainSet=dfKfold.iloc[train_idx]\n",
        "  testSet=dfKfold.iloc[test_idx]\n",
        "\n",
        "  X_train = trainSet[independent_variables]\n",
        "  Y_train = trainSet[dependent_variables]\n",
        "  X_test = testSet[independent_variables]\n",
        "  Y_test = testSet[dependent_variables]\n",
        "\n",
        "  reg = linear_model.LinearRegression()\n",
        "\n",
        "  reg.fit(X_train,Y_train)\n",
        "\n",
        "  y_test_pred = reg.predict(X_test) \n",
        "\n",
        "  mse = mean_squared_error(Y_test, y_test_pred)\n",
        "  rsqr = r2_score(Y_test, y_test_pred)\n",
        "\n",
        "  print(f\"{mse:4f}\\t\\t{sqrt(mse):4f}\\t\\t{rsqr:4f}\")\n",
        "\n",
        "  kfold_mse_total += mse\n",
        "  kfold_rmse_total += sqrt(mse)\n",
        "  kfold_rsqr_total += rsqr\n",
        "\n",
        "print(\"\\nAverage\\n=============================================================================================\")\n",
        "print(f\"{kfold_mse_total / kfold_n:4f}\\t\\t{kfold_rmse_total / kfold_n:4f}\\t\\t{kfold_rsqr_total / kfold_n:4f}\")\n",
        "\n",
        "\n",
        "\n"
      ],
      "execution_count": 83,
      "outputs": [
        {
          "output_type": "stream",
          "text": [
            "Dependent Variable: retweet_count\n",
            "Independent Variables: ['favorite_count', 'user_followers_count', 'compound', 'user_statuses_count', 'user_favourites_count', 'user_followers_count', 'user_friends_count', 'user_listed_count']\n",
            "K-fold: 5\n",
            "Mean Square Error (MSE)\t\tRoot MSE\t\t\tR-Square\n",
            "=============================================================================================\n",
            "1000.984587\t\t31.638340\t\t0.945595\n",
            "798.111384\t\t28.250865\t\t0.605363\n",
            "10974.758804\t\t104.760483\t\t0.685319\n",
            "726.632995\t\t26.956131\t\t0.751255\n",
            "668.976723\t\t25.864584\t\t0.959550\n",
            "\n",
            "Average\n",
            "=============================================================================================\n",
            "2833.892899\t\t43.494081\t\t0.789416\n"
          ],
          "name": "stdout"
        }
      ]
    },
    {
      "cell_type": "markdown",
      "metadata": {
        "id": "QInUdIQcRUo8"
      },
      "source": [
        "# Step 11: Polynomial Regression\n",
        "\n",
        "Here we attempt to fit our model onto a non-linear regression model--Polynomial regression model to see whether we are able to build a better fit of the model than linear regression."
      ]
    },
    {
      "cell_type": "code",
      "metadata": {
        "id": "K5Vem4pinoBu",
        "colab": {
          "base_uri": "https://localhost:8080/",
          "height": 708
        },
        "outputId": "a4ec5281-7593-4371-e40e-30c5349ce981"
      },
      "source": [
        "# POLYNOMIAL REGRESSION #1 favorite_count\n",
        "#\n",
        "#\n",
        "# Reference\n",
        "# https://www.kaggle.com/jnikhilsai/cross-validation-with-linear-regression\n",
        "\n",
        "import numpy as np\n",
        "from sklearn.pipeline import make_pipeline\n",
        "from sklearn.preprocessing import PolynomialFeatures\n",
        "\n",
        "independent_variables = ['retweet_count','user_followers_count','compound','user_statuses_count','user_verified']\n",
        "dependent_variables = 'favorite_count'\n",
        "# independent_variables = ['favorite_count','user_followers_count','compound','user_statuses_count','user_verified']\n",
        "# dependent_variables = 'retweet_count'\n",
        "degrees = [1, 2, 3, 6]\n",
        "\n",
        "# excluding Outliners\n",
        "# dfPoly = dfOriginals_Analyzed[dfOriginals_Analyzed[dependent_variables].between(dfOriginals_Analyzed[dependent_variables].quantile(.0015), dfOriginals_Analyzed[dependent_variables].quantile(0.9985))]\n",
        "dfPoly = dfOriginals_Analyzed\n",
        "\n",
        "trainSet=dfPoly.sample(frac=0.8,random_state=200)\n",
        "testSet=dfPoly.drop(trainSet.index)\n",
        "\n",
        "\n",
        "X_train = trainSet[independent_variables]\n",
        "Y_train = trainSet[dependent_variables]\n",
        "X_test = testSet[independent_variables]\n",
        "Y_test = testSet[dependent_variables]\n",
        "\n",
        "# y_train_pred = np.zeros((len(X_train), len(degrees)))\n",
        "y_test_pred = np.zeros((len(X_test), len(degrees)))\n",
        "\n",
        "# calculate values for each degree\n",
        "for i, degree in enumerate(degrees):    \n",
        "    model = make_pipeline(PolynomialFeatures(degree), linear_model.LinearRegression())\n",
        "    model.fit(X_train, Y_train)\n",
        "    \n",
        "    # predict on test and train data\n",
        "    # store the predictions of each degree in the corresponding column\n",
        "    # y_train_pred[:, i] = model.predict(X_train)\n",
        "    y_test_pred[:, i] = model.predict(X_test)\n",
        "  \n",
        "# plot the graph\n",
        "plt.figure(figsize=(40, 10))\n",
        "plt.subplot(121)\n",
        "plt.xlabel(\"Actual\")\n",
        "plt.ylabel(\"Predicted\")\n",
        "plt.ylim([-1000,15000])\n",
        "plt.xlim([0,12500])\n",
        "for i, degree in enumerate(degrees):    \n",
        "    plt.scatter(Y_test, y_test_pred[:, i], label=str(degree))\n",
        "    plt.legend(loc='upper left')\n",
        "\n",
        "\n",
        "# print metrics\n",
        "print(\"R-squared values: \\n\")\n",
        "\n",
        "for i, degree in enumerate(degrees):\n",
        "    test_r2 = round(r2_score(Y_test, y_test_pred[:, i]), 2)\n",
        "    print(\"Polynomial degree {0}: test score={1}\".format(degree, test_r2))"
      ],
      "execution_count": 51,
      "outputs": [
        {
          "output_type": "stream",
          "text": [
            "R-squared values: \n",
            "\n",
            "Polynomial degree 1: test score=0.87\n",
            "Polynomial degree 2: test score=0.72\n",
            "Polynomial degree 3: test score=-5.57\n",
            "Polynomial degree 6: test score=0.11\n"
          ],
          "name": "stdout"
        },
        {
          "output_type": "display_data",
          "data": {
            "image/png": "[encoded data removed]",
            "text/plain": [
              "<Figure size 2880x720 with 1 Axes>"
            ]
          },
          "metadata": {
            "tags": [],
            "needs_background": "light"
          }
        }
      ]
    },
    {
      "cell_type": "code",
      "metadata": {
        "id": "Dg1QmdTXotKS",
        "colab": {
          "base_uri": "https://localhost:8080/",
          "height": 708
        },
        "outputId": "91af95b0-b309-4a05-a304-9a8f07c55eea"
      },
      "source": [
        "# POLYNOMIAL REGRESSION #2 retweet_count\n",
        "#\n",
        "\n",
        "# independent_variables = ['retweet_count','user_followers_count','compound','user_statuses_count','user_verified']\n",
        "# dependent_variables = 'favorite_count'\n",
        "independent_variables = ['favorite_count','user_followers_count','compound','user_statuses_count','user_verified']\n",
        "dependent_variables = 'retweet_count'\n",
        "degrees = [1, 2, 3, 6]\n",
        "\n",
        "# excluding Outliners\n",
        "# dfPoly = dfOriginals_Analyzed[dfOriginals_Analyzed[dependent_variables].between(dfOriginals_Analyzed[dependent_variables].quantile(.0015), dfOriginals_Analyzed[dependent_variables].quantile(0.9985))]\n",
        "dfPoly = dfOriginals_Analyzed\n",
        "\n",
        "trainSet=dfPoly.sample(frac=0.8,random_state=200)\n",
        "testSet=dfPoly.drop(trainSet.index)\n",
        "\n",
        "\n",
        "X_train = trainSet[independent_variables]\n",
        "Y_train = trainSet[dependent_variables]\n",
        "X_test = testSet[independent_variables]\n",
        "Y_test = testSet[dependent_variables]\n",
        "\n",
        "# y_train_pred = np.zeros((len(X_train), len(degrees)))\n",
        "y_test_pred = np.zeros((len(X_test), len(degrees)))\n",
        "\n",
        "# calculate values for each degree\n",
        "for i, degree in enumerate(degrees):    \n",
        "    # make pipeline: create features, then feed them to linear_reg model\n",
        "    model = make_pipeline(PolynomialFeatures(degree), linear_model.LinearRegression())\n",
        "    model.fit(X_train, Y_train)\n",
        "    \n",
        "    # predict on test and train data\n",
        "    # store the predictions of each degree in the corresponding column\n",
        "    # y_train_pred[:, i] = model.predict(X_train)\n",
        "    y_test_pred[:, i] = model.predict(X_test)\n",
        "  \n",
        "# plot the graph\n",
        "plt.figure(figsize=(40, 10))\n",
        "plt.subplot(121)\n",
        "plt.xlabel(\"Actual\")\n",
        "plt.ylabel(\"Predicted\")\n",
        "plt.ylim([-1000,15000])\n",
        "plt.xlim([0,12500])\n",
        "for i, degree in enumerate(degrees):    \n",
        "    plt.scatter(Y_test, y_test_pred[:, i], label=str(degree))\n",
        "    plt.legend(loc='upper left')\n",
        "\n",
        "\n",
        "# print metrics\n",
        "print(\"R-squared values: \\n\")\n",
        "\n",
        "for i, degree in enumerate(degrees):\n",
        "    # train_r2 = round(sklearn.metrics.r2_score(y_train, y_train_pred[:, i]), 2)\n",
        "    test_r2 = round(r2_score(Y_test, y_test_pred[:, i]), 2)\n",
        "    print(\"Polynomial degree {0}: test score={1}\".format(degree, test_r2))"
      ],
      "execution_count": 52,
      "outputs": [
        {
          "output_type": "stream",
          "text": [
            "R-squared values: \n",
            "\n",
            "Polynomial degree 1: test score=0.94\n",
            "Polynomial degree 2: test score=0.08\n",
            "Polynomial degree 3: test score=0.01\n",
            "Polynomial degree 6: test score=-422.7\n"
          ],
          "name": "stdout"
        },
        {
          "output_type": "display_data",
          "data": {
            "image/png": "[encoded data removed]",
            "text/plain": [
              "<Figure size 2880x720 with 1 Axes>"
            ]
          },
          "metadata": {
            "tags": [],
            "needs_background": "light"
          }
        }
      ]
    },
    {
      "cell_type": "markdown",
      "metadata": {
        "id": "lHiYzL0Vg74h"
      },
      "source": [
        "# Polynomial Regression K-fold"
      ]
    },
    {
      "cell_type": "code",
      "metadata": {
        "id": "K3xGlWDMMkor",
        "colab": {
          "base_uri": "https://localhost:8080/"
        },
        "outputId": "c0b95782-dda4-4a66-ee9d-9e7ca2f58222"
      },
      "source": [
        "import math\n",
        "\n",
        "independent_variables = ['retweet_count','user_followers_count','compound','user_statuses_count','user_verified']\n",
        "dependent_variables = 'favorite_count'\n",
        "# independent_variables = ['favorite_count','user_followers_count','compound','user_statuses_count','user_verified']\n",
        "# dependent_variables = 'retweet_count'\n",
        "# degrees = [1, 2 ]\n",
        "degrees = [1, 2, 3, 6]\n",
        "count = 0\n",
        "\n",
        "kfold_n = 5\n",
        "kfold_mse_total, kfold_rmse_total, kfold_rsqr_total = pd.DataFrame(0, index=np.arange(kfold_n), columns=degrees),pd.DataFrame(0, index=np.arange(kfold_n), columns=degrees),pd.DataFrame(0, index=np.arange(kfold_n), columns=degrees)\n",
        "kf = KFold(n_splits = kfold_n, shuffle = True, random_state = 2)\n",
        "\n",
        "# Excluding outliers, only including within 3-sigma\n",
        "# dfKfold = dfOriginals_Analyzed[dfOriginals_Analyzed[dependent_variables].between(dfOriginals_Analyzed[dependent_variables].quantile(.0015), dfOriginals_Analyzed[dependent_variables].quantile(0.9985))]\n",
        "dfPolyKfold = dfOriginals_Analyzed\n",
        "\n",
        "kf_result = kf.split(dfPolyKfold)\n",
        "\n",
        "print(\"Dependent Variable: {}\".format(dependent_variables))\n",
        "print(\"Independent Variables: {}\".format(independent_variables))\n",
        "print(\"K-fold: {}\".format(kfold_n))\n",
        "print(\"Polynomial\\t\\tRoot MSE\\t\\t\\tR-Square\\n=============================================================================================\")\n",
        "\n",
        "for train_idx, test_idx in kf_result:\n",
        "  # print(train_idx)\n",
        "  trainSet=dfPolyKfold.iloc[train_idx]\n",
        "  testSet=dfPolyKfold.iloc[test_idx]\n",
        "\n",
        "  X_train = trainSet[independent_variables]\n",
        "  Y_train = trainSet[dependent_variables]\n",
        "  X_test = testSet[independent_variables]\n",
        "  Y_test = testSet[dependent_variables]\n",
        "\n",
        "  reg = linear_model.LinearRegression()\n",
        "\n",
        "  y_test_pred = np.zeros((len(X_test), len(degrees)))\n",
        "\n",
        "  for i, degree in enumerate(degrees):    \n",
        "    model = make_pipeline(PolynomialFeatures(degree), linear_model.LinearRegression())\n",
        "    model.fit(X_train, Y_train)\n",
        "    \n",
        "\n",
        "    y_test_pred[:, i] = model.predict(X_test)\n",
        "\n",
        "  \n",
        "  \n",
        "  for i, degree in enumerate(degrees):\n",
        "    \n",
        "    rsqr = round(r2_score(Y_test, y_test_pred[:, i]), 2)\n",
        "    mse = mean_squared_error(Y_test, y_test_pred[:, i])\n",
        "    print(\"Degree {0}: \\t\\t{1} \\t\\t{2}\".format(degree, sqrt(mse),rsqr))\n",
        "    row = math.floor(count/len(degrees))\n",
        "    kfold_mse_total.loc[ row,degree ] = mse\n",
        "    kfold_rmse_total.loc[ row,degree] = sqrt(mse)\n",
        "    kfold_rsqr_total.loc[row,degree] = rsqr\n",
        "    # print(f\"count: {count}  row: {row}\\n{kfold_rsqr_total.loc[row]}\")\n",
        "    count += 1\n",
        "    \n",
        "\n",
        "\n",
        "  print(\"---------------------------------------------------------------------------------\")\n",
        "\n",
        "\n",
        "\n",
        "print(\"\\nAverage\\n=============================================================================================\")\n",
        "# for i, degree in enumerate(degrees):\n",
        "print(f\"MSE Mean: \\n{kfold_mse_total.mean()}\")\n",
        "print(f\"RMSE Mean: \\n{kfold_rmse_total.mean()}\")\n",
        "print(f\"R^2 Mean: \\n{kfold_rsqr_total.mean()}\")\n",
        "\n",
        "\n"
      ],
      "execution_count": 206,
      "outputs": [
        {
          "output_type": "stream",
          "text": [
            "Dependent Variable: favorite_count\n",
            "Independent Variables: ['retweet_count', 'user_followers_count', 'compound', 'user_statuses_count', 'user_verified']\n",
            "K-fold: 5\n",
            "Polynomial\t\tRoot MSE\t\t\tR-Square\n",
            "=============================================================================================\n",
            "Degree 1: \t\t176.1003309179579 \t\t0.88\n",
            "Degree 2: \t\t283.8671924780902 \t\t0.69\n",
            "Degree 3: \t\t906.2368606263769 \t\t-2.18\n",
            "Degree 6: \t\t856.3979925552468 \t\t-1.84\n",
            "---------------------------------------------------------------------------------\n",
            "Degree 1: \t\t101.57117876732413 \t\t0.71\n",
            "Degree 2: \t\t113.61553501192776 \t\t0.64\n",
            "Degree 3: \t\t164.8107158447843 \t\t0.24\n",
            "Degree 6: \t\t1067.8173629126154 \t\t-30.98\n",
            "---------------------------------------------------------------------------------\n",
            "Degree 1: \t\t361.7648735168686 \t\t0.37\n",
            "Degree 2: \t\t578.1225176563707 \t\t-0.6\n",
            "Degree 3: \t\t10089.810890024544 \t\t-485.89\n",
            "Degree 6: \t\t38011377.335343964 \t\t-6910168447.01\n",
            "---------------------------------------------------------------------------------\n",
            "Degree 1: \t\t106.07747474685985 \t\t0.76\n",
            "Degree 2: \t\t132.28407898975604 \t\t0.63\n",
            "Degree 3: \t\t429.9725980224988 \t\t-2.93\n",
            "Degree 6: \t\t21654.500707596068 \t\t-9971.23\n",
            "---------------------------------------------------------------------------------\n",
            "Degree 1: \t\t113.14836415856713 \t\t0.93\n",
            "Degree 2: \t\t284.245851156108 \t\t0.57\n",
            "Degree 3: \t\t1548.2663280761865 \t\t-11.75\n",
            "Degree 6: \t\t15713.147572038102 \t\t-1312.61\n",
            "---------------------------------------------------------------------------------\n",
            "\n",
            "Average\n",
            "=============================================================================================\n",
            "MSE Mean: \n",
            "1    3.925137e+04\n",
            "2    1.052019e+05\n",
            "3    2.104694e+07\n",
            "6    2.889731e+14\n",
            "dtype: float64\n",
            "RMSE Mean: \n",
            "1    1.717324e+02\n",
            "2    2.784270e+02\n",
            "3    2.627819e+03\n",
            "6    7.610134e+06\n",
            "dtype: float64\n",
            "R^2 Mean: \n",
            "1    7.300000e-01\n",
            "2    3.860000e-01\n",
            "3   -1.005020e+02\n",
            "6   -1.382036e+09\n",
            "dtype: float64\n"
          ],
          "name": "stdout"
        }
      ]
    },
    {
      "cell_type": "code",
      "metadata": {
        "colab": {
          "base_uri": "https://localhost:8080/"
        },
        "id": "dBeP0u6193x1",
        "outputId": "4f022bc6-8187-40b9-aec4-45887d65bfc0"
      },
      "source": [
        "kfold_rsqr_total.mean()"
      ],
      "execution_count": 223,
      "outputs": [
        {
          "output_type": "execute_result",
          "data": {
            "text/plain": [
              "1    7.300000e-01\n",
              "2    3.860000e-01\n",
              "3   -1.005020e+02\n",
              "6   -1.382036e+09\n",
              "dtype: float64"
            ]
          },
          "metadata": {
            "tags": []
          },
          "execution_count": 223
        }
      ]
    },
    {
      "cell_type": "code",
      "metadata": {
        "colab": {
          "base_uri": "https://localhost:8080/"
        },
        "id": "ph3S6w4ykeBg",
        "outputId": "f63c5cb4-1534-46ad-be51-33ae19026297"
      },
      "source": [
        "polykfold_overall_metrics = list(zip(degrees,kfold_rmse_total.mean(),kfold_rsqr_total.mean()))\n",
        "print('Degree\\tAverage RMSE\\tAverage R^2'.format(*el))\n",
        "for el in polykfold_overall_metrics:\n",
        "  print('{}\\t{: 4f}\\t{: 4f}'.format(*el))"
      ],
      "execution_count": 219,
      "outputs": [
        {
          "output_type": "stream",
          "text": [
            "Degree\tAverage RMSE\tAverage R^2\n",
            "1\t 171.732444\t 0.730000\n",
            "2\t 278.427035\t 0.386000\n",
            "3\t 2627.819479\t-100.502000\n",
            "6\t 7610133.839796\t-1382035952.734000\n"
          ],
          "name": "stdout"
        }
      ]
    },
    {
      "cell_type": "markdown",
      "metadata": {
        "id": "ZDHkWYpZRoQP"
      },
      "source": [
        "# Further Attempts\n",
        "\n",
        "- Groupby user_screen_name\n",
        "- calculate the mean sentiment score\n",
        "- see whether there are any correlation between number of followers and number of favourite tweets against the mean sentimental score (check SD)\n",
        "\n",
        "explain properly an understanding of why introducing new feature"
      ]
    },
    {
      "cell_type": "code",
      "metadata": {
        "id": "r5cQcimuQp1y"
      },
      "source": [
        "dfOriginals.groupby('user_screen_name').size().reset_index(name='counts').sort_values(by='counts', ascending=False)"
      ],
      "execution_count": null,
      "outputs": []
    },
    {
      "cell_type": "markdown",
      "metadata": {
        "id": "aMfVu_yW1m4o"
      },
      "source": [
        "## Notes from last meeting\n",
        "is final results due next monday\n",
        "\n",
        "[link text](https://)\n",
        "* is the level of detailness enough for the steps?\n",
        "* any metrics i still need?\n",
        "* is next week's due date include the presentation?\n",
        "* is there any specific dates to when the presentation will be.\n",
        "* updated plot, outlier\n",
        "* update graph to exclude\n",
        "* have linear model, but also run another non-linear model\n",
        "* set xlim and ylim\n",
        "* removing outlier using SD central tendencies (or visual 3 SD away)\n",
        "* - non linear regression\n",
        "* - scale x and y axis\n",
        "* polynomial regression models\n",
        "* word doc make reference "
      ]
    }
  ]
}