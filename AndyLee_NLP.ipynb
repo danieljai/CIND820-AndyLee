{
  "nbformat": 4,
  "nbformat_minor": 0,
  "metadata": {
    "kernelspec": {
      "display_name": "Python 3",
      "language": "python",
      "name": "python3"
    },
    "language_info": {
      "name": "python",
      "version": "3.7.6",
      "mimetype": "text/x-python",
      "codemirror_mode": {
        "name": "ipython",
        "version": 3
      },
      "pygments_lexer": "ipython3",
      "nbconvert_exporter": "python",
      "file_extension": ".py"
    },
    "colab": {
      "name": "AndyLee-NLP.ipynb",
      "provenance": [],
      "include_colab_link": true
    }
  },
  "cells": [
    {
      "cell_type": "markdown",
      "metadata": {
        "id": "view-in-github",
        "colab_type": "text"
      },
      "source": [
        "<a href=\"https://colab.research.google.com/github/danieljai/CIND820-AndyLee/blob/main/AndyLee_NLP.ipynb\" target=\"_parent\"><img src=\"https://colab.research.google.com/assets/colab-badge.svg\" alt=\"Open In Colab\"/></a>"
      ]
    },
    {
      "cell_type": "markdown",
      "metadata": {
        "id": "_uncPLiQYnn0"
      },
      "source": [
        "# Step 3: Preload setup\n",
        "\n",
        "Basic setup so results can utilize the full width of the screen."
      ]
    },
    {
      "cell_type": "code",
      "metadata": {
        "id": "7VJ3TVjfpoiz"
      },
      "source": [
        "%config IPCompleter.greedy=True\n",
        "import pandas as pd\n",
        "\n",
        "pd.set_option('display.max_colwidth', 200)\n",
        "pd.options.display.max_colwidth = 500\n",
        "pd.options.display.max_rows = 100"
      ],
      "execution_count": 1,
      "outputs": []
    },
    {
      "cell_type": "markdown",
      "metadata": {
        "id": "HbYv2dHQYl-W"
      },
      "source": [
        "# Step 4: Import Dataset\n",
        "\n",
        "The hydrated file is stored in a Google Drive, and using the follow code will mount Google Drive onto Colaboratory."
      ]
    },
    {
      "cell_type": "code",
      "metadata": {
        "id": "RWSJpsyKqHjH",
        "colab": {
          "base_uri": "https://localhost:8080/"
        },
        "outputId": "0006bfdb-57b9-47d4-ad35-8c945355b8d0"
      },
      "source": [
        "from google.colab import drive\n",
        "drive.mount('/content/drive')"
      ],
      "execution_count": 2,
      "outputs": [
        {
          "output_type": "stream",
          "text": [
            "Drive already mounted at /content/drive; to attempt to forcibly remount, call drive.mount(\"/content/drive\", force_remount=True).\n"
          ],
          "name": "stdout"
        }
      ]
    },
    {
      "cell_type": "code",
      "metadata": {
        "trusted": true,
        "id": "IhVcP_VWpoiv"
      },
      "source": [
        "df = pd.read_csv(\"/content/drive/My Drive/__CIND 820 - Data Analytics Project/3-data/Book1-fastsave.csv\")"
      ],
      "execution_count": 3,
      "outputs": []
    },
    {
      "cell_type": "markdown",
      "metadata": {
        "id": "uEl8PsIfYPlI"
      },
      "source": [
        "# Step 5. Perform Data Cleaning"
      ]
    },
    {
      "cell_type": "markdown",
      "metadata": {
        "id": "7RbFQ3a7OgDj"
      },
      "source": [
        "## Preview data after cleaning and manipulation\n",
        "\n",
        "Original Tweet dataframe datatypes"
      ]
    },
    {
      "cell_type": "code",
      "metadata": {
        "id": "rwPS4yCo2ETZ",
        "colab": {
          "base_uri": "https://localhost:8080/"
        },
        "outputId": "00a96bc5-fd95-4e6a-81ac-16b7c3306c64"
      },
      "source": [
        "# Reference: https://developer.twitter.com/en/docs/twitter-api/v1/data-dictionary/overview/user-object\n",
        "# Observe the datatypes for each feature.\n",
        "\n",
        "df.dtypes"
      ],
      "execution_count": 4,
      "outputs": [
        {
          "output_type": "execute_result",
          "data": {
            "text/plain": [
              "coordinates                    object\n",
              "created_at                     object\n",
              "hashtags                       object\n",
              "media                          object\n",
              "urls                           object\n",
              "favorite_count                  int64\n",
              "id                              int64\n",
              "in_reply_to_screen_name        object\n",
              "in_reply_to_status_id         float64\n",
              "in_reply_to_user_id           float64\n",
              "lang                           object\n",
              "place                          object\n",
              "possibly_sensitive             object\n",
              "retweet_count                   int64\n",
              "retweet_id                    float64\n",
              "retweet_screen_name            object\n",
              "source                         object\n",
              "text                           object\n",
              "tweet_url                      object\n",
              "user_created_at                object\n",
              "user_screen_name               object\n",
              "user_default_profile_image       bool\n",
              "user_description               object\n",
              "user_favourites_count           int64\n",
              "user_followers_count            int64\n",
              "user_friends_count              int64\n",
              "user_listed_count               int64\n",
              "user_location                  object\n",
              "user_name                      object\n",
              "user_screen_name.1             object\n",
              "user_statuses_count             int64\n",
              "user_time_zone                float64\n",
              "user_urls                      object\n",
              "user_verified                    bool\n",
              "dtype: object"
            ]
          },
          "metadata": {
            "tags": []
          },
          "execution_count": 4
        }
      ]
    },
    {
      "cell_type": "markdown",
      "metadata": {
        "id": "UZfDm-YdvsBC"
      },
      "source": [
        "## Readjust attribute datatype\n",
        "\n",
        "For `retweet_id`, `in_reply_to_status_id`, `in_reply_to_user_id`\n",
        "- Convert `null` values to 0\n",
        "- Convert attribute as int64"
      ]
    },
    {
      "cell_type": "code",
      "metadata": {
        "id": "BNtxXnmyuroY"
      },
      "source": [
        "df.retweet_id = df[df['retweet_id'].notnull()].retweet_id.astype('int64') "
      ],
      "execution_count": 5,
      "outputs": []
    },
    {
      "cell_type": "code",
      "metadata": {
        "id": "Wq7nVqm-Ybq5"
      },
      "source": [
        "df.retweet_id = df.retweet_id.fillna(0).astype('int64')\n",
        "df.in_reply_to_status_id = df.in_reply_to_status_id.fillna(0).astype('int64')\n",
        "df.in_reply_to_user_id = df.in_reply_to_user_id.fillna(0).astype('int64')"
      ],
      "execution_count": 6,
      "outputs": []
    },
    {
      "cell_type": "code",
      "metadata": {
        "colab": {
          "base_uri": "https://localhost:8080/",
          "height": 359
        },
        "id": "ZKRbDVZKqaZ9",
        "outputId": "63c11c97-aaf5-4fa4-ac1b-d81be5edcd3e"
      },
      "source": [
        "df[['text']].sample(10)"
      ],
      "execution_count": 7,
      "outputs": [
        {
          "output_type": "execute_result",
          "data": {
            "text/html": [
              "<div>\n",
              "<style scoped>\n",
              "    .dataframe tbody tr th:only-of-type {\n",
              "        vertical-align: middle;\n",
              "    }\n",
              "\n",
              "    .dataframe tbody tr th {\n",
              "        vertical-align: top;\n",
              "    }\n",
              "\n",
              "    .dataframe thead th {\n",
              "        text-align: right;\n",
              "    }\n",
              "</style>\n",
              "<table border=\"1\" class=\"dataframe\">\n",
              "  <thead>\n",
              "    <tr style=\"text-align: right;\">\n",
              "      <th></th>\n",
              "      <th>text</th>\n",
              "    </tr>\n",
              "  </thead>\n",
              "  <tbody>\n",
              "    <tr>\n",
              "      <th>510733</th>\n",
              "      <td>corona is making me go insane. I had a 2 hour long conversation with my bts and exo poster last night</td>\n",
              "    </tr>\n",
              "    <tr>\n",
              "      <th>198914</th>\n",
              "      <td>RT @megirish2001: GOI order is binding on all Indians Sir.\\n\\nFatwa is not.\\n\\nDid not expect this from you @Javedakhtarjadu https://t.co/V5LXx…</td>\n",
              "    </tr>\n",
              "    <tr>\n",
              "      <th>375507</th>\n",
              "      <td>RT @WWUTTcom: In an article yesterday from @DrMichaelLBrown, he said two charismatic prophets see a major \"shift\" coming with the corona vi…</td>\n",
              "    </tr>\n",
              "    <tr>\n",
              "      <th>327161</th>\n",
              "      <td>RT @WaqasGujjar229: Forget about religion cast or creed of human when they need help, people r wanting there are thousands of people out th…</td>\n",
              "    </tr>\n",
              "    <tr>\n",
              "      <th>278683</th>\n",
              "      <td>RT @OpIndia_com: Coronavirus: Bollywood Singer Kanika Kapoor tests positive for COVID-19 for 5th time https://t.co/PCGXKU8IwI</td>\n",
              "    </tr>\n",
              "    <tr>\n",
              "      <th>756744</th>\n",
              "      <td>RT @thesaralisa: This corona virus is unfortunate but  really reveals a lot of people’s true colours - corporations, your favourite influen…</td>\n",
              "    </tr>\n",
              "    <tr>\n",
              "      <th>412235</th>\n",
              "      <td>RT @desimojito: Delhi Police release a video of its warning to senior members of Markaz, Nizamuddin to vacate Markaz &amp;amp; follow lockdown guid…</td>\n",
              "    </tr>\n",
              "    <tr>\n",
              "      <th>151243</th>\n",
              "      <td>RT @SilahAkiro: #HeavenIsCalling\\nThere are things you can do because of folly and they humiliate you...\\n\\n~Like rebuking Corona Virus that i…</td>\n",
              "    </tr>\n",
              "    <tr>\n",
              "      <th>361451</th>\n",
              "      <td>RT @_sxphiee_: When boris and Prince Charles have somehow been diagnosed with and recovered from corona in the space of about a week</td>\n",
              "    </tr>\n",
              "    <tr>\n",
              "      <th>792416</th>\n",
              "      <td>RT @ctraywick: Ppl keep saying we'll see a corona baby boom in 9 months.... more likely we'll see a corona divorce boom\\n https://t.co/f4TuS…</td>\n",
              "    </tr>\n",
              "  </tbody>\n",
              "</table>\n",
              "</div>"
            ],
            "text/plain": [
              "                                                                                                                                                    text\n",
              "510733                                             corona is making me go insane. I had a 2 hour long conversation with my bts and exo poster last night\n",
              "198914  RT @megirish2001: GOI order is binding on all Indians Sir.\\n\\nFatwa is not.\\n\\nDid not expect this from you @Javedakhtarjadu https://t.co/V5LXx…\n",
              "375507      RT @WWUTTcom: In an article yesterday from @DrMichaelLBrown, he said two charismatic prophets see a major \"shift\" coming with the corona vi…\n",
              "327161      RT @WaqasGujjar229: Forget about religion cast or creed of human when they need help, people r wanting there are thousands of people out th…\n",
              "278683                     RT @OpIndia_com: Coronavirus: Bollywood Singer Kanika Kapoor tests positive for COVID-19 for 5th time https://t.co/PCGXKU8IwI\n",
              "756744      RT @thesaralisa: This corona virus is unfortunate but  really reveals a lot of people’s true colours - corporations, your favourite influen…\n",
              "412235  RT @desimojito: Delhi Police release a video of its warning to senior members of Markaz, Nizamuddin to vacate Markaz &amp; follow lockdown guid…\n",
              "151243   RT @SilahAkiro: #HeavenIsCalling\\nThere are things you can do because of folly and they humiliate you...\\n\\n~Like rebuking Corona Virus that i…\n",
              "361451              RT @_sxphiee_: When boris and Prince Charles have somehow been diagnosed with and recovered from corona in the space of about a week\n",
              "792416     RT @ctraywick: Ppl keep saying we'll see a corona baby boom in 9 months.... more likely we'll see a corona divorce boom\\n https://t.co/f4TuS…"
            ]
          },
          "metadata": {
            "tags": []
          },
          "execution_count": 7
        }
      ]
    },
    {
      "cell_type": "markdown",
      "metadata": {
        "id": "A1vhtGcnzqtp"
      },
      "source": [
        "## Misc. cleaning up to reduce noise when conducting sentimental analysis\n",
        "1. remove \\n\n",
        "2. remove URL\n",
        "3. remove user referrals\n",
        "4. remove hashtags"
      ]
    },
    {
      "cell_type": "code",
      "metadata": {
        "id": "TGLSjXA00aBs"
      },
      "source": [
        "df['modified_text'] = df.text.str.replace(r'\\n', '')\n",
        "df['modified_text'] = df.modified_text.str.replace(r'(http|ftp|https)://([\\w_-]+(?:(?:\\.[\\w_-]+)+))([\\w.,@?^=%&:/~+#-]*[\\w@?^=%&/~+#-])?', '')\n",
        "df['modified_text'] = df.modified_text.str.replace(r'\\B@\\w+', '')\n",
        "df['modified_text'] = df.modified_text.str.replace(r'\\B#\\w+', '')"
      ],
      "execution_count": 8,
      "outputs": []
    },
    {
      "cell_type": "markdown",
      "metadata": {
        "id": "4XU0njxYunzu"
      },
      "source": [
        "## Splitting Dataframes (originals and retweets)\n",
        "\n",
        "The collection includes both original tweets and retweets. Since retweets mirrors the original tweet by someone else other than the author, we don't need to run sentimental analysis on the retweet as it would have been run on the original tweet, therefore we can split original tweets and retweets into two dataframes to avoid wasting resources.\n",
        "\n",
        "\n",
        "- Original tweets: `dfOriginals`\n",
        "- Retweets: `dfRetweets` cons\n",
        "\n",
        "\n",
        "\n"
      ]
    },
    {
      "cell_type": "code",
      "metadata": {
        "id": "jPydisljWkFM"
      },
      "source": [
        "dfOriginals = df[df.retweet_id == 0]\n",
        "dfRetweets = df[df.retweet_id != 0]"
      ],
      "execution_count": 9,
      "outputs": []
    },
    {
      "cell_type": "markdown",
      "metadata": {
        "id": "r1UH6f4QNP24"
      },
      "source": [
        "Two samples of the original tweet dataframe to make sure we are on track."
      ]
    },
    {
      "cell_type": "code",
      "metadata": {
        "id": "d5nEYW5qOVAg",
        "colab": {
          "base_uri": "https://localhost:8080/",
          "height": 318
        },
        "outputId": "d272160d-cf74-4830-c12b-ea5c8438173c"
      },
      "source": [
        "dfOriginals.sample(2)"
      ],
      "execution_count": 10,
      "outputs": [
        {
          "output_type": "execute_result",
          "data": {
            "text/html": [
              "<div>\n",
              "<style scoped>\n",
              "    .dataframe tbody tr th:only-of-type {\n",
              "        vertical-align: middle;\n",
              "    }\n",
              "\n",
              "    .dataframe tbody tr th {\n",
              "        vertical-align: top;\n",
              "    }\n",
              "\n",
              "    .dataframe thead th {\n",
              "        text-align: right;\n",
              "    }\n",
              "</style>\n",
              "<table border=\"1\" class=\"dataframe\">\n",
              "  <thead>\n",
              "    <tr style=\"text-align: right;\">\n",
              "      <th></th>\n",
              "      <th>coordinates</th>\n",
              "      <th>created_at</th>\n",
              "      <th>hashtags</th>\n",
              "      <th>media</th>\n",
              "      <th>urls</th>\n",
              "      <th>favorite_count</th>\n",
              "      <th>id</th>\n",
              "      <th>in_reply_to_screen_name</th>\n",
              "      <th>in_reply_to_status_id</th>\n",
              "      <th>in_reply_to_user_id</th>\n",
              "      <th>lang</th>\n",
              "      <th>place</th>\n",
              "      <th>possibly_sensitive</th>\n",
              "      <th>retweet_count</th>\n",
              "      <th>retweet_id</th>\n",
              "      <th>retweet_screen_name</th>\n",
              "      <th>source</th>\n",
              "      <th>text</th>\n",
              "      <th>tweet_url</th>\n",
              "      <th>user_created_at</th>\n",
              "      <th>user_screen_name</th>\n",
              "      <th>user_default_profile_image</th>\n",
              "      <th>user_description</th>\n",
              "      <th>user_favourites_count</th>\n",
              "      <th>user_followers_count</th>\n",
              "      <th>user_friends_count</th>\n",
              "      <th>user_listed_count</th>\n",
              "      <th>user_location</th>\n",
              "      <th>user_name</th>\n",
              "      <th>user_screen_name.1</th>\n",
              "      <th>user_statuses_count</th>\n",
              "      <th>user_time_zone</th>\n",
              "      <th>user_urls</th>\n",
              "      <th>user_verified</th>\n",
              "      <th>modified_text</th>\n",
              "    </tr>\n",
              "  </thead>\n",
              "  <tbody>\n",
              "    <tr>\n",
              "      <th>371832</th>\n",
              "      <td>NaN</td>\n",
              "      <td>Tue Mar 31 15:30:28 +0000 2020</td>\n",
              "      <td>Repost covid covıd19 corona coronavirusontour Benuemusic World Bonezworld Bonezworldng Bonezworldmedia Bonezmusic</td>\n",
              "      <td>NaN</td>\n",
              "      <td>https://www.instagram.com/p/B-ZzBdxpoU2/?igshid=14bsqe0ox6s5b</td>\n",
              "      <td>0</td>\n",
              "      <td>1245010582086041600</td>\n",
              "      <td>NaN</td>\n",
              "      <td>0</td>\n",
              "      <td>0</td>\n",
              "      <td>en</td>\n",
              "      <td>NaN</td>\n",
              "      <td>False</td>\n",
              "      <td>0</td>\n",
              "      <td>0</td>\n",
              "      <td>NaN</td>\n",
              "      <td>&lt;a href=\"http://instagram.com\" rel=\"nofollow\"&gt;Instagram&lt;/a&gt;</td>\n",
              "      <td>#Repost @realmrlyriq\\n• • • • • •\\n#covid #covıd19 #corona #coronavirusontour Stay Healthy and Eat Right\\n@bonezworldng\\n#Benuemusic to the #World\\n#Bonezworld #Bonezworldng #Bonezworldmedia #Bonezmusic https://t.co/PA4nMN2dXZ</td>\n",
              "      <td>https://twitter.com/Bonezworldmedia/status/1245010582086041600</td>\n",
              "      <td>Thu Apr 18 02:12:38 +0000 2019</td>\n",
              "      <td>Bonezworldmedia</td>\n",
              "      <td>False</td>\n",
              "      <td>Welcome to Bonezworld\\nWe blog, promote Songs and videos.\\nWe hype artist.\\nEmail us-Bonezworldng@gmail.com\\nVisit our website below 👇</td>\n",
              "      <td>3040</td>\n",
              "      <td>635</td>\n",
              "      <td>743</td>\n",
              "      <td>0</td>\n",
              "      <td>Nigeria</td>\n",
              "      <td>Bonezworldmedia</td>\n",
              "      <td>Bonezworldmedia</td>\n",
              "      <td>2985</td>\n",
              "      <td>NaN</td>\n",
              "      <td>http://www.bonezworld.com</td>\n",
              "      <td>False</td>\n",
              "      <td>• • • • • •    Stay Healthy and Eat Right@bonezworldng#Benuemusic to the #Bonezworld</td>\n",
              "    </tr>\n",
              "    <tr>\n",
              "      <th>454664</th>\n",
              "      <td>NaN</td>\n",
              "      <td>Tue Mar 31 17:24:28 +0000 2020</td>\n",
              "      <td>NaN</td>\n",
              "      <td>NaN</td>\n",
              "      <td>https://youtu.be/CqftFUINpyk</td>\n",
              "      <td>0</td>\n",
              "      <td>1245039272010317824</td>\n",
              "      <td>NaN</td>\n",
              "      <td>0</td>\n",
              "      <td>0</td>\n",
              "      <td>en</td>\n",
              "      <td>NaN</td>\n",
              "      <td>False</td>\n",
              "      <td>0</td>\n",
              "      <td>0</td>\n",
              "      <td>NaN</td>\n",
              "      <td>&lt;a href=\"http://twitter.com\" rel=\"nofollow\"&gt;Twitter Web Client&lt;/a&gt;</td>\n",
              "      <td>A Corona virus patient infected everyone | coronavirus | Korea | south k... https://t.co/MiaZJSztre via @YouTube</td>\n",
              "      <td>https://twitter.com/SonsShehed/status/1245039272010317824</td>\n",
              "      <td>Thu Jan 30 10:10:18 +0000 2020</td>\n",
              "      <td>SonsShehed</td>\n",
              "      <td>False</td>\n",
              "      <td>Saeed Sons And Shehed Center\\nLandhi no:4,karachi,pakistan\\nSaeedsons.shehedcenter@gmail.com</td>\n",
              "      <td>0</td>\n",
              "      <td>14</td>\n",
              "      <td>3982</td>\n",
              "      <td>0</td>\n",
              "      <td>NaN</td>\n",
              "      <td>Saeed Sons And Shehed Center</td>\n",
              "      <td>SonsShehed</td>\n",
              "      <td>120</td>\n",
              "      <td>NaN</td>\n",
              "      <td>NaN</td>\n",
              "      <td>False</td>\n",
              "      <td>A Corona virus patient infected everyone | coronavirus | Korea | south k...  via</td>\n",
              "    </tr>\n",
              "  </tbody>\n",
              "</table>\n",
              "</div>"
            ],
            "text/plain": [
              "       coordinates  ...                                                                              modified_text\n",
              "371832         NaN  ...   • • • • • •    Stay Healthy and Eat Right@bonezworldng#Benuemusic to the #Bonezworld    \n",
              "454664         NaN  ...          A Corona virus patient infected everyone | coronavirus | Korea | south k...  via \n",
              "\n",
              "[2 rows x 35 columns]"
            ]
          },
          "metadata": {
            "tags": []
          },
          "execution_count": 10
        }
      ]
    },
    {
      "cell_type": "markdown",
      "metadata": {
        "id": "Jfq66BaYpojK"
      },
      "source": [
        "## Guessing language\n",
        "\n",
        "Since our sentiment analysis focuses on only English tweets, we will install a `langdetect` library to help filter out tweets that might be full/partially not in English."
      ]
    },
    {
      "cell_type": "code",
      "metadata": {
        "id": "pPwDbh-HmBv8",
        "colab": {
          "base_uri": "https://localhost:8080/"
        },
        "outputId": "70b7765a-c433-4281-8818-96e77df73c9f"
      },
      "source": [
        "#https://pypi.org/project/langdetect/\n",
        "!pip install langdetect\n",
        "from langdetect import detect\n",
        "from langdetect import DetectorFactory\n",
        "DetectorFactory.seed = 0\n",
        "\n"
      ],
      "execution_count": 11,
      "outputs": [
        {
          "output_type": "stream",
          "text": [
            "Requirement already satisfied: langdetect in /usr/local/lib/python3.6/dist-packages (1.0.8)\n",
            "Requirement already satisfied: six in /usr/local/lib/python3.6/dist-packages (from langdetect) (1.15.0)\n"
          ],
          "name": "stdout"
        }
      ]
    },
    {
      "cell_type": "markdown",
      "metadata": {
        "id": "oPdqdngRnI8B"
      },
      "source": [
        "Function to test whether tweet is English with error handling."
      ]
    },
    {
      "cell_type": "code",
      "metadata": {
        "id": "HJWNxzqbQhIz"
      },
      "source": [
        "#https://stackoverflow.com/questions/60930935/exclude-non-english-rows-in-pandas\n",
        "\n",
        "def is_en(txt):\n",
        "    try:\n",
        "        return detect(txt)=='en'\n",
        "    except:\n",
        "        return False"
      ],
      "execution_count": 12,
      "outputs": []
    },
    {
      "cell_type": "markdown",
      "metadata": {
        "id": "zF4fSfUF3Gcy"
      },
      "source": [
        "Passing as the `is_en()` as first-class function; returning a boolean value as a attribute `guessed_language`."
      ]
    },
    {
      "cell_type": "code",
      "metadata": {
        "id": "CCxbwQfSmht4",
        "colab": {
          "base_uri": "https://localhost:8080/"
        },
        "outputId": "34ce72fc-034c-4f30-d257-832c468042c5"
      },
      "source": [
        "dfOriginals['guessed_language'] = dfOriginals.modified_text.apply(is_en)"
      ],
      "execution_count": 13,
      "outputs": [
        {
          "output_type": "stream",
          "text": [
            "/usr/local/lib/python3.6/dist-packages/ipykernel_launcher.py:1: SettingWithCopyWarning: \n",
            "A value is trying to be set on a copy of a slice from a DataFrame.\n",
            "Try using .loc[row_indexer,col_indexer] = value instead\n",
            "\n",
            "See the caveats in the documentation: https://pandas.pydata.org/pandas-docs/stable/user_guide/indexing.html#returning-a-view-versus-a-copy\n",
            "  \"\"\"Entry point for launching an IPython kernel.\n"
          ],
          "name": "stderr"
        }
      ]
    },
    {
      "cell_type": "markdown",
      "metadata": {
        "id": "dsfksiehng6H"
      },
      "source": [
        "By filtering out non-English tweets."
      ]
    },
    {
      "cell_type": "code",
      "metadata": {
        "id": "zPoRWDGSXx99",
        "colab": {
          "base_uri": "https://localhost:8080/"
        },
        "outputId": "a05ef1bf-53db-46c3-ceb8-14e3d4342dcd"
      },
      "source": [
        "print(\"There are \" + str(len(dfOriginals)) + \" tweets, and \" + str(sum(dfOriginals.guessed_language)) + \" (\"+str(round((sum(dfOriginals.guessed_language) / len(dfOriginals)) * 100, 2))+\"%) tweets detected as English.\")"
      ],
      "execution_count": 14,
      "outputs": [
        {
          "output_type": "stream",
          "text": [
            "There are 245389 tweets, and 232816 (94.88%) tweets detected as English.\n"
          ],
          "name": "stdout"
        }
      ]
    },
    {
      "cell_type": "markdown",
      "metadata": {
        "id": "atZ26M3rYTfg"
      },
      "source": [
        "# Step 6. Conduct Sentiment Analysis"
      ]
    },
    {
      "cell_type": "markdown",
      "metadata": {
        "id": "ezcFLOzHLRE_"
      },
      "source": [
        "Import NLTK library, load class and function for Sentiment Analysis."
      ]
    },
    {
      "cell_type": "code",
      "metadata": {
        "id": "PxgmxMWypoi2",
        "colab": {
          "base_uri": "https://localhost:8080/"
        },
        "outputId": "f1aad06a-f404-405f-8048-d80863ae81da"
      },
      "source": [
        "import nltk\n",
        "from nltk.sentiment.util import *\n",
        "from nltk.sentiment import SentimentIntensityAnalyzer\n",
        "from nltk import tokenize\n",
        "nltk.download('punkt')\n",
        "nltk.download('vader_lexicon')\n",
        "sid = SentimentIntensityAnalyzer()"
      ],
      "execution_count": 15,
      "outputs": [
        {
          "output_type": "stream",
          "text": [
            "[nltk_data] Downloading package punkt to /root/nltk_data...\n",
            "[nltk_data]   Package punkt is already up-to-date!\n",
            "[nltk_data] Downloading package vader_lexicon to /root/nltk_data...\n",
            "[nltk_data]   Package vader_lexicon is already up-to-date!\n"
          ],
          "name": "stdout"
        },
        {
          "output_type": "stream",
          "text": [
            "/usr/local/lib/python3.6/dist-packages/nltk/twitter/__init__.py:20: UserWarning: The twython library has not been installed. Some functionality from the twitter package will not be available.\n",
            "  warnings.warn(\"The twython library has not been installed. \"\n"
          ],
          "name": "stderr"
        }
      ]
    },
    {
      "cell_type": "markdown",
      "metadata": {
        "id": "IhrR1DkvcgNO"
      },
      "source": [
        "## Applying Sentiment Analysis function\n",
        "\n",
        "We apply the polarity score function and store results on a new attribute `sentimentscore`.\n",
        "\n"
      ]
    },
    {
      "cell_type": "code",
      "metadata": {
        "id": "Zjw8l4kapojF",
        "colab": {
          "base_uri": "https://localhost:8080/"
        },
        "outputId": "40704d4a-32b3-4dca-8332-cb05f508dea2"
      },
      "source": [
        "dfOriginals['sentimentscore'] = dfOriginals.modified_text.apply(sid.polarity_scores)"
      ],
      "execution_count": 16,
      "outputs": [
        {
          "output_type": "stream",
          "text": [
            "/usr/local/lib/python3.6/dist-packages/ipykernel_launcher.py:1: SettingWithCopyWarning: \n",
            "A value is trying to be set on a copy of a slice from a DataFrame.\n",
            "Try using .loc[row_indexer,col_indexer] = value instead\n",
            "\n",
            "See the caveats in the documentation: https://pandas.pydata.org/pandas-docs/stable/user_guide/indexing.html#returning-a-view-versus-a-copy\n",
            "  \"\"\"Entry point for launching an IPython kernel.\n"
          ],
          "name": "stderr"
        }
      ]
    },
    {
      "cell_type": "markdown",
      "metadata": {
        "id": "MKHk7KzTXSNZ"
      },
      "source": [
        "A quick sample preview of the text and its sentiment score."
      ]
    },
    {
      "cell_type": "code",
      "metadata": {
        "id": "juosFirzpojI",
        "colab": {
          "base_uri": "https://localhost:8080/",
          "height": 111
        },
        "outputId": "415f5b38-2e5a-4453-a423-7223e16f3cda"
      },
      "source": [
        "dfOriginals.sample(2)[['modified_text','sentimentscore']]"
      ],
      "execution_count": 17,
      "outputs": [
        {
          "output_type": "execute_result",
          "data": {
            "text/html": [
              "<div>\n",
              "<style scoped>\n",
              "    .dataframe tbody tr th:only-of-type {\n",
              "        vertical-align: middle;\n",
              "    }\n",
              "\n",
              "    .dataframe tbody tr th {\n",
              "        vertical-align: top;\n",
              "    }\n",
              "\n",
              "    .dataframe thead th {\n",
              "        text-align: right;\n",
              "    }\n",
              "</style>\n",
              "<table border=\"1\" class=\"dataframe\">\n",
              "  <thead>\n",
              "    <tr style=\"text-align: right;\">\n",
              "      <th></th>\n",
              "      <th>modified_text</th>\n",
              "      <th>sentimentscore</th>\n",
              "    </tr>\n",
              "  </thead>\n",
              "  <tbody>\n",
              "    <tr>\n",
              "      <th>172008</th>\n",
              "      <td>LolZ 😂 ! Who did enter in Kashmir???? Who did the same in Palestine???? 🧐</td>\n",
              "      <td>{'neg': 0.0, 'neu': 0.69, 'pos': 0.31, 'compound': 0.7142}</td>\n",
              "    </tr>\n",
              "    <tr>\n",
              "      <th>89503</th>\n",
              "      <td>He continued, \"You know that's how 93% percent of people have caught Corona?!\" Then he went up to buy some lollies – weird – and got pissed off that he had to scan it himself. I'd never been so confused in my life.</td>\n",
              "      <td>{'neg': 0.195, 'neu': 0.805, 'pos': 0.0, 'compound': -0.8475}</td>\n",
              "    </tr>\n",
              "  </tbody>\n",
              "</table>\n",
              "</div>"
            ],
            "text/plain": [
              "                                                                                                                                                                                                                  modified_text                                                 sentimentscore\n",
              "172008                                                                                                                                               LolZ 😂 ! Who did enter in Kashmir???? Who did the same in Palestine???? 🧐      {'neg': 0.0, 'neu': 0.69, 'pos': 0.31, 'compound': 0.7142}\n",
              "89503   He continued, \"You know that's how 93% percent of people have caught Corona?!\" Then he went up to buy some lollies – weird – and got pissed off that he had to scan it himself. I'd never been so confused in my life.   {'neg': 0.195, 'neu': 0.805, 'pos': 0.0, 'compound': -0.8475}"
            ]
          },
          "metadata": {
            "tags": []
          },
          "execution_count": 17
        }
      ]
    },
    {
      "cell_type": "markdown",
      "metadata": {
        "id": "kbrLEIGyEET0"
      },
      "source": [
        "The `SentimentIntensityAnalyzer()` returns a dictionary of scores negative, neutral, positive, and compound. Compound is the normalization of negative, neutral, and positive values.\n",
        "\n",
        "\n",
        "reference: https://stackoverflow.com/questions/40325980/how-is-the-vader-compound-polarity-score-calculated-in-python-nltk\n",
        "\n",
        "Next, we expand the dictionary into their own feature for easier data manipulation--especially the compound feature which will be used later."
      ]
    },
    {
      "cell_type": "code",
      "metadata": {
        "id": "M9GcU1qtEKha"
      },
      "source": [
        "dfOriginalSScore = pd.json_normalize(dfOriginals.sentimentscore)\n",
        "dfOriginalSScore['original_index'] = dfOriginals.index\n",
        "dfOriginalSScore = dfOriginalSScore.set_index('original_index')"
      ],
      "execution_count": 18,
      "outputs": []
    },
    {
      "cell_type": "markdown",
      "metadata": {
        "id": "cyfN7LjOLffd"
      },
      "source": [
        "Merge the dataframe with sentiment scores and the dataframe with the original tweets together, onto a new dataframe `dfOriginals_Analyzed`."
      ]
    },
    {
      "cell_type": "code",
      "metadata": {
        "id": "Z9nqoDf7comS"
      },
      "source": [
        "dfOriginals_Analyzed = dfOriginals.merge(dfOriginalSScore, left_index=True, right_index=True)"
      ],
      "execution_count": 19,
      "outputs": []
    },
    {
      "cell_type": "markdown",
      "metadata": {
        "id": "baZ82QGJLxqf"
      },
      "source": [
        "Quick preview of modified text and compound on the merged dataframe."
      ]
    },
    {
      "cell_type": "code",
      "metadata": {
        "id": "aoK5ZqBlU9Wa",
        "colab": {
          "base_uri": "https://localhost:8080/",
          "height": 359
        },
        "outputId": "c7b7f900-18b8-406f-e324-32b1652c341c"
      },
      "source": [
        "dfOriginals_Analyzed.sample(10)[['modified_text','compound']]"
      ],
      "execution_count": 20,
      "outputs": [
        {
          "output_type": "execute_result",
          "data": {
            "text/html": [
              "<div>\n",
              "<style scoped>\n",
              "    .dataframe tbody tr th:only-of-type {\n",
              "        vertical-align: middle;\n",
              "    }\n",
              "\n",
              "    .dataframe tbody tr th {\n",
              "        vertical-align: top;\n",
              "    }\n",
              "\n",
              "    .dataframe thead th {\n",
              "        text-align: right;\n",
              "    }\n",
              "</style>\n",
              "<table border=\"1\" class=\"dataframe\">\n",
              "  <thead>\n",
              "    <tr style=\"text-align: right;\">\n",
              "      <th></th>\n",
              "      <th>modified_text</th>\n",
              "      <th>compound</th>\n",
              "    </tr>\n",
              "  </thead>\n",
              "  <tbody>\n",
              "    <tr>\n",
              "      <th>181799</th>\n",
              "      <td>Wow... The sultan of secularism should tell why there's is need of Fatwa when the State and already issued an order of shutting down of all religious places? Ye jo aapka tweet hai na Javed saab, ye humare desh k secularism ki sachhai hai.</td>\n",
              "      <td>0.0000</td>\n",
              "    </tr>\n",
              "    <tr>\n",
              "      <th>478282</th>\n",
              "      <td>Did a great job for us, thanks for everything and good luck for your next adventures. Maybe we can have our cerverza in Torrevieja after this Corona shit ❤️🇪🇸</td>\n",
              "      <td>0.8934</td>\n",
              "    </tr>\n",
              "    <tr>\n",
              "      <th>74820</th>\n",
              "      <td>Shirley must see this.</td>\n",
              "      <td>0.0000</td>\n",
              "    </tr>\n",
              "    <tr>\n",
              "      <th>401586</th>\n",
              "      <td>Thank you so much Khabazela, one question, i saw in China they had a dedicated hospital for Corona Virus patients, is it like that here in SA. Thanks</td>\n",
              "      <td>0.8720</td>\n",
              "    </tr>\n",
              "    <tr>\n",
              "      <th>669494</th>\n",
              "      <td>You can't even prank someone on  because corona keeps surprising us day in day out.</td>\n",
              "      <td>0.2732</td>\n",
              "    </tr>\n",
              "    <tr>\n",
              "      <th>6728</th>\n",
              "      <td>If people like you can’t not understand it’s for helalth and safety of the country . Then better stay Sushhh... bloody bunch of uneducated people .</td>\n",
              "      <td>0.6486</td>\n",
              "    </tr>\n",
              "    <tr>\n",
              "      <th>619038</th>\n",
              "      <td>Only a Damn Fool would use  and if any company with 10+ employees didn't already have in place a way to talk via videotape long before this Corona Virus showed-up that is actually SECURE those people are Beyond Damn Idiots!  Amazing the Idiocy of Americans sometimes!</td>\n",
              "      <td>-0.2385</td>\n",
              "    </tr>\n",
              "    <tr>\n",
              "      <th>540136</th>\n",
              "      <td>Corona lockdown Day 1.0 income.0 business activity.3x feeding.Expenses for just today ,780.Data sub ,500Total cash spent ,280.And we have 13 more days to go 😭😭😭😭😭😭😭</td>\n",
              "      <td>0.0000</td>\n",
              "    </tr>\n",
              "    <tr>\n",
              "      <th>223700</th>\n",
              "      <td>HIV+ not as hygienically conscious as HIV negatives, but  depends on training you received,   willingness to follow   standards set in your home, and workplace. So corona's told to keep their standards intact and keep hands clean. personal hygiene is important to avoid contagion</td>\n",
              "      <td>0.4215</td>\n",
              "    </tr>\n",
              "    <tr>\n",
              "      <th>589038</th>\n",
              "      <td>I hate being stuck in the house corona please go awayyy</td>\n",
              "      <td>-0.5267</td>\n",
              "    </tr>\n",
              "  </tbody>\n",
              "</table>\n",
              "</div>"
            ],
            "text/plain": [
              "                                                                                                                                                                                                                                                                                   modified_text  compound\n",
              "181799                                           Wow... The sultan of secularism should tell why there's is need of Fatwa when the State and already issued an order of shutting down of all religious places? Ye jo aapka tweet hai na Javed saab, ye humare desh k secularism ki sachhai hai.     0.0000\n",
              "478282                                                                                                                           Did a great job for us, thanks for everything and good luck for your next adventures. Maybe we can have our cerverza in Torrevieja after this Corona shit ❤️🇪🇸     0.8934\n",
              "74820                                                                                                                                                                                                                                                                   Shirley must see this.      0.0000\n",
              "401586                                                                                                                                     Thank you so much Khabazela, one question, i saw in China they had a dedicated hospital for Corona Virus patients, is it like that here in SA. Thanks    0.8720\n",
              "669494                                                                                                                                                                                                       You can't even prank someone on  because corona keeps surprising us day in day out.    0.2732\n",
              "6728                                                                                                                                        If people like you can’t not understand it’s for helalth and safety of the country . Then better stay Sushhh... bloody bunch of uneducated people .     0.6486\n",
              "619038              Only a Damn Fool would use  and if any company with 10+ employees didn't already have in place a way to talk via videotape long before this Corona Virus showed-up that is actually SECURE those people are Beyond Damn Idiots!  Amazing the Idiocy of Americans sometimes!    -0.2385\n",
              "540136                                                                                                                      Corona lockdown Day 1.0 income.0 business activity.3x feeding.Expenses for just today ,780.Data sub ,500Total cash spent ,280.And we have 13 more days to go 😭😭😭😭😭😭😭    0.0000\n",
              "223700  HIV+ not as hygienically conscious as HIV negatives, but  depends on training you received,   willingness to follow   standards set in your home, and workplace. So corona's told to keep their standards intact and keep hands clean. personal hygiene is important to avoid contagion     0.4215\n",
              "589038                                                                                                                                                                                                                                   I hate being stuck in the house corona please go awayyy   -0.5267"
            ]
          },
          "metadata": {
            "tags": []
          },
          "execution_count": 20
        }
      ]
    },
    {
      "cell_type": "markdown",
      "metadata": {
        "id": "haI-bZHZSbwB"
      },
      "source": [
        "We binning based on compound scores\n",
        "* -1 to -0.1 = negative \n",
        "* -0.1 to 0.1  = neutral\n",
        "* 0.1 to 1 = positive\n",
        "\n",
        "The threshold chosen is based on the paper \"Predictive Analysis of Resource Usage Data in Academic Libraries using the VADER Sentiment Algorithm\"\n",
        "\n",
        "Deo, G. S., Mishra, A., Jalaluddin, Z. M., & Mahamuni, C. V. (2020, September). Predictive Analysis of Resource Usage Data in Academic Libraries using the VADER Sentiment Algorithm. In 2020 12th International Conference on Computational Intelligence and Communication Networks (CICN) (pp. 221-228). IEEE.\n",
        "\n",
        "https://www.researchgate.net/profile/Gouri_Deo/publication/342988903_Predictive_Analysis_of_Resource_Usage_Data_in_Academic_Libraries_using_the_VADER_Sentiment_Algorithm/links/5f1085a6a6fdcc3ed70bcf20/Predictive-Analysis-of-Resource-Usage-Data-in-Academic-Libraries-using-the-VADER-Sentiment-Algorithm.pdf\n",
        "\n"
      ]
    },
    {
      "cell_type": "code",
      "metadata": {
        "id": "P2kbxHPFSlv0",
        "colab": {
          "base_uri": "https://localhost:8080/"
        },
        "outputId": "8c3c8dd7-4ed7-4311-c53b-dfc9ccbca636"
      },
      "source": [
        "dfOriginals_Analyzed['sentiment_class_relaxed'] = pd.cut(dfOriginals_Analyzed['compound'], bins=[-1, -0.1, 0.1, 1], right=True, labels=['neg', 'neu', 'pos'])\n",
        "dfOriginals_Analyzed.sentiment_class_relaxed.value_counts()"
      ],
      "execution_count": 21,
      "outputs": [
        {
          "output_type": "execute_result",
          "data": {
            "text/plain": [
              "neg    89051\n",
              "pos    84039\n",
              "neu    72299\n",
              "Name: sentiment_class_relaxed, dtype: int64"
            ]
          },
          "metadata": {
            "tags": []
          },
          "execution_count": 21
        }
      ]
    },
    {
      "cell_type": "markdown",
      "metadata": {
        "id": "z301Ydq8pOWT"
      },
      "source": [
        "# Step 7. Conduct Basic Analysis\n",
        "\n",
        "Observing the correlation between variables."
      ]
    },
    {
      "cell_type": "code",
      "metadata": {
        "id": "85ESk5yIvkfQ",
        "colab": {
          "base_uri": "https://localhost:8080/",
          "height": 297
        },
        "outputId": "9239d7c4-7c9a-4fde-ef56-c3a162e2d8c5"
      },
      "source": [
        "dfOriginals_Analyzed[['favorite_count','retweet_count','user_followers_count','compound','user_statuses_count','user_favourites_count','user_friends_count','user_listed_count']].corr()"
      ],
      "execution_count": 22,
      "outputs": [
        {
          "output_type": "execute_result",
          "data": {
            "text/html": [
              "<div>\n",
              "<style scoped>\n",
              "    .dataframe tbody tr th:only-of-type {\n",
              "        vertical-align: middle;\n",
              "    }\n",
              "\n",
              "    .dataframe tbody tr th {\n",
              "        vertical-align: top;\n",
              "    }\n",
              "\n",
              "    .dataframe thead th {\n",
              "        text-align: right;\n",
              "    }\n",
              "</style>\n",
              "<table border=\"1\" class=\"dataframe\">\n",
              "  <thead>\n",
              "    <tr style=\"text-align: right;\">\n",
              "      <th></th>\n",
              "      <th>favorite_count</th>\n",
              "      <th>retweet_count</th>\n",
              "      <th>user_followers_count</th>\n",
              "      <th>compound</th>\n",
              "      <th>user_statuses_count</th>\n",
              "      <th>user_favourites_count</th>\n",
              "      <th>user_friends_count</th>\n",
              "      <th>user_listed_count</th>\n",
              "    </tr>\n",
              "  </thead>\n",
              "  <tbody>\n",
              "    <tr>\n",
              "      <th>favorite_count</th>\n",
              "      <td>1.000000</td>\n",
              "      <td>0.908576</td>\n",
              "      <td>0.165683</td>\n",
              "      <td>-0.001108</td>\n",
              "      <td>0.015366</td>\n",
              "      <td>0.007852</td>\n",
              "      <td>0.005575</td>\n",
              "      <td>0.051646</td>\n",
              "    </tr>\n",
              "    <tr>\n",
              "      <th>retweet_count</th>\n",
              "      <td>0.908576</td>\n",
              "      <td>1.000000</td>\n",
              "      <td>0.090025</td>\n",
              "      <td>-0.003071</td>\n",
              "      <td>0.015991</td>\n",
              "      <td>0.007261</td>\n",
              "      <td>0.007084</td>\n",
              "      <td>0.039251</td>\n",
              "    </tr>\n",
              "    <tr>\n",
              "      <th>user_followers_count</th>\n",
              "      <td>0.165683</td>\n",
              "      <td>0.090025</td>\n",
              "      <td>1.000000</td>\n",
              "      <td>0.003693</td>\n",
              "      <td>0.116452</td>\n",
              "      <td>0.000535</td>\n",
              "      <td>0.032721</td>\n",
              "      <td>0.609057</td>\n",
              "    </tr>\n",
              "    <tr>\n",
              "      <th>compound</th>\n",
              "      <td>-0.001108</td>\n",
              "      <td>-0.003071</td>\n",
              "      <td>0.003693</td>\n",
              "      <td>1.000000</td>\n",
              "      <td>-0.022604</td>\n",
              "      <td>-0.028941</td>\n",
              "      <td>-0.006560</td>\n",
              "      <td>0.000249</td>\n",
              "    </tr>\n",
              "    <tr>\n",
              "      <th>user_statuses_count</th>\n",
              "      <td>0.015366</td>\n",
              "      <td>0.015991</td>\n",
              "      <td>0.116452</td>\n",
              "      <td>-0.022604</td>\n",
              "      <td>1.000000</td>\n",
              "      <td>0.326723</td>\n",
              "      <td>0.105958</td>\n",
              "      <td>0.128835</td>\n",
              "    </tr>\n",
              "    <tr>\n",
              "      <th>user_favourites_count</th>\n",
              "      <td>0.007852</td>\n",
              "      <td>0.007261</td>\n",
              "      <td>0.000535</td>\n",
              "      <td>-0.028941</td>\n",
              "      <td>0.326723</td>\n",
              "      <td>1.000000</td>\n",
              "      <td>0.100920</td>\n",
              "      <td>0.016049</td>\n",
              "    </tr>\n",
              "    <tr>\n",
              "      <th>user_friends_count</th>\n",
              "      <td>0.005575</td>\n",
              "      <td>0.007084</td>\n",
              "      <td>0.032721</td>\n",
              "      <td>-0.006560</td>\n",
              "      <td>0.105958</td>\n",
              "      <td>0.100920</td>\n",
              "      <td>1.000000</td>\n",
              "      <td>0.048344</td>\n",
              "    </tr>\n",
              "    <tr>\n",
              "      <th>user_listed_count</th>\n",
              "      <td>0.051646</td>\n",
              "      <td>0.039251</td>\n",
              "      <td>0.609057</td>\n",
              "      <td>0.000249</td>\n",
              "      <td>0.128835</td>\n",
              "      <td>0.016049</td>\n",
              "      <td>0.048344</td>\n",
              "      <td>1.000000</td>\n",
              "    </tr>\n",
              "  </tbody>\n",
              "</table>\n",
              "</div>"
            ],
            "text/plain": [
              "                       favorite_count  ...  user_listed_count\n",
              "favorite_count               1.000000  ...           0.051646\n",
              "retweet_count                0.908576  ...           0.039251\n",
              "user_followers_count         0.165683  ...           0.609057\n",
              "compound                    -0.001108  ...           0.000249\n",
              "user_statuses_count          0.015366  ...           0.128835\n",
              "user_favourites_count        0.007852  ...           0.016049\n",
              "user_friends_count           0.005575  ...           0.048344\n",
              "user_listed_count            0.051646  ...           1.000000\n",
              "\n",
              "[8 rows x 8 columns]"
            ]
          },
          "metadata": {
            "tags": []
          },
          "execution_count": 22
        }
      ]
    },
    {
      "cell_type": "code",
      "metadata": {
        "id": "UDWk9JkiBfnT",
        "colab": {
          "base_uri": "https://localhost:8080/",
          "height": 297
        },
        "outputId": "76bccca0-6b6d-4a68-c065-88fed0223ebd"
      },
      "source": [
        "# Basic stats of each feature\n",
        "\n",
        "dfOriginals_Analyzed[['favorite_count','retweet_count','user_followers_count','compound','user_statuses_count','user_favourites_count','user_friends_count','user_listed_count']].describe().apply(lambda s: s.apply('{0:.5f}'.format))"
      ],
      "execution_count": 23,
      "outputs": [
        {
          "output_type": "execute_result",
          "data": {
            "text/html": [
              "<div>\n",
              "<style scoped>\n",
              "    .dataframe tbody tr th:only-of-type {\n",
              "        vertical-align: middle;\n",
              "    }\n",
              "\n",
              "    .dataframe tbody tr th {\n",
              "        vertical-align: top;\n",
              "    }\n",
              "\n",
              "    .dataframe thead th {\n",
              "        text-align: right;\n",
              "    }\n",
              "</style>\n",
              "<table border=\"1\" class=\"dataframe\">\n",
              "  <thead>\n",
              "    <tr style=\"text-align: right;\">\n",
              "      <th></th>\n",
              "      <th>favorite_count</th>\n",
              "      <th>retweet_count</th>\n",
              "      <th>user_followers_count</th>\n",
              "      <th>compound</th>\n",
              "      <th>user_statuses_count</th>\n",
              "      <th>user_favourites_count</th>\n",
              "      <th>user_friends_count</th>\n",
              "      <th>user_listed_count</th>\n",
              "    </tr>\n",
              "  </thead>\n",
              "  <tbody>\n",
              "    <tr>\n",
              "      <th>count</th>\n",
              "      <td>245389.00000</td>\n",
              "      <td>245389.00000</td>\n",
              "      <td>245389.00000</td>\n",
              "      <td>245389.00000</td>\n",
              "      <td>245389.00000</td>\n",
              "      <td>245389.00000</td>\n",
              "      <td>245389.00000</td>\n",
              "      <td>245389.00000</td>\n",
              "    </tr>\n",
              "    <tr>\n",
              "      <th>mean</th>\n",
              "      <td>9.52971</td>\n",
              "      <td>2.70475</td>\n",
              "      <td>9251.20519</td>\n",
              "      <td>-0.01655</td>\n",
              "      <td>27468.30799</td>\n",
              "      <td>18028.51423</td>\n",
              "      <td>1284.43071</td>\n",
              "      <td>34.64758</td>\n",
              "    </tr>\n",
              "    <tr>\n",
              "      <th>std</th>\n",
              "      <td>384.21091</td>\n",
              "      <td>122.27732</td>\n",
              "      <td>250678.23602</td>\n",
              "      <td>0.47919</td>\n",
              "      <td>75560.36124</td>\n",
              "      <td>39592.12977</td>\n",
              "      <td>10409.72569</td>\n",
              "      <td>680.04372</td>\n",
              "    </tr>\n",
              "    <tr>\n",
              "      <th>min</th>\n",
              "      <td>0.00000</td>\n",
              "      <td>0.00000</td>\n",
              "      <td>0.00000</td>\n",
              "      <td>-0.99520</td>\n",
              "      <td>1.00000</td>\n",
              "      <td>0.00000</td>\n",
              "      <td>0.00000</td>\n",
              "      <td>0.00000</td>\n",
              "    </tr>\n",
              "    <tr>\n",
              "      <th>25%</th>\n",
              "      <td>0.00000</td>\n",
              "      <td>0.00000</td>\n",
              "      <td>64.00000</td>\n",
              "      <td>-0.39760</td>\n",
              "      <td>1156.00000</td>\n",
              "      <td>510.00000</td>\n",
              "      <td>135.00000</td>\n",
              "      <td>0.00000</td>\n",
              "    </tr>\n",
              "    <tr>\n",
              "      <th>50%</th>\n",
              "      <td>0.00000</td>\n",
              "      <td>0.00000</td>\n",
              "      <td>331.00000</td>\n",
              "      <td>0.00000</td>\n",
              "      <td>6344.00000</td>\n",
              "      <td>4200.00000</td>\n",
              "      <td>399.00000</td>\n",
              "      <td>1.00000</td>\n",
              "    </tr>\n",
              "    <tr>\n",
              "      <th>75%</th>\n",
              "      <td>1.00000</td>\n",
              "      <td>0.00000</td>\n",
              "      <td>1307.00000</td>\n",
              "      <td>0.36120</td>\n",
              "      <td>24616.00000</td>\n",
              "      <td>17807.00000</td>\n",
              "      <td>1038.00000</td>\n",
              "      <td>6.00000</td>\n",
              "    </tr>\n",
              "    <tr>\n",
              "      <th>max</th>\n",
              "      <td>108137.00000</td>\n",
              "      <td>35137.00000</td>\n",
              "      <td>62855265.00000</td>\n",
              "      <td>0.99190</td>\n",
              "      <td>4472178.00000</td>\n",
              "      <td>1254400.00000</td>\n",
              "      <td>4322723.00000</td>\n",
              "      <td>202433.00000</td>\n",
              "    </tr>\n",
              "  </tbody>\n",
              "</table>\n",
              "</div>"
            ],
            "text/plain": [
              "      favorite_count retweet_count  ... user_friends_count user_listed_count\n",
              "count   245389.00000  245389.00000  ...       245389.00000      245389.00000\n",
              "mean         9.52971       2.70475  ...         1284.43071          34.64758\n",
              "std        384.21091     122.27732  ...        10409.72569         680.04372\n",
              "min          0.00000       0.00000  ...            0.00000           0.00000\n",
              "25%          0.00000       0.00000  ...          135.00000           0.00000\n",
              "50%          0.00000       0.00000  ...          399.00000           1.00000\n",
              "75%          1.00000       0.00000  ...         1038.00000           6.00000\n",
              "max     108137.00000   35137.00000  ...      4322723.00000      202433.00000\n",
              "\n",
              "[8 rows x 8 columns]"
            ]
          },
          "metadata": {
            "tags": []
          },
          "execution_count": 23
        }
      ]
    },
    {
      "cell_type": "markdown",
      "metadata": {
        "id": "MQkgLWhJtnwS"
      },
      "source": [
        "Plot Distribution of sentiment scores"
      ]
    },
    {
      "cell_type": "markdown",
      "metadata": {
        "id": "JWvyTRxxHfWt"
      },
      "source": [
        ""
      ]
    },
    {
      "cell_type": "code",
      "metadata": {
        "id": "9H9QeJvhtYMH",
        "colab": {
          "base_uri": "https://localhost:8080/",
          "height": 483
        },
        "outputId": "2ec73a78-4c09-40de-e258-c7df2bdec499"
      },
      "source": [
        "import matplotlib.pyplot as plt\n",
        "import seaborn as sns\n",
        "\n",
        "plt.figure(figsize=(8,8)) \n",
        "histo_plot = plt.hist(dfOriginals_Analyzed['compound'],bins=40)\n"
      ],
      "execution_count": 24,
      "outputs": [
        {
          "output_type": "display_data",
          "data": {
            "image/png": "[encoded data removed]",
            "text/plain": [
              "<Figure size 576x576 with 1 Axes>"
            ]
          },
          "metadata": {
            "tags": [],
            "needs_background": "light"
          }
        }
      ]
    },
    {
      "cell_type": "code",
      "metadata": {
        "colab": {
          "base_uri": "https://localhost:8080/",
          "height": 333
        },
        "id": "D2b8aARwSFd_",
        "outputId": "ae873159-5dbf-41fd-a041-e5f9f7ed3b88"
      },
      "source": [
        "# Plot pie chart of the ratio of the sentiment categories\n",
        "# \n",
        "\n",
        "fig1, ax1 = plt.subplots()\n",
        "ax1.pie(dfOriginals_Analyzed.sentiment_class_relaxed.value_counts().values, labels=dfOriginals_Analyzed.sentiment_class_relaxed.value_counts().index.rename_categories(['Negative','Neutral','Positive']), autopct='%1.1f%%', shadow=True, startangle=90)\n",
        "ax1.title.set_text(\"Percentage of Sentiment Levels in Tweets\")\n",
        "ax1.axis('equal')"
      ],
      "execution_count": 25,
      "outputs": [
        {
          "output_type": "execute_result",
          "data": {
            "text/plain": [
              "(-1.1182944691568912,\n",
              " 1.1129382929025038,\n",
              " -1.1162563432183583,\n",
              " 1.1007741115818266)"
            ]
          },
          "metadata": {
            "tags": []
          },
          "execution_count": 25
        },
        {
          "output_type": "display_data",
          "data": {
            "image/png": "[encoded data removed]",
            "text/plain": [
              "<Figure size 432x288 with 1 Axes>"
            ]
          },
          "metadata": {
            "tags": []
          }
        }
      ]
    },
    {
      "cell_type": "markdown",
      "metadata": {
        "id": "FmFrATvf_2GW"
      },
      "source": [
        "# Step 8. Build Prediction Model for \"Favourite Count\" with Linear Regression\n",
        "\n",
        "## Split Train and Test set"
      ]
    },
    {
      "cell_type": "code",
      "metadata": {
        "id": "dnvWBGoU_9Nh",
        "colab": {
          "base_uri": "https://localhost:8080/"
        },
        "outputId": "ace0f29f-2a73-4aa4-f4b5-e72adb524fea"
      },
      "source": [
        "from sklearn import preprocessing\n",
        "from sklearn import linear_model\n",
        "\n",
        "\n",
        "# Defining\n",
        "independent_variables = ['retweet_count','user_followers_count','compound','user_statuses_count','user_favourites_count','user_friends_count','user_listed_count']\n",
        "dependent_variables = 'favorite_count'\n",
        "\n",
        "# Sample 80/20\n",
        "trainSet=dfOriginals_Analyzed.sample(frac=0.8,random_state=150)\n",
        "testSet=dfOriginals_Analyzed.drop(trainSet.index)\n",
        "\n",
        "# Split and fit data\n",
        "X_train = trainSet[independent_variables]\n",
        "Y_train = trainSet[dependent_variables]\n",
        "X_test = testSet[independent_variables]\n",
        "Y_test = testSet[dependent_variables]\n",
        "reg = linear_model.LinearRegression()\n",
        "\n",
        "reg.fit(X_train,Y_train)\n",
        "\n",
        "# print Coefficient\n",
        "print('Coefficient\\tLabel\\n===========================================')\n",
        "coefficient_list = (list(zip(reg.coef_, independent_variables)))\n",
        "for el in coefficient_list:\n",
        "  print('{: 4f}\\t{}'.format(*el))\n",
        "\n",
        "print(f\"\\nR^2-score (train set): {reg.score(X_train,Y_train):4f}\")\n"
      ],
      "execution_count": 26,
      "outputs": [
        {
          "output_type": "stream",
          "text": [
            "Coefficient\tLabel\n",
            "===========================================\n",
            " 2.536713\tretweet_count\n",
            " 0.000211\tuser_followers_count\n",
            " 1.016376\tcompound\n",
            "-0.000038\tuser_statuses_count\n",
            " 0.000057\tuser_favourites_count\n",
            "-0.000056\tuser_friends_count\n",
            "-0.034559\tuser_listed_count\n",
            "\n",
            "R^2-score (train set): 0.799859\n"
          ],
          "name": "stdout"
        }
      ]
    },
    {
      "cell_type": "markdown",
      "metadata": {
        "id": "KemJJsl8dAfJ"
      },
      "source": [
        "Since this is a regression model with continous values, we use Mean Square Error (MSE), Root MSE, and R-square metrics to measure the performance of the model. \n",
        "\n",
        "reference: https://stackoverflow.com/questions/49103139/calculating-accuracy-scores-of-predicted-continuous-values"
      ]
    },
    {
      "cell_type": "code",
      "metadata": {
        "id": "59twK3DodAfJ",
        "colab": {
          "base_uri": "https://localhost:8080/"
        },
        "outputId": "2ac302e0-c934-4456-bc08-614e355dace8"
      },
      "source": [
        "from sklearn.metrics import mean_squared_error\n",
        "from sklearn.metrics import r2_score\n",
        "from sklearn.metrics import mean_absolute_error\n",
        "\n",
        "from math import sqrt\n",
        "\n",
        "# Run prediction; Concating results onto a single dataframe; rounding prediction numbers as integer.\n",
        "plot_1_Y = reg.predict(X_test) # predicted as Y\n",
        "plot_1_X = Y_test.reset_index()  # actual as X\n",
        "df_plot_1 = pd.concat([plot_1_X,pd.DataFrame(plot_1_Y)],axis=1)\n",
        "df_plot_1.columns = ['index','actual', 'predicted']\n",
        "df_plot_1.predicted = round(df_plot_1.predicted,0).astype(int)\n",
        "\n",
        "mse = mean_squared_error(df_plot_1.actual, df_plot_1.predicted)\n",
        "mae = mean_absolute_error(df_plot_1.actual, df_plot_1.predicted)\n",
        "r2 = r2_score(df_plot_1.actual, df_plot_1.predicted)\n",
        "adj_r2 = 1-(1-r2)*(len(df_plot_1.actual)-1)/(len(df_plot_1.actual)-len(independent_variables)-1)\n",
        "print(\"\\nMetrics\\n============================================\")\n",
        "print(f\"Mean Square Error (MSE): {mse:4f}\")\n",
        "print(f\"Root MSE:\\t\\t {sqrt(mse):4f}\")\n",
        "print(f\"Mean Absolute Error:\\t {mae:4f}\")\n",
        "print(f\"R^2:\\t\\t\\t {r2:4f}\")\n",
        "print(f\"Adjusted R-Square:\\t {adj_r2:4f}\")\n",
        "\n"
      ],
      "execution_count": 27,
      "outputs": [
        {
          "output_type": "stream",
          "text": [
            "\n",
            "Metrics\n",
            "============================================\n",
            "Mean Square Error (MSE): 33404.189046\n",
            "Root MSE:\t\t 182.768129\n",
            "Mean Absolute Error:\t 7.281756\n",
            "R^2:\t\t\t 0.873217\n",
            "Adjusted R-Square:\t 0.873199\n"
          ],
          "name": "stdout"
        }
      ]
    },
    {
      "cell_type": "markdown",
      "metadata": {
        "id": "i0q56zAtdAfL"
      },
      "source": [
        "Scatterplot to visually observe how well the model's prediction vs actual value."
      ]
    },
    {
      "cell_type": "code",
      "metadata": {
        "id": "PHtyiLQjdAfL",
        "colab": {
          "base_uri": "https://localhost:8080/",
          "height": 911
        },
        "outputId": "7826bba5-a7f1-49da-a91d-d3bf4e466642"
      },
      "source": [
        "from numpy.polynomial.polynomial import polyfit\n",
        "import numpy as np\n",
        "\n",
        "\n",
        "plot_1 = df_plot_1.plot.scatter(x='actual',y='predicted',figsize=(30,15),title=\"Dependent Variable: \" + dependent_variables + \"; Predicted versus Actual\")\n",
        "plot_1.set_ylabel(\"Predicted values (\" + dependent_variables + \")\")\n",
        "plot_1.set_xlabel(\"Actual values (\" + dependent_variables + \")\")\n",
        "\n"
      ],
      "execution_count": 28,
      "outputs": [
        {
          "output_type": "execute_result",
          "data": {
            "text/plain": [
              "Text(0.5, 0, 'Actual values (favorite_count)')"
            ]
          },
          "metadata": {
            "tags": []
          },
          "execution_count": 28
        },
        {
          "output_type": "display_data",
          "data": {
            "image/png": "[encoded data removed]",
            "text/plain": [
              "<Figure size 2160x1080 with 1 Axes>"
            ]
          },
          "metadata": {
            "tags": [],
            "needs_background": "light"
          }
        }
      ]
    },
    {
      "cell_type": "markdown",
      "metadata": {
        "id": "edY2xn5XdAfM"
      },
      "source": [
        "Since our outliers are stretching the graph, we will limit the observation to 2-sigma (95%)."
      ]
    },
    {
      "cell_type": "code",
      "metadata": {
        "id": "Z_NU1pzpdAfM",
        "colab": {
          "base_uri": "https://localhost:8080/",
          "height": 911
        },
        "outputId": "338f66a0-3c7b-401f-f2cd-7e688f50ec2b"
      },
      "source": [
        "df_plot_2 = df_plot_1[df_plot_1.predicted.between(df_plot_1.predicted.quantile(0.025), df_plot_1.predicted.quantile(0.975))]\n",
        "# df_plot_2 = df_plot_1[df_plot_1.predicted.between(df_plot_1.predicted.quantile(0.0015), df_plot_1.predicted.quantile(0.9985))]\n",
        "plot_2 = df_plot_2.plot.scatter(x='actual',y='predicted',figsize=(30,15),title=\"Dependent Variable: \" + dependent_variables + \"; Predicted versus Actual (2-sigma)\")\n",
        "plot_2.set_ylabel(\"Predicted values (\" + dependent_variables + \")\")\n",
        "plot_2.set_xlabel(\"Actual values (\" + dependent_variables + \")\")\n",
        "plot_2.set_ylim(top=100)\n",
        "plot_2.set_xlim(right=100)\n",
        "plot_2.set_xlim(left=-1)\n",
        "\n",
        "\n",
        "\n",
        "\n",
        "# b, m = polyfit(df_plot_2.actual, df_plot_2.predicted, 1)\n",
        "# plot_2.plot(df_plot_2.actual, b + m * df_plot_2.actual, '-')\n",
        "\n",
        "lims = [\n",
        "    np.min([plot_2.get_xlim(), plot_2.get_ylim()]),  # min of both axes\n",
        "    np.max([plot_2.get_xlim(), plot_2.get_ylim()]),  # max of both axes\n",
        "]\n",
        "plot_2.plot(lims, lims, 'r--', alpha=0.75, zorder=0)"
      ],
      "execution_count": 29,
      "outputs": [
        {
          "output_type": "execute_result",
          "data": {
            "text/plain": [
              "[<matplotlib.lines.Line2D at 0x7fbef0598da0>]"
            ]
          },
          "metadata": {
            "tags": []
          },
          "execution_count": 29
        },
        {
          "output_type": "display_data",
          "data": {
            "image/png": "[encoded data removed]",
            "text/plain": [
              "<Figure size 2160x1080 with 1 Axes>"
            ]
          },
          "metadata": {
            "tags": [],
            "needs_background": "light"
          }
        }
      ]
    },
    {
      "cell_type": "markdown",
      "metadata": {
        "id": "2a62ZTRmdeX-"
      },
      "source": [
        "# Step 9. Build Prediction Model for \"Retweet Count\" with Linear Regression\n",
        "\n",
        "## Split Train and Test set"
      ]
    },
    {
      "cell_type": "code",
      "metadata": {
        "id": "CBsRkjJ4deX-",
        "colab": {
          "base_uri": "https://localhost:8080/"
        },
        "outputId": "f34f44b2-dd01-40df-90b5-21fd5d9a62a3"
      },
      "source": [
        "# Repeating step 8 but with retweet_count as dependent variable.\n",
        "\n",
        "from sklearn import preprocessing\n",
        "from sklearn import linear_model\n",
        "\n",
        "independent_variables = ['favorite_count','user_followers_count','compound','user_statuses_count','user_favourites_count','user_friends_count','user_listed_count']\n",
        "dependent_variables = 'retweet_count'\n",
        "\n",
        "trainSet=dfOriginals_Analyzed.sample(frac=0.8,random_state=150)\n",
        "testSet=dfOriginals_Analyzed.drop(trainSet.index)\n",
        "\n",
        "X_train = trainSet[independent_variables]\n",
        "Y_train = trainSet[dependent_variables]\n",
        "X_test = testSet[independent_variables]\n",
        "Y_test = testSet[dependent_variables]\n",
        "reg = linear_model.LinearRegression()\n",
        "\n",
        "reg.fit(X_train,Y_train)\n",
        "\n",
        "# print(\"Coefficients: \" + ', '.join(independent_variables))\n",
        "# print(reg.coef_)\n",
        "print('Coefficient\\tLabel\\n===========================================')\n",
        "coefficient_list = (list(zip(reg.coef_, independent_variables)))\n",
        "for el in coefficient_list:\n",
        "  print('{: 4f}\\t{}'.format(*el))\n",
        "\n",
        "print(f\"\\nR^2-score (train set): {reg.score(X_train,Y_train):4f}\")\n",
        "\n",
        "\n",
        "from sklearn.metrics import mean_squared_error\n",
        "from sklearn.metrics import r2_score\n",
        "\n",
        "from math import sqrt\n",
        "\n",
        "# Run prediction; Concating results onto a single dataframe; rounding prediction numbers as integer.\n",
        "plot_1_Y = reg.predict(X_test) # predicted as Y\n",
        "plot_1_X = Y_test.reset_index()  # actual as X\n",
        "df_plot_1 = pd.concat([plot_1_X,pd.DataFrame(plot_1_Y)],axis=1)\n",
        "df_plot_1.columns = ['index','actual', 'predicted']\n",
        "df_plot_1.predicted = round(df_plot_1.predicted,0).astype(int)\n",
        "\n",
        "\n",
        "\n",
        "mse = mean_squared_error(df_plot_1.actual, df_plot_1.predicted)\n",
        "mae = mean_absolute_error(df_plot_1.actual, df_plot_1.predicted)\n",
        "r2 = r2_score(df_plot_1.actual, df_plot_1.predicted)\n",
        "adj_r2 = 1-(1-r2)*(len(df_plot_1.actual)-1)/(len(df_plot_1.actual)-len(independent_variables)-1)\n",
        "print(\"\\nMetrics\\n============================================\")\n",
        "print(f\"Mean Square Error (MSE): {mse:4f}\")\n",
        "print(f\"Root MSE:\\t\\t {sqrt(mse):4f}\")\n",
        "print(f\"Mean Absolute Error:\\t {mae:4f}\")\n",
        "print(f\"R-Square:\\t\\t {r2:4f}\")\n",
        "print(f\"Adjusted R-Square:\\t {adj_r2:4f}\")\n"
      ],
      "execution_count": 30,
      "outputs": [
        {
          "output_type": "stream",
          "text": [
            "Coefficient\tLabel\n",
            "===========================================\n",
            " 0.311235\tfavorite_count\n",
            "-0.000055\tuser_followers_count\n",
            "-0.449341\tcompound\n",
            " 0.000013\tuser_statuses_count\n",
            "-0.000014\tuser_favourites_count\n",
            " 0.000025\tuser_friends_count\n",
            " 0.009861\tuser_listed_count\n",
            "\n",
            "R^2-score (train set): 0.791882\n",
            "\n",
            "Metrics\n",
            "============================================\n",
            "Mean Square Error (MSE): 1234.588084\n",
            "Root MSE:\t\t 35.136706\n",
            "Mean Absolute Error:\t 1.967480\n",
            "R-Square:\t\t 0.934187\n",
            "Adjusted R-Square:\t 0.934178\n"
          ],
          "name": "stdout"
        }
      ]
    },
    {
      "cell_type": "markdown",
      "metadata": {
        "id": "bpXP7aPbdeYA"
      },
      "source": [
        "Scatterplot of Predicted value vs Actual Value."
      ]
    },
    {
      "cell_type": "code",
      "metadata": {
        "id": "V0iw8LfZdeYA",
        "colab": {
          "base_uri": "https://localhost:8080/",
          "height": 911
        },
        "outputId": "98d4c24d-397d-4adc-fc52-bb02f3bfb530"
      },
      "source": [
        "from numpy.polynomial.polynomial import polyfit\n",
        "\n",
        "plot_1 = df_plot_1.plot.scatter(x='actual',y='predicted',figsize=(30,15),title=\"Dependent Variable: \" + dependent_variables + \"; Predicted versus Actual\")\n",
        "plot_1.set_ylabel(\"Predicted values (\" + dependent_variables + \")\")\n",
        "plot_1.set_xlabel(\"Actual values (\" + dependent_variables + \")\")\n",
        "\n",
        "\n"
      ],
      "execution_count": 31,
      "outputs": [
        {
          "output_type": "execute_result",
          "data": {
            "text/plain": [
              "Text(0.5, 0, 'Actual values (retweet_count)')"
            ]
          },
          "metadata": {
            "tags": []
          },
          "execution_count": 31
        },
        {
          "output_type": "display_data",
          "data": {
            "image/png": "[encoded data removed]",
            "text/plain": [
              "<Figure size 2160x1080 with 1 Axes>"
            ]
          },
          "metadata": {
            "tags": [],
            "needs_background": "light"
          }
        }
      ]
    },
    {
      "cell_type": "code",
      "metadata": {
        "id": "OfZsxj0-deYA",
        "colab": {
          "base_uri": "https://localhost:8080/",
          "height": 911
        },
        "outputId": "018026a8-91ac-4663-8b04-a6d1826aab2d"
      },
      "source": [
        "# Scatterplot covering 2.5-sigma.\n",
        "df_plot_2 = df_plot_1[df_plot_1.predicted.between(df_plot_1.predicted.quantile(.0031), df_plot_1.predicted.quantile(0.9969))]\n",
        "plot_2 = df_plot_2.plot.scatter(x='actual',y='predicted',figsize=(30,15),title=\"Dependent Variable: \" + dependent_variables + \"; Predicted versus Actual (2.5-sigma)\")\n",
        "plot_2.set_ylabel(\"Predicted values (\" + dependent_variables + \")\")\n",
        "plot_2.set_xlabel(\"Actual values (\" + dependent_variables + \")\")\n",
        "\n",
        "# b, m = polyfit(df_plot_2.actual, df_plot_2.predicted, 1)\n",
        "# plot_2.plot(df_plot_2.actual, b + m * df_plot_2.actual, '-')\n",
        "\n",
        "lims = [\n",
        "    np.min([plot_2.get_xlim(), plot_2.get_ylim()]),  # min of both axes\n",
        "    np.max([plot_2.get_xlim(), plot_2.get_ylim()]),  # max of both axes\n",
        "]\n",
        "plot_2.plot(lims, lims, 'r--', alpha=0.75, zorder=0)"
      ],
      "execution_count": 32,
      "outputs": [
        {
          "output_type": "execute_result",
          "data": {
            "text/plain": [
              "[<matplotlib.lines.Line2D at 0x7fbef04e8f98>]"
            ]
          },
          "metadata": {
            "tags": []
          },
          "execution_count": 32
        },
        {
          "output_type": "display_data",
          "data": {
            "image/png": "[encoded data removed]",
            "text/plain": [
              "<Figure size 2160x1080 with 1 Axes>"
            ]
          },
          "metadata": {
            "tags": [],
            "needs_background": "light"
          }
        }
      ]
    },
    {
      "cell_type": "markdown",
      "metadata": {
        "id": "XszGlak5RR4E"
      },
      "source": [
        "# Step 10: Build Linear Regression with k-Fold\n",
        "\n",
        "Since the metrics we got from the previous regression consist of only one sampling, we should implement the same regression model using K-fold cross-validation in order to get more accurate metrics."
      ]
    },
    {
      "cell_type": "code",
      "metadata": {
        "id": "i2s44LZO_Yvp",
        "colab": {
          "base_uri": "https://localhost:8080/"
        },
        "outputId": "02b4ce9b-7611-4bf4-9662-206d143fedad"
      },
      "source": [
        "# K-fold - #1 favourite count as dependent\n",
        "#\n",
        "# References:\n",
        "# https://stackoverflow.com/questions/45115964/separate-pandas-dataframe-using-sklearns-kfold\n",
        "# https://stackoverflow.com/questions/57398411/next-always-gives-the-same-index-with-a-kfold-generator\n",
        "# https://machinelearningmastery.com/k-fold-cross-validation/\n",
        "# https://machinelearningmastery.com/robust-regression-for-machine-learning-in-python/\n",
        "from sklearn.model_selection import KFold\n",
        "\n",
        "independent_variables = ['retweet_count','user_followers_count','compound','user_statuses_count','user_favourites_count','user_friends_count','user_listed_count']\n",
        "dependent_variables = 'favorite_count'\n",
        "\n",
        "\n",
        "kfold_n = 5\n",
        "kfold_mse_total, kfold_rmse_total, kfold_rsqr_total = 0, 0, 0\n",
        "kf = KFold(n_splits = kfold_n, shuffle = True, random_state = 2)\n",
        "\n",
        "dfKfold = dfOriginals_Analyzed\n",
        "\n",
        "kf_result = kf.split(dfKfold)\n",
        "\n",
        "print(\"Dependent Variable: {}\".format(dependent_variables))\n",
        "print(\"Independent Variables: {}\".format(independent_variables))\n",
        "print(\"K-fold: {}\".format(kfold_n))\n",
        "print(\"MSE\\t\\t\\tRMSE\\t\\t\\tR-Square\\n=============================================================================================\")\n",
        "\n",
        "# run each K-fold\n",
        "for train_idx, test_idx in kf_result:\n",
        "  trainSet=dfKfold.iloc[train_idx]\n",
        "  testSet=dfKfold.iloc[test_idx]\n",
        "\n",
        "  X_train = trainSet[independent_variables]\n",
        "  Y_train = trainSet[dependent_variables]\n",
        "  X_test = testSet[independent_variables]\n",
        "  Y_test = testSet[dependent_variables]\n",
        "\n",
        "  reg = linear_model.LinearRegression()\n",
        "\n",
        "  reg.fit(X_train,Y_train)\n",
        "\n",
        "  y_test_pred = reg.predict(X_test) \n",
        "\n",
        "  mse = mean_squared_error(Y_test, y_test_pred)\n",
        "  rsqr = r2_score(Y_test, y_test_pred)\n",
        "\n",
        "  print(f\"{mse:4f}\\t\\t{sqrt(mse):4f}\\t\\t{rsqr:4f}\")\n",
        "\n",
        "  kfold_mse_total += mse\n",
        "  kfold_rmse_total += sqrt(mse)\n",
        "  kfold_rsqr_total += rsqr\n",
        "\n",
        "print(\"\\nAverage\\n=============================================================================================\")\n",
        "print(f\"{kfold_mse_total / kfold_n:4f}\\t\\t{kfold_rmse_total / kfold_n:4f}\\t\\t{kfold_rsqr_total / kfold_n:4f}\")\n",
        "\n",
        "\n"
      ],
      "execution_count": 33,
      "outputs": [
        {
          "output_type": "stream",
          "text": [
            "Dependent Variable: favorite_count\n",
            "Independent Variables: ['retweet_count', 'user_followers_count', 'compound', 'user_statuses_count', 'user_favourites_count', 'user_friends_count', 'user_listed_count']\n",
            "K-fold: 5\n",
            "MSE\t\t\tRMSE\t\t\tR-Square\n",
            "=============================================================================================\n",
            "31564.218170\t\t177.663216\t\t0.877825\n",
            "10521.044828\t\t102.572145\t\t0.704872\n",
            "130028.329157\t\t360.594411\t\t0.378130\n",
            "10211.723622\t\t101.053073\t\t0.782832\n",
            "13119.346895\t\t114.539718\t\t0.930201\n",
            "\n",
            "Average\n",
            "=============================================================================================\n",
            "39088.932535\t\t171.284512\t\t0.734772\n"
          ],
          "name": "stdout"
        }
      ]
    },
    {
      "cell_type": "code",
      "metadata": {
        "id": "prpg-in1mlk0",
        "colab": {
          "base_uri": "https://localhost:8080/"
        },
        "outputId": "30cfce99-80cb-4b43-f3b6-68f75732f4ea"
      },
      "source": [
        "# K-fold #2 Retweet as independent\n",
        "#\n",
        "\n",
        "from sklearn.model_selection import KFold\n",
        "\n",
        "\n",
        "independent_variables = ['favorite_count','user_followers_count','compound','user_statuses_count','user_favourites_count','user_friends_count','user_listed_count']\n",
        "dependent_variables = 'retweet_count'\n",
        "\n",
        "kfold_n = 5\n",
        "kfold_mse_total, kfold_rmse_total, kfold_rsqr_total = 0, 0, 0\n",
        "kf = KFold(n_splits = kfold_n, shuffle = True, random_state = 2)\n",
        "\n",
        "dfKfold = dfOriginals_Analyzed\n",
        "\n",
        "kf_result = kf.split(dfKfold)\n",
        "\n",
        "print(\"Dependent Variable: {}\".format(dependent_variables))\n",
        "print(\"Independent Variables: {}\".format(independent_variables))\n",
        "print(\"K-fold: {}\".format(kfold_n))\n",
        "print(\"MSE\\t\\t\\tRMSE\\t\\t\\tR-Square\\n=============================================================================================\")\n",
        "\n",
        "for train_idx, test_idx in kf_result:\n",
        "  # print(train_idx)\n",
        "  trainSet=dfKfold.iloc[train_idx]\n",
        "  testSet=dfKfold.iloc[test_idx]\n",
        "\n",
        "  X_train = trainSet[independent_variables]\n",
        "  Y_train = trainSet[dependent_variables]\n",
        "  X_test = testSet[independent_variables]\n",
        "  Y_test = testSet[dependent_variables]\n",
        "\n",
        "  reg = linear_model.LinearRegression()\n",
        "\n",
        "  reg.fit(X_train,Y_train)\n",
        "\n",
        "  y_test_pred = reg.predict(X_test) \n",
        "\n",
        "  mse = mean_squared_error(Y_test, y_test_pred)\n",
        "  rsqr = r2_score(Y_test, y_test_pred)\n",
        "\n",
        "  print(f\"{mse:4f}\\t\\t{sqrt(mse):4f}\\t\\t{rsqr:4f}\")\n",
        "\n",
        "  kfold_mse_total += mse\n",
        "  kfold_rmse_total += sqrt(mse)\n",
        "  kfold_rsqr_total += rsqr\n",
        "\n",
        "print(\"\\nAverage\\n=============================================================================================\")\n",
        "print(f\"{kfold_mse_total / kfold_n:4f}\\t\\t{kfold_rmse_total / kfold_n:4f}\\t\\t{kfold_rsqr_total / kfold_n:4f}\")\n",
        "\n",
        "\n",
        "\n"
      ],
      "execution_count": 34,
      "outputs": [
        {
          "output_type": "stream",
          "text": [
            "Dependent Variable: retweet_count\n",
            "Independent Variables: ['favorite_count', 'user_followers_count', 'compound', 'user_statuses_count', 'user_favourites_count', 'user_friends_count', 'user_listed_count']\n",
            "K-fold: 5\n",
            "MSE\t\t\tRMSE\t\t\tR-Square\n",
            "=============================================================================================\n",
            "1001.568224\t\t31.647563\t\t0.945563\n",
            "798.111384\t\t28.250865\t\t0.605363\n",
            "10974.758804\t\t104.760483\t\t0.685319\n",
            "728.033332\t\t26.982093\t\t0.750776\n",
            "666.921016\t\t25.824814\t\t0.959674\n",
            "\n",
            "Average\n",
            "=============================================================================================\n",
            "2833.878552\t\t43.493164\t\t0.789339\n"
          ],
          "name": "stdout"
        }
      ]
    },
    {
      "cell_type": "markdown",
      "metadata": {
        "id": "QInUdIQcRUo8"
      },
      "source": [
        "# Step 11: Build Polynomial Regression\n",
        "\n",
        "Here we attempt to fit our model onto a non-linear regression model--Polynomial regression model to see whether we are able to build a better fit of the model than linear regression."
      ]
    },
    {
      "cell_type": "code",
      "metadata": {
        "id": "K5Vem4pinoBu",
        "colab": {
          "base_uri": "https://localhost:8080/",
          "height": 708
        },
        "outputId": "7d4aba1a-364c-497f-e30b-9f6812d9ac2a"
      },
      "source": [
        "# POLYNOMIAL REGRESSION #1 favorite_count\n",
        "#\n",
        "# Reference\n",
        "# https://www.kaggle.com/jnikhilsai/cross-validation-with-linear-regression\n",
        "\n",
        "import numpy as np\n",
        "from sklearn.pipeline import make_pipeline\n",
        "from sklearn.preprocessing import PolynomialFeatures\n",
        "\n",
        "independent_variables = ['retweet_count','user_followers_count','compound','user_statuses_count','user_verified']\n",
        "dependent_variables = 'favorite_count'\n",
        "\n",
        "degrees = [1, 2, 3, 6]\n",
        "\n",
        "\n",
        "dfPoly = dfOriginals_Analyzed\n",
        "\n",
        "trainSet=dfPoly.sample(frac=0.8,random_state=200)\n",
        "testSet=dfPoly.drop(trainSet.index)\n",
        "\n",
        "\n",
        "X_train = trainSet[independent_variables]\n",
        "Y_train = trainSet[dependent_variables]\n",
        "X_test = testSet[independent_variables]\n",
        "Y_test = testSet[dependent_variables]\n",
        "\n",
        "y_test_pred = np.zeros((len(X_test), len(degrees)))\n",
        "\n",
        "# calculate values for each degree\n",
        "for i, degree in enumerate(degrees):    \n",
        "    model = make_pipeline(PolynomialFeatures(degree), linear_model.LinearRegression())\n",
        "    model.fit(X_train, Y_train)\n",
        "    \n",
        "    # predict on test and train data\n",
        "    # store the predictions of each degree in the corresponding column\n",
        "    y_test_pred[:, i] = model.predict(X_test)\n",
        "  \n",
        "# plot the graph\n",
        "plt.figure(figsize=(40, 10))\n",
        "plt.subplot(121)\n",
        "plt.xlabel(\"Actual\")\n",
        "plt.ylabel(\"Predicted\")\n",
        "plt.ylim([-1000,15000])\n",
        "plt.xlim([0,12500])\n",
        "for i, degree in enumerate(degrees):    \n",
        "    plt.scatter(Y_test, y_test_pred[:, i], label=str(degree))\n",
        "    plt.legend(loc='upper left')\n",
        "\n",
        "\n",
        "# print metrics\n",
        "print(\"R-squared values: \\n\")\n",
        "\n",
        "for i, degree in enumerate(degrees):\n",
        "    test_r2 = round(r2_score(Y_test, y_test_pred[:, i]), 2)\n",
        "    print(\"Polynomial degree {0}: test score={1}\".format(degree, test_r2))"
      ],
      "execution_count": 35,
      "outputs": [
        {
          "output_type": "stream",
          "text": [
            "R-squared values: \n",
            "\n",
            "Polynomial degree 1: test score=0.87\n",
            "Polynomial degree 2: test score=0.72\n",
            "Polynomial degree 3: test score=-5.57\n",
            "Polynomial degree 6: test score=0.11\n"
          ],
          "name": "stdout"
        },
        {
          "output_type": "display_data",
          "data": {
            "image/png": "[encoded data removed]",
            "text/plain": [
              "<Figure size 2880x720 with 1 Axes>"
            ]
          },
          "metadata": {
            "tags": [],
            "needs_background": "light"
          }
        }
      ]
    },
    {
      "cell_type": "code",
      "metadata": {
        "id": "Dg1QmdTXotKS",
        "colab": {
          "base_uri": "https://localhost:8080/",
          "height": 708
        },
        "outputId": "6eb1f904-8fdb-43f9-e905-1bd8582c5fc3"
      },
      "source": [
        "# POLYNOMIAL REGRESSION #2 retweet_count\n",
        "#\n",
        "\n",
        "\n",
        "independent_variables = ['favorite_count','user_followers_count','compound','user_statuses_count','user_verified']\n",
        "dependent_variables = 'retweet_count'\n",
        "degrees = [1, 2, 3, 6]\n",
        "\n",
        "dfPoly = dfOriginals_Analyzed\n",
        "\n",
        "trainSet=dfPoly.sample(frac=0.8,random_state=200)\n",
        "testSet=dfPoly.drop(trainSet.index)\n",
        "\n",
        "\n",
        "X_train = trainSet[independent_variables]\n",
        "Y_train = trainSet[dependent_variables]\n",
        "X_test = testSet[independent_variables]\n",
        "Y_test = testSet[dependent_variables]\n",
        "\n",
        "y_test_pred = np.zeros((len(X_test), len(degrees)))\n",
        "\n",
        "# calculate values for each degree\n",
        "for i, degree in enumerate(degrees):    \n",
        "    # make pipeline: create features, then feed them to linear_reg model\n",
        "    model = make_pipeline(PolynomialFeatures(degree), linear_model.LinearRegression())\n",
        "    model.fit(X_train, Y_train)\n",
        "    \n",
        "    # predict on test and train data\n",
        "    # store the predictions of each degree in the corresponding column\n",
        "    y_test_pred[:, i] = model.predict(X_test)\n",
        "  \n",
        "# plot the graph\n",
        "plt.figure(figsize=(40, 10))\n",
        "plt.subplot(121)\n",
        "plt.xlabel(\"Actual\")\n",
        "plt.ylabel(\"Predicted\")\n",
        "plt.ylim([-1000,15000])\n",
        "plt.xlim([0,12500])\n",
        "for i, degree in enumerate(degrees):    \n",
        "    plt.scatter(Y_test, y_test_pred[:, i], label=str(degree))\n",
        "    plt.legend(loc='upper left')\n",
        "\n",
        "\n",
        "# print metrics\n",
        "print(\"R-squared values: \\n\")\n",
        "\n",
        "for i, degree in enumerate(degrees):\n",
        "    # train_r2 = round(sklearn.metrics.r2_score(y_train, y_train_pred[:, i]), 2)\n",
        "    test_r2 = round(r2_score(Y_test, y_test_pred[:, i]), 2)\n",
        "    print(\"Polynomial degree {0}: test score={1}\".format(degree, test_r2))"
      ],
      "execution_count": 36,
      "outputs": [
        {
          "output_type": "stream",
          "text": [
            "R-squared values: \n",
            "\n",
            "Polynomial degree 1: test score=0.94\n",
            "Polynomial degree 2: test score=0.08\n",
            "Polynomial degree 3: test score=0.01\n",
            "Polynomial degree 6: test score=-422.7\n"
          ],
          "name": "stdout"
        },
        {
          "output_type": "display_data",
          "data": {
            "image/png": "[encoded data removed]",
            "text/plain": [
              "<Figure size 2880x720 with 1 Axes>"
            ]
          },
          "metadata": {
            "tags": [],
            "needs_background": "light"
          }
        }
      ]
    },
    {
      "cell_type": "markdown",
      "metadata": {
        "id": "lHiYzL0Vg74h"
      },
      "source": [
        "# Step 12: Build Polynomial Regression K-fold"
      ]
    },
    {
      "cell_type": "code",
      "metadata": {
        "id": "K3xGlWDMMkor",
        "colab": {
          "base_uri": "https://localhost:8080/"
        },
        "outputId": "8510c8be-aea1-4ed5-f625-50f78ce2cdce"
      },
      "source": [
        "import math\n",
        "\n",
        "independent_variables = ['retweet_count','user_followers_count','compound','user_statuses_count','user_verified']\n",
        "dependent_variables = 'favorite_count'\n",
        "# independent_variables = ['favorite_count','user_followers_count','compound','user_statuses_count','user_verified']\n",
        "# dependent_variables = 'retweet_count'\n",
        "# degrees = [1, 2 ]\n",
        "degrees = [1, 2, 3, 6]\n",
        "count = 0\n",
        "\n",
        "kfold_n = 5\n",
        "kfold_mse_total, kfold_rmse_total, kfold_rsqr_total = pd.DataFrame(0, index=np.arange(kfold_n), columns=degrees),pd.DataFrame(0, index=np.arange(kfold_n), columns=degrees),pd.DataFrame(0, index=np.arange(kfold_n), columns=degrees)\n",
        "kf = KFold(n_splits = kfold_n, shuffle = True, random_state = 2)\n",
        "\n",
        "# Excluding outliers, only including within 3-sigma\n",
        "# dfKfold = dfOriginals_Analyzed[dfOriginals_Analyzed[dependent_variables].between(dfOriginals_Analyzed[dependent_variables].quantile(.0015), dfOriginals_Analyzed[dependent_variables].quantile(0.9985))]\n",
        "dfPolyKfold = dfOriginals_Analyzed\n",
        "\n",
        "kf_result = kf.split(dfPolyKfold)\n",
        "\n",
        "print(\"Dependent Variable: {}\".format(dependent_variables))\n",
        "print(\"Independent Variables: {}\".format(independent_variables))\n",
        "print(\"K-fold: {}\".format(kfold_n))\n",
        "print(\"Polynomial\\t\\tRoot MSE\\t\\t\\tR-Square\\n=============================================================================================\")\n",
        "\n",
        "for train_idx, test_idx in kf_result:\n",
        "  # print(train_idx)\n",
        "  trainSet=dfPolyKfold.iloc[train_idx]\n",
        "  testSet=dfPolyKfold.iloc[test_idx]\n",
        "\n",
        "  X_train = trainSet[independent_variables]\n",
        "  Y_train = trainSet[dependent_variables]\n",
        "  X_test = testSet[independent_variables]\n",
        "  Y_test = testSet[dependent_variables]\n",
        "\n",
        "  reg = linear_model.LinearRegression()\n",
        "\n",
        "  y_test_pred = np.zeros((len(X_test), len(degrees)))\n",
        "\n",
        "  for i, degree in enumerate(degrees):    \n",
        "    model = make_pipeline(PolynomialFeatures(degree), linear_model.LinearRegression())\n",
        "    model.fit(X_train, Y_train)\n",
        "    \n",
        "\n",
        "    y_test_pred[:, i] = model.predict(X_test)\n",
        "\n",
        "  \n",
        "  \n",
        "  for i, degree in enumerate(degrees):\n",
        "    \n",
        "    rsqr = round(r2_score(Y_test, y_test_pred[:, i]), 2)\n",
        "    mse = mean_squared_error(Y_test, y_test_pred[:, i])\n",
        "    print(\"Degree {0}: \\t\\t{1} \\t\\t{2}\".format(degree, sqrt(mse),rsqr))\n",
        "    row = math.floor(count/len(degrees))\n",
        "    kfold_mse_total.loc[ row,degree ] = mse\n",
        "    kfold_rmse_total.loc[ row,degree] = sqrt(mse)\n",
        "    kfold_rsqr_total.loc[row,degree] = rsqr\n",
        "    # print(f\"count: {count}  row: {row}\\n{kfold_rsqr_total.loc[row]}\")\n",
        "    count += 1\n",
        "    \n",
        "\n",
        "\n",
        "  print(\"---------------------------------------------------------------------------------\")\n",
        "\n",
        "polykfold_overall_metrics = list(zip(degrees,kfold_rmse_total.mean(),kfold_rsqr_total.mean()))\n",
        "print('Degree\\tAverage RMSE\\tAverage R^2'.format(*el))\n",
        "for el in polykfold_overall_metrics:\n",
        "  print('{}\\t{: 4f}\\t{: 4f}'.format(*el))\n",
        "\n"
      ],
      "execution_count": 37,
      "outputs": [
        {
          "output_type": "stream",
          "text": [
            "Dependent Variable: favorite_count\n",
            "Independent Variables: ['retweet_count', 'user_followers_count', 'compound', 'user_statuses_count', 'user_verified']\n",
            "K-fold: 5\n",
            "Polynomial\t\tRoot MSE\t\t\tR-Square\n",
            "=============================================================================================\n",
            "Degree 1: \t\t176.1003309179579 \t\t0.88\n",
            "Degree 2: \t\t283.8671924780902 \t\t0.69\n",
            "Degree 3: \t\t906.2368606263769 \t\t-2.18\n",
            "Degree 6: \t\t856.3979925552468 \t\t-1.84\n",
            "---------------------------------------------------------------------------------\n",
            "Degree 1: \t\t101.57117876732413 \t\t0.71\n",
            "Degree 2: \t\t113.61553501192776 \t\t0.64\n",
            "Degree 3: \t\t164.8107158447843 \t\t0.24\n",
            "Degree 6: \t\t1067.8173629126154 \t\t-30.98\n",
            "---------------------------------------------------------------------------------\n",
            "Degree 1: \t\t361.7648735168686 \t\t0.37\n",
            "Degree 2: \t\t578.1225176563707 \t\t-0.6\n",
            "Degree 3: \t\t10089.810890024544 \t\t-485.89\n",
            "Degree 6: \t\t38011377.335343964 \t\t-6910168447.01\n",
            "---------------------------------------------------------------------------------\n",
            "Degree 1: \t\t106.07747474685985 \t\t0.76\n",
            "Degree 2: \t\t132.28407898975604 \t\t0.63\n",
            "Degree 3: \t\t429.9725980224988 \t\t-2.93\n",
            "Degree 6: \t\t21654.500707596068 \t\t-9971.23\n",
            "---------------------------------------------------------------------------------\n",
            "Degree 1: \t\t113.14836415856713 \t\t0.93\n",
            "Degree 2: \t\t284.245851156108 \t\t0.57\n",
            "Degree 3: \t\t1548.2663280761865 \t\t-11.75\n",
            "Degree 6: \t\t15713.147572038102 \t\t-1312.61\n",
            "---------------------------------------------------------------------------------\n",
            "Degree\tAverage RMSE\tAverage R^2\n",
            "1\t 171.732444\t 0.730000\n",
            "2\t 278.427035\t 0.386000\n",
            "3\t 2627.819479\t-100.502000\n",
            "6\t 7610133.839796\t-1382035952.734000\n"
          ],
          "name": "stdout"
        }
      ]
    },
    {
      "cell_type": "code",
      "metadata": {
        "colab": {
          "base_uri": "https://localhost:8080/"
        },
        "id": "q7tXhqhJBzMU",
        "outputId": "52473bff-1ba5-4a0c-97a7-645bbbc65acf"
      },
      "source": [
        "# K-fold Poly #2 Retweet\n",
        "\n",
        "import math\n",
        "\n",
        "# independent_variables = ['retweet_count','user_followers_count','compound','user_statuses_count','user_verified']\n",
        "# dependent_variables = 'favorite_count'\n",
        "independent_variables = ['favorite_count','user_followers_count','compound','user_statuses_count','user_verified']\n",
        "dependent_variables = 'retweet_count'\n",
        "# degrees = [1, 2 ]\n",
        "degrees = [1, 2, 3, 6]\n",
        "count = 0\n",
        "\n",
        "kfold_n = 5\n",
        "kfold_mse_total, kfold_rmse_total, kfold_rsqr_total = pd.DataFrame(0, index=np.arange(kfold_n), columns=degrees),pd.DataFrame(0, index=np.arange(kfold_n), columns=degrees),pd.DataFrame(0, index=np.arange(kfold_n), columns=degrees)\n",
        "kf = KFold(n_splits = kfold_n, shuffle = True, random_state = 2)\n",
        "\n",
        "# Excluding outliers, only including within 3-sigma\n",
        "dfPolyKfold = dfOriginals_Analyzed\n",
        "\n",
        "kf_result = kf.split(dfPolyKfold)\n",
        "\n",
        "print(\"Dependent Variable: {}\".format(dependent_variables))\n",
        "print(\"Independent Variables: {}\".format(independent_variables))\n",
        "print(\"K-fold: {}\".format(kfold_n))\n",
        "print(\"Polynomial\\t\\tRoot MSE\\t\\t\\tR-Square\\n=============================================================================================\")\n",
        "\n",
        "for train_idx, test_idx in kf_result:\n",
        "  trainSet=dfPolyKfold.iloc[train_idx]\n",
        "  testSet=dfPolyKfold.iloc[test_idx]\n",
        "\n",
        "  X_train = trainSet[independent_variables]\n",
        "  Y_train = trainSet[dependent_variables]\n",
        "  X_test = testSet[independent_variables]\n",
        "  Y_test = testSet[dependent_variables]\n",
        "\n",
        "  reg = linear_model.LinearRegression()\n",
        "\n",
        "  y_test_pred = np.zeros((len(X_test), len(degrees)))\n",
        "\n",
        "  for i, degree in enumerate(degrees):    \n",
        "    model = make_pipeline(PolynomialFeatures(degree), linear_model.LinearRegression())\n",
        "    model.fit(X_train, Y_train)\n",
        "    \n",
        "\n",
        "    y_test_pred[:, i] = model.predict(X_test)\n",
        "\n",
        "  \n",
        "  \n",
        "  for i, degree in enumerate(degrees):\n",
        "    \n",
        "    rsqr = round(r2_score(Y_test, y_test_pred[:, i]), 2)\n",
        "    mse = mean_squared_error(Y_test, y_test_pred[:, i])\n",
        "    print(\"Degree {0}: \\t\\t{1} \\t\\t{2}\".format(degree, sqrt(mse),rsqr))\n",
        "    row = math.floor(count/len(degrees))\n",
        "    kfold_mse_total.loc[ row,degree ] = mse\n",
        "    kfold_rmse_total.loc[ row,degree] = sqrt(mse)\n",
        "    kfold_rsqr_total.loc[row,degree] = rsqr\n",
        "    # print(f\"count: {count}  row: {row}\\n{kfold_rsqr_total.loc[row]}\")\n",
        "    count += 1\n",
        "    \n",
        "\n",
        "\n",
        "  print(\"---------------------------------------------------------------------------------\")\n",
        "\n",
        "polykfold_overall_metrics = list(zip(degrees,kfold_rmse_total.mean(),kfold_rsqr_total.mean()))\n",
        "print('Degree\\tAverage RMSE\\tAverage R^2'.format(*el))\n",
        "for el in polykfold_overall_metrics:\n",
        "  print('{}\\t{: 4f}\\t{: 4f}'.format(*el))\n",
        "\n"
      ],
      "execution_count": 38,
      "outputs": [
        {
          "output_type": "stream",
          "text": [
            "Dependent Variable: retweet_count\n",
            "Independent Variables: ['favorite_count', 'user_followers_count', 'compound', 'user_statuses_count', 'user_verified']\n",
            "K-fold: 5\n",
            "Polynomial\t\tRoot MSE\t\t\tR-Square\n",
            "=============================================================================================\n",
            "Degree 1: \t\t30.619157472439177 \t\t0.95\n",
            "Degree 2: \t\t143.57465611146827 \t\t-0.12\n",
            "Degree 3: \t\t197.92059429558387 \t\t-1.13\n",
            "Degree 6: \t\t140.91449714880363 \t\t-0.08\n",
            "---------------------------------------------------------------------------------\n",
            "Degree 1: \t\t27.778555948274388 \t\t0.62\n",
            "Degree 2: \t\t33.17703268992806 \t\t0.46\n",
            "Degree 3: \t\t44.99600146557491 \t\t-0.0\n",
            "Degree 6: \t\t1595.006459641652 \t\t-1256.94\n",
            "---------------------------------------------------------------------------------\n",
            "Degree 1: \t\t105.01778633851833 \t\t0.68\n",
            "Degree 2: \t\t109.10569803537199 \t\t0.66\n",
            "Degree 3: \t\t1123.4793102354063 \t\t-35.19\n",
            "Degree 6: \t\t185441.21308761396 \t\t-986024.03\n",
            "---------------------------------------------------------------------------------\n",
            "Degree 1: \t\t28.269222892920038 \t\t0.73\n",
            "Degree 2: \t\t47.405288929894574 \t\t0.23\n",
            "Degree 3: \t\t55.005669883911004 \t\t-0.04\n",
            "Degree 6: \t\t10069.950456869094 \t\t-34712.13\n",
            "---------------------------------------------------------------------------------\n",
            "Degree 1: \t\t25.580491200820568 \t\t0.96\n",
            "Degree 2: \t\t73.46282149176497 \t\t0.67\n",
            "Degree 3: \t\t241.73438207411132 \t\t-2.53\n",
            "Degree 6: \t\t5081.564815280062 \t\t-1560.37\n",
            "---------------------------------------------------------------------------------\n",
            "Degree\tAverage RMSE\tAverage R^2\n",
            "1\t 43.453043\t 0.788000\n",
            "2\t 81.345099\t 0.380000\n",
            "3\t 332.627192\t-7.778000\n",
            "6\t 40465.729863\t-204710.710000\n"
          ],
          "name": "stdout"
        }
      ]
    },
    {
      "cell_type": "code",
      "metadata": {
        "colab": {
          "base_uri": "https://localhost:8080/"
        },
        "id": "3BbJrchglSk4",
        "outputId": "22df99dc-be52-46ad-b210-0ab74ca72605"
      },
      "source": [
        "%%shell\n",
        "jupyter nbconvert --to html \"/content/drive/MyDrive/Colab Notebooks/AndyLee-NLP.ipynb\""
      ],
      "execution_count": 42,
      "outputs": [
        {
          "output_type": "stream",
          "text": [
            "[NbConvertApp] Converting notebook /content/drive/MyDrive/Colab Notebooks/AndyLee-NLP.ipynb to html\n",
            "[NbConvertApp] Writing 777548 bytes to /content/drive/MyDrive/Colab Notebooks/AndyLee-NLP.html\n"
          ],
          "name": "stdout"
        },
        {
          "output_type": "execute_result",
          "data": {
            "text/plain": [
              ""
            ]
          },
          "metadata": {
            "tags": []
          },
          "execution_count": 42
        }
      ]
    }
  ]
}