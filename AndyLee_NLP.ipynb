{
  "nbformat": 4,
  "nbformat_minor": 0,
  "metadata": {
    "kernelspec": {
      "display_name": "Python 3",
      "language": "python",
      "name": "python3"
    },
    "language_info": {
      "name": "python",
      "version": "3.7.6",
      "mimetype": "text/x-python",
      "codemirror_mode": {
        "name": "ipython",
        "version": 3
      },
      "pygments_lexer": "ipython3",
      "nbconvert_exporter": "python",
      "file_extension": ".py"
    },
    "colab": {
      "name": "AndyLee-NLP.ipynb",
      "provenance": [],
      "include_colab_link": true
    }
  },
  "cells": [
    {
      "cell_type": "markdown",
      "metadata": {
        "id": "view-in-github",
        "colab_type": "text"
      },
      "source": [
        "<a href=\"https://colab.research.google.com/github/danieljai/CIND820-AndyLee/blob/main/AndyLee_NLP.ipynb\" target=\"_parent\"><img src=\"https://colab.research.google.com/assets/colab-badge.svg\" alt=\"Open In Colab\"/></a>"
      ]
    },
    {
      "cell_type": "markdown",
      "metadata": {
        "id": "_uncPLiQYnn0"
      },
      "source": [
        "# Step 4: Preload setup\n",
        "\n",
        "Basic setup so results can utilize the full width of the screen."
      ]
    },
    {
      "cell_type": "code",
      "metadata": {
        "id": "7VJ3TVjfpoiz"
      },
      "source": [
        "%config IPCompleter.greedy=True\n",
        "import pandas as pd\n",
        "\n",
        "pd.set_option('display.max_colwidth', 200)\n",
        "pd.options.display.max_colwidth = 500\n",
        "pd.options.display.max_rows = 100"
      ],
      "execution_count": 1,
      "outputs": []
    },
    {
      "cell_type": "markdown",
      "metadata": {
        "id": "HbYv2dHQYl-W"
      },
      "source": [
        "# Step 5: Import Dataset\n",
        "\n",
        "The hydrated file is stored in a Google Drive, and using the follow code will mount Google Drive onto Colaboratory."
      ]
    },
    {
      "cell_type": "code",
      "metadata": {
        "id": "RWSJpsyKqHjH",
        "colab": {
          "base_uri": "https://localhost:8080/"
        },
        "outputId": "1d543fce-9429-4dbc-caca-c2784087f2e7"
      },
      "source": [
        "from google.colab import drive\n",
        "drive.mount('/content/drive')"
      ],
      "execution_count": 2,
      "outputs": [
        {
          "output_type": "stream",
          "text": [
            "Drive already mounted at /content/drive; to attempt to forcibly remount, call drive.mount(\"/content/drive\", force_remount=True).\n"
          ],
          "name": "stdout"
        }
      ]
    },
    {
      "cell_type": "code",
      "metadata": {
        "trusted": true,
        "id": "IhVcP_VWpoiv"
      },
      "source": [
        "\n",
        "df = pd.read_csv(\"/content/drive/My Drive/__CIND 820 - Data Analytics Project/3-data/Book1-fastsave.csv\")"
      ],
      "execution_count": 3,
      "outputs": []
    },
    {
      "cell_type": "markdown",
      "metadata": {
        "id": "uEl8PsIfYPlI"
      },
      "source": [
        "# Step 6. Data Cleaning and Manipulation"
      ]
    },
    {
      "cell_type": "markdown",
      "metadata": {
        "id": "7RbFQ3a7OgDj"
      },
      "source": [
        "## Preview data after cleaning and manipulation\n",
        "\n",
        "Original Tweet dataframe datatypes"
      ]
    },
    {
      "cell_type": "code",
      "metadata": {
        "id": "rwPS4yCo2ETZ",
        "colab": {
          "base_uri": "https://localhost:8080/"
        },
        "outputId": "d50e6827-e816-4487-96a8-d60293645598"
      },
      "source": [
        "# https://developer.twitter.com/en/docs/twitter-api/v1/data-dictionary/overview/user-object\n",
        "dfOriginals.dtypes"
      ],
      "execution_count": 8,
      "outputs": [
        {
          "output_type": "execute_result",
          "data": {
            "text/plain": [
              "coordinates                    object\n",
              "created_at                     object\n",
              "hashtags                       object\n",
              "media                          object\n",
              "urls                           object\n",
              "favorite_count                  int64\n",
              "id                              int64\n",
              "in_reply_to_screen_name        object\n",
              "in_reply_to_status_id           int64\n",
              "in_reply_to_user_id             int64\n",
              "lang                           object\n",
              "place                          object\n",
              "possibly_sensitive             object\n",
              "retweet_count                   int64\n",
              "retweet_id                      int64\n",
              "retweet_screen_name            object\n",
              "source                         object\n",
              "text                           object\n",
              "tweet_url                      object\n",
              "user_created_at                object\n",
              "user_screen_name               object\n",
              "user_default_profile_image       bool\n",
              "user_description               object\n",
              "user_favourites_count           int64\n",
              "user_followers_count            int64\n",
              "user_friends_count              int64\n",
              "user_listed_count               int64\n",
              "user_location                  object\n",
              "user_name                      object\n",
              "user_screen_name.1             object\n",
              "user_statuses_count             int64\n",
              "user_time_zone                float64\n",
              "user_urls                      object\n",
              "user_verified                    bool\n",
              "modified_text                  object\n",
              "dtype: object"
            ]
          },
          "metadata": {
            "tags": []
          },
          "execution_count": 8
        }
      ]
    },
    {
      "cell_type": "markdown",
      "metadata": {
        "id": "UZfDm-YdvsBC"
      },
      "source": [
        "## Readjust attribute datatype\n",
        "\n",
        "For `retweet_id`, `in_reply_to_status_id`, `in_reply_to_user_id`\n",
        "- Convert `null` values to 0\n",
        "- Convert attribute as int64"
      ]
    },
    {
      "cell_type": "code",
      "metadata": {
        "id": "BNtxXnmyuroY"
      },
      "source": [
        "df.retweet_id = df[df['retweet_id'].notnull()].retweet_id.astype('int64') "
      ],
      "execution_count": 4,
      "outputs": []
    },
    {
      "cell_type": "code",
      "metadata": {
        "id": "Wq7nVqm-Ybq5"
      },
      "source": [
        "df.retweet_id = df.retweet_id.fillna(0).astype('int64')\n",
        "df.in_reply_to_status_id = df.in_reply_to_status_id.fillna(0).astype('int64')\n",
        "df.in_reply_to_user_id = df.in_reply_to_user_id.fillna(0).astype('int64')"
      ],
      "execution_count": 5,
      "outputs": []
    },
    {
      "cell_type": "markdown",
      "metadata": {
        "id": "A1vhtGcnzqtp"
      },
      "source": [
        "## Misc. cleaning up to reduce noise when conducting sentimental analysis\n",
        "1. remove \\n\n",
        "2. remove URL\n",
        "3. remove user referrals\n",
        "4. remove hashtags"
      ]
    },
    {
      "cell_type": "code",
      "metadata": {
        "id": "TGLSjXA00aBs"
      },
      "source": [
        "df['modified_text'] = df.text.str.replace(r'\\n', '')\n",
        "df['modified_text'] = df.modified_text.str.replace(r'(http|ftp|https)://([\\w_-]+(?:(?:\\.[\\w_-]+)+))([\\w.,@?^=%&:/~+#-]*[\\w@?^=%&/~+#-])?', '')\n",
        "df['modified_text'] = df.modified_text.str.replace(r'\\B@\\w+', '')\n",
        "df['modified_text'] = df.modified_text.str.replace(r'\\B#\\w+', '')"
      ],
      "execution_count": 6,
      "outputs": []
    },
    {
      "cell_type": "markdown",
      "metadata": {
        "id": "4XU0njxYunzu"
      },
      "source": [
        "## Splitting Dataframes (originals and retweets)\n",
        "\n",
        "The collection includes both original tweets and retweets. Since retweets mirrors the original tweet by someone else other than the author, we don't need to run sentimental analysis on the retweet as it would have been run on the original tweet, therefore we can split original tweets and retweets into two dataframes to avoid wasting resources.\n",
        "\n",
        "\n",
        "- Original tweets: `dfOriginals`\n",
        "- Retweets: `dfRetweets` cons\n",
        "\n",
        "\n",
        "\n"
      ]
    },
    {
      "cell_type": "code",
      "metadata": {
        "id": "jPydisljWkFM"
      },
      "source": [
        "dfOriginals = df[df.retweet_id == 0]\n",
        "dfRetweets = df[df.retweet_id != 0]"
      ],
      "execution_count": 7,
      "outputs": []
    },
    {
      "cell_type": "markdown",
      "metadata": {
        "id": "r1UH6f4QNP24"
      },
      "source": [
        "Two samples of the original tweet dataframe."
      ]
    },
    {
      "cell_type": "code",
      "metadata": {
        "id": "d5nEYW5qOVAg",
        "colab": {
          "base_uri": "https://localhost:8080/",
          "height": 437
        },
        "outputId": "c66e11c9-234d-40cd-f031-1a3ee90215eb"
      },
      "source": [
        "dfOriginals.sample(2)"
      ],
      "execution_count": 9,
      "outputs": [
        {
          "output_type": "execute_result",
          "data": {
            "text/html": [
              "<div>\n",
              "<style scoped>\n",
              "    .dataframe tbody tr th:only-of-type {\n",
              "        vertical-align: middle;\n",
              "    }\n",
              "\n",
              "    .dataframe tbody tr th {\n",
              "        vertical-align: top;\n",
              "    }\n",
              "\n",
              "    .dataframe thead th {\n",
              "        text-align: right;\n",
              "    }\n",
              "</style>\n",
              "<table border=\"1\" class=\"dataframe\">\n",
              "  <thead>\n",
              "    <tr style=\"text-align: right;\">\n",
              "      <th></th>\n",
              "      <th>coordinates</th>\n",
              "      <th>created_at</th>\n",
              "      <th>hashtags</th>\n",
              "      <th>media</th>\n",
              "      <th>urls</th>\n",
              "      <th>favorite_count</th>\n",
              "      <th>id</th>\n",
              "      <th>in_reply_to_screen_name</th>\n",
              "      <th>in_reply_to_status_id</th>\n",
              "      <th>in_reply_to_user_id</th>\n",
              "      <th>lang</th>\n",
              "      <th>place</th>\n",
              "      <th>possibly_sensitive</th>\n",
              "      <th>retweet_count</th>\n",
              "      <th>retweet_id</th>\n",
              "      <th>retweet_screen_name</th>\n",
              "      <th>source</th>\n",
              "      <th>text</th>\n",
              "      <th>tweet_url</th>\n",
              "      <th>user_created_at</th>\n",
              "      <th>user_screen_name</th>\n",
              "      <th>user_default_profile_image</th>\n",
              "      <th>user_description</th>\n",
              "      <th>user_favourites_count</th>\n",
              "      <th>user_followers_count</th>\n",
              "      <th>user_friends_count</th>\n",
              "      <th>user_listed_count</th>\n",
              "      <th>user_location</th>\n",
              "      <th>user_name</th>\n",
              "      <th>user_screen_name.1</th>\n",
              "      <th>user_statuses_count</th>\n",
              "      <th>user_time_zone</th>\n",
              "      <th>user_urls</th>\n",
              "      <th>user_verified</th>\n",
              "      <th>modified_text</th>\n",
              "    </tr>\n",
              "  </thead>\n",
              "  <tbody>\n",
              "    <tr>\n",
              "      <th>552018</th>\n",
              "      <td>NaN</td>\n",
              "      <td>Tue Mar 31 19:50:11 +0000 2020</td>\n",
              "      <td>NaN</td>\n",
              "      <td>NaN</td>\n",
              "      <td>NaN</td>\n",
              "      <td>0</td>\n",
              "      <td>1245075941891727360</td>\n",
              "      <td>RealBobMortimer</td>\n",
              "      <td>1245068174720208896</td>\n",
              "      <td>310960217</td>\n",
              "      <td>en</td>\n",
              "      <td>NaN</td>\n",
              "      <td>NaN</td>\n",
              "      <td>0</td>\n",
              "      <td>0</td>\n",
              "      <td>NaN</td>\n",
              "      <td>&lt;a href=\"https://mobile.twitter.com\" rel=\"nofollow\"&gt;Twitter Web App&lt;/a&gt;</td>\n",
              "      <td>@RealBobMortimer How's Train Guy?  Hope he's managed to smug out the Corona!</td>\n",
              "      <td>https://twitter.com/vagrant_radio/status/1245075941891727360</td>\n",
              "      <td>Thu Feb 15 19:25:39 +0000 2018</td>\n",
              "      <td>vagrant_radio</td>\n",
              "      <td>False</td>\n",
              "      <td>Out of K Pop combo Weetman Dogpile.\\n\"Sound of the smell of dog turds baking in the sun\"-Neil Kulkarni\\n\"I hope they die!\" - Luke Haines</td>\n",
              "      <td>14045</td>\n",
              "      <td>132</td>\n",
              "      <td>371</td>\n",
              "      <td>0</td>\n",
              "      <td>Q Continuum</td>\n",
              "      <td>Bobby 'You Pay For What You Get' Bollocks</td>\n",
              "      <td>vagrant_radio</td>\n",
              "      <td>14977</td>\n",
              "      <td>NaN</td>\n",
              "      <td>https://everypuddle.blogspot.com/</td>\n",
              "      <td>False</td>\n",
              "      <td>How's Train Guy?  Hope he's managed to smug out the Corona!</td>\n",
              "    </tr>\n",
              "    <tr>\n",
              "      <th>781745</th>\n",
              "      <td>NaN</td>\n",
              "      <td>Wed Apr 01 04:38:13 +0000 2020</td>\n",
              "      <td>NaN</td>\n",
              "      <td>NaN</td>\n",
              "      <td>NaN</td>\n",
              "      <td>0</td>\n",
              "      <td>1245208826346762241</td>\n",
              "      <td>huanxin_zhang</td>\n",
              "      <td>1245204721586991104</td>\n",
              "      <td>1207578629095321600</td>\n",
              "      <td>en</td>\n",
              "      <td>NaN</td>\n",
              "      <td>NaN</td>\n",
              "      <td>0</td>\n",
              "      <td>0</td>\n",
              "      <td>NaN</td>\n",
              "      <td>&lt;a href=\"http://twitter.com/download/iphone\" rel=\"nofollow\"&gt;Twitter for iPhone&lt;/a&gt;</td>\n",
              "      <td>@huanxin_zhang @GodAlcove @9r0UKMhqt8AfSce @Liz_Wheeler Taiwan has corona so that means China has corona again?</td>\n",
              "      <td>https://twitter.com/yakoblootz/status/1245208826346762241</td>\n",
              "      <td>Thu Mar 19 17:08:53 +0000 2020</td>\n",
              "      <td>yakoblootz</td>\n",
              "      <td>False</td>\n",
              "      <td>Flame trooper Veteran of the E.Musk space confederation. Aspiring to be a mech pilot/ engineer. if given the opportunity I would go back to kill more communists</td>\n",
              "      <td>203</td>\n",
              "      <td>6</td>\n",
              "      <td>34</td>\n",
              "      <td>0</td>\n",
              "      <td>NaN</td>\n",
              "      <td>Yakoblootz</td>\n",
              "      <td>yakoblootz</td>\n",
              "      <td>344</td>\n",
              "      <td>NaN</td>\n",
              "      <td>NaN</td>\n",
              "      <td>False</td>\n",
              "      <td>Taiwan has corona so that means China has corona again?</td>\n",
              "    </tr>\n",
              "  </tbody>\n",
              "</table>\n",
              "</div>"
            ],
            "text/plain": [
              "       coordinates  ...                                                 modified_text\n",
              "552018         NaN  ...   How's Train Guy?  Hope he's managed to smug out the Corona!\n",
              "781745         NaN  ...       Taiwan has corona so that means China has corona again?\n",
              "\n",
              "[2 rows x 35 columns]"
            ]
          },
          "metadata": {
            "tags": []
          },
          "execution_count": 9
        }
      ]
    },
    {
      "cell_type": "markdown",
      "metadata": {
        "id": "Jfq66BaYpojK"
      },
      "source": [
        "## Guessing language\n",
        "\n",
        "Since our sentiment analysis focuses on only English tweets, we will install a `langdetect` library to help filter out tweets that are not English."
      ]
    },
    {
      "cell_type": "code",
      "metadata": {
        "id": "pPwDbh-HmBv8",
        "colab": {
          "base_uri": "https://localhost:8080/"
        },
        "outputId": "3a579bea-e3df-4ae9-ccdb-f446d9c5d68f"
      },
      "source": [
        "#https://pypi.org/project/langdetect/\n",
        "!pip install langdetect\n",
        "from langdetect import detect\n",
        "from langdetect import DetectorFactory\n",
        "DetectorFactory.seed = 0\n",
        "\n"
      ],
      "execution_count": 10,
      "outputs": [
        {
          "output_type": "stream",
          "text": [
            "Requirement already satisfied: langdetect in /usr/local/lib/python3.6/dist-packages (1.0.8)\n",
            "Requirement already satisfied: six in /usr/local/lib/python3.6/dist-packages (from langdetect) (1.15.0)\n"
          ],
          "name": "stdout"
        }
      ]
    },
    {
      "cell_type": "markdown",
      "metadata": {
        "id": "oPdqdngRnI8B"
      },
      "source": [
        "Function to test whether tweet is English with error handling."
      ]
    },
    {
      "cell_type": "code",
      "metadata": {
        "id": "HJWNxzqbQhIz"
      },
      "source": [
        "#https://stackoverflow.com/questions/60930935/exclude-non-english-rows-in-pandas\n",
        "\n",
        "def is_en(txt):\n",
        "    try:\n",
        "        return detect(txt)=='en'\n",
        "    except:\n",
        "        return False"
      ],
      "execution_count": 11,
      "outputs": []
    },
    {
      "cell_type": "markdown",
      "metadata": {
        "id": "zF4fSfUF3Gcy"
      },
      "source": [
        "Passing as the `is_en()` as first-class function; returning a boolean value as a attribute `guessed_language`."
      ]
    },
    {
      "cell_type": "code",
      "metadata": {
        "id": "CCxbwQfSmht4",
        "colab": {
          "base_uri": "https://localhost:8080/"
        },
        "outputId": "f3209622-2335-4b57-a176-b41a932e2f4c"
      },
      "source": [
        "dfOriginals['guessed_language'] = dfOriginals.modified_text.apply(is_en)"
      ],
      "execution_count": 12,
      "outputs": [
        {
          "output_type": "stream",
          "text": [
            "/usr/local/lib/python3.6/dist-packages/ipykernel_launcher.py:1: SettingWithCopyWarning: \n",
            "A value is trying to be set on a copy of a slice from a DataFrame.\n",
            "Try using .loc[row_indexer,col_indexer] = value instead\n",
            "\n",
            "See the caveats in the documentation: https://pandas.pydata.org/pandas-docs/stable/user_guide/indexing.html#returning-a-view-versus-a-copy\n",
            "  \"\"\"Entry point for launching an IPython kernel.\n"
          ],
          "name": "stderr"
        }
      ]
    },
    {
      "cell_type": "markdown",
      "metadata": {
        "id": "dsfksiehng6H"
      },
      "source": [
        "By filtering out non-English tweets, we remove noise that can potentially affect our sentimental analysis."
      ]
    },
    {
      "cell_type": "code",
      "metadata": {
        "id": "zPoRWDGSXx99",
        "colab": {
          "base_uri": "https://localhost:8080/"
        },
        "outputId": "e55698b2-f6a7-43b5-a4e8-40e1503325f7"
      },
      "source": [
        "print(\"There are \" + str(len(dfOriginals)) + \" tweets in total, and \" + str(sum(dfOriginals.guessed_language)) + \" detects as English.\")\n",
        "print(\"Percentage of tweets that are in English: \" + str(round((sum(dfOriginals.guessed_language) / len(dfOriginals)) * 100, 4)) + \"%\")\n"
      ],
      "execution_count": 13,
      "outputs": [
        {
          "output_type": "stream",
          "text": [
            "There are 245389 tweets in total, and 232816 detects as English.\n",
            "Percentage of tweets that are in English: 94.8763%\n"
          ],
          "name": "stdout"
        }
      ]
    },
    {
      "cell_type": "markdown",
      "metadata": {
        "id": "atZ26M3rYTfg"
      },
      "source": [
        "# Step 7. Sentiment Analysis"
      ]
    },
    {
      "cell_type": "markdown",
      "metadata": {
        "id": "ezcFLOzHLRE_"
      },
      "source": [
        "To conduct Seitment Analysis, we begin by importing the NLTK library."
      ]
    },
    {
      "cell_type": "code",
      "metadata": {
        "id": "PxgmxMWypoi2",
        "colab": {
          "base_uri": "https://localhost:8080/"
        },
        "outputId": "98206da6-fa7f-4746-afb7-a14bb639ae3f"
      },
      "source": [
        "import nltk\n",
        "from nltk.sentiment.util import *\n",
        "from nltk.sentiment import SentimentIntensityAnalyzer\n",
        "from nltk import tokenize\n",
        "nltk.download('punkt')\n",
        "nltk.download('vader_lexicon')\n",
        "sid = SentimentIntensityAnalyzer()"
      ],
      "execution_count": 14,
      "outputs": [
        {
          "output_type": "stream",
          "text": [
            "[nltk_data] Downloading package punkt to /root/nltk_data...\n",
            "[nltk_data]   Package punkt is already up-to-date!\n",
            "[nltk_data] Downloading package vader_lexicon to /root/nltk_data...\n",
            "[nltk_data]   Package vader_lexicon is already up-to-date!\n"
          ],
          "name": "stdout"
        },
        {
          "output_type": "stream",
          "text": [
            "/usr/local/lib/python3.6/dist-packages/nltk/twitter/__init__.py:20: UserWarning: The twython library has not been installed. Some functionality from the twitter package will not be available.\n",
            "  warnings.warn(\"The twython library has not been installed. \"\n"
          ],
          "name": "stderr"
        }
      ]
    },
    {
      "cell_type": "markdown",
      "metadata": {
        "id": "IhrR1DkvcgNO"
      },
      "source": [
        "## Applying Sentiment Analysis function\n",
        "\n",
        "We apply the polarity score function and store results on a new attribute `sentimentscore`.\n",
        "\n"
      ]
    },
    {
      "cell_type": "code",
      "metadata": {
        "id": "Zjw8l4kapojF",
        "colab": {
          "base_uri": "https://localhost:8080/"
        },
        "outputId": "a688c5c9-6a6f-47b7-9e4b-283c2723c48f"
      },
      "source": [
        "dfOriginals['sentimentscore'] = dfOriginals.modified_text.apply(sid.polarity_scores)"
      ],
      "execution_count": 15,
      "outputs": [
        {
          "output_type": "stream",
          "text": [
            "/usr/local/lib/python3.6/dist-packages/ipykernel_launcher.py:1: SettingWithCopyWarning: \n",
            "A value is trying to be set on a copy of a slice from a DataFrame.\n",
            "Try using .loc[row_indexer,col_indexer] = value instead\n",
            "\n",
            "See the caveats in the documentation: https://pandas.pydata.org/pandas-docs/stable/user_guide/indexing.html#returning-a-view-versus-a-copy\n",
            "  \"\"\"Entry point for launching an IPython kernel.\n"
          ],
          "name": "stderr"
        }
      ]
    },
    {
      "cell_type": "markdown",
      "metadata": {
        "id": "MKHk7KzTXSNZ"
      },
      "source": [
        "A quick sample preview of the text and its sentiment score."
      ]
    },
    {
      "cell_type": "code",
      "metadata": {
        "id": "juosFirzpojI",
        "colab": {
          "base_uri": "https://localhost:8080/",
          "height": 529
        },
        "outputId": "2801ca7b-1c27-4669-c03b-af553b222192"
      },
      "source": [
        "dfOriginals.sample(10)[['modified_text','sentimentscore']]"
      ],
      "execution_count": 17,
      "outputs": [
        {
          "output_type": "execute_result",
          "data": {
            "text/html": [
              "<div>\n",
              "<style scoped>\n",
              "    .dataframe tbody tr th:only-of-type {\n",
              "        vertical-align: middle;\n",
              "    }\n",
              "\n",
              "    .dataframe tbody tr th {\n",
              "        vertical-align: top;\n",
              "    }\n",
              "\n",
              "    .dataframe thead th {\n",
              "        text-align: right;\n",
              "    }\n",
              "</style>\n",
              "<table border=\"1\" class=\"dataframe\">\n",
              "  <thead>\n",
              "    <tr style=\"text-align: right;\">\n",
              "      <th></th>\n",
              "      <th>modified_text</th>\n",
              "      <th>sentimentscore</th>\n",
              "    </tr>\n",
              "  </thead>\n",
              "  <tbody>\n",
              "    <tr>\n",
              "      <th>526025</th>\n",
              "      <td>Seeing that all the  stars have  for some reason maybe she has it as well...</td>\n",
              "      <td>{'neg': 0.0, 'neu': 1.0, 'pos': 0.0, 'compound': 0.0}</td>\n",
              "    </tr>\n",
              "    <tr>\n",
              "      <th>604483</th>\n",
              "      <td>In currency CORONA situation how Pakistan is planning to earn money or after this crisis? there is no product except this digital Gold which  is suggesting, let him put crypto mining farm in KPK using  err</td>\n",
              "      <td>{'neg': 0.172, 'neu': 0.828, 'pos': 0.0, 'compound': -0.795}</td>\n",
              "    </tr>\n",
              "    <tr>\n",
              "      <th>744354</th>\n",
              "      <td>A Saint is doing all welfare work for the society and what he got for that - Jail !! Very shameful.And see the height of injustice that he has not got a single day parole despite of Corona spreading in the whole country.</td>\n",
              "      <td>{'neg': 0.099, 'neu': 0.901, 'pos': 0.0, 'compound': -0.6467}</td>\n",
              "    </tr>\n",
              "    <tr>\n",
              "      <th>758209</th>\n",
              "      <td>Can someone understand, now we can live without the luxuries of the modern world. Thanks to Corona virus. Just cut off the fiber optic cable and we'll be in heavens.</td>\n",
              "      <td>{'neg': 0.061, 'neu': 0.778, 'pos': 0.161, 'compound': 0.5423}</td>\n",
              "    </tr>\n",
              "    <tr>\n",
              "      <th>769554</th>\n",
              "      <td>The latest  - clippings!  Thanks to</td>\n",
              "      <td>{'neg': 0.0, 'neu': 0.556, 'pos': 0.444, 'compound': 0.4926}</td>\n",
              "    </tr>\n",
              "    <tr>\n",
              "      <th>616261</th>\n",
              "      <td>Are u going back on tour after corona</td>\n",
              "      <td>{'neg': 0.0, 'neu': 1.0, 'pos': 0.0, 'compound': 0.0}</td>\n",
              "    </tr>\n",
              "    <tr>\n",
              "      <th>624507</th>\n",
              "      <td>We ain’t hear any corona virus cases in Alaska. That must be the move.</td>\n",
              "      <td>{'neg': 0.0, 'neu': 1.0, 'pos': 0.0, 'compound': 0.0}</td>\n",
              "    </tr>\n",
              "    <tr>\n",
              "      <th>670410</th>\n",
              "      <td>It’s April fools day... okay corona you got us... time to leave now</td>\n",
              "      <td>{'neg': 0.27, 'neu': 0.613, 'pos': 0.117, 'compound': -0.3612}</td>\n",
              "    </tr>\n",
              "    <tr>\n",
              "      <th>634886</th>\n",
              "      <td>tory lanez lowkey the goat of ig live during corona</td>\n",
              "      <td>{'neg': 0.0, 'neu': 1.0, 'pos': 0.0, 'compound': 0.0}</td>\n",
              "    </tr>\n",
              "    <tr>\n",
              "      <th>141621</th>\n",
              "      <td>Good Morning FolksI Dropped A New Freestyle\" Dear God \" Please Click The Link 👌🏽 OOINCORONA Tag &amp;amp; Share</td>\n",
              "      <td>{'neg': 0.0, 'neu': 0.444, 'pos': 0.556, 'compound': 0.8957}</td>\n",
              "    </tr>\n",
              "  </tbody>\n",
              "</table>\n",
              "</div>"
            ],
            "text/plain": [
              "                                                                                                                                                                                                                       modified_text                                                  sentimentscore\n",
              "526025                                                                                                                                                  Seeing that all the  stars have  for some reason maybe she has it as well...           {'neg': 0.0, 'neu': 1.0, 'pos': 0.0, 'compound': 0.0}\n",
              "604483                 In currency CORONA situation how Pakistan is planning to earn money or after this crisis? there is no product except this digital Gold which  is suggesting, let him put crypto mining farm in KPK using  err    {'neg': 0.172, 'neu': 0.828, 'pos': 0.0, 'compound': -0.795}\n",
              "744354  A Saint is doing all welfare work for the society and what he got for that - Jail !! Very shameful.And see the height of injustice that he has not got a single day parole despite of Corona spreading in the whole country.   {'neg': 0.099, 'neu': 0.901, 'pos': 0.0, 'compound': -0.6467}\n",
              "758209                                                         Can someone understand, now we can live without the luxuries of the modern world. Thanks to Corona virus. Just cut off the fiber optic cable and we'll be in heavens.  {'neg': 0.061, 'neu': 0.778, 'pos': 0.161, 'compound': 0.5423}\n",
              "769554                                                                                                                                                                                      The latest  - clippings!  Thanks to         {'neg': 0.0, 'neu': 0.556, 'pos': 0.444, 'compound': 0.4926}\n",
              "616261                                                                                                                                                                                         Are u going back on tour after corona           {'neg': 0.0, 'neu': 1.0, 'pos': 0.0, 'compound': 0.0}\n",
              "624507                                                                                                                                                        We ain’t hear any corona virus cases in Alaska. That must be the move.           {'neg': 0.0, 'neu': 1.0, 'pos': 0.0, 'compound': 0.0}\n",
              "670410                                                                                                                                                           It’s April fools day... okay corona you got us... time to leave now  {'neg': 0.27, 'neu': 0.613, 'pos': 0.117, 'compound': -0.3612}\n",
              "634886                                                                                                                                                                           tory lanez lowkey the goat of ig live during corona           {'neg': 0.0, 'neu': 1.0, 'pos': 0.0, 'compound': 0.0}\n",
              "141621                                                                                                                 Good Morning FolksI Dropped A New Freestyle\" Dear God \" Please Click The Link 👌🏽 OOINCORONA Tag &amp; Share      {'neg': 0.0, 'neu': 0.444, 'pos': 0.556, 'compound': 0.8957}"
            ]
          },
          "metadata": {
            "tags": []
          },
          "execution_count": 17
        }
      ]
    },
    {
      "cell_type": "markdown",
      "metadata": {
        "id": "kbrLEIGyEET0"
      },
      "source": [
        "The `SentimentIntensityAnalyzer()` returns a dictionary of scores negative, neutral, positive, and compound. Compound is the normalization of negative, neutral, and positive values.\n",
        "\n",
        "\n",
        "How compound is calculated? https://stackoverflow.com/questions/40325980/how-is-the-vader-compound-polarity-score-calculated-in-python-nltk\n",
        "\n",
        "Next, we expand the score, which is currently as dictionary, into their own attributes for better data manipulation--especially the compound attribute."
      ]
    },
    {
      "cell_type": "code",
      "metadata": {
        "id": "M9GcU1qtEKha"
      },
      "source": [
        "dfOriginalSScore = pd.json_normalize(dfOriginals.sentimentscore)\n",
        "dfOriginalSScore['original_index'] = dfOriginals.index\n",
        "dfOriginalSScore = dfOriginalSScore.set_index('original_index')"
      ],
      "execution_count": 18,
      "outputs": []
    },
    {
      "cell_type": "code",
      "metadata": {
        "id": "Z9nqoDf7comS"
      },
      "source": [
        "dfOriginals_Analyzed = dfOriginals.merge(dfOriginalSScore, left_index=True, right_index=True)"
      ],
      "execution_count": 19,
      "outputs": []
    },
    {
      "cell_type": "code",
      "metadata": {
        "colab": {
          "base_uri": "https://localhost:8080/",
          "height": 661
        },
        "id": "F_S5FheUnd1y",
        "outputId": "4fafbf92-18d6-4c6d-c11c-1d7924355a4d"
      },
      "source": [
        "dfOriginals_Analyzed.head(1)"
      ],
      "execution_count": 21,
      "outputs": [
        {
          "output_type": "execute_result",
          "data": {
            "text/html": [
              "<div>\n",
              "<style scoped>\n",
              "    .dataframe tbody tr th:only-of-type {\n",
              "        vertical-align: middle;\n",
              "    }\n",
              "\n",
              "    .dataframe tbody tr th {\n",
              "        vertical-align: top;\n",
              "    }\n",
              "\n",
              "    .dataframe thead th {\n",
              "        text-align: right;\n",
              "    }\n",
              "</style>\n",
              "<table border=\"1\" class=\"dataframe\">\n",
              "  <thead>\n",
              "    <tr style=\"text-align: right;\">\n",
              "      <th></th>\n",
              "      <th>coordinates</th>\n",
              "      <th>created_at</th>\n",
              "      <th>hashtags</th>\n",
              "      <th>media</th>\n",
              "      <th>urls</th>\n",
              "      <th>favorite_count</th>\n",
              "      <th>id</th>\n",
              "      <th>in_reply_to_screen_name</th>\n",
              "      <th>in_reply_to_status_id</th>\n",
              "      <th>in_reply_to_user_id</th>\n",
              "      <th>lang</th>\n",
              "      <th>place</th>\n",
              "      <th>possibly_sensitive</th>\n",
              "      <th>retweet_count</th>\n",
              "      <th>retweet_id</th>\n",
              "      <th>retweet_screen_name</th>\n",
              "      <th>source</th>\n",
              "      <th>text</th>\n",
              "      <th>tweet_url</th>\n",
              "      <th>user_created_at</th>\n",
              "      <th>user_screen_name</th>\n",
              "      <th>user_default_profile_image</th>\n",
              "      <th>user_description</th>\n",
              "      <th>user_favourites_count</th>\n",
              "      <th>user_followers_count</th>\n",
              "      <th>user_friends_count</th>\n",
              "      <th>user_listed_count</th>\n",
              "      <th>user_location</th>\n",
              "      <th>user_name</th>\n",
              "      <th>user_screen_name.1</th>\n",
              "      <th>user_statuses_count</th>\n",
              "      <th>user_time_zone</th>\n",
              "      <th>user_urls</th>\n",
              "      <th>user_verified</th>\n",
              "      <th>modified_text</th>\n",
              "      <th>guessed_language</th>\n",
              "      <th>sentimentscore</th>\n",
              "      <th>neg</th>\n",
              "      <th>neu</th>\n",
              "      <th>pos</th>\n",
              "      <th>compound</th>\n",
              "    </tr>\n",
              "  </thead>\n",
              "  <tbody>\n",
              "    <tr>\n",
              "      <th>3</th>\n",
              "      <td>NaN</td>\n",
              "      <td>Tue Mar 31 04:35:43 +0000 2020</td>\n",
              "      <td>NaN</td>\n",
              "      <td>NaN</td>\n",
              "      <td>NaN</td>\n",
              "      <td>0</td>\n",
              "      <td>1244845807926272001</td>\n",
              "      <td>IMBHAVESHG</td>\n",
              "      <td>1244695118029807616</td>\n",
              "      <td>1163408885769617408</td>\n",
              "      <td>en</td>\n",
              "      <td>NaN</td>\n",
              "      <td>NaN</td>\n",
              "      <td>0</td>\n",
              "      <td>0</td>\n",
              "      <td>NaN</td>\n",
              "      <td>&lt;a href=\"http://twitter.com/download/android\" rel=\"nofollow\"&gt;Twitter for Android&lt;/a&gt;</td>\n",
              "      <td>CORONA PATIENT INCREASE AFTER LOCKDOWN BECOZ PM MODIJI TAKE LATE DECESSION ABOUT LOCKDOWN NOT MODIJI BUT WHOLE WORLD TAKE LATE DECESSION ABOUT LOCKDOWN AND WORLD ALSO LATE TO TAKE STEP AGAIN CORONA WHEN CORONA CRISIS INCREASE IN OUR COUNTRY GOVT ENGAGE IN \" NAMSTE TRUMP \"</td>\n",
              "      <td>https://twitter.com/IMBHAVESHG/status/1244845807926272001</td>\n",
              "      <td>Mon Aug 19 11:14:47 +0000 2019</td>\n",
              "      <td>IMBHAVESHG</td>\n",
              "      <td>False</td>\n",
              "      <td>think difference other than</td>\n",
              "      <td>330</td>\n",
              "      <td>54</td>\n",
              "      <td>172</td>\n",
              "      <td>0</td>\n",
              "      <td>Ahmadabad City, India</td>\n",
              "      <td>BHAVESH GOVINDBHAI PARMAR</td>\n",
              "      <td>IMBHAVESHG</td>\n",
              "      <td>1938</td>\n",
              "      <td>NaN</td>\n",
              "      <td>NaN</td>\n",
              "      <td>False</td>\n",
              "      <td>CORONA PATIENT INCREASE AFTER LOCKDOWN BECOZ PM MODIJI TAKE LATE DECESSION ABOUT LOCKDOWN NOT MODIJI BUT WHOLE WORLD TAKE LATE DECESSION ABOUT LOCKDOWN AND WORLD ALSO LATE TO TAKE STEP AGAIN CORONA WHEN CORONA CRISIS INCREASE IN OUR COUNTRY GOVT ENGAGE IN \" NAMSTE TRUMP \"</td>\n",
              "      <td>True</td>\n",
              "      <td>{'neg': 0.106, 'neu': 0.75, 'pos': 0.144, 'compound': 0.0129}</td>\n",
              "      <td>0.106</td>\n",
              "      <td>0.75</td>\n",
              "      <td>0.144</td>\n",
              "      <td>0.0129</td>\n",
              "    </tr>\n",
              "  </tbody>\n",
              "</table>\n",
              "</div>"
            ],
            "text/plain": [
              "  coordinates                      created_at hashtags  ...   neu    pos  compound\n",
              "3         NaN  Tue Mar 31 04:35:43 +0000 2020      NaN  ...  0.75  0.144    0.0129\n",
              "\n",
              "[1 rows x 41 columns]"
            ]
          },
          "metadata": {
            "tags": []
          },
          "execution_count": 21
        }
      ]
    },
    {
      "cell_type": "code",
      "metadata": {
        "id": "aoK5ZqBlU9Wa",
        "colab": {
          "base_uri": "https://localhost:8080/",
          "height": 410
        },
        "outputId": "9963d74a-0e58-450e-db68-1b716ce7a58e"
      },
      "source": [
        "dfOriginals_Analyzed.sample(10)[['modified_text','compound']]"
      ],
      "execution_count": 22,
      "outputs": [
        {
          "output_type": "execute_result",
          "data": {
            "text/html": [
              "<div>\n",
              "<style scoped>\n",
              "    .dataframe tbody tr th:only-of-type {\n",
              "        vertical-align: middle;\n",
              "    }\n",
              "\n",
              "    .dataframe tbody tr th {\n",
              "        vertical-align: top;\n",
              "    }\n",
              "\n",
              "    .dataframe thead th {\n",
              "        text-align: right;\n",
              "    }\n",
              "</style>\n",
              "<table border=\"1\" class=\"dataframe\">\n",
              "  <thead>\n",
              "    <tr style=\"text-align: right;\">\n",
              "      <th></th>\n",
              "      <th>modified_text</th>\n",
              "      <th>compound</th>\n",
              "    </tr>\n",
              "  </thead>\n",
              "  <tbody>\n",
              "    <tr>\n",
              "      <th>722367</th>\n",
              "      <td>And that idea comes f… https: Oh shit that's my weight class AND i've got the corona virus i would simply find my beach.</td>\n",
              "      <td>-0.5574</td>\n",
              "    </tr>\n",
              "    <tr>\n",
              "      <th>502487</th>\n",
              "      <td>Corona Update in India!Total Confirmed: 1619Active Cases: 1422Total Recovered: 150Total Deaths: 47Updated at: 31/03/2020 23:32:27Get it on WhatsApp:</td>\n",
              "      <td>0.0000</td>\n",
              "    </tr>\n",
              "    <tr>\n",
              "      <th>785736</th>\n",
              "      <td>Lets trend this. Lets all Communists come together and hug a Corona Patients. Its time to show Love for them. Marx। Lenin and Mao will give you more Love  And knowledge &amp;amp; Happy for this Hugs.</td>\n",
              "      <td>0.9607</td>\n",
              "    </tr>\n",
              "    <tr>\n",
              "      <th>437699</th>\n",
              "      <td>Are you insane? Not sure where you get your news from but check it out ...  is SHOWING the truth and it’s not 3000 dead FROM THE CORONA VIRUS WITHOUT EXISTING MEDICAL ISSUES‼️</td>\n",
              "      <td>0.7416</td>\n",
              "    </tr>\n",
              "    <tr>\n",
              "      <th>107606</th>\n",
              "      <td>this community is threat for our country. this is not MARKAZ, this is basically MARGHAT. they were involved in making BOMB during DELHI RIOT and now making CORONA BOMB</td>\n",
              "      <td>-0.9485</td>\n",
              "    </tr>\n",
              "    <tr>\n",
              "      <th>695645</th>\n",
              "      <td>Will you take a Corona break, please? Honestly, no one outside the bubble cares about that right now. Stay home, wash your hands and stay safe!</td>\n",
              "      <td>0.8516</td>\n",
              "    </tr>\n",
              "    <tr>\n",
              "      <th>516064</th>\n",
              "      <td>She might be carrying a resistant strain, even the phoren mullas..Brace yourself</td>\n",
              "      <td>-0.0516</td>\n",
              "    </tr>\n",
              "    <tr>\n",
              "      <th>367891</th>\n",
              "      <td>is epic centre for spreading corona virus</td>\n",
              "      <td>0.0000</td>\n",
              "    </tr>\n",
              "    <tr>\n",
              "      <th>287695</th>\n",
              "      <td>While there is lock down the whole world is busy against corona so they get the data and how they are free</td>\n",
              "      <td>0.5106</td>\n",
              "    </tr>\n",
              "    <tr>\n",
              "      <th>620486</th>\n",
              "      <td>Sumber:</td>\n",
              "      <td>0.0000</td>\n",
              "    </tr>\n",
              "  </tbody>\n",
              "</table>\n",
              "</div>"
            ],
            "text/plain": [
              "                                                                                                                                                                                                    modified_text  compound\n",
              "722367                                                                                   And that idea comes f… https: Oh shit that's my weight class AND i've got the corona virus i would simply find my beach.   -0.5574\n",
              "502487                                                      Corona Update in India!Total Confirmed: 1619Active Cases: 1422Total Recovered: 150Total Deaths: 47Updated at: 31/03/2020 23:32:27Get it on WhatsApp:     0.0000\n",
              "785736        Lets trend this. Lets all Communists come together and hug a Corona Patients. Its time to show Love for them. Marx। Lenin and Mao will give you more Love  And knowledge &amp; Happy for this Hugs.    0.9607\n",
              "437699                           Are you insane? Not sure where you get your news from but check it out ...  is SHOWING the truth and it’s not 3000 dead FROM THE CORONA VIRUS WITHOUT EXISTING MEDICAL ISSUES‼️     0.7416\n",
              "107606                                    this community is threat for our country. this is not MARKAZ, this is basically MARGHAT. they were involved in making BOMB during DELHI RIOT and now making CORONA BOMB   -0.9485\n",
              "695645                                                            Will you take a Corona break, please? Honestly, no one outside the bubble cares about that right now. Stay home, wash your hands and stay safe!    0.8516\n",
              "516064                                                                                                                        She might be carrying a resistant strain, even the phoren mullas..Brace yourself      -0.0516\n",
              "367891                                                                                                                                                                  is epic centre for spreading corona virus    0.0000\n",
              "287695                                                                                                 While there is lock down the whole world is busy against corona so they get the data and how they are free    0.5106\n",
              "620486                                                                                                                                                                                                  Sumber:      0.0000"
            ]
          },
          "metadata": {
            "tags": []
          },
          "execution_count": 22
        }
      ]
    },
    {
      "cell_type": "markdown",
      "metadata": {
        "id": "haI-bZHZSbwB"
      },
      "source": [
        "Binning based on compound scores\n",
        "-1 to -0.1 = negative \n",
        "-0.1 to 0.1  = neutral\n",
        "0.1 to 1 = positive.\n",
        "\n",
        "reference:\n",
        "Deo, G. S., Mishra, A., Jalaluddin, Z. M., & Mahamuni, C. V. (2020, September). Predictive Analysis of Resource Usage Data in Academic Libraries using the VADER Sentiment Algorithm. In 2020 12th International Conference on Computational Intelligence and Communication Networks (CICN) (pp. 221-228). IEEE.\n",
        "\n",
        "https://www.researchgate.net/profile/Gouri_Deo/publication/342988903_Predictive_Analysis_of_Resource_Usage_Data_in_Academic_Libraries_using_the_VADER_Sentiment_Algorithm/links/5f1085a6a6fdcc3ed70bcf20/Predictive-Analysis-of-Resource-Usage-Data-in-Academic-Libraries-using-the-VADER-Sentiment-Algorithm.pdf\n",
        "\n"
      ]
    },
    {
      "cell_type": "code",
      "metadata": {
        "id": "P2kbxHPFSlv0",
        "colab": {
          "base_uri": "https://localhost:8080/"
        },
        "outputId": "997dd3f5-6b45-436f-facd-5cf7813a6b04"
      },
      "source": [
        "dfOriginals_Analyzed['sentiment_class_relaxed'] = pd.cut(dfOriginals_Analyzed['compound'], bins=[-1, -.1, 0.1, 1], right=True, labels=['neg', 'neu', 'pos'])\n",
        "dfOriginals_Analyzed.sentiment_class_relaxed.value_counts()"
      ],
      "execution_count": 30,
      "outputs": [
        {
          "output_type": "execute_result",
          "data": {
            "text/plain": [
              "neg    89051\n",
              "pos    84039\n",
              "neu    72299\n",
              "Name: sentiment_class_relaxed, dtype: int64"
            ]
          },
          "metadata": {
            "tags": []
          },
          "execution_count": 30
        }
      ]
    },
    {
      "cell_type": "markdown",
      "metadata": {
        "id": "z301Ydq8pOWT"
      },
      "source": [
        "# Step 8. Basic Analysis\n",
        "\n",
        "Observing the correlation between variables."
      ]
    },
    {
      "cell_type": "code",
      "metadata": {
        "colab": {
          "base_uri": "https://localhost:8080/",
          "height": 204
        },
        "id": "85ESk5yIvkfQ",
        "outputId": "19858b5d-5885-4f91-d287-317ad501aa51"
      },
      "source": [
        "dfOriginals_Analyzed[['favorite_count','retweet_count','user_followers_count','compound','user_statuses_count']].corr()"
      ],
      "execution_count": 31,
      "outputs": [
        {
          "output_type": "execute_result",
          "data": {
            "text/html": [
              "<div>\n",
              "<style scoped>\n",
              "    .dataframe tbody tr th:only-of-type {\n",
              "        vertical-align: middle;\n",
              "    }\n",
              "\n",
              "    .dataframe tbody tr th {\n",
              "        vertical-align: top;\n",
              "    }\n",
              "\n",
              "    .dataframe thead th {\n",
              "        text-align: right;\n",
              "    }\n",
              "</style>\n",
              "<table border=\"1\" class=\"dataframe\">\n",
              "  <thead>\n",
              "    <tr style=\"text-align: right;\">\n",
              "      <th></th>\n",
              "      <th>favorite_count</th>\n",
              "      <th>retweet_count</th>\n",
              "      <th>user_followers_count</th>\n",
              "      <th>compound</th>\n",
              "      <th>user_statuses_count</th>\n",
              "    </tr>\n",
              "  </thead>\n",
              "  <tbody>\n",
              "    <tr>\n",
              "      <th>favorite_count</th>\n",
              "      <td>1.000000</td>\n",
              "      <td>0.908576</td>\n",
              "      <td>0.165683</td>\n",
              "      <td>-0.001108</td>\n",
              "      <td>0.015366</td>\n",
              "    </tr>\n",
              "    <tr>\n",
              "      <th>retweet_count</th>\n",
              "      <td>0.908576</td>\n",
              "      <td>1.000000</td>\n",
              "      <td>0.090025</td>\n",
              "      <td>-0.003071</td>\n",
              "      <td>0.015991</td>\n",
              "    </tr>\n",
              "    <tr>\n",
              "      <th>user_followers_count</th>\n",
              "      <td>0.165683</td>\n",
              "      <td>0.090025</td>\n",
              "      <td>1.000000</td>\n",
              "      <td>0.003693</td>\n",
              "      <td>0.116452</td>\n",
              "    </tr>\n",
              "    <tr>\n",
              "      <th>compound</th>\n",
              "      <td>-0.001108</td>\n",
              "      <td>-0.003071</td>\n",
              "      <td>0.003693</td>\n",
              "      <td>1.000000</td>\n",
              "      <td>-0.022604</td>\n",
              "    </tr>\n",
              "    <tr>\n",
              "      <th>user_statuses_count</th>\n",
              "      <td>0.015366</td>\n",
              "      <td>0.015991</td>\n",
              "      <td>0.116452</td>\n",
              "      <td>-0.022604</td>\n",
              "      <td>1.000000</td>\n",
              "    </tr>\n",
              "  </tbody>\n",
              "</table>\n",
              "</div>"
            ],
            "text/plain": [
              "                      favorite_count  ...  user_statuses_count\n",
              "favorite_count              1.000000  ...             0.015366\n",
              "retweet_count               0.908576  ...             0.015991\n",
              "user_followers_count        0.165683  ...             0.116452\n",
              "compound                   -0.001108  ...            -0.022604\n",
              "user_statuses_count         0.015366  ...             1.000000\n",
              "\n",
              "[5 rows x 5 columns]"
            ]
          },
          "metadata": {
            "tags": []
          },
          "execution_count": 31
        }
      ]
    },
    {
      "cell_type": "code",
      "metadata": {
        "colab": {
          "base_uri": "https://localhost:8080/",
          "height": 297
        },
        "id": "UDWk9JkiBfnT",
        "outputId": "acbaf8a6-fb2f-426b-9cf0-f41cd030e020"
      },
      "source": [
        "dfOriginals_Analyzed[['favorite_count','retweet_count','user_followers_count','compound','user_statuses_count','user_verified']].describe().apply(lambda s: s.apply('{0:.5f}'.format))"
      ],
      "execution_count": 32,
      "outputs": [
        {
          "output_type": "execute_result",
          "data": {
            "text/html": [
              "<div>\n",
              "<style scoped>\n",
              "    .dataframe tbody tr th:only-of-type {\n",
              "        vertical-align: middle;\n",
              "    }\n",
              "\n",
              "    .dataframe tbody tr th {\n",
              "        vertical-align: top;\n",
              "    }\n",
              "\n",
              "    .dataframe thead th {\n",
              "        text-align: right;\n",
              "    }\n",
              "</style>\n",
              "<table border=\"1\" class=\"dataframe\">\n",
              "  <thead>\n",
              "    <tr style=\"text-align: right;\">\n",
              "      <th></th>\n",
              "      <th>favorite_count</th>\n",
              "      <th>retweet_count</th>\n",
              "      <th>user_followers_count</th>\n",
              "      <th>compound</th>\n",
              "      <th>user_statuses_count</th>\n",
              "    </tr>\n",
              "  </thead>\n",
              "  <tbody>\n",
              "    <tr>\n",
              "      <th>count</th>\n",
              "      <td>245389.00000</td>\n",
              "      <td>245389.00000</td>\n",
              "      <td>245389.00000</td>\n",
              "      <td>245389.00000</td>\n",
              "      <td>245389.00000</td>\n",
              "    </tr>\n",
              "    <tr>\n",
              "      <th>mean</th>\n",
              "      <td>9.52971</td>\n",
              "      <td>2.70475</td>\n",
              "      <td>9251.20519</td>\n",
              "      <td>-0.01655</td>\n",
              "      <td>27468.30799</td>\n",
              "    </tr>\n",
              "    <tr>\n",
              "      <th>std</th>\n",
              "      <td>384.21091</td>\n",
              "      <td>122.27732</td>\n",
              "      <td>250678.23602</td>\n",
              "      <td>0.47919</td>\n",
              "      <td>75560.36124</td>\n",
              "    </tr>\n",
              "    <tr>\n",
              "      <th>min</th>\n",
              "      <td>0.00000</td>\n",
              "      <td>0.00000</td>\n",
              "      <td>0.00000</td>\n",
              "      <td>-0.99520</td>\n",
              "      <td>1.00000</td>\n",
              "    </tr>\n",
              "    <tr>\n",
              "      <th>25%</th>\n",
              "      <td>0.00000</td>\n",
              "      <td>0.00000</td>\n",
              "      <td>64.00000</td>\n",
              "      <td>-0.39760</td>\n",
              "      <td>1156.00000</td>\n",
              "    </tr>\n",
              "    <tr>\n",
              "      <th>50%</th>\n",
              "      <td>0.00000</td>\n",
              "      <td>0.00000</td>\n",
              "      <td>331.00000</td>\n",
              "      <td>0.00000</td>\n",
              "      <td>6344.00000</td>\n",
              "    </tr>\n",
              "    <tr>\n",
              "      <th>75%</th>\n",
              "      <td>1.00000</td>\n",
              "      <td>0.00000</td>\n",
              "      <td>1307.00000</td>\n",
              "      <td>0.36120</td>\n",
              "      <td>24616.00000</td>\n",
              "    </tr>\n",
              "    <tr>\n",
              "      <th>max</th>\n",
              "      <td>108137.00000</td>\n",
              "      <td>35137.00000</td>\n",
              "      <td>62855265.00000</td>\n",
              "      <td>0.99190</td>\n",
              "      <td>4472178.00000</td>\n",
              "    </tr>\n",
              "  </tbody>\n",
              "</table>\n",
              "</div>"
            ],
            "text/plain": [
              "      favorite_count retweet_count  ...      compound user_statuses_count\n",
              "count   245389.00000  245389.00000  ...  245389.00000        245389.00000\n",
              "mean         9.52971       2.70475  ...      -0.01655         27468.30799\n",
              "std        384.21091     122.27732  ...       0.47919         75560.36124\n",
              "min          0.00000       0.00000  ...      -0.99520             1.00000\n",
              "25%          0.00000       0.00000  ...      -0.39760          1156.00000\n",
              "50%          0.00000       0.00000  ...       0.00000          6344.00000\n",
              "75%          1.00000       0.00000  ...       0.36120         24616.00000\n",
              "max     108137.00000   35137.00000  ...       0.99190       4472178.00000\n",
              "\n",
              "[8 rows x 5 columns]"
            ]
          },
          "metadata": {
            "tags": []
          },
          "execution_count": 32
        }
      ]
    },
    {
      "cell_type": "markdown",
      "metadata": {
        "id": "MQkgLWhJtnwS"
      },
      "source": [
        "Plot Distribution of sentiment scores"
      ]
    },
    {
      "cell_type": "markdown",
      "metadata": {
        "id": "JWvyTRxxHfWt"
      },
      "source": [
        "The histogram shows the distribution appears to have some modes, and rather symmetric."
      ]
    },
    {
      "cell_type": "code",
      "metadata": {
        "colab": {
          "base_uri": "https://localhost:8080/",
          "height": 483
        },
        "id": "9H9QeJvhtYMH",
        "outputId": "fb85998c-151d-43df-c18d-25debbd3d664"
      },
      "source": [
        "import matplotlib.pyplot as plt\n",
        "import seaborn as sns\n",
        "\n",
        "plt.figure(figsize=(8,8)) \n",
        "histo_plot = plt.hist(dfOriginals_Analyzed['compound'],bins=40)\n"
      ],
      "execution_count": 47,
      "outputs": [
        {
          "output_type": "display_data",
          "data": {
            "image/png": "[encoded data removed]",
            "text/plain": [
              "<Figure size 576x576 with 1 Axes>"
            ]
          },
          "metadata": {
            "tags": [],
            "needs_background": "light"
          }
        }
      ]
    },
    {
      "cell_type": "markdown",
      "metadata": {
        "id": "FmFrATvf_2GW"
      },
      "source": [
        "# Step 9. Build Classification\n",
        "\n",
        "## Split Train and Test set"
      ]
    },
    {
      "cell_type": "code",
      "metadata": {
        "id": "43ZanG6qPf5d",
        "colab": {
          "base_uri": "https://localhost:8080/",
          "height": 419
        },
        "outputId": "3c4820a0-4907-414d-8a20-890e72fa4f95"
      },
      "source": [
        "dfOriginals_Analyzed[['favorite_count','retweet_count','user_followers_count','compound']]"
      ],
      "execution_count": 33,
      "outputs": [
        {
          "output_type": "execute_result",
          "data": {
            "text/html": [
              "<div>\n",
              "<style scoped>\n",
              "    .dataframe tbody tr th:only-of-type {\n",
              "        vertical-align: middle;\n",
              "    }\n",
              "\n",
              "    .dataframe tbody tr th {\n",
              "        vertical-align: top;\n",
              "    }\n",
              "\n",
              "    .dataframe thead th {\n",
              "        text-align: right;\n",
              "    }\n",
              "</style>\n",
              "<table border=\"1\" class=\"dataframe\">\n",
              "  <thead>\n",
              "    <tr style=\"text-align: right;\">\n",
              "      <th></th>\n",
              "      <th>favorite_count</th>\n",
              "      <th>retweet_count</th>\n",
              "      <th>user_followers_count</th>\n",
              "      <th>compound</th>\n",
              "    </tr>\n",
              "  </thead>\n",
              "  <tbody>\n",
              "    <tr>\n",
              "      <th>3</th>\n",
              "      <td>0</td>\n",
              "      <td>0</td>\n",
              "      <td>54</td>\n",
              "      <td>0.0129</td>\n",
              "    </tr>\n",
              "    <tr>\n",
              "      <th>4</th>\n",
              "      <td>0</td>\n",
              "      <td>0</td>\n",
              "      <td>73</td>\n",
              "      <td>0.3400</td>\n",
              "    </tr>\n",
              "    <tr>\n",
              "      <th>6</th>\n",
              "      <td>0</td>\n",
              "      <td>0</td>\n",
              "      <td>55</td>\n",
              "      <td>0.4404</td>\n",
              "    </tr>\n",
              "    <tr>\n",
              "      <th>7</th>\n",
              "      <td>0</td>\n",
              "      <td>0</td>\n",
              "      <td>79</td>\n",
              "      <td>0.6369</td>\n",
              "    </tr>\n",
              "    <tr>\n",
              "      <th>12</th>\n",
              "      <td>0</td>\n",
              "      <td>0</td>\n",
              "      <td>36</td>\n",
              "      <td>0.8885</td>\n",
              "    </tr>\n",
              "    <tr>\n",
              "      <th>...</th>\n",
              "      <td>...</td>\n",
              "      <td>...</td>\n",
              "      <td>...</td>\n",
              "      <td>...</td>\n",
              "    </tr>\n",
              "    <tr>\n",
              "      <th>799126</th>\n",
              "      <td>0</td>\n",
              "      <td>0</td>\n",
              "      <td>36</td>\n",
              "      <td>-0.9267</td>\n",
              "    </tr>\n",
              "    <tr>\n",
              "      <th>799127</th>\n",
              "      <td>1</td>\n",
              "      <td>0</td>\n",
              "      <td>8</td>\n",
              "      <td>0.0000</td>\n",
              "    </tr>\n",
              "    <tr>\n",
              "      <th>799128</th>\n",
              "      <td>1</td>\n",
              "      <td>0</td>\n",
              "      <td>5</td>\n",
              "      <td>0.2023</td>\n",
              "    </tr>\n",
              "    <tr>\n",
              "      <th>799130</th>\n",
              "      <td>3</td>\n",
              "      <td>0</td>\n",
              "      <td>441</td>\n",
              "      <td>-0.5106</td>\n",
              "    </tr>\n",
              "    <tr>\n",
              "      <th>799133</th>\n",
              "      <td>0</td>\n",
              "      <td>0</td>\n",
              "      <td>40</td>\n",
              "      <td>-0.8611</td>\n",
              "    </tr>\n",
              "  </tbody>\n",
              "</table>\n",
              "<p>245389 rows × 4 columns</p>\n",
              "</div>"
            ],
            "text/plain": [
              "        favorite_count  retweet_count  user_followers_count  compound\n",
              "3                    0              0                    54    0.0129\n",
              "4                    0              0                    73    0.3400\n",
              "6                    0              0                    55    0.4404\n",
              "7                    0              0                    79    0.6369\n",
              "12                   0              0                    36    0.8885\n",
              "...                ...            ...                   ...       ...\n",
              "799126               0              0                    36   -0.9267\n",
              "799127               1              0                     8    0.0000\n",
              "799128               1              0                     5    0.2023\n",
              "799130               3              0                   441   -0.5106\n",
              "799133               0              0                    40   -0.8611\n",
              "\n",
              "[245389 rows x 4 columns]"
            ]
          },
          "metadata": {
            "tags": []
          },
          "execution_count": 33
        }
      ]
    },
    {
      "cell_type": "code",
      "metadata": {
        "id": "dnvWBGoU_9Nh",
        "colab": {
          "base_uri": "https://localhost:8080/"
        },
        "outputId": "da04d31a-dc2b-4c94-ec49-797e428a83b2"
      },
      "source": [
        "from sklearn import preprocessing\n",
        "from sklearn import linear_model\n",
        "\n",
        "trainSet=dfOriginals_Analyzed.sample(frac=0.8,random_state=150)\n",
        "testSet=dfOriginals_Analyzed.drop(trainSet.index)\n",
        "\n",
        "# X_train = preprocessing.scale(trainSet[['retweet_count','user_followers_count','compound','user_statuses_count','user_verified']])\n",
        "# X_train = preprocessing.scale(trainSet[['user_followers_count','compound','user_statuses_count','user_verified']])\n",
        "X_train = (trainSet[['retweet_count','user_followers_count','compound']])\n",
        "Y_train = trainSet['favorite_count']\n",
        "reg = linear_model.LinearRegression()\n",
        "\n",
        "reg.fit(X_train,Y_train)"
      ],
      "execution_count": 34,
      "outputs": [
        {
          "output_type": "execute_result",
          "data": {
            "text/plain": [
              "LinearRegression(copy_X=True, fit_intercept=True, n_jobs=None, normalize=False)"
            ]
          },
          "metadata": {
            "tags": []
          },
          "execution_count": 34
        }
      ]
    },
    {
      "cell_type": "code",
      "metadata": {
        "id": "AMVTjoD85Yw5",
        "colab": {
          "base_uri": "https://localhost:8080/",
          "height": 419
        },
        "outputId": "dc132c89-485c-472f-956f-e067bc949c89"
      },
      "source": [
        "# clf.predict(testSet[['retweet_count','user_followers_count','compound','user_statuses_count','user_verified',]]) #- testSet['favorite_count']\n",
        "plot_1_Y = reg.predict(testSet[['retweet_count','user_followers_count','compound']]) # predicted as Y\n",
        "plot_1_X = testSet['favorite_count'].reset_index()  # actual as X\n",
        "df_plot_1 = pd.concat([plot_1_X,pd.DataFrame(plot_1_Y)],axis=1)\n",
        "df_plot_1.columns = ['index','actual', 'predicted']\n",
        "df_plot_1"
      ],
      "execution_count": 35,
      "outputs": [
        {
          "output_type": "execute_result",
          "data": {
            "text/html": [
              "<div>\n",
              "<style scoped>\n",
              "    .dataframe tbody tr th:only-of-type {\n",
              "        vertical-align: middle;\n",
              "    }\n",
              "\n",
              "    .dataframe tbody tr th {\n",
              "        vertical-align: top;\n",
              "    }\n",
              "\n",
              "    .dataframe thead th {\n",
              "        text-align: right;\n",
              "    }\n",
              "</style>\n",
              "<table border=\"1\" class=\"dataframe\">\n",
              "  <thead>\n",
              "    <tr style=\"text-align: right;\">\n",
              "      <th></th>\n",
              "      <th>index</th>\n",
              "      <th>actual</th>\n",
              "      <th>predicted</th>\n",
              "    </tr>\n",
              "  </thead>\n",
              "  <tbody>\n",
              "    <tr>\n",
              "      <th>0</th>\n",
              "      <td>56</td>\n",
              "      <td>0</td>\n",
              "      <td>2.089095</td>\n",
              "    </tr>\n",
              "    <tr>\n",
              "      <th>1</th>\n",
              "      <td>75</td>\n",
              "      <td>2</td>\n",
              "      <td>6.829551</td>\n",
              "    </tr>\n",
              "    <tr>\n",
              "      <th>2</th>\n",
              "      <td>115</td>\n",
              "      <td>1</td>\n",
              "      <td>1.998072</td>\n",
              "    </tr>\n",
              "    <tr>\n",
              "      <th>3</th>\n",
              "      <td>145</td>\n",
              "      <td>0</td>\n",
              "      <td>1.749808</td>\n",
              "    </tr>\n",
              "    <tr>\n",
              "      <th>4</th>\n",
              "      <td>149</td>\n",
              "      <td>0</td>\n",
              "      <td>1.259081</td>\n",
              "    </tr>\n",
              "    <tr>\n",
              "      <th>...</th>\n",
              "      <td>...</td>\n",
              "      <td>...</td>\n",
              "      <td>...</td>\n",
              "    </tr>\n",
              "    <tr>\n",
              "      <th>49073</th>\n",
              "      <td>799003</td>\n",
              "      <td>2</td>\n",
              "      <td>1.682046</td>\n",
              "    </tr>\n",
              "    <tr>\n",
              "      <th>49074</th>\n",
              "      <td>799023</td>\n",
              "      <td>0</td>\n",
              "      <td>0.187456</td>\n",
              "    </tr>\n",
              "    <tr>\n",
              "      <th>49075</th>\n",
              "      <td>799037</td>\n",
              "      <td>1</td>\n",
              "      <td>1.341901</td>\n",
              "    </tr>\n",
              "    <tr>\n",
              "      <th>49076</th>\n",
              "      <td>799056</td>\n",
              "      <td>0</td>\n",
              "      <td>0.276063</td>\n",
              "    </tr>\n",
              "    <tr>\n",
              "      <th>49077</th>\n",
              "      <td>799125</td>\n",
              "      <td>1</td>\n",
              "      <td>0.425340</td>\n",
              "    </tr>\n",
              "  </tbody>\n",
              "</table>\n",
              "<p>49078 rows × 3 columns</p>\n",
              "</div>"
            ],
            "text/plain": [
              "        index  actual  predicted\n",
              "0          56       0   2.089095\n",
              "1          75       2   6.829551\n",
              "2         115       1   1.998072\n",
              "3         145       0   1.749808\n",
              "4         149       0   1.259081\n",
              "...       ...     ...        ...\n",
              "49073  799003       2   1.682046\n",
              "49074  799023       0   0.187456\n",
              "49075  799037       1   1.341901\n",
              "49076  799056       0   0.276063\n",
              "49077  799125       1   0.425340\n",
              "\n",
              "[49078 rows x 3 columns]"
            ]
          },
          "metadata": {
            "tags": []
          },
          "execution_count": 35
        }
      ]
    },
    {
      "cell_type": "code",
      "metadata": {
        "colab": {
          "base_uri": "https://localhost:8080/",
          "height": 635
        },
        "id": "pKt0m5Z2MKiW",
        "outputId": "017b5b41-7003-4ab7-d854-7c3104e557de"
      },
      "source": [
        "from numpy.polynomial.polynomial import polyfit\n",
        "\n",
        "plot_1 = df_plot_1.plot.scatter(x='actual',y='predicted',figsize=(20,10),title=\"Predicted values versus Actual values\")\n",
        "plot_1.set_ylabel(\"Predicted values\")\n",
        "plot_1.set_xlabel(\"Actual values\")\n",
        "\n",
        "b, m = polyfit(df_plot_1.actual, df_plot_1.predicted, 1)\n",
        "plot_1.plot(df_plot_1.actual, b + m * df_plot_1.actual, '-')\n",
        "\n"
      ],
      "execution_count": 36,
      "outputs": [
        {
          "output_type": "execute_result",
          "data": {
            "text/plain": [
              "[<matplotlib.lines.Line2D at 0x7fd26c677a20>]"
            ]
          },
          "metadata": {
            "tags": []
          },
          "execution_count": 36
        },
        {
          "output_type": "display_data",
          "data": {
            "image/png": "[encoded data removed]",
            "text/plain": [
              "<Figure size 1440x720 with 1 Axes>"
            ]
          },
          "metadata": {
            "tags": [],
            "needs_background": "light"
          }
        }
      ]
    },
    {
      "cell_type": "markdown",
      "metadata": {
        "id": "kgzIaCKenOU_"
      },
      "source": [
        "# Step 10: Getting Results\n",
        "\n",
        "Mean Square Error\n",
        "\n",
        "reference: https://stackoverflow.com/questions/49103139/calculating-accuracy-scores-of-predicted-continuous-values"
      ]
    },
    {
      "cell_type": "code",
      "metadata": {
        "colab": {
          "base_uri": "https://localhost:8080/"
        },
        "id": "I2FaV3XznNL0",
        "outputId": "8cfe21ff-49f0-4f86-d72d-4efd0ad77be6"
      },
      "source": [
        "from sklearn.metrics import mean_squared_error\n",
        "from sklearn.metrics import r2_score\n",
        "\n",
        "from math import sqrt\n",
        "\n",
        "mse = mean_squared_error(df_plot_1.actual, df_plot_1.predicted)\n",
        "print(\"Mean Square Error (MSE): \" + str(mse))\n",
        "print(\"Root MSE: \" + str(sqrt(mse)))\n",
        "print(\"R Square :\" + str(r2_score(df_plot_1.actual, df_plot_1.predicted)))\n"
      ],
      "execution_count": 37,
      "outputs": [
        {
          "output_type": "stream",
          "text": [
            "Mean Square Error (MSE): 33369.46837319132\n",
            "Root MSE: 182.6731189124205\n",
            "R Square :0.8733484618869796\n"
          ],
          "name": "stdout"
        }
      ]
    },
    {
      "cell_type": "markdown",
      "metadata": {
        "id": "ZDHkWYpZRoQP"
      },
      "source": [
        "# Further Attempts\n",
        "\n",
        "- Groupby user_screen_name\n",
        "- calculate the mean sentiment score\n",
        "- see whether there are any correlation between number of followers and number of favourite tweets against the mean sentimental score (check SD)\n",
        "\n",
        "explain properly an understanding of why introducing new feature"
      ]
    },
    {
      "cell_type": "code",
      "metadata": {
        "id": "r5cQcimuQp1y",
        "colab": {
          "base_uri": "https://localhost:8080/",
          "height": 0
        },
        "outputId": "1e1034f4-dda0-484d-a8ff-cb0495889263"
      },
      "source": [
        "dfOriginals.groupby('user_screen_name').size().reset_index(name='counts').sort_values(by='counts', ascending=False)"
      ],
      "execution_count": 49,
      "outputs": [
        {
          "output_type": "execute_result",
          "data": {
            "text/html": [
              "<div>\n",
              "<style scoped>\n",
              "    .dataframe tbody tr th:only-of-type {\n",
              "        vertical-align: middle;\n",
              "    }\n",
              "\n",
              "    .dataframe tbody tr th {\n",
              "        vertical-align: top;\n",
              "    }\n",
              "\n",
              "    .dataframe thead th {\n",
              "        text-align: right;\n",
              "    }\n",
              "</style>\n",
              "<table border=\"1\" class=\"dataframe\">\n",
              "  <thead>\n",
              "    <tr style=\"text-align: right;\">\n",
              "      <th></th>\n",
              "      <th>user_screen_name</th>\n",
              "      <th>counts</th>\n",
              "    </tr>\n",
              "  </thead>\n",
              "  <tbody>\n",
              "    <tr>\n",
              "      <th>27508</th>\n",
              "      <td>ELister_social</td>\n",
              "      <td>666</td>\n",
              "    </tr>\n",
              "    <tr>\n",
              "      <th>79905</th>\n",
              "      <td>SattarSarki1</td>\n",
              "      <td>382</td>\n",
              "    </tr>\n",
              "    <tr>\n",
              "      <th>133777</th>\n",
              "      <td>iHeartFun1</td>\n",
              "      <td>185</td>\n",
              "    </tr>\n",
              "    <tr>\n",
              "      <th>27433</th>\n",
              "      <td>EG24NEWS</td>\n",
              "      <td>181</td>\n",
              "    </tr>\n",
              "    <tr>\n",
              "      <th>142347</th>\n",
              "      <td>kailashscienti1</td>\n",
              "      <td>179</td>\n",
              "    </tr>\n",
              "    <tr>\n",
              "      <th>...</th>\n",
              "      <td>...</td>\n",
              "      <td>...</td>\n",
              "    </tr>\n",
              "    <tr>\n",
              "      <th>68494</th>\n",
              "      <td>Patterico</td>\n",
              "      <td>1</td>\n",
              "    </tr>\n",
              "    <tr>\n",
              "      <th>68495</th>\n",
              "      <td>PattheOldBat</td>\n",
              "      <td>1</td>\n",
              "    </tr>\n",
              "    <tr>\n",
              "      <th>68496</th>\n",
              "      <td>PattiClifford10</td>\n",
              "      <td>1</td>\n",
              "    </tr>\n",
              "    <tr>\n",
              "      <th>68498</th>\n",
              "      <td>PattiMurin</td>\n",
              "      <td>1</td>\n",
              "    </tr>\n",
              "    <tr>\n",
              "      <th>191547</th>\n",
              "      <td>zzzzzzbjdbsh</td>\n",
              "      <td>1</td>\n",
              "    </tr>\n",
              "  </tbody>\n",
              "</table>\n",
              "<p>191548 rows × 2 columns</p>\n",
              "</div>"
            ],
            "text/plain": [
              "       user_screen_name  counts\n",
              "27508    ELister_social     666\n",
              "79905      SattarSarki1     382\n",
              "133777       iHeartFun1     185\n",
              "27433          EG24NEWS     181\n",
              "142347  kailashscienti1     179\n",
              "...                 ...     ...\n",
              "68494         Patterico       1\n",
              "68495      PattheOldBat       1\n",
              "68496   PattiClifford10       1\n",
              "68498        PattiMurin       1\n",
              "191547     zzzzzzbjdbsh       1\n",
              "\n",
              "[191548 rows x 2 columns]"
            ]
          },
          "metadata": {
            "tags": []
          },
          "execution_count": 49
        }
      ]
    }
  ]
}