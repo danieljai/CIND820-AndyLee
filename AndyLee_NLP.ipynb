{
  "nbformat": 4,
  "nbformat_minor": 0,
  "metadata": {
    "kernelspec": {
      "display_name": "Python 3",
      "language": "python",
      "name": "python3"
    },
    "language_info": {
      "name": "python",
      "version": "3.7.6",
      "mimetype": "text/x-python",
      "codemirror_mode": {
        "name": "ipython",
        "version": 3
      },
      "pygments_lexer": "ipython3",
      "nbconvert_exporter": "python",
      "file_extension": ".py"
    },
    "colab": {
      "name": "AndyLee-NLP.ipynb",
      "provenance": [],
      "include_colab_link": true
    }
  },
  "cells": [
    {
      "cell_type": "markdown",
      "metadata": {
        "id": "view-in-github",
        "colab_type": "text"
      },
      "source": [
        "<a href=\"https://colab.research.google.com/github/danieljai/CIND820-AndyLee/blob/main/AndyLee_NLP.ipynb\" target=\"_parent\"><img src=\"https://colab.research.google.com/assets/colab-badge.svg\" alt=\"Open In Colab\"/></a>"
      ]
    },
    {
      "cell_type": "markdown",
      "metadata": {
        "id": "_uncPLiQYnn0"
      },
      "source": [
        "# Preload setup\n",
        "\n",
        "Basic setup so results can utilize the full width of the screen."
      ]
    },
    {
      "cell_type": "code",
      "metadata": {
        "id": "7VJ3TVjfpoiz"
      },
      "source": [
        "%config IPCompleter.greedy=True\n",
        "import pandas as pd\n",
        "pd.set_option('display.max_colwidth', 200)\n",
        "pd.options.display.max_colwidth = 500\n",
        "pd.options.display.max_rows = 100"
      ],
      "execution_count": 81,
      "outputs": []
    },
    {
      "cell_type": "markdown",
      "metadata": {
        "id": "HbYv2dHQYl-W"
      },
      "source": [
        "# Import Dataset\n",
        "\n",
        "The hydrated file is stored in a Google Drive, and using the follow code will mount Google Drive onto Colaboratory."
      ]
    },
    {
      "cell_type": "code",
      "metadata": {
        "id": "RWSJpsyKqHjH",
        "outputId": "d13de2d7-7751-4a91-9cd9-fcbca9bd8892",
        "colab": {
          "base_uri": "https://localhost:8080/"
        }
      },
      "source": [
        "from google.colab import drive\n",
        "drive.mount('/content/drive')"
      ],
      "execution_count": 82,
      "outputs": [
        {
          "output_type": "stream",
          "text": [
            "Drive already mounted at /content/drive; to attempt to forcibly remount, call drive.mount(\"/content/drive\", force_remount=True).\n"
          ],
          "name": "stdout"
        }
      ]
    },
    {
      "cell_type": "code",
      "metadata": {
        "trusted": true,
        "id": "IhVcP_VWpoiv"
      },
      "source": [
        "df = pd.read_csv(\"/content/drive/My Drive/__CIND 820 - Data Analytics Project/3-data/Book1-fastsave.csv\")"
      ],
      "execution_count": 83,
      "outputs": []
    },
    {
      "cell_type": "markdown",
      "metadata": {
        "id": "uEl8PsIfYPlI"
      },
      "source": [
        "# Data Cleaning and Manipulation"
      ]
    },
    {
      "cell_type": "markdown",
      "metadata": {
        "id": "UZfDm-YdvsBC"
      },
      "source": [
        "## Readjust attribute datatype\n",
        "\n",
        "For `retweet_id`, `in_reply_to_status_id`, `in_reply_to_user_id`\n",
        "- Convert `null` values to 0\n",
        "- Convert attribute as int64"
      ]
    },
    {
      "cell_type": "code",
      "metadata": {
        "id": "BNtxXnmyuroY"
      },
      "source": [
        "df.retweet_id = df[df['retweet_id'].notnull()].retweet_id.astype('int64') "
      ],
      "execution_count": 84,
      "outputs": []
    },
    {
      "cell_type": "code",
      "metadata": {
        "id": "Wq7nVqm-Ybq5"
      },
      "source": [
        "df.retweet_id = df.retweet_id.fillna(0).astype('int64')\n",
        "df.in_reply_to_status_id = df.in_reply_to_status_id.fillna(0).astype('int64')\n",
        "df.in_reply_to_user_id = df.in_reply_to_user_id.fillna(0).astype('int64')"
      ],
      "execution_count": 85,
      "outputs": []
    },
    {
      "cell_type": "markdown",
      "metadata": {
        "id": "A1vhtGcnzqtp"
      },
      "source": [
        "## Misc. cleaning up to reduce noise when conducting sentimental analysis\n",
        "1. remove \\n\n",
        "2. remove URL\n",
        "3. remove user referrals\n",
        "4. remove hashtags"
      ]
    },
    {
      "cell_type": "code",
      "metadata": {
        "id": "TGLSjXA00aBs"
      },
      "source": [
        "df['modified_text'] = df.text.str.replace(r'\\n', '')\n",
        "df['modified_text'] = df.modified_text.str.replace(r'(http|ftp|https)://([\\w_-]+(?:(?:\\.[\\w_-]+)+))([\\w.,@?^=%&:/~+#-]*[\\w@?^=%&/~+#-])?', '')\n",
        "df['modified_text'] = df.modified_text.str.replace(r'\\B@\\w+', '')\n",
        "df['modified_text'] = df.modified_text.str.replace(r'\\B#\\w+', '')"
      ],
      "execution_count": 86,
      "outputs": []
    },
    {
      "cell_type": "markdown",
      "metadata": {
        "id": "4XU0njxYunzu"
      },
      "source": [
        "## Splitting Dataframes (originals and retweets)\n",
        "\n",
        "\n"
      ]
    },
    {
      "cell_type": "markdown",
      "metadata": {
        "id": "3d0LEsJceIY5"
      },
      "source": [
        "The collection includes both original tweets and retweets. Since retweets mirrors the original tweet by someone else other than the author, we don't need to run sentimental analysis on the retweet as it would have been run on the original tweet, therefore we can split original tweets and retweets into two dataframes to avoid wasting resources.\n",
        "\n",
        "\n",
        "- Original tweets: `dfOriginals`\n",
        "- Retweets: `dfRetweets` cons\n"
      ]
    },
    {
      "cell_type": "code",
      "metadata": {
        "id": "jPydisljWkFM"
      },
      "source": [
        "dfOriginals = df[df.retweet_id == 0]\n",
        "dfRetweets = df[df.retweet_id != 0]"
      ],
      "execution_count": 87,
      "outputs": []
    },
    {
      "cell_type": "markdown",
      "metadata": {
        "id": "7RbFQ3a7OgDj"
      },
      "source": [
        "## Preview data after cleaning and manipulation"
      ]
    },
    {
      "cell_type": "markdown",
      "metadata": {
        "id": "791wvRVcqsA0"
      },
      "source": [
        "Original Tweet dataframe"
      ]
    },
    {
      "cell_type": "code",
      "metadata": {
        "id": "rwPS4yCo2ETZ",
        "outputId": "42b65ab9-4c89-416e-a71c-0d528433eeb8",
        "colab": {
          "base_uri": "https://localhost:8080/"
        }
      },
      "source": [
        "dfOriginals.dtypes"
      ],
      "execution_count": 88,
      "outputs": [
        {
          "output_type": "execute_result",
          "data": {
            "text/plain": [
              "coordinates                    object\n",
              "created_at                     object\n",
              "hashtags                       object\n",
              "media                          object\n",
              "urls                           object\n",
              "favorite_count                  int64\n",
              "id                              int64\n",
              "in_reply_to_screen_name        object\n",
              "in_reply_to_status_id           int64\n",
              "in_reply_to_user_id             int64\n",
              "lang                           object\n",
              "place                          object\n",
              "possibly_sensitive             object\n",
              "retweet_count                   int64\n",
              "retweet_id                      int64\n",
              "retweet_screen_name            object\n",
              "source                         object\n",
              "text                           object\n",
              "tweet_url                      object\n",
              "user_created_at                object\n",
              "user_screen_name               object\n",
              "user_default_profile_image       bool\n",
              "user_description               object\n",
              "user_favourites_count           int64\n",
              "user_followers_count            int64\n",
              "user_friends_count              int64\n",
              "user_listed_count               int64\n",
              "user_location                  object\n",
              "user_name                      object\n",
              "user_screen_name.1             object\n",
              "user_statuses_count             int64\n",
              "user_time_zone                float64\n",
              "user_urls                      object\n",
              "user_verified                    bool\n",
              "modified_text                  object\n",
              "dtype: object"
            ]
          },
          "metadata": {
            "tags": []
          },
          "execution_count": 88
        }
      ]
    },
    {
      "cell_type": "code",
      "metadata": {
        "id": "d5nEYW5qOVAg",
        "outputId": "26341a9e-2a67-45ee-cc04-ffab5e8295f2",
        "colab": {
          "base_uri": "https://localhost:8080/",
          "height": 556
        }
      },
      "source": [
        "dfOriginals.sample(2)"
      ],
      "execution_count": 89,
      "outputs": [
        {
          "output_type": "execute_result",
          "data": {
            "text/html": [
              "<div>\n",
              "<style scoped>\n",
              "    .dataframe tbody tr th:only-of-type {\n",
              "        vertical-align: middle;\n",
              "    }\n",
              "\n",
              "    .dataframe tbody tr th {\n",
              "        vertical-align: top;\n",
              "    }\n",
              "\n",
              "    .dataframe thead th {\n",
              "        text-align: right;\n",
              "    }\n",
              "</style>\n",
              "<table border=\"1\" class=\"dataframe\">\n",
              "  <thead>\n",
              "    <tr style=\"text-align: right;\">\n",
              "      <th></th>\n",
              "      <th>coordinates</th>\n",
              "      <th>created_at</th>\n",
              "      <th>hashtags</th>\n",
              "      <th>media</th>\n",
              "      <th>urls</th>\n",
              "      <th>favorite_count</th>\n",
              "      <th>id</th>\n",
              "      <th>in_reply_to_screen_name</th>\n",
              "      <th>in_reply_to_status_id</th>\n",
              "      <th>in_reply_to_user_id</th>\n",
              "      <th>lang</th>\n",
              "      <th>place</th>\n",
              "      <th>possibly_sensitive</th>\n",
              "      <th>retweet_count</th>\n",
              "      <th>retweet_id</th>\n",
              "      <th>retweet_screen_name</th>\n",
              "      <th>source</th>\n",
              "      <th>text</th>\n",
              "      <th>tweet_url</th>\n",
              "      <th>user_created_at</th>\n",
              "      <th>user_screen_name</th>\n",
              "      <th>user_default_profile_image</th>\n",
              "      <th>user_description</th>\n",
              "      <th>user_favourites_count</th>\n",
              "      <th>user_followers_count</th>\n",
              "      <th>user_friends_count</th>\n",
              "      <th>user_listed_count</th>\n",
              "      <th>user_location</th>\n",
              "      <th>user_name</th>\n",
              "      <th>user_screen_name.1</th>\n",
              "      <th>user_statuses_count</th>\n",
              "      <th>user_time_zone</th>\n",
              "      <th>user_urls</th>\n",
              "      <th>user_verified</th>\n",
              "      <th>modified_text</th>\n",
              "    </tr>\n",
              "  </thead>\n",
              "  <tbody>\n",
              "    <tr>\n",
              "      <th>721873</th>\n",
              "      <td>NaN</td>\n",
              "      <td>Wed Apr 01 02:29:25 +0000 2020</td>\n",
              "      <td>NaN</td>\n",
              "      <td>NaN</td>\n",
              "      <td>NaN</td>\n",
              "      <td>0</td>\n",
              "      <td>1245176410148397062</td>\n",
              "      <td>MrsGandhi</td>\n",
              "      <td>1245102287082491904</td>\n",
              "      <td>85657578</td>\n",
              "      <td>en</td>\n",
              "      <td>NaN</td>\n",
              "      <td>NaN</td>\n",
              "      <td>0</td>\n",
              "      <td>0</td>\n",
              "      <td>NaN</td>\n",
              "      <td>&lt;a href=\"http://twitter.com/download/android\" rel=\"nofollow\"&gt;Twitter for Android&lt;/a&gt;</td>\n",
              "      <td>@MrsGandhi Arnab: This gatherings are the reason why Corona Virus has spread\\n\\nPanelist: You mean Victory Gathering of BJP MLAs of M.P\\n\\nArnab: I'm talking about religious gathering\\n\\nPanelist: You mean Trichy Temple Gathering , Arattu Festival &amp;amp; Kanika's Holi party Gathering\\n\\nArnab: Fcuk off</td>\n",
              "      <td>https://twitter.com/PublicVoice18/status/1245176410148397062</td>\n",
              "      <td>Tue May 21 20:12:50 +0000 2019</td>\n",
              "      <td>PublicVoice18</td>\n",
              "      <td>False</td>\n",
              "      <td>Speak up if you are alive</td>\n",
              "      <td>6895</td>\n",
              "      <td>98</td>\n",
              "      <td>217</td>\n",
              "      <td>0</td>\n",
              "      <td>Mumbai</td>\n",
              "      <td>unpredictable</td>\n",
              "      <td>PublicVoice18</td>\n",
              "      <td>9080</td>\n",
              "      <td>NaN</td>\n",
              "      <td>NaN</td>\n",
              "      <td>False</td>\n",
              "      <td>Arnab: This gatherings are the reason why Corona Virus has spreadPanelist: You mean Victory Gathering of BJP MLAs of M.PArnab: I'm talking about religious gatheringPanelist: You mean Trichy Temple Gathering , Arattu Festival &amp;amp; Kanika's Holi party GatheringArnab: Fcuk off</td>\n",
              "    </tr>\n",
              "    <tr>\n",
              "      <th>783757</th>\n",
              "      <td>NaN</td>\n",
              "      <td>Wed Apr 01 04:42:54 +0000 2020</td>\n",
              "      <td>NaN</td>\n",
              "      <td>NaN</td>\n",
              "      <td>NaN</td>\n",
              "      <td>1</td>\n",
              "      <td>1245210003394433024</td>\n",
              "      <td>outrotanjiro</td>\n",
              "      <td>1245209206480949248</td>\n",
              "      <td>1705801320</td>\n",
              "      <td>en</td>\n",
              "      <td>NaN</td>\n",
              "      <td>NaN</td>\n",
              "      <td>0</td>\n",
              "      <td>0</td>\n",
              "      <td>NaN</td>\n",
              "      <td>&lt;a href=\"http://twitter.com/download/iphone\" rel=\"nofollow\"&gt;Twitter for iPhone&lt;/a&gt;</td>\n",
              "      <td>@outrotanjiro Unless Ms. Corona says we can’t leave our houses for the rest of the year, and then that year becomes a decade 🤡🗿</td>\n",
              "      <td>https://twitter.com/jinternals/status/1245210003394433024</td>\n",
              "      <td>Wed Aug 01 05:47:54 +0000 2018</td>\n",
              "      <td>jinternals</td>\n",
              "      <td>False</td>\n",
              "      <td>i’m irrelevant go away #txt on 05/19/19 #SuperM on 11/11/19</td>\n",
              "      <td>6533</td>\n",
              "      <td>225</td>\n",
              "      <td>527</td>\n",
              "      <td>4</td>\n",
              "      <td>Namjoons sexy brain</td>\n",
              "      <td>shel +✶𖧵⁷</td>\n",
              "      <td>jinternals</td>\n",
              "      <td>4391</td>\n",
              "      <td>NaN</td>\n",
              "      <td>NaN</td>\n",
              "      <td>False</td>\n",
              "      <td>Unless Ms. Corona says we can’t leave our houses for the rest of the year, and then that year becomes a decade 🤡🗿</td>\n",
              "    </tr>\n",
              "  </tbody>\n",
              "</table>\n",
              "</div>"
            ],
            "text/plain": [
              "       coordinates  ...                                                                                                                                                                                                                                                                         modified_text\n",
              "721873         NaN  ...   Arnab: This gatherings are the reason why Corona Virus has spreadPanelist: You mean Victory Gathering of BJP MLAs of M.PArnab: I'm talking about religious gatheringPanelist: You mean Trichy Temple Gathering , Arattu Festival &amp; Kanika's Holi party GatheringArnab: Fcuk off\n",
              "783757         NaN  ...                                                                                                                                                                     Unless Ms. Corona says we can’t leave our houses for the rest of the year, and then that year becomes a decade 🤡🗿\n",
              "\n",
              "[2 rows x 35 columns]"
            ]
          },
          "metadata": {
            "tags": []
          },
          "execution_count": 89
        }
      ]
    },
    {
      "cell_type": "markdown",
      "metadata": {
        "id": "Jfq66BaYpojK"
      },
      "source": [
        "## Guessing language"
      ]
    },
    {
      "cell_type": "markdown",
      "metadata": {
        "id": "9k4oiEDI2oYW"
      },
      "source": [
        "Since our sentiment analysis focuses on only English tweets, we will install a `langdetect` library to help filter out tweets that are not English."
      ]
    },
    {
      "cell_type": "code",
      "metadata": {
        "id": "pPwDbh-HmBv8",
        "outputId": "91732a35-368c-4072-f1ec-ed61fd1034eb",
        "colab": {
          "base_uri": "https://localhost:8080/"
        }
      },
      "source": [
        "#https://pypi.org/project/langdetect/\n",
        "!pip install langdetect\n",
        "from langdetect import detect\n",
        "from langdetect import DetectorFactory\n",
        "DetectorFactory.seed = 0\n",
        "\n",
        "# import multiprocessing as mp\n",
        "# p=mp.Pool(4)\n"
      ],
      "execution_count": 90,
      "outputs": [
        {
          "output_type": "stream",
          "text": [
            "Requirement already satisfied: langdetect in /usr/local/lib/python3.6/dist-packages (1.0.8)\n",
            "Requirement already satisfied: six in /usr/local/lib/python3.6/dist-packages (from langdetect) (1.15.0)\n"
          ],
          "name": "stdout"
        }
      ]
    },
    {
      "cell_type": "code",
      "metadata": {
        "id": "90SL1Mb_sGoL"
      },
      "source": [
        "# p.map(detect,dfOriginals.sample(500).text)"
      ],
      "execution_count": 91,
      "outputs": []
    },
    {
      "cell_type": "code",
      "metadata": {
        "id": "ZVylF_Uf2AWT"
      },
      "source": [
        "#dfOriginals = dfOriginals[~(dfOriginals.modified_text == \"\")]"
      ],
      "execution_count": 92,
      "outputs": []
    },
    {
      "cell_type": "code",
      "metadata": {
        "id": "QAl2FWRd7leq"
      },
      "source": [
        "# dfOriginals[(dfOriginals.modified_text == \"\")]"
      ],
      "execution_count": 93,
      "outputs": []
    },
    {
      "cell_type": "markdown",
      "metadata": {
        "id": "oPdqdngRnI8B"
      },
      "source": [
        "Function to test whether tweet is English with error handling."
      ]
    },
    {
      "cell_type": "code",
      "metadata": {
        "id": "HJWNxzqbQhIz"
      },
      "source": [
        "#https://stackoverflow.com/questions/60930935/exclude-non-english-rows-in-pandas\n",
        "\n",
        "def is_en(txt):\n",
        "    try:\n",
        "        return detect(txt)=='en'\n",
        "    except:\n",
        "        return False"
      ],
      "execution_count": 94,
      "outputs": []
    },
    {
      "cell_type": "markdown",
      "metadata": {
        "id": "zF4fSfUF3Gcy"
      },
      "source": [
        "Passing as the `is_en()` as first-class function; returning a boolean value as a attribute `guessed_language`."
      ]
    },
    {
      "cell_type": "code",
      "metadata": {
        "id": "CCxbwQfSmht4",
        "outputId": "fb2faabf-5c9f-40fa-82c8-898895d02fa4",
        "colab": {
          "base_uri": "https://localhost:8080/"
        }
      },
      "source": [
        "dfOriginals['guessed_language'] = dfOriginals.modified_text.apply(is_en)"
      ],
      "execution_count": 95,
      "outputs": [
        {
          "output_type": "stream",
          "text": [
            "/usr/local/lib/python3.6/dist-packages/ipykernel_launcher.py:1: SettingWithCopyWarning: \n",
            "A value is trying to be set on a copy of a slice from a DataFrame.\n",
            "Try using .loc[row_indexer,col_indexer] = value instead\n",
            "\n",
            "See the caveats in the documentation: https://pandas.pydata.org/pandas-docs/stable/user_guide/indexing.html#returning-a-view-versus-a-copy\n",
            "  \"\"\"Entry point for launching an IPython kernel.\n"
          ],
          "name": "stderr"
        }
      ]
    },
    {
      "cell_type": "markdown",
      "metadata": {
        "id": "dsfksiehng6H"
      },
      "source": [
        "My filtering out non-English tweets, we remove noise induced to the sentimental analysis which will affect the sentimental score."
      ]
    },
    {
      "cell_type": "code",
      "metadata": {
        "id": "zPoRWDGSXx99",
        "outputId": "698b659f-1c2f-467e-f65f-c7fb855702d4",
        "colab": {
          "base_uri": "https://localhost:8080/"
        }
      },
      "source": [
        "print(\"There are \" + str(len(dfOriginals)) + \" tweets in total, and \" + str(sum(dfOriginals.guessed_language)) + \" detects as English.\")\n",
        "print(\"Percentage of tweets that are in English: \" + str(round((sum(dfOriginals.guessed_language) / len(dfOriginals)) * 100, 4)) + \"%\")\n"
      ],
      "execution_count": 96,
      "outputs": [
        {
          "output_type": "stream",
          "text": [
            "There are 245389 tweets in total, and 232816 detects as English.\n",
            "Percentage of tweets that are in English: 94.8763%\n"
          ],
          "name": "stdout"
        }
      ]
    },
    {
      "cell_type": "markdown",
      "metadata": {
        "id": "atZ26M3rYTfg"
      },
      "source": [
        "# Being Sentiment Analysis"
      ]
    },
    {
      "cell_type": "markdown",
      "metadata": {
        "id": "ezcFLOzHLRE_"
      },
      "source": [
        "To conduct Seitment Analysis, we begin by importing the NLTK library."
      ]
    },
    {
      "cell_type": "code",
      "metadata": {
        "id": "PxgmxMWypoi2",
        "outputId": "7ef19ad6-9120-4044-b3ba-fe7e770ec6f4",
        "colab": {
          "base_uri": "https://localhost:8080/"
        }
      },
      "source": [
        "import nltk\n",
        "from nltk.sentiment.util import *\n",
        "from nltk.sentiment import SentimentIntensityAnalyzer\n",
        "from nltk import tokenize\n",
        "nltk.download('punkt')\n",
        "nltk.download('vader_lexicon')\n",
        "sid = SentimentIntensityAnalyzer()"
      ],
      "execution_count": 97,
      "outputs": [
        {
          "output_type": "stream",
          "text": [
            "[nltk_data] Downloading package punkt to /root/nltk_data...\n",
            "[nltk_data]   Package punkt is already up-to-date!\n",
            "[nltk_data] Downloading package vader_lexicon to /root/nltk_data...\n",
            "[nltk_data]   Package vader_lexicon is already up-to-date!\n"
          ],
          "name": "stdout"
        }
      ]
    },
    {
      "cell_type": "code",
      "metadata": {
        "id": "JThgKwNppoi_"
      },
      "source": [
        "# for sentence in sentences:\n",
        "#      print(sentence)\n",
        "#      ss = sid.polarity_scores(sentence)\n",
        "#      for k in sorted(ss):\n",
        "#          print('{0}: {1}, '.format(k, ss[k]), end='')\n",
        "#      print()"
      ],
      "execution_count": 98,
      "outputs": []
    },
    {
      "cell_type": "markdown",
      "metadata": {
        "id": "IhrR1DkvcgNO"
      },
      "source": [
        "## Applying Sentiment Analysis function\n",
        "\n",
        "We apply the polarity score function and store results on a new attribute `sentimentscore`.\n",
        "\n"
      ]
    },
    {
      "cell_type": "code",
      "metadata": {
        "id": "Zjw8l4kapojF",
        "outputId": "06cc04d2-a04c-4d42-fd02-3627005713ef",
        "colab": {
          "base_uri": "https://localhost:8080/"
        }
      },
      "source": [
        "dfOriginals['sentimentscore'] = dfOriginals.text.apply(sid.polarity_scores)"
      ],
      "execution_count": 99,
      "outputs": [
        {
          "output_type": "stream",
          "text": [
            "/usr/local/lib/python3.6/dist-packages/ipykernel_launcher.py:1: SettingWithCopyWarning: \n",
            "A value is trying to be set on a copy of a slice from a DataFrame.\n",
            "Try using .loc[row_indexer,col_indexer] = value instead\n",
            "\n",
            "See the caveats in the documentation: https://pandas.pydata.org/pandas-docs/stable/user_guide/indexing.html#returning-a-view-versus-a-copy\n",
            "  \"\"\"Entry point for launching an IPython kernel.\n"
          ],
          "name": "stderr"
        }
      ]
    },
    {
      "cell_type": "markdown",
      "metadata": {
        "id": "MKHk7KzTXSNZ"
      },
      "source": [
        "A quick sample preview of the text and its sentiment score."
      ]
    },
    {
      "cell_type": "code",
      "metadata": {
        "id": "juosFirzpojI",
        "outputId": "6e18bfe6-a3a8-4fa0-bb82-ea05cedf49fe",
        "colab": {
          "base_uri": "https://localhost:8080/",
          "height": 495
        }
      },
      "source": [
        "dfOriginals.sample(10)[['modified_text','sentimentscore']]"
      ],
      "execution_count": 100,
      "outputs": [
        {
          "output_type": "execute_result",
          "data": {
            "text/html": [
              "<div>\n",
              "<style scoped>\n",
              "    .dataframe tbody tr th:only-of-type {\n",
              "        vertical-align: middle;\n",
              "    }\n",
              "\n",
              "    .dataframe tbody tr th {\n",
              "        vertical-align: top;\n",
              "    }\n",
              "\n",
              "    .dataframe thead th {\n",
              "        text-align: right;\n",
              "    }\n",
              "</style>\n",
              "<table border=\"1\" class=\"dataframe\">\n",
              "  <thead>\n",
              "    <tr style=\"text-align: right;\">\n",
              "      <th></th>\n",
              "      <th>modified_text</th>\n",
              "      <th>sentimentscore</th>\n",
              "    </tr>\n",
              "  </thead>\n",
              "  <tbody>\n",
              "    <tr>\n",
              "      <th>519343</th>\n",
              "      <td>America is good at making death, it made Al Qaeda, and then ISIS, and today it makes Corona Virus#COVID2019⁦⁦#usa#USA#trump#coronavirus#CoronaVirusitaly</td>\n",
              "      <td>{'neg': 0.123, 'neu': 0.786, 'pos': 0.091, 'compound': -0.25}</td>\n",
              "    </tr>\n",
              "    <tr>\n",
              "      <th>598182</th>\n",
              "      <td>Corona don humble amHe's a full blacksmith now</td>\n",
              "      <td>{'neg': 0.0, 'neu': 1.0, 'pos': 0.0, 'compound': 0.0}</td>\n",
              "    </tr>\n",
              "    <tr>\n",
              "      <th>432309</th>\n",
              "      <td>Remember ur recent tweets and speaches. Hinduphobia is ok. Islamicphobia is not ok. U reap what u sow. Remember. Ji  haadan Bibi. Corona jihad just bcoz u hate modi</td>\n",
              "      <td>{'neg': 0.115, 'neu': 0.748, 'pos': 0.137, 'compound': -0.0772}</td>\n",
              "    </tr>\n",
              "    <tr>\n",
              "      <th>68453</th>\n",
              "      <td>Please still be cautious. As Dr Anand Ranganathan informed during TimeNow discussion on similar topic, Iran too had large malaria incidents and usage of same drug. But is badly effected due to Corona.</td>\n",
              "      <td>{'neg': 0.119, 'neu': 0.82, 'pos': 0.061, 'compound': -0.296}</td>\n",
              "    </tr>\n",
              "    <tr>\n",
              "      <th>738898</th>\n",
              "      <td>All airports and their parking areas can be used as hospitals for corona affected patients.</td>\n",
              "      <td>{'neg': 0.103, 'neu': 0.897, 'pos': 0.0, 'compound': -0.1531}</td>\n",
              "    </tr>\n",
              "    <tr>\n",
              "      <th>180796</th>\n",
              "      <td>Beyond belief. They are surely on something.</td>\n",
              "      <td>{'neg': 0.0, 'neu': 0.707, 'pos': 0.293, 'compound': 0.4404}</td>\n",
              "    </tr>\n",
              "    <tr>\n",
              "      <th>719140</th>\n",
              "      <td>I'm young--ish....and would likely survive a bout with Corona. The pain of government tyranny is something you don't get over.</td>\n",
              "      <td>{'neg': 0.148, 'neu': 0.852, 'pos': 0.0, 'compound': -0.5106}</td>\n",
              "    </tr>\n",
              "    <tr>\n",
              "      <th>771778</th>\n",
              "      <td>Without comments</td>\n",
              "      <td>{'neg': 0.0, 'neu': 1.0, 'pos': 0.0, 'compound': 0.0}</td>\n",
              "    </tr>\n",
              "    <tr>\n",
              "      <th>142401</th>\n",
              "      <td>actually you are bigger problem than Corona</td>\n",
              "      <td>{'neg': 0.278, 'neu': 0.722, 'pos': 0.0, 'compound': -0.4019}</td>\n",
              "    </tr>\n",
              "    <tr>\n",
              "      <th>698398</th>\n",
              "      <td>Should cause alarm across the country that Ds are currently RELEASING prisoners under the guise of “corona-scare” &amp;amp; simultaneously reporting that officers will NOT respond to certain calls!Some things never change</td>\n",
              "      <td>{'neg': 0.206, 'neu': 0.794, 'pos': 0.0, 'compound': -0.7786}</td>\n",
              "    </tr>\n",
              "  </tbody>\n",
              "</table>\n",
              "</div>"
            ],
            "text/plain": [
              "                                                                                                                                                                                                                     modified_text                                                   sentimentscore\n",
              "519343                                                                    America is good at making death, it made Al Qaeda, and then ISIS, and today it makes Corona Virus#COVID2019⁦⁦#usa#USA#trump#coronavirus#CoronaVirusitaly    {'neg': 0.123, 'neu': 0.786, 'pos': 0.091, 'compound': -0.25}\n",
              "598182                                                                                                                                                                             Corona don humble amHe's a full blacksmith now             {'neg': 0.0, 'neu': 1.0, 'pos': 0.0, 'compound': 0.0}\n",
              "432309                                                        Remember ur recent tweets and speaches. Hinduphobia is ok. Islamicphobia is not ok. U reap what u sow. Remember. Ji  haadan Bibi. Corona jihad just bcoz u hate modi  {'neg': 0.115, 'neu': 0.748, 'pos': 0.137, 'compound': -0.0772}\n",
              "68453                     Please still be cautious. As Dr Anand Ranganathan informed during TimeNow discussion on similar topic, Iran too had large malaria incidents and usage of same drug. But is badly effected due to Corona.    {'neg': 0.119, 'neu': 0.82, 'pos': 0.061, 'compound': -0.296}\n",
              "738898                                                                                                                                 All airports and their parking areas can be used as hospitals for corona affected patients.    {'neg': 0.103, 'neu': 0.897, 'pos': 0.0, 'compound': -0.1531}\n",
              "180796                                                                                                                                                                               Beyond belief. They are surely on something.      {'neg': 0.0, 'neu': 0.707, 'pos': 0.293, 'compound': 0.4404}\n",
              "719140                                                                                              I'm young--ish....and would likely survive a bout with Corona. The pain of government tyranny is something you don't get over.    {'neg': 0.148, 'neu': 0.852, 'pos': 0.0, 'compound': -0.5106}\n",
              "771778                                                                                                                                                                                                          Without comments              {'neg': 0.0, 'neu': 1.0, 'pos': 0.0, 'compound': 0.0}\n",
              "142401                                                                                                                                                                                 actually you are bigger problem than Corona    {'neg': 0.278, 'neu': 0.722, 'pos': 0.0, 'compound': -0.4019}\n",
              "698398   Should cause alarm across the country that Ds are currently RELEASING prisoners under the guise of “corona-scare” &amp; simultaneously reporting that officers will NOT respond to certain calls!Some things never change    {'neg': 0.206, 'neu': 0.794, 'pos': 0.0, 'compound': -0.7786}"
            ]
          },
          "metadata": {
            "tags": []
          },
          "execution_count": 100
        }
      ]
    },
    {
      "cell_type": "markdown",
      "metadata": {
        "id": "kbrLEIGyEET0"
      },
      "source": [
        "The `SentimentIntensityAnalyzer()` returns a dictionary of scores negative, neutral, positive, and compound. Compound is the normalization of negative, neutral, and positive values.\n",
        "\n",
        "Next, we expand the dictionary into their own respective attributes for easier data manipulation."
      ]
    },
    {
      "cell_type": "code",
      "metadata": {
        "id": "M9GcU1qtEKha"
      },
      "source": [
        "dfOriginalSScore = pd.json_normalize(dfOriginals.sentimentscore)\n",
        "dfOriginalSScore['original_index'] = dfOriginals.index\n",
        "dfOriginalSScore = dfOriginalSScore.set_index('original_index')\n",
        "dfOriginals = dfOriginals.merge(dfOriginalSScore, left_index=True, right_index=True)"
      ],
      "execution_count": 101,
      "outputs": []
    },
    {
      "cell_type": "markdown",
      "metadata": {
        "id": "UrYE5MAfoODY"
      },
      "source": [
        "- need some explanation on the \"compound\" attribute\n",
        "- have an answer what the compound score stands for."
      ]
    },
    {
      "cell_type": "code",
      "metadata": {
        "id": "aoK5ZqBlU9Wa",
        "outputId": "95f81eab-c191-4ac1-9dbd-14742a08d400",
        "colab": {
          "base_uri": "https://localhost:8080/",
          "height": 359
        }
      },
      "source": [
        "dfOriginals.sample(10)[['modified_text','compound']]"
      ],
      "execution_count": 102,
      "outputs": [
        {
          "output_type": "execute_result",
          "data": {
            "text/html": [
              "<div>\n",
              "<style scoped>\n",
              "    .dataframe tbody tr th:only-of-type {\n",
              "        vertical-align: middle;\n",
              "    }\n",
              "\n",
              "    .dataframe tbody tr th {\n",
              "        vertical-align: top;\n",
              "    }\n",
              "\n",
              "    .dataframe thead th {\n",
              "        text-align: right;\n",
              "    }\n",
              "</style>\n",
              "<table border=\"1\" class=\"dataframe\">\n",
              "  <thead>\n",
              "    <tr style=\"text-align: right;\">\n",
              "      <th></th>\n",
              "      <th>modified_text</th>\n",
              "      <th>compound</th>\n",
              "    </tr>\n",
              "  </thead>\n",
              "  <tbody>\n",
              "    <tr>\n",
              "      <th>275082</th>\n",
              "      <td>My Dad was telling me earlier how apparently SL has its first case of corona and everyone’s in uproar 😪</td>\n",
              "      <td>0.0000</td>\n",
              "    </tr>\n",
              "    <tr>\n",
              "      <th>406241</th>\n",
              "      <td>👎 Mark Rutte 😡</td>\n",
              "      <td>0.0000</td>\n",
              "    </tr>\n",
              "    <tr>\n",
              "      <th>637038</th>\n",
              "      <td>This one ballad will cure the sick of Corona. Please play it in the hospitals</td>\n",
              "      <td>0.1027</td>\n",
              "    </tr>\n",
              "    <tr>\n",
              "      <th>398361</th>\n",
              "      <td>We did it. We stopped corona.Thank you Kira.</td>\n",
              "      <td>0.1531</td>\n",
              "    </tr>\n",
              "    <tr>\n",
              "      <th>425696</th>\n",
              "      <td>People in Florida a different breed of stupid</td>\n",
              "      <td>-0.5267</td>\n",
              "    </tr>\n",
              "    <tr>\n",
              "      <th>70022</th>\n",
              "      <td>I'm immune then.</td>\n",
              "      <td>0.2960</td>\n",
              "    </tr>\n",
              "    <tr>\n",
              "      <th>83181</th>\n",
              "      <td>Choked on my chewing gum in Aldi he which ended in a coughing fit and everyone was looking at me like I had corona, felt like I had killed their family members the way they glared at me 🥴🙂</td>\n",
              "      <td>-0.2732</td>\n",
              "    </tr>\n",
              "    <tr>\n",
              "      <th>200305</th>\n",
              "      <td>The end of corona virus will be the day before my birthday.</td>\n",
              "      <td>0.0000</td>\n",
              "    </tr>\n",
              "    <tr>\n",
              "      <th>290221</th>\n",
              "      <td>Latest Report On !Link 👉👉👉</td>\n",
              "      <td>0.0000</td>\n",
              "    </tr>\n",
              "    <tr>\n",
              "      <th>509217</th>\n",
              "      <td>She  sent a 38 minutes vn😭😭😂😂. That has marked off the end of corona talks on whatsapp. It's in person now😭😭😭</td>\n",
              "      <td>0.0000</td>\n",
              "    </tr>\n",
              "  </tbody>\n",
              "</table>\n",
              "</div>"
            ],
            "text/plain": [
              "                                                                                                                                                                                       modified_text  compound\n",
              "275082                                                                                       My Dad was telling me earlier how apparently SL has its first case of corona and everyone’s in uproar 😪    0.0000\n",
              "406241                                                                                                                                                                              👎 Mark Rutte 😡      0.0000\n",
              "637038                                                                                                                 This one ballad will cure the sick of Corona. Please play it in the hospitals    0.1027\n",
              "398361                                                                                                                                                  We did it. We stopped corona.Thank you Kira.    0.1531\n",
              "425696                                                                                                                                                People in Florida a different breed of stupid    -0.5267\n",
              "70022                                                                                                                                                                              I'm immune then.     0.2960\n",
              "83181   Choked on my chewing gum in Aldi he which ended in a coughing fit and everyone was looking at me like I had corona, felt like I had killed their family members the way they glared at me 🥴🙂   -0.2732\n",
              "200305                                                                                                                                   The end of corona virus will be the day before my birthday.    0.0000\n",
              "290221                                                                                                                                                                  Latest Report On !Link 👉👉👉      0.0000\n",
              "509217                                                                                 She  sent a 38 minutes vn😭😭😂😂. That has marked off the end of corona talks on whatsapp. It's in person now😭😭😭    0.0000"
            ]
          },
          "metadata": {
            "tags": []
          },
          "execution_count": 102
        }
      ]
    },
    {
      "cell_type": "code",
      "metadata": {
        "id": "eXXhpz4SGZ9K",
        "outputId": "0796b784-6360-4ccc-f544-34d110656bf4",
        "colab": {
          "base_uri": "https://localhost:8080/"
        }
      },
      "source": [
        "dfOriginals.head(5).compound"
      ],
      "execution_count": 103,
      "outputs": [
        {
          "output_type": "execute_result",
          "data": {
            "text/plain": [
              "3     0.0129\n",
              "4     0.3400\n",
              "6     0.4404\n",
              "7     0.6369\n",
              "12    0.8885\n",
              "Name: compound, dtype: float64"
            ]
          },
          "metadata": {
            "tags": []
          },
          "execution_count": 103
        }
      ]
    },
    {
      "cell_type": "markdown",
      "metadata": {
        "id": "o57uAAy3rzB3"
      },
      "source": [
        "Splitting sentiment score into 5 classes of equal 0.4 parts.\n",
        "- -1 to -0.6 for extra negative\n",
        "- -0.6 to -0.2 for slight negative\n",
        "- 0.2 to 0.2 for neutral\n",
        "- 0.2 to 0.6 for slight positive\n",
        "- 0.6 to 1 for extra positive"
      ]
    },
    {
      "cell_type": "code",
      "metadata": {
        "id": "BqdFZMtMF43y"
      },
      "source": [
        "dfOriginals['sentiment_class'] = pd.cut(dfOriginals['compound'], bins=[-1, -.6, -.2, 0.2, .6, 1], right=True, labels=['x_neg', 's_neg', 'neu', 's_pos','x_pos'])"
      ],
      "execution_count": 109,
      "outputs": []
    },
    {
      "cell_type": "code",
      "metadata": {
        "id": "tpPtkx69Guf3",
        "outputId": "69304342-5894-4692-fecf-4797a0dd3bed",
        "colab": {
          "base_uri": "https://localhost:8080/",
          "height": 359
        }
      },
      "source": [
        "dfOriginals.sample(10)[['modified_text','compound','sentiment_class']]"
      ],
      "execution_count": 110,
      "outputs": [
        {
          "output_type": "execute_result",
          "data": {
            "text/html": [
              "<div>\n",
              "<style scoped>\n",
              "    .dataframe tbody tr th:only-of-type {\n",
              "        vertical-align: middle;\n",
              "    }\n",
              "\n",
              "    .dataframe tbody tr th {\n",
              "        vertical-align: top;\n",
              "    }\n",
              "\n",
              "    .dataframe thead th {\n",
              "        text-align: right;\n",
              "    }\n",
              "</style>\n",
              "<table border=\"1\" class=\"dataframe\">\n",
              "  <thead>\n",
              "    <tr style=\"text-align: right;\">\n",
              "      <th></th>\n",
              "      <th>modified_text</th>\n",
              "      <th>compound</th>\n",
              "      <th>sentiment_class</th>\n",
              "    </tr>\n",
              "  </thead>\n",
              "  <tbody>\n",
              "    <tr>\n",
              "      <th>458690</th>\n",
              "      <td>It doesn't matter if the Gov't kept the case under wraps, at the end of the day batho ke bone ba tswang go bapala corona, not the government. They could not have told us bfr they were sure. We had one job!</td>\n",
              "      <td>0.3649</td>\n",
              "      <td>s_pos</td>\n",
              "    </tr>\n",
              "    <tr>\n",
              "      <th>722791</th>\n",
              "      <td>Yo it gotta be another way 🤦🏾‍♂️</td>\n",
              "      <td>0.0000</td>\n",
              "      <td>neu</td>\n",
              "    </tr>\n",
              "    <tr>\n",
              "      <th>608765</th>\n",
              "      <td>Corona produced by China and Russia Spread by IranSimple but bitter plot</td>\n",
              "      <td>-0.5719</td>\n",
              "      <td>s_neg</td>\n",
              "    </tr>\n",
              "    <tr>\n",
              "      <th>194569</th>\n",
              "      <td>Just want to know sino kaya yung fake news creators?</td>\n",
              "      <td>-0.4215</td>\n",
              "      <td>s_neg</td>\n",
              "    </tr>\n",
              "    <tr>\n",
              "      <th>114186</th>\n",
              "      <td>Malawi Electoral Commission (MEC) said that they will include sensitization messages pertaining to Corona virus in regard for preparations for the freshpresidential polls.</td>\n",
              "      <td>0.0000</td>\n",
              "      <td>neu</td>\n",
              "    </tr>\n",
              "    <tr>\n",
              "      <th>140216</th>\n",
              "      <td>I wouldn’t mind if Corona Virus yelled APRIL FOOLS tomorrow and fucked right off !!!!</td>\n",
              "      <td>-0.8885</td>\n",
              "      <td>x_neg</td>\n",
              "    </tr>\n",
              "    <tr>\n",
              "      <th>650234</th>\n",
              "      <td>Niggha lit 🔥 with ill flow like Corona, catch your attention like a sneeze</td>\n",
              "      <td>0.2960</td>\n",
              "      <td>s_pos</td>\n",
              "    </tr>\n",
              "    <tr>\n",
              "      <th>17061</th>\n",
              "      <td>Yeah cause apparently only gas attendants carry the disease Shut the fuck up and stay home if you’re that afraid We don’t like being around you either</td>\n",
              "      <td>0.0516</td>\n",
              "      <td>neu</td>\n",
              "    </tr>\n",
              "    <tr>\n",
              "      <th>643459</th>\n",
              "      <td>TKX :)I KNEW THAT AND WAY MORE THEN THAT TYPE CORONA IN THE SEARCH BAR MANY POST WITH THE NAME CORONA@POTUS</td>\n",
              "      <td>0.4588</td>\n",
              "      <td>s_pos</td>\n",
              "    </tr>\n",
              "    <tr>\n",
              "      <th>606745</th>\n",
              "      <td>People saw in the internet that if you gargle with Epson Salt, you won't get Corona virus! What a joke!!!</td>\n",
              "      <td>0.5216</td>\n",
              "      <td>s_pos</td>\n",
              "    </tr>\n",
              "  </tbody>\n",
              "</table>\n",
              "</div>"
            ],
            "text/plain": [
              "                                                                                                                                                                                                        modified_text  ...  sentiment_class\n",
              "458690  It doesn't matter if the Gov't kept the case under wraps, at the end of the day batho ke bone ba tswang go bapala corona, not the government. They could not have told us bfr they were sure. We had one job!  ...            s_pos\n",
              "722791                                                                                                                                                                              Yo it gotta be another way 🤦🏾‍♂️   ...              neu\n",
              "608765                                                                                                                                       Corona produced by China and Russia Spread by IranSimple but bitter plot  ...            s_neg\n",
              "194569                                                                                                                                                          Just want to know sino kaya yung fake news creators?   ...            s_neg\n",
              "114186                                  Malawi Electoral Commission (MEC) said that they will include sensitization messages pertaining to Corona virus in regard for preparations for the freshpresidential polls.    ...              neu\n",
              "140216                                                                                                                         I wouldn’t mind if Corona Virus yelled APRIL FOOLS tomorrow and fucked right off !!!!   ...            x_neg\n",
              "650234                                                                                                                                     Niggha lit 🔥 with ill flow like Corona, catch your attention like a sneeze  ...            s_pos\n",
              "17061                                                         Yeah cause apparently only gas attendants carry the disease Shut the fuck up and stay home if you’re that afraid We don’t like being around you either   ...              neu\n",
              "643459                                                                                                    TKX :)I KNEW THAT AND WAY MORE THEN THAT TYPE CORONA IN THE SEARCH BAR MANY POST WITH THE NAME CORONA@POTUS  ...            s_pos\n",
              "606745                                                                                                      People saw in the internet that if you gargle with Epson Salt, you won't get Corona virus! What a joke!!!  ...            s_pos\n",
              "\n",
              "[10 rows x 3 columns]"
            ]
          },
          "metadata": {
            "tags": []
          },
          "execution_count": 110
        }
      ]
    },
    {
      "cell_type": "code",
      "metadata": {
        "id": "wcYwXQdVHTt9",
        "outputId": "3a19a511-5fd4-456a-d039-eefe2f20a1b8",
        "colab": {
          "base_uri": "https://localhost:8080/"
        }
      },
      "source": [
        "dfOriginals.sentiment_class.value_counts()"
      ],
      "execution_count": 111,
      "outputs": [
        {
          "output_type": "execute_result",
          "data": {
            "text/plain": [
              "neu      82447\n",
              "s_pos    48833\n",
              "s_neg    47398\n",
              "x_neg    35876\n",
              "x_pos    30835\n",
              "Name: sentiment_class, dtype: int64"
            ]
          },
          "metadata": {
            "tags": []
          },
          "execution_count": 111
        }
      ]
    },
    {
      "cell_type": "code",
      "metadata": {
        "id": "0jOZIvjtH7uB",
        "outputId": "5e0a2abb-75cb-405b-9b40-5c21c5785bde",
        "colab": {
          "base_uri": "https://localhost:8080/",
          "height": 352
        }
      },
      "source": [
        "dfOriginals[dfOriginals.favorite_count > 1000].sample(2)"
      ],
      "execution_count": 137,
      "outputs": [
        {
          "output_type": "execute_result",
          "data": {
            "text/html": [
              "<div>\n",
              "<style scoped>\n",
              "    .dataframe tbody tr th:only-of-type {\n",
              "        vertical-align: middle;\n",
              "    }\n",
              "\n",
              "    .dataframe tbody tr th {\n",
              "        vertical-align: top;\n",
              "    }\n",
              "\n",
              "    .dataframe thead th {\n",
              "        text-align: right;\n",
              "    }\n",
              "</style>\n",
              "<table border=\"1\" class=\"dataframe\">\n",
              "  <thead>\n",
              "    <tr style=\"text-align: right;\">\n",
              "      <th></th>\n",
              "      <th>coordinates</th>\n",
              "      <th>created_at</th>\n",
              "      <th>hashtags</th>\n",
              "      <th>media</th>\n",
              "      <th>urls</th>\n",
              "      <th>favorite_count</th>\n",
              "      <th>id</th>\n",
              "      <th>in_reply_to_screen_name</th>\n",
              "      <th>in_reply_to_status_id</th>\n",
              "      <th>in_reply_to_user_id</th>\n",
              "      <th>lang</th>\n",
              "      <th>place</th>\n",
              "      <th>possibly_sensitive</th>\n",
              "      <th>retweet_count</th>\n",
              "      <th>retweet_id</th>\n",
              "      <th>retweet_screen_name</th>\n",
              "      <th>source</th>\n",
              "      <th>text</th>\n",
              "      <th>tweet_url</th>\n",
              "      <th>user_created_at</th>\n",
              "      <th>user_screen_name</th>\n",
              "      <th>user_default_profile_image</th>\n",
              "      <th>user_description</th>\n",
              "      <th>user_favourites_count</th>\n",
              "      <th>user_followers_count</th>\n",
              "      <th>user_friends_count</th>\n",
              "      <th>user_listed_count</th>\n",
              "      <th>user_location</th>\n",
              "      <th>user_name</th>\n",
              "      <th>user_screen_name.1</th>\n",
              "      <th>user_statuses_count</th>\n",
              "      <th>user_time_zone</th>\n",
              "      <th>user_urls</th>\n",
              "      <th>user_verified</th>\n",
              "      <th>modified_text</th>\n",
              "      <th>guessed_language</th>\n",
              "      <th>sentimentscore</th>\n",
              "      <th>neg</th>\n",
              "      <th>neu</th>\n",
              "      <th>pos</th>\n",
              "      <th>compound</th>\n",
              "      <th>sentiment_class</th>\n",
              "    </tr>\n",
              "  </thead>\n",
              "  <tbody>\n",
              "    <tr>\n",
              "      <th>376506</th>\n",
              "      <td>NaN</td>\n",
              "      <td>Tue Mar 31 15:37:25 +0000 2020</td>\n",
              "      <td>Corona</td>\n",
              "      <td>https://twitter.com/StuBishop_LPD/status/1245012330141880320/photo/1</td>\n",
              "      <td>NaN</td>\n",
              "      <td>1513</td>\n",
              "      <td>1245012330141880320</td>\n",
              "      <td>NaN</td>\n",
              "      <td>0</td>\n",
              "      <td>0</td>\n",
              "      <td>en</td>\n",
              "      <td>NaN</td>\n",
              "      <td>False</td>\n",
              "      <td>127</td>\n",
              "      <td>0</td>\n",
              "      <td>NaN</td>\n",
              "      <td>&lt;a href=\"http://twitter.com/download/iphone\" rel=\"nofollow\"&gt;Twitter for iPhone&lt;/a&gt;</td>\n",
              "      <td>Just a little topic change from all this depressing #Corona stuff. 😂😂 https://t.co/F3UTnq32Lu</td>\n",
              "      <td>https://twitter.com/StuBishop_LPD/status/1245012330141880320</td>\n",
              "      <td>Sun Apr 21 05:45:12 +0000 2019</td>\n",
              "      <td>StuBishop_LPD</td>\n",
              "      <td>False</td>\n",
              "      <td>PoPo🐷 | SWAT | Formerly featured on #LivePD | Cubs | #MAGA2020 🇺🇸| Views and tweets are my own| Acct not affiliated with my Dept</td>\n",
              "      <td>88772</td>\n",
              "      <td>43487</td>\n",
              "      <td>2445</td>\n",
              "      <td>58</td>\n",
              "      <td>Indianapolis, IN</td>\n",
              "      <td>Stu Bishop</td>\n",
              "      <td>StuBishop_LPD</td>\n",
              "      <td>11140</td>\n",
              "      <td>NaN</td>\n",
              "      <td>NaN</td>\n",
              "      <td>False</td>\n",
              "      <td>Just a little topic change from all this depressing  stuff. 😂😂</td>\n",
              "      <td>True</td>\n",
              "      <td>{'neg': 0.214, 'neu': 0.786, 'pos': 0.0, 'compound': -0.4588}</td>\n",
              "      <td>0.214</td>\n",
              "      <td>0.786</td>\n",
              "      <td>0.0</td>\n",
              "      <td>-0.4588</td>\n",
              "      <td>s_neg</td>\n",
              "    </tr>\n",
              "    <tr>\n",
              "      <th>727361</th>\n",
              "      <td>NaN</td>\n",
              "      <td>Wed Apr 01 02:41:44 +0000 2020</td>\n",
              "      <td>NaN</td>\n",
              "      <td>NaN</td>\n",
              "      <td>https://www.indiatoday.in/my-take/video/my-take-coronavirus-must-be-fought-by-everyone-collectively-not-by-dividing-us-on-religious-lines-1661916-2020-03-31</td>\n",
              "      <td>4094</td>\n",
              "      <td>1245179509617217536</td>\n",
              "      <td>NaN</td>\n",
              "      <td>0</td>\n",
              "      <td>0</td>\n",
              "      <td>en</td>\n",
              "      <td>NaN</td>\n",
              "      <td>False</td>\n",
              "      <td>710</td>\n",
              "      <td>0</td>\n",
              "      <td>NaN</td>\n",
              "      <td>&lt;a href=\"http://twitter.com/download/iphone\" rel=\"nofollow\"&gt;Twitter for iPhone&lt;/a&gt;</td>\n",
              "      <td>My take: the last thing we need is to make the fight against corona into a Hindu Muslim issue.. https://t.co/2tJipxbXF0</td>\n",
              "      <td>https://twitter.com/sardesairajdeep/status/1245179509617217536</td>\n",
              "      <td>Mon Jul 13 06:14:44 +0000 2009</td>\n",
              "      <td>sardesairajdeep</td>\n",
              "      <td>False</td>\n",
              "      <td>Citizen first. Only 'ism' is humanism. newsman, tv anchor, author, father, friend. New book: 2019: How Modi Won India. pre order here: https://t.co/IJRYyyNZzx</td>\n",
              "      <td>9170</td>\n",
              "      <td>8998619</td>\n",
              "      <td>582</td>\n",
              "      <td>8693</td>\n",
              "      <td>New Delhi</td>\n",
              "      <td>Rajdeep Sardesai</td>\n",
              "      <td>sardesairajdeep</td>\n",
              "      <td>65626</td>\n",
              "      <td>NaN</td>\n",
              "      <td>http://rajdeepsardesai.net/</td>\n",
              "      <td>True</td>\n",
              "      <td>My take: the last thing we need is to make the fight against corona into a Hindu Muslim issue..</td>\n",
              "      <td>True</td>\n",
              "      <td>{'neg': 0.126, 'neu': 0.874, 'pos': 0.0, 'compound': -0.3818}</td>\n",
              "      <td>0.126</td>\n",
              "      <td>0.874</td>\n",
              "      <td>0.0</td>\n",
              "      <td>-0.3818</td>\n",
              "      <td>s_neg</td>\n",
              "    </tr>\n",
              "  </tbody>\n",
              "</table>\n",
              "</div>"
            ],
            "text/plain": [
              "       coordinates                      created_at  ... compound sentiment_class\n",
              "376506         NaN  Tue Mar 31 15:37:25 +0000 2020  ...  -0.4588           s_neg\n",
              "727361         NaN  Wed Apr 01 02:41:44 +0000 2020  ...  -0.3818           s_neg\n",
              "\n",
              "[2 rows x 42 columns]"
            ]
          },
          "metadata": {
            "tags": []
          },
          "execution_count": 137
        }
      ]
    },
    {
      "cell_type": "markdown",
      "metadata": {
        "id": "80ms_OekMXa9"
      },
      "source": [
        "Attempts to find a correlation between compound value and retweet count. The result shows there's no correlation."
      ]
    },
    {
      "cell_type": "code",
      "metadata": {
        "id": "Go6Got2MGBle",
        "outputId": "8cc0874e-67c4-4d3e-8a41-5d4844cc75f4",
        "colab": {
          "base_uri": "https://localhost:8080/"
        }
      },
      "source": [
        "dfOriginals.compound.corr(dfOriginals.retweet_count)"
      ],
      "execution_count": 138,
      "outputs": [
        {
          "output_type": "execute_result",
          "data": {
            "text/plain": [
              "-0.0032970675393302726"
            ]
          },
          "metadata": {
            "tags": []
          },
          "execution_count": 138
        }
      ]
    },
    {
      "cell_type": "markdown",
      "metadata": {
        "id": "MpFir8c8MgDe"
      },
      "source": [
        "Since compound starts from -1 to 1 perhaps normalizing the compound value will show a correlation. However, results are showing a close 0 correlation; no correlation."
      ]
    },
    {
      "cell_type": "code",
      "metadata": {
        "id": "wyLt_f1OGWys",
        "outputId": "0f635a72-23a0-4628-c0b5-cd8e963d0b34",
        "colab": {
          "base_uri": "https://localhost:8080/"
        }
      },
      "source": [
        "from sklearn.preprocessing import Normalizer\n",
        "from sklearn.preprocessing import MinMaxScaler \n",
        "\n",
        "scalar = MinMaxScaler()\n",
        "\n",
        "dfOriginals['compound_norm'] = pd.DataFrame(scalar.fit_transform(dfOriginals[['compound']]))\n",
        "\n",
        "dfOriginals['compound_norm'].corr(dfOriginals['retweet_count'])"
      ],
      "execution_count": 191,
      "outputs": [
        {
          "output_type": "execute_result",
          "data": {
            "text/plain": [
              "-0.0028806337520278997"
            ]
          },
          "metadata": {
            "tags": []
          },
          "execution_count": 191
        }
      ]
    },
    {
      "cell_type": "markdown",
      "metadata": {
        "id": "k0rhGiAUM0of"
      },
      "source": [
        "Sine -1 and 1 are extremes of positive and negative where close to 0 is the neutral zone, maybe I should absolute the compound value. However, results are still showing a close to 0 correlation; no correlation."
      ]
    },
    {
      "cell_type": "code",
      "metadata": {
        "id": "iX5GBCfHLpTz",
        "outputId": "01389f7b-efa8-46a9-ca3d-d2abd9eddd20",
        "colab": {
          "base_uri": "https://localhost:8080/"
        }
      },
      "source": [
        "dfOriginals['compound_abs'] = abs(dfOriginals.compound)\n",
        "dfOriginals['compound_abs'].corr(dfOriginals['retweet_count'])"
      ],
      "execution_count": 197,
      "outputs": [
        {
          "output_type": "execute_result",
          "data": {
            "text/plain": [
              "0.004760935628751365"
            ]
          },
          "metadata": {
            "tags": []
          },
          "execution_count": 197
        }
      ]
    },
    {
      "cell_type": "markdown",
      "metadata": {
        "id": "SEgsazzTPs1x"
      },
      "source": [
        "Attempt to find a correlation between a user's follower's count and retweet count. Results show little correlation of 0.09."
      ]
    },
    {
      "cell_type": "code",
      "metadata": {
        "id": "snDjwAhLPZdP",
        "outputId": "ea0262fc-7586-40d1-ff7f-cd6371c4c268",
        "colab": {
          "base_uri": "https://localhost:8080/"
        }
      },
      "source": [
        "dfOriginals.user_followers_count.corr(dfOriginals.retweet_count)"
      ],
      "execution_count": 198,
      "outputs": [
        {
          "output_type": "execute_result",
          "data": {
            "text/plain": [
              "0.09002522953041471"
            ]
          },
          "metadata": {
            "tags": []
          },
          "execution_count": 198
        }
      ]
    },
    {
      "cell_type": "markdown",
      "metadata": {
        "id": "ijaX3C_HonE7"
      },
      "source": [
        "- impact factor of a tweet "
      ]
    }
  ]
}